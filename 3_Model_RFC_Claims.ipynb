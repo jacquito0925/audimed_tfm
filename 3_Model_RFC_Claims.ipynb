{
 "cells": [
  {
   "cell_type": "markdown",
   "id": "80a883ce-1260-48e1-ad56-3638f4e55189",
   "metadata": {
    "editable": true,
    "slideshow": {
     "slide_type": ""
    },
    "tags": []
   },
   "source": [
    "<img src=\"https://www.unir.net/wp-content/uploads/2019/11/Unir_2021_logo.svg\" width=\"240\" height=\"240\" align=\"right\"/>"
   ]
  },
  {
   "cell_type": "markdown",
   "id": "cf2e6c20-e7e3-4c0c-a17b-c125f2e55905",
   "metadata": {
    "tags": []
   },
   "source": [
    "<center><h1>Sistema inteligente para ayudar a detectar posibles reclamos (glosas) en las cuentas médicas previo al cobro, de una clínica en Colombia - Audimed</h1></center>\n",
    "<center><h2>Trabajo Fin de Master<br>Máster Universitario en Análisis y Visualización de Datos Masivos / Visual Analytics and Big Data</h2></center>"
   ]
  },
  {
   "cell_type": "markdown",
   "id": "e1bc6121-2a77-4cf1-838f-ee94b96778cd",
   "metadata": {
    "tags": []
   },
   "source": [
    "<h3>Presentado por: Jacqueline Guzmán Rodriguez</h3>\n",
    "<h4>Tipo de trabajo: Desarrollo Software <br>\n",
    "Director: Juan Carlos Rincon Acuña <br>\n",
    "Fecha: Junio/2024</h4>"
   ]
  },
  {
   "cell_type": "markdown",
   "id": "3e716198-1507-4272-8252-da35ecb3f440",
   "metadata": {
    "jp-MarkdownHeadingCollapsed": true
   },
   "source": [
    "<h3> <font color=\"#040078\">Notebook de modelado de los datos</font></h3>\n",
    "<h4></h4>\n",
    "<h5><font color=\"#C62400\">Licencia del Notebook CC BY-NC-SA 4.0 DEED <a href=\"https://creativecommons.org/licenses/by-nc-sa/4.0/\" target=\"_blank]\">https://creativecommons.org/licenses/by-nc-sa/4.0/</a></font></h5/>"
   ]
  },
  {
   "cell_type": "markdown",
   "id": "65726fff-f963-4f34-a525-a6843266b915",
   "metadata": {
    "tags": []
   },
   "source": [
    "## Importación de librerias necesarias"
   ]
  },
  {
   "cell_type": "code",
   "execution_count": 1,
   "id": "8593db40-45ff-4f57-b9e3-319cfcb192d4",
   "metadata": {
    "tags": []
   },
   "outputs": [],
   "source": [
    "# Load libraries\n",
    "import numpy as np\n",
    "import pandas as pd\n",
    "import seaborn as sns\n",
    "import matplotlib.pyplot as plt \n",
    "from imblearn.over_sampling import SMOTE\n",
    "from sklearn.preprocessing import MinMaxScaler\n",
    "from sklearn.model_selection import train_test_split\n",
    "from sklearn.ensemble import RandomForestClassifier\n",
    "from sklearn.model_selection import GridSearchCV\n",
    "from sklearn.metrics import accuracy_score\n",
    "from sklearn.metrics import confusion_matrix\n",
    "from sklearn.metrics import classification_report\n",
    "from sklearn.metrics import mean_squared_error\n",
    "from sklearn.metrics import ConfusionMatrixDisplay\n",
    "from sklearn_evaluation import plot"
   ]
  },
  {
   "cell_type": "markdown",
   "id": "d9e7608d-a1ee-497a-8036-5eab94e063f0",
   "metadata": {
    "tags": []
   },
   "source": [
    "## Carga de archivo con datos transformados claims.cvs\n",
    "#### Se pueden descargar los datos de la plataforma kaggle en el siguiente link: \n",
    "##### https://www.kaggle.com/datasets/jacquelineguzman/claims-of-medical-billing/"
   ]
  },
  {
   "cell_type": "code",
   "execution_count": 2,
   "id": "dc9d5628-7246-4e2f-929f-f0108f66e5ad",
   "metadata": {
    "tags": []
   },
   "outputs": [],
   "source": [
    "# Read file CSV Download of https://www.kaggle.com/datasets/jacquelineguzman/claims-of-medical-billing/\n",
    "file_cvs = \"claims.csv\"\n",
    "# Create dataframe with information of file CSV\n",
    "df = pd.read_csv(file_cvs, delimiter=',', encoding='utf-8')"
   ]
  },
  {
   "cell_type": "markdown",
   "id": "e2fcd0a4-18a2-4d4c-8a9c-1d5c5558ab82",
   "metadata": {
    "tags": []
   },
   "source": [
    "## Tratamiento de datos previos a la aplicación del modelo de clasificación\n",
    "##### Se define como variable objetivo la marca de si el registro tiene reclamación o no (CLAIM)"
   ]
  },
  {
   "cell_type": "code",
   "execution_count": 3,
   "id": "076f6519-9608-4ca6-a7ae-79984b89bad4",
   "metadata": {
    "tags": []
   },
   "outputs": [],
   "source": [
    "# Define colums target (CLAIM)\n",
    "columns = df.columns\n",
    "target = \"CLAIM\"\n",
    "x_columns = columns.drop(target)"
   ]
  },
  {
   "cell_type": "markdown",
   "id": "0060fc23-d28b-4319-989f-f9fd2a084f94",
   "metadata": {
    "tags": []
   },
   "source": [
    "##### Se actualizan las variables para manejar tipos de datos a 32 bits, dado que usa menos recurso de memoria."
   ]
  },
  {
   "cell_type": "code",
   "execution_count": 4,
   "id": "18a835f7-2182-4252-a5df-1043213fb2d4",
   "metadata": {},
   "outputs": [],
   "source": [
    "# Update datatype int64 to int32 and float64 to float32, because it is necessary to use less RAM\n",
    "float_columns = ['QUANTITY_PRODUCT_SERVICE', 'SALES_PRICE', 'INVOICED_PRICE']\n",
    "int_columns = columns.drop(float_columns)\n",
    "df[float_columns]=df[float_columns].astype(np.float32)\n",
    "df[int_columns]=df[int_columns].astype(int)"
   ]
  },
  {
   "cell_type": "markdown",
   "id": "4ac091a9-538e-4806-8329-2ecba61b696a",
   "metadata": {
    "tags": []
   },
   "source": [
    "##### Para facilitar los calculos del algoritmo se normaliza la información de las variables de entrada para que manejen rangos numericos entre cero (0) y uno (1), esto se hace con la función MinMaxScaler"
   ]
  },
  {
   "cell_type": "code",
   "execution_count": 5,
   "id": "eeae36aa-147d-4d54-9639-24dabed5625c",
   "metadata": {},
   "outputs": [],
   "source": [
    "# Normalize data via MinMaxScaler function\n",
    "scaler = MinMaxScaler()\n",
    "df = scaler.fit_transform(df)\n",
    "df = pd.DataFrame(df,columns=columns)"
   ]
  },
  {
   "cell_type": "markdown",
   "id": "e07ed7b1-a712-4756-bf4b-c1d96c1173e6",
   "metadata": {
    "tags": []
   },
   "source": [
    "##### Se verifica la distribucción de la variable objetivo (CLAIM), donde se observa que es desbalanceda."
   ]
  },
  {
   "cell_type": "code",
   "execution_count": 6,
   "id": "5a23e874-6071-4178-89d4-946d7b57a01f",
   "metadata": {},
   "outputs": [
    {
     "name": "stdout",
     "output_type": "stream",
     "text": [
      "CLAIM:\n",
      "[0. 1.]\n",
      "\n",
      "CLAIM\n",
      "0.0    6104323\n",
      "1.0        120\n",
      "Name: count, dtype: int64\n"
     ]
    }
   ],
   "source": [
    "# Distribution of the target variable (CLAIM)\n",
    "print(str(target)+':\\n'+str(df[target].unique())+'\\n')\n",
    "print(df[target].value_counts())"
   ]
  },
  {
   "cell_type": "markdown",
   "id": "33ebd78e-2a4b-4469-baa5-ee6336565fc4",
   "metadata": {
    "tags": []
   },
   "source": [
    "##### Se crean los dataframe de entrada (ValX) y salida (ValY) "
   ]
  },
  {
   "cell_type": "code",
   "execution_count": 7,
   "id": "1f5d28b7-afe3-4543-97ab-aedd132acf52",
   "metadata": {},
   "outputs": [],
   "source": [
    "# Create dataframe with int variables (ValX) and target variable (ValY)\n",
    "ValX = df.drop(columns=target)\n",
    "ValY = df[target]"
   ]
  },
  {
   "cell_type": "markdown",
   "id": "86d9b151-6347-4abd-bbcd-49c70a56298a",
   "metadata": {
    "tags": []
   },
   "source": [
    "##### Se crean los dataframe de entrenamiento y validación, necesarios para el entrenamiento del modelo, se definió un 15% de los datos para los dataframe de validación"
   ]
  },
  {
   "cell_type": "code",
   "execution_count": 8,
   "id": "173f3886-73f4-48e9-ab25-e7dd94665cca",
   "metadata": {},
   "outputs": [
    {
     "data": {
      "text/plain": [
       "((5188776, 53), (915667, 53))"
      ]
     },
     "execution_count": 8,
     "metadata": {},
     "output_type": "execute_result"
    }
   ],
   "source": [
    "# Set training and validation data\n",
    "X_train, X_validation, Y_train, Y_validation = train_test_split(ValX, ValY, test_size=0.15, random_state=1, shuffle=True)\n",
    "X_train.shape, X_validation.shape"
   ]
  },
  {
   "cell_type": "markdown",
   "id": "f045737f-b6f7-4788-9fa6-f15cbe437939",
   "metadata": {
    "tags": []
   },
   "source": [
    "##### Para no trabajar con datos de entrenamiento desbalanceados, se aplica la técnica de sobremuestreo (over-sampling) sobre los datos de entrenamiento (X_train y Y_train)"
   ]
  },
  {
   "cell_type": "code",
   "execution_count": 9,
   "id": "27f672d2-6966-4059-96df-f9704472fb69",
   "metadata": {},
   "outputs": [],
   "source": [
    "# Resampling the minority class using SMOTE stategy (Over-sampling)\n",
    "sm = SMOTE(sampling_strategy='minority', random_state=42)"
   ]
  },
  {
   "cell_type": "code",
   "execution_count": 10,
   "id": "df07ff2f-7e33-4dd5-8a50-e06b8c3ad76a",
   "metadata": {},
   "outputs": [
    {
     "name": "stderr",
     "output_type": "stream",
     "text": [
      "C:\\Users\\jefe.sistemas\\AppData\\Roaming\\Python\\Python311\\site-packages\\joblib\\externals\\loky\\backend\\context.py:136: UserWarning: Could not find the number of physical cores for the following reason:\n",
      "found 0 physical cores < 1\n",
      "Returning the number of logical cores instead. You can silence this warning by setting LOKY_MAX_CPU_COUNT to the number of cores you want to use.\n",
      "  warnings.warn(\n",
      "  File \"C:\\Users\\jefe.sistemas\\AppData\\Roaming\\Python\\Python311\\site-packages\\joblib\\externals\\loky\\backend\\context.py\", line 282, in _count_physical_cores\n",
      "    raise ValueError(f\"found {cpu_count_physical} physical cores < 1\")\n"
     ]
    }
   ],
   "source": [
    "# Fit the model to generate the data.\n",
    "X_train, Y_train = sm.fit_resample(X_train, Y_train)"
   ]
  },
  {
   "cell_type": "code",
   "execution_count": 11,
   "id": "65fce33f-1bf6-4c9f-bfe6-031206674eaf",
   "metadata": {},
   "outputs": [
    {
     "data": {
      "text/plain": [
       "((10377344, 53), (915667, 53))"
      ]
     },
     "execution_count": 11,
     "metadata": {},
     "output_type": "execute_result"
    }
   ],
   "source": [
    "X_train.shape, X_validation.shape"
   ]
  },
  {
   "cell_type": "markdown",
   "id": "985ff0ba-379f-4c37-b347-e3231916ef53",
   "metadata": {
    "tags": []
   },
   "source": [
    "## Creación del modelo\n",
    "##### Se escoge el algoritmo de Random Forest de clasificación, dado que tenemos una variable objetivo con dos clases (0, 1)\n",
    "##### Para verificar los hiperparametros, se hicienron procesos de prueba y error obteniendo los siguientes: n_estimators=5, con 5 arboles es suficiente, y con 10 ramas tambien max_depth=10"
   ]
  },
  {
   "cell_type": "code",
   "execution_count": null,
   "id": "d175edce-f0f1-486d-96a1-fbc3c04052f5",
   "metadata": {},
   "outputs": [],
   "source": [
    "# Model random forest classifier\n",
    "#,class_weight=\"balanced\"\n",
    "RFC_model = RandomForestClassifier(n_estimators=100, max_depth=53, class_weight=\"balanced\")\n",
    "RFC_model.fit(X_train, Y_train)"
   ]
  },
  {
   "cell_type": "markdown",
   "id": "9e12d814-7013-424b-824a-cc4c274db81a",
   "metadata": {
    "tags": []
   },
   "source": [
    "### Validación del modelo\n",
    "##### Crear datase con los datos que predice el modelo (Y_predict), basado en los datos de validación X_validation"
   ]
  },
  {
   "cell_type": "code",
   "execution_count": null,
   "id": "e3959146-2a38-494a-b43f-1daa8478893f",
   "metadata": {},
   "outputs": [],
   "source": [
    "Y_predict = RFC_model.predict(X_validation)"
   ]
  },
  {
   "cell_type": "code",
   "execution_count": null,
   "id": "20132b59-ec93-4506-ba45-ab549394eb1c",
   "metadata": {},
   "outputs": [],
   "source": [
    "print('Model accuracy score with 5 decision-trees : {0:0.4f}'. format(accuracy_score(Y_validation, Y_predict)))"
   ]
  },
  {
   "cell_type": "markdown",
   "id": "14ab6efe-bcbd-4bbd-b4e6-54d6d65e76fd",
   "metadata": {
    "tags": []
   },
   "source": [
    "##### Verificar la salida esperada con la salida de la predicción"
   ]
  },
  {
   "cell_type": "code",
   "execution_count": null,
   "id": "27eb73cf-a5b9-4cc9-ba9c-18fa2228423d",
   "metadata": {
    "editable": true,
    "slideshow": {
     "slide_type": ""
    },
    "tags": []
   },
   "outputs": [],
   "source": [
    "df_compare = pd.DataFrame({'Actual value': Y_validation, 'Predicted value': Y_predict})\n",
    "df_compare.tail(10)"
   ]
  },
  {
   "cell_type": "code",
   "execution_count": null,
   "id": "2a808202-c556-4ad8-a3cd-84f432755a65",
   "metadata": {},
   "outputs": [],
   "source": [
    "sumary = pd.DataFrame({'Actual value': df_compare['Actual value'].value_counts(), 'Predicted value': df_compare['Predicted value'].value_counts()})\n",
    "sumary.head()"
   ]
  },
  {
   "cell_type": "code",
   "execution_count": null,
   "id": "8a3574c1-e73e-4f8e-9d20-9ea8c3cc129b",
   "metadata": {},
   "outputs": [],
   "source": [
    "val_no_claim_valida=str(sumary['Actual value'][0])\n",
    "val_no_claim_predict=str(sumary['Predicted value'][0])\n",
    "val_no_claim=val_no_claim_valida+' - '+val_no_claim_predict\n",
    "#print(val_no_claim)\n",
    "val_claim_valida=str(sumary['Actual value'][1])\n",
    "val_claim_predict=str(sumary['Predicted value'][1])\n",
    "val_claim=val_claim_valida+' - '+val_claim_predict\n",
    "#print(val_claim)\n",
    "bar_colors = ['lightblue', 'darkblue']\n",
    "sumary.plot.bar(color=bar_colors)\n",
    "plt.xticks(range(2), [\"No Claim\",\"Claim\"])\n",
    "plt.text(0, sumary['Actual value'][0], val_no_claim, ha='center', va='bottom')\n",
    "plt.text(1, sumary['Actual value'][1], val_claim, ha='center', va='bottom')\n",
    "#plt.xlabel(\"Target Class\")\n",
    "plt.ylabel(\"Number of Observations\")\n",
    "plt.legend(title=\"Target Class\")\n",
    "plt.show()"
   ]
  },
  {
   "cell_type": "code",
   "execution_count": null,
   "id": "14e457a4-e077-46fd-a34e-ed98fc778ca5",
   "metadata": {},
   "outputs": [],
   "source": [
    "confusion_matrix = confusion_matrix(df_compare['Actual value'], df_compare['Predicted value'])\n",
    "cm_display = ConfusionMatrixDisplay(confusion_matrix = confusion_matrix, display_labels = ['No Claim', 'Claim'])\n",
    "cm_display.plot(cmap=plt.cm.Blues)\n",
    "plt.show()"
   ]
  },
  {
   "cell_type": "code",
   "execution_count": null,
   "id": "1a0d9373-951a-4254-9b09-99c8f959e2fe",
   "metadata": {},
   "outputs": [],
   "source": [
    "print(classification_report(df_compare['Actual value'], df_compare['Predicted value']))"
   ]
  },
  {
   "cell_type": "code",
   "execution_count": null,
   "id": "81d2ebd8-a24f-4fe7-a910-ff5d49d96756",
   "metadata": {},
   "outputs": [],
   "source": [
    "from sklearn.metrics import precision_score\n",
    "precision_score(Y_validation, Y_predict)"
   ]
  },
  {
   "cell_type": "code",
   "execution_count": null,
   "id": "1afc5234-4f81-4b5d-a513-bf0bb8fc0f72",
   "metadata": {},
   "outputs": [],
   "source": [
    "from sklearn.metrics import recall_score\n",
    "recall_score(Y_validation, Y_predict)"
   ]
  },
  {
   "cell_type": "code",
   "execution_count": null,
   "id": "dfc409ca-897a-4d19-9c57-8d82e5cc5d7f",
   "metadata": {},
   "outputs": [],
   "source": [
    "from sklearn.metrics import f1_score\n",
    "f1_score(Y_validation, Y_predict)"
   ]
  },
  {
   "cell_type": "code",
   "execution_count": null,
   "id": "20218202-ef28-43d6-8095-2521a059ff77",
   "metadata": {},
   "outputs": [],
   "source": [
    "from sklearn.metrics import roc_curve, auc\n",
    "# Calculate ROC curve\n",
    "fpr, tpr, thresholds = roc_curve(Y_validation, Y_predict) \n",
    "roc_auc = auc(fpr, tpr)\n",
    "# Plot the ROC curve\n",
    "plt.figure()  \n",
    "plt.plot(fpr, tpr, label='ROC curve (area = %0.2f)' % roc_auc)\n",
    "plt.plot([0, 1], [0, 1], 'k--', label='No Skill')\n",
    "plt.xlim([0.0, 1.0])\n",
    "plt.ylim([0.0, 1.05])\n",
    "plt.xlabel('False Positive Rate')\n",
    "plt.ylabel('True Positive Rate')\n",
    "plt.title('ROC Curve for Breast Cancer Classification')\n",
    "plt.legend()\n",
    "plt.show()"
   ]
  },
  {
   "cell_type": "code",
   "execution_count": null,
   "id": "b40f9222-df7a-4681-a88a-ab019268ad7c",
   "metadata": {},
   "outputs": [],
   "source": [
    "# True positive = 913.707\n",
    "# True negative = 14\n",
    "# False positive = 2\n",
    "# False negative = 1.944\n",
    "# Negatives = 913.707 + 1.944 = 915.651\n",
    "# Positives = 2 + 14 = 16\n",
    "TN=913707\n",
    "TP=14\n",
    "FN=2\n",
    "FP=1944\n",
    "N=915641\n",
    "P=16\n",
    "Accuracy = (TP+TN)/(P+N)\n",
    "Error_rate = (FP+FN)/(P+N)\n",
    "Precision_true = TP/(TP+FP)\n",
    "Precision_false = TF/(TF+FN)\n",
    "TPrate_true = TP/P\n",
    "TPrate_true = TN/N\n"
   ]
  },
  {
   "cell_type": "code",
   "execution_count": null,
   "id": "a8ecab32-db0a-40cf-a707-51bc07fa973f",
   "metadata": {},
   "outputs": [],
   "source": [
    "R-squared: Al ser muy cercano a Uno es un modelo muy confiable (Coeficiente de determinación)\n",
    "TPR: 0.99649102\n",
    "Precisión: 0.99999671\n",
    "Alta precesión y alto TPR El modelo maneja muy bien la clase"
   ]
  },
  {
   "cell_type": "code",
   "execution_count": null,
   "id": "1661cffc-e2af-446a-8603-dcfe98e69a3f",
   "metadata": {},
   "outputs": [],
   "source": []
  }
 ],
 "metadata": {
  "kernelspec": {
   "display_name": "Python 3 (ipykernel)",
   "language": "python",
   "name": "python3"
  },
  "language_info": {
   "codemirror_mode": {
    "name": "ipython",
    "version": 3
   },
   "file_extension": ".py",
   "mimetype": "text/x-python",
   "name": "python",
   "nbconvert_exporter": "python",
   "pygments_lexer": "ipython3",
   "version": "3.11.9"
  }
 },
 "nbformat": 4,
 "nbformat_minor": 5
}
