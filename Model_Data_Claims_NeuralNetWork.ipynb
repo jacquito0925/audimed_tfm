{
 "cells": [
  {
   "cell_type": "markdown",
   "id": "80a883ce-1260-48e1-ad56-3638f4e55189",
   "metadata": {
    "editable": true,
    "slideshow": {
     "slide_type": ""
    },
    "tags": []
   },
   "source": [
    "<img src=\"https://www.unir.net/wp-content/uploads/2019/11/Unir_2021_logo.svg\" width=\"240\" height=\"240\" align=\"right\"/>"
   ]
  },
  {
   "cell_type": "markdown",
   "id": "cf2e6c20-e7e3-4c0c-a17b-c125f2e55905",
   "metadata": {
    "tags": []
   },
   "source": [
    "<center><h1>Sistema inteligente para ayudar a detectar posibles reclamos (glosas) en las cuentas médicas previo al cobro, de una clínica en Colombia - Audimed</h1></center>\n",
    "<center><h2>Trabajo Fin de Master<br>Máster Universitario en Análisis y Visualización de Datos Masivos / Visual Analytics and Big Data</h2></center>"
   ]
  },
  {
   "cell_type": "markdown",
   "id": "e1bc6121-2a77-4cf1-838f-ee94b96778cd",
   "metadata": {
    "tags": []
   },
   "source": [
    "<h3>Presentado por: Jacqueline Guzmán Rodriguez</h3>\n",
    "<h4>Tipo de trabajo: Desarrollo Software <br>\n",
    "Director: Juan Carlos Rincon Acuña <br>\n",
    "Fecha: Junio/2024</h4>"
   ]
  },
  {
   "cell_type": "markdown",
   "id": "3e716198-1507-4272-8252-da35ecb3f440",
   "metadata": {
    "jp-MarkdownHeadingCollapsed": true
   },
   "source": [
    "<h3> <font color=\"#040078\">Notebook de modelado de los datos</font></h3>\n",
    "<h4></h4>\n",
    "<h5><font color=\"#C62400\">Licencia del Notebook CC BY-NC-SA 4.0 DEED <a href=\"https://creativecommons.org/licenses/by-nc-sa/4.0/\" target=\"_blank]\">https://creativecommons.org/licenses/by-nc-sa/4.0/</a></font></h5/>"
   ]
  },
  {
   "cell_type": "markdown",
   "id": "65726fff-f963-4f34-a525-a6843266b915",
   "metadata": {
    "tags": []
   },
   "source": [
    "## Importación de librerias necesarias"
   ]
  },
  {
   "cell_type": "code",
   "execution_count": 2,
   "id": "8593db40-45ff-4f57-b9e3-319cfcb192d4",
   "metadata": {
    "tags": []
   },
   "outputs": [],
   "source": [
    "# Load libraries\n",
    "import numpy as np\n",
    "import pandas as pd\n",
    "import seaborn as sns\n",
    "#from matplotlib import pyplot\n",
    "#import matplotlib.pyplot as plt \n",
    "from imblearn.over_sampling import SMOTE\n",
    "from sklearn.preprocessing import MinMaxScaler\n",
    "from sklearn.model_selection import train_test_split\n",
    "from sklearn.ensemble import RandomForestClassifier\n",
    "#from sklearn.tree import DecisionTreeClassifier\n",
    "from sklearn.metrics import accuracy_score\n",
    "from sklearn.metrics import confusion_matrix\n",
    "from sklearn.metrics import classification_report"
   ]
  },
  {
   "cell_type": "code",
   "execution_count": 3,
   "id": "dc9d5628-7246-4e2f-929f-f0108f66e5ad",
   "metadata": {
    "tags": []
   },
   "outputs": [],
   "source": [
    "# Read file CSV Download of https://www.kaggle.com/datasets/d8e399cf772f115f4350cae12016ef9f497f63389a06dfdceb3292aa7fb72956\n",
    "file_cvs = \"claims.csv\"\n",
    "# Create dataframe with information of file CSV\n",
    "df = pd.read_csv(file_cvs, delimiter=',', encoding='utf-8')"
   ]
  },
  {
   "cell_type": "code",
   "execution_count": 4,
   "id": "076f6519-9608-4ca6-a7ae-79984b89bad4",
   "metadata": {
    "tags": []
   },
   "outputs": [],
   "source": [
    "# Define colums target (CLAIM)\n",
    "columns = df.columns\n",
    "target = \"CLAIM\"\n",
    "x_columns = columns.drop(target)"
   ]
  },
  {
   "cell_type": "code",
   "execution_count": 5,
   "id": "18a835f7-2182-4252-a5df-1043213fb2d4",
   "metadata": {},
   "outputs": [],
   "source": [
    "# Update datatype int64 to int32 and float64 to float32, because it is necessary to use less RAM\n",
    "float_columns = ['QUANTITY_PRODUCT_SERVICE', 'SALES_PRICE', 'INVOICED_PRICE']\n",
    "int_columns = columns.drop(float_columns)\n",
    "df[float_columns]=df[float_columns].astype(np.float32)\n",
    "df[int_columns]=df[int_columns].astype(int)"
   ]
  },
  {
   "cell_type": "code",
   "execution_count": 6,
   "id": "eeae36aa-147d-4d54-9639-24dabed5625c",
   "metadata": {},
   "outputs": [],
   "source": [
    "# Normalize data via MinMaxScaler function\n",
    "scaler = MinMaxScaler()\n",
    "df = scaler.fit_transform(df)\n",
    "df = pd.DataFrame(df,columns=columns)"
   ]
  },
  {
   "cell_type": "code",
   "execution_count": 7,
   "id": "5a23e874-6071-4178-89d4-946d7b57a01f",
   "metadata": {},
   "outputs": [
    {
     "name": "stdout",
     "output_type": "stream",
     "text": [
      "CLAIM:\n",
      "[0. 1.]\n",
      "\n",
      "CLAIM\n",
      "0.0    6104323\n",
      "1.0        120\n",
      "Name: count, dtype: int64\n"
     ]
    }
   ],
   "source": [
    "# Distribution of the target variable\n",
    "print(str(target)+':\\n'+str(df[target].unique())+'\\n')\n",
    "print(df[target].value_counts())"
   ]
  },
  {
   "cell_type": "code",
   "execution_count": 8,
   "id": "1f5d28b7-afe3-4543-97ab-aedd132acf52",
   "metadata": {},
   "outputs": [],
   "source": [
    "# Dividir variables de entrada y objetivo\n",
    "ValX = df.drop(columns=target)\n",
    "ValY = df[target]"
   ]
  },
  {
   "cell_type": "code",
   "execution_count": 9,
   "id": "173f3886-73f4-48e9-ab25-e7dd94665cca",
   "metadata": {},
   "outputs": [],
   "source": [
    "# Set training and validation data\n",
    "X_train, X_validation, Y_train, Y_validation = train_test_split(ValX, ValY, test_size=0.15, random_state=1, shuffle=True)"
   ]
  },
  {
   "cell_type": "code",
   "execution_count": 10,
   "id": "9fd75e17-9e5d-42d1-b49e-60360169a814",
   "metadata": {},
   "outputs": [
    {
     "data": {
      "text/plain": [
       "((5188776, 53), (915667, 53))"
      ]
     },
     "execution_count": 10,
     "metadata": {},
     "output_type": "execute_result"
    }
   ],
   "source": [
    "X_train.shape, X_validation.shape"
   ]
  },
  {
   "cell_type": "code",
   "execution_count": 11,
   "id": "27f672d2-6966-4059-96df-f9704472fb69",
   "metadata": {},
   "outputs": [],
   "source": [
    "# Resampling the minority class. The strategy can be changed as required.\n",
    "sm = SMOTE(sampling_strategy='minority', random_state=42)\n",
    "# Fit the model to generate the data.\n",
    "X_train_oversampled, Y_train_oversampled = sm.fit_resample(X_train, Y_train)\n",
    "df_train_oversampled = pd.concat([pd.DataFrame(Y_train_oversampled), pd.DataFrame(X_train_oversampled)], axis=1)"
   ]
  },
  {
   "cell_type": "code",
   "execution_count": 12,
   "id": "65fce33f-1bf6-4c9f-bfe6-031206674eaf",
   "metadata": {},
   "outputs": [
    {
     "data": {
      "text/plain": [
       "((10377344, 53), (915667, 53))"
      ]
     },
     "execution_count": 12,
     "metadata": {},
     "output_type": "execute_result"
    }
   ],
   "source": [
    "X_train_oversampled.shape, X_validation.shape"
   ]
  },
  {
   "cell_type": "code",
   "execution_count": 13,
   "id": "fb84f99b-6a5e-451c-9b6c-e213b320ca48",
   "metadata": {},
   "outputs": [
    {
     "name": "stdout",
     "output_type": "stream",
     "text": [
      "CLAIM:\n",
      "[0. 1.]\n",
      "\n",
      "CLAIM\n",
      "0.0    5188672\n",
      "1.0    5188672\n",
      "Name: count, dtype: int64\n"
     ]
    }
   ],
   "source": [
    "print(str(target)+':\\n'+str(df_train_oversampled[target].unique())+'\\n')\n",
    "print(df_train_oversampled[target].value_counts())"
   ]
  },
  {
   "cell_type": "code",
   "execution_count": 14,
   "id": "f1bdb2ed-a4e9-4eb6-b379-f1c08524d8b6",
   "metadata": {},
   "outputs": [
    {
     "data": {
      "text/plain": [
       "53"
      ]
     },
     "execution_count": 14,
     "metadata": {},
     "output_type": "execute_result"
    }
   ],
   "source": [
    "len(X_train_oversampled.keys())"
   ]
  },
  {
   "cell_type": "code",
   "execution_count": 15,
   "id": "2e781690-de8b-434d-a256-8a2dce159581",
   "metadata": {},
   "outputs": [
    {
     "name": "stdout",
     "output_type": "stream",
     "text": [
      "WARNING:tensorflow:From C:\\Users\\jacqui\\.conda\\envs\\TecnicasIA\\lib\\site-packages\\keras\\src\\losses.py:2976: The name tf.losses.sparse_softmax_cross_entropy is deprecated. Please use tf.compat.v1.losses.sparse_softmax_cross_entropy instead.\n",
      "\n",
      "WARNING:tensorflow:From C:\\Users\\jacqui\\.conda\\envs\\TecnicasIA\\lib\\site-packages\\keras\\src\\utils\\tf_utils.py:585: The name tf.executing_eagerly_outside_functions is deprecated. Please use tf.compat.v1.executing_eagerly_outside_functions instead.\n",
      "\n",
      "Model: \"sequential\"\n",
      "_________________________________________________________________\n",
      " Layer (type)                Output Shape              Param #   \n",
      "=================================================================\n",
      " dense (Dense)               (None, 53)                2862      \n",
      "                                                                 \n",
      " dense_1 (Dense)             (None, 18)                972       \n",
      "                                                                 \n",
      " dense_2 (Dense)             (None, 9)                 171       \n",
      "                                                                 \n",
      " dense_3 (Dense)             (None, 3)                 30        \n",
      "                                                                 \n",
      " dense_4 (Dense)             (None, 1)                 4         \n",
      "                                                                 \n",
      "=================================================================\n",
      "Total params: 4039 (15.78 KB)\n",
      "Trainable params: 4039 (15.78 KB)\n",
      "Non-trainable params: 0 (0.00 Byte)\n",
      "_________________________________________________________________\n"
     ]
    }
   ],
   "source": [
    "import tensorflow as tf\n",
    "from tensorflow import keras\n",
    "from tensorflow.keras import layers\n",
    "\n",
    "METRICS = [\n",
    "      keras.metrics.BinaryCrossentropy(name='cross entropy'),  # same as model's loss\n",
    "      keras.metrics.MeanSquaredError(name='Brier score'),\n",
    "      keras.metrics.TruePositives(name='tp'),\n",
    "      keras.metrics.FalsePositives(name='fp'),\n",
    "      keras.metrics.TrueNegatives(name='tn'),\n",
    "      keras.metrics.FalseNegatives(name='fn'), \n",
    "      keras.metrics.BinaryAccuracy(name='accuracy'),\n",
    "      keras.metrics.Precision(name='precision'),\n",
    "      keras.metrics.Recall(name='recall'),\n",
    "      keras.metrics.AUC(name='auc'),\n",
    "      keras.metrics.AUC(name='prc', curve='PR'), # precision-recall curve\n",
    "]\n",
    "\n",
    "insurance_model=tf.keras.Sequential([\\\n",
    "    tf.keras.layers.Dense(53, activation='relu', input_shape=[len(X_train_oversampled.keys())]),\\\n",
    "    tf.keras.layers.Dense(18, activation='relu'),\\\n",
    "    tf.keras.layers.Dense(9, activation='relu'),\\\n",
    "    tf.keras.layers.Dense(3, activation='relu'),\\\n",
    "    tf.keras.layers.Dense(1, activation='sigmoid')\\\n",
    "])\n",
    "insurance_model.compile(\\\n",
    "    optimizer=keras.optimizers.Adam(learning_rate=1e-3),\\\n",
    "    loss=keras.losses.BinaryCrossentropy(),\\\n",
    "    metrics=METRICS)\n",
    "insurance_model.summary()"
   ]
  },
  {
   "cell_type": "code",
   "execution_count": 26,
   "id": "df280642-751c-46a0-9832-5662407caafa",
   "metadata": {},
   "outputs": [],
   "source": [
    "#feature_layer = tf.keras.layers.DenseFeatures(feature_columns)\n",
    "model = tf.keras.Sequential([\n",
    "  layers.Dense(53, activation='relu', input_shape=[len(X_train_oversampled.keys())]),\n",
    "  layers.Dense(106, activation='relu'),\n",
    "  layers.Dropout(.1),\n",
    "  layers.Dense(1)\n",
    "])\n"
   ]
  },
  {
   "cell_type": "code",
   "execution_count": 27,
   "id": "442c499f-5f01-4c94-bf49-b6a1cf2dbf7c",
   "metadata": {},
   "outputs": [],
   "source": [
    "model.compile(optimizer='adam',\n",
    "              loss=tf.keras.losses.BinaryCrossentropy(from_logits=True),\n",
    "              metrics=['accuracy'])"
   ]
  },
  {
   "cell_type": "code",
   "execution_count": 28,
   "id": "78660090-c5c4-450b-8191-43cf9bb6e2be",
   "metadata": {},
   "outputs": [
    {
     "name": "stdout",
     "output_type": "stream",
     "text": [
      "Model: \"sequential_5\"\n",
      "_________________________________________________________________\n",
      " Layer (type)                Output Shape              Param #   \n",
      "=================================================================\n",
      " dense_17 (Dense)            (None, 53)                2862      \n",
      "                                                                 \n",
      " dense_18 (Dense)            (None, 106)               5724      \n",
      "                                                                 \n",
      " dropout_4 (Dropout)         (None, 106)               0         \n",
      "                                                                 \n",
      " dense_19 (Dense)            (None, 1)                 107       \n",
      "                                                                 \n",
      "=================================================================\n",
      "Total params: 8693 (33.96 KB)\n",
      "Trainable params: 8693 (33.96 KB)\n",
      "Non-trainable params: 0 (0.00 Byte)\n",
      "_________________________________________________________________\n"
     ]
    }
   ],
   "source": [
    "model.summary()"
   ]
  },
  {
   "cell_type": "code",
   "execution_count": 29,
   "id": "84adf465-29aa-4617-94ed-fe74e7024562",
   "metadata": {},
   "outputs": [
    {
     "name": "stdout",
     "output_type": "stream",
     "text": [
      "324292/324292 [==============================] - 620s 2ms/step - loss: 0.0049 - accuracy: 0.9989\n"
     ]
    },
    {
     "data": {
      "text/plain": [
       "<keras.src.callbacks.History at 0x231be4df310>"
      ]
     },
     "execution_count": 29,
     "metadata": {},
     "output_type": "execute_result"
    }
   ],
   "source": [
    "model.fit(X_train_oversampled,\n",
    "          Y_train_oversampled,\n",
    "          epochs=1)"
   ]
  },
  {
   "cell_type": "code",
   "execution_count": 16,
   "id": "023c4d67-3c77-47b4-88b2-9963288c7012",
   "metadata": {},
   "outputs": [
    {
     "name": "stdout",
     "output_type": "stream",
     "text": [
      "WARNING:tensorflow:From C:\\Users\\jacqui\\.conda\\envs\\TecnicasIA\\lib\\site-packages\\keras\\src\\utils\\tf_utils.py:492: The name tf.ragged.RaggedTensorValue is deprecated. Please use tf.compat.v1.ragged.RaggedTensorValue instead.\n",
      "\n",
      "324292/324292 [==============================] - 787s 2ms/step - loss: 0.0054 - cross entropy: 0.0054 - Brier score: 0.0011 - tp: 5185844.0000 - fp: 9854.0000 - tn: 5178818.0000 - fn: 2828.0000 - accuracy: 0.9988 - precision: 0.9981 - recall: 0.9995 - auc: 0.9997 - prc: 0.9994\n"
     ]
    }
   ],
   "source": [
    "history=insurance_model.fit(X_train_oversampled,Y_train_oversampled,epochs=1)"
   ]
  },
  {
   "cell_type": "code",
   "execution_count": 25,
   "id": "37f255a5-5cba-4654-949f-6d8e95090882",
   "metadata": {},
   "outputs": [
    {
     "data": {
      "text/plain": [
       "Text(0.5, 0, 'Epochs')"
      ]
     },
     "execution_count": 25,
     "metadata": {},
     "output_type": "execute_result"
    },
    {
     "data": {
      "image/png": "[encoded data removed]",
      "text/plain": [
       "<Figure size 640x480 with 1 Axes>"
      ]
     },
     "metadata": {},
     "output_type": "display_data"
    }
   ],
   "source": [
    "import matplotlib.pyplot as plt\n",
    "#Graficar la curva de entrenamiento, se ve una tendencia de como el Error Absoluto Medio baja aunque llega a niveles menores de uno, sigue siendo alto para un buen aprendizaje\n",
    "pd.DataFrame(history.history).plot()\n",
    "plt.ylabel(\"Loss\")\n",
    "plt.xlabel(\"Epochs\")"
   ]
  },
  {
   "cell_type": "code",
   "execution_count": 26,
   "id": "37dcb520-0c07-43e6-b973-8b9e2f4cb206",
   "metadata": {},
   "outputs": [
    {
     "name": "stdout",
     "output_type": "stream",
     "text": [
      "324292/324292 - 96s - 297us/step - loss: 0.0291 - mae: 0.0291\n"
     ]
    }
   ],
   "source": [
    "#Evaluación del modelo con los datos de entrenamiento\n",
    "loss, mae = insurance_model.evaluate(X_train_oversampled, Y_train_oversampled, verbose=2)"
   ]
  },
  {
   "cell_type": "code",
   "execution_count": 27,
   "id": "85883d85-fb01-4e8f-a947-e8fe40d565e3",
   "metadata": {},
   "outputs": [
    {
     "name": "stdout",
     "output_type": "stream",
     "text": [
      "\u001b[1m28615/28615\u001b[0m \u001b[32m━━━━━━━━━━━━━━━━━━━━\u001b[0m\u001b[37m\u001b[0m \u001b[1m9s\u001b[0m 327us/step\n",
      "[0.00292893 0.00382776 0.00329612 ... 0.00306294 0.00468204 0.00426581]\n"
     ]
    }
   ],
   "source": [
    "#Predicción del modelo\n",
    "Y_predict = insurance_model.predict(X_validation).flatten()\n",
    "print(Y_predict)"
   ]
  },
  {
   "cell_type": "code",
   "execution_count": 28,
   "id": "4615a1ae-e1ae-4453-b4dc-688e431ca409",
   "metadata": {},
   "outputs": [
    {
     "data": {
      "text/html": [
       "<div>\n",
       "<style scoped>\n",
       "    .dataframe tbody tr th:only-of-type {\n",
       "        vertical-align: middle;\n",
       "    }\n",
       "\n",
       "    .dataframe tbody tr th {\n",
       "        vertical-align: top;\n",
       "    }\n",
       "\n",
       "    .dataframe thead th {\n",
       "        text-align: right;\n",
       "    }\n",
       "</style>\n",
       "<table border=\"1\" class=\"dataframe\">\n",
       "  <thead>\n",
       "    <tr style=\"text-align: right;\">\n",
       "      <th></th>\n",
       "      <th>Actual value</th>\n",
       "      <th>Predicted value</th>\n",
       "    </tr>\n",
       "  </thead>\n",
       "  <tbody>\n",
       "    <tr>\n",
       "      <th>3519216</th>\n",
       "      <td>0.0</td>\n",
       "      <td>0.002929</td>\n",
       "    </tr>\n",
       "    <tr>\n",
       "      <th>5421007</th>\n",
       "      <td>0.0</td>\n",
       "      <td>0.003828</td>\n",
       "    </tr>\n",
       "    <tr>\n",
       "      <th>1949183</th>\n",
       "      <td>0.0</td>\n",
       "      <td>0.003296</td>\n",
       "    </tr>\n",
       "    <tr>\n",
       "      <th>614267</th>\n",
       "      <td>0.0</td>\n",
       "      <td>0.003030</td>\n",
       "    </tr>\n",
       "    <tr>\n",
       "      <th>1114087</th>\n",
       "      <td>0.0</td>\n",
       "      <td>0.003251</td>\n",
       "    </tr>\n",
       "  </tbody>\n",
       "</table>\n",
       "</div>"
      ],
      "text/plain": [
       "         Actual value  Predicted value\n",
       "3519216           0.0         0.002929\n",
       "5421007           0.0         0.003828\n",
       "1949183           0.0         0.003296\n",
       "614267            0.0         0.003030\n",
       "1114087           0.0         0.003251"
      ]
     },
     "execution_count": 28,
     "metadata": {},
     "output_type": "execute_result"
    }
   ],
   "source": [
    "#Crear un dataset para comprar la salida esperada con la salida de predicción\n",
    "mlr_diff = pd.DataFrame({'Actual value': Y_validation, 'Predicted value': Y_predict})\n",
    "mlr_diff.head()"
   ]
  },
  {
   "cell_type": "code",
   "execution_count": 29,
   "id": "daf60a05-0b15-4efa-9f4d-598dcebe2aa1",
   "metadata": {},
   "outputs": [
    {
     "data": {
      "text/plain": [
       "<Axes: xlabel='Actual value', ylabel='Count'>"
      ]
     },
     "execution_count": 29,
     "metadata": {},
     "output_type": "execute_result"
    },
    {
     "data": {
      "image/png": "[encoded data removed]",
      "text/plain": [
       "<Figure size 640x480 with 1 Axes>"
      ]
     },
     "metadata": {},
     "output_type": "display_data"
    }
   ],
   "source": [
    "#Comportamiento de la salida esperada\n",
    "sns.histplot(data=mlr_diff[\"Actual value\"], kde=True)"
   ]
  },
  {
   "cell_type": "code",
   "execution_count": 30,
   "id": "79d6e99b-bcec-4cb0-8edf-6d3a856707b4",
   "metadata": {},
   "outputs": [
    {
     "data": {
      "text/plain": [
       "<Axes: xlabel='Predicted value', ylabel='Count'>"
      ]
     },
     "execution_count": 30,
     "metadata": {},
     "output_type": "execute_result"
    },
    {
     "data": {
      "image/png": "[encoded data removed]",
      "text/plain": [
       "<Figure size 640x480 with 1 Axes>"
      ]
     },
     "metadata": {},
     "output_type": "display_data"
    }
   ],
   "source": [
    "#Comportamiento de la salida predicha \n",
    "sns.histplot(data=mlr_diff[\"Predicted value\"], kde=True)"
   ]
  },
  {
   "cell_type": "code",
   "execution_count": 31,
   "id": "bb210561-2cdd-4f43-9512-907add61eef7",
   "metadata": {},
   "outputs": [
    {
     "data": {
      "text/plain": [
       "<Axes: ylabel='Count'>"
      ]
     },
     "execution_count": 31,
     "metadata": {},
     "output_type": "execute_result"
    },
    {
     "data": {
      "image/png": "[encoded data removed]",
      "text/plain": [
       "<Figure size 640x480 with 1 Axes>"
      ]
     },
     "metadata": {},
     "output_type": "display_data"
    }
   ],
   "source": [
    "#Comportamiento de la salida esperada y predicha \n",
    "sns.histplot(data=mlr_diff, kde=True)"
   ]
  },
  {
   "cell_type": "code",
   "execution_count": null,
   "id": "40e11c45-da19-4049-9dd2-e3b2bc0b8797",
   "metadata": {},
   "outputs": [],
   "source": []
  }
 ],
 "metadata": {
  "kernelspec": {
   "display_name": "Python 3 (ipykernel)",
   "language": "python",
   "name": "python3"
  },
  "language_info": {
   "codemirror_mode": {
    "name": "ipython",
    "version": 3
   },
   "file_extension": ".py",
   "mimetype": "text/x-python",
   "name": "python",
   "nbconvert_exporter": "python",
   "pygments_lexer": "ipython3",
   "version": "3.10.13"
  }
 },
 "nbformat": 4,
 "nbformat_minor": 5
}
