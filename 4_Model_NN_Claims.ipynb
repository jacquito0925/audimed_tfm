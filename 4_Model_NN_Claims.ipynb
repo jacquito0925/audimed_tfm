{
 "cells": [
  {
   "cell_type": "markdown",
   "id": "80a883ce-1260-48e1-ad56-3638f4e55189",
   "metadata": {
    "editable": true,
    "slideshow": {
     "slide_type": ""
    },
    "tags": []
   },
   "source": [
    "<img src=\"https://www.unir.net/wp-content/uploads/2019/11/Unir_2021_logo.svg\" width=\"240\" height=\"240\" align=\"right\"/>"
   ]
  },
  {
   "cell_type": "markdown",
   "id": "cf2e6c20-e7e3-4c0c-a17b-c125f2e55905",
   "metadata": {
    "tags": []
   },
   "source": [
    "<center><h1>Sistema inteligente para ayudar a detectar posibles reclamos (glosas) en las cuentas médicas previo al cobro, de una clínica en Colombia - Audimed</h1></center>\n",
    "<center><h2>Trabajo Fin de Master<br>Máster Universitario en Análisis y Visualización de Datos Masivos / Visual Analytics and Big Data</h2></center>"
   ]
  },
  {
   "cell_type": "markdown",
   "id": "e1bc6121-2a77-4cf1-838f-ee94b96778cd",
   "metadata": {
    "tags": []
   },
   "source": [
    "<h3>Presentado por: Jacqueline Guzmán Rodriguez</h3>\n",
    "<h4>Tipo de trabajo: Desarrollo Software <br>\n",
    "Director: Juan Carlos Rincon Acuña <br>\n",
    "Fecha: Junio/2024</h4>"
   ]
  },
  {
   "cell_type": "markdown",
   "id": "3e716198-1507-4272-8252-da35ecb3f440",
   "metadata": {
    "jp-MarkdownHeadingCollapsed": true
   },
   "source": [
    "<h3> <font color=\"#040078\">Notebook de modelado de los datos</font></h3>\n",
    "<h4>Red Neuronal</h4>\n",
    "<h5><font color=\"#C62400\">Licencia del Notebook CC BY-NC-SA 4.0 DEED <a href=\"https://creativecommons.org/licenses/by-nc-sa/4.0/\" target=\"_blank]\">https://creativecommons.org/licenses/by-nc-sa/4.0/</a></font></h5/>"
   ]
  },
  {
   "cell_type": "markdown",
   "id": "65726fff-f963-4f34-a525-a6843266b915",
   "metadata": {
    "tags": []
   },
   "source": [
    "## Importación de librerias necesarias"
   ]
  },
  {
   "cell_type": "code",
   "execution_count": 1,
   "id": "8593db40-45ff-4f57-b9e3-319cfcb192d4",
   "metadata": {
    "tags": []
   },
   "outputs": [
    {
     "name": "stdout",
     "output_type": "stream",
     "text": [
      "WARNING:tensorflow:From C:\\Users\\jefe.sistemas\\AppData\\Roaming\\Python\\Python311\\site-packages\\keras\\src\\losses.py:2976: The name tf.losses.sparse_softmax_cross_entropy is deprecated. Please use tf.compat.v1.losses.sparse_softmax_cross_entropy instead.\n",
      "\n"
     ]
    }
   ],
   "source": [
    "# Load libraries\n",
    "import numpy as np\n",
    "import pandas as pd\n",
    "import tensorflow as tf\n",
    "import matplotlib.pyplot as plt \n",
    "from imblearn.over_sampling import SMOTE\n",
    "from sklearn.preprocessing import MinMaxScaler\n",
    "from sklearn.model_selection import train_test_split\n",
    "from time import time\n",
    "from tensorflow import keras\n",
    "from tensorflow.keras import layers\n",
    "from sklearn.metrics import accuracy_score\n",
    "from sklearn.metrics import confusion_matrix\n",
    "from sklearn.metrics import ConfusionMatrixDisplay\n",
    "from sklearn_evaluation import plot\n",
    "from sklearn.metrics import classification_report\n",
    "from sklearn.metrics import roc_curve, auc"
   ]
  },
  {
   "cell_type": "markdown",
   "id": "d9e7608d-a1ee-497a-8036-5eab94e063f0",
   "metadata": {
    "tags": []
   },
   "source": [
    "## Carga de archivo con datos transformados claims.cvs\n",
    "#### Se pueden descargar los datos de la plataforma kaggle en el siguiente link: \n",
    "##### https://www.kaggle.com/datasets/jacquelineguzman/claims-of-medical-billing/"
   ]
  },
  {
   "cell_type": "code",
   "execution_count": 2,
   "id": "dc9d5628-7246-4e2f-929f-f0108f66e5ad",
   "metadata": {
    "tags": []
   },
   "outputs": [],
   "source": [
    "# Read file CSV Download of https://www.kaggle.com/datasets/jacquelineguzman/claims-of-medical-billing/\n",
    "file_cvs = \"claims.csv\"\n",
    "# Create dataframe with information of file CSV\n",
    "df = pd.read_csv(file_cvs, delimiter=',', encoding='utf-8')"
   ]
  },
  {
   "cell_type": "markdown",
   "id": "e2fcd0a4-18a2-4d4c-8a9c-1d5c5558ab82",
   "metadata": {
    "tags": []
   },
   "source": [
    "## Tratamiento de datos previos a la aplicación del modelo de clasificación\n",
    "##### Se define como variable objetivo la marca de si el registro tiene reclamación o no (CLAIM)"
   ]
  },
  {
   "cell_type": "code",
   "execution_count": 3,
   "id": "076f6519-9608-4ca6-a7ae-79984b89bad4",
   "metadata": {
    "tags": []
   },
   "outputs": [],
   "source": [
    "# Define colums target (CLAIM)\n",
    "columns = df.columns\n",
    "target = \"CLAIM\"\n",
    "x_columns = columns.drop(target)"
   ]
  },
  {
   "cell_type": "markdown",
   "id": "0060fc23-d28b-4319-989f-f9fd2a084f94",
   "metadata": {
    "tags": []
   },
   "source": [
    "##### Se actualizan las variables para manejar tipos de datos a 32 bits, dado que usa menos recurso de memoria."
   ]
  },
  {
   "cell_type": "code",
   "execution_count": 4,
   "id": "18a835f7-2182-4252-a5df-1043213fb2d4",
   "metadata": {},
   "outputs": [],
   "source": [
    "# Update datatype int64 to int32 and float64 to float32, because it is necessary to use less RAM\n",
    "float_columns = ['QUANTITY_PRODUCT_SERVICE', 'SALES_PRICE', 'INVOICED_PRICE']\n",
    "int_columns = columns.drop(float_columns)\n",
    "df[float_columns]=df[float_columns].astype(np.float32)\n",
    "df[int_columns]=df[int_columns].astype(int)"
   ]
  },
  {
   "cell_type": "markdown",
   "id": "4ac091a9-538e-4806-8329-2ecba61b696a",
   "metadata": {
    "tags": []
   },
   "source": [
    "##### Para facilitar los calculos del algoritmo se normaliza la información de las variables de entrada para que manejen rangos numericos entre cero (0) y uno (1), esto se hace con la función MinMaxScaler"
   ]
  },
  {
   "cell_type": "code",
   "execution_count": 5,
   "id": "eeae36aa-147d-4d54-9639-24dabed5625c",
   "metadata": {},
   "outputs": [],
   "source": [
    "# Normalize data via MinMaxScaler function\n",
    "scaler = MinMaxScaler()\n",
    "df = scaler.fit_transform(df)\n",
    "df = pd.DataFrame(df,columns=columns)"
   ]
  },
  {
   "cell_type": "markdown",
   "id": "e07ed7b1-a712-4756-bf4b-c1d96c1173e6",
   "metadata": {
    "tags": []
   },
   "source": [
    "##### Se verifica la distribucción de la variable objetivo (CLAIM), donde se observa que es desbalanceda."
   ]
  },
  {
   "cell_type": "code",
   "execution_count": 6,
   "id": "5a23e874-6071-4178-89d4-946d7b57a01f",
   "metadata": {},
   "outputs": [
    {
     "name": "stdout",
     "output_type": "stream",
     "text": [
      "CLAIM:\n",
      "[0. 1.]\n",
      "\n",
      "CLAIM\n",
      "0.0    6104323\n",
      "1.0        120\n",
      "Name: count, dtype: int64\n"
     ]
    }
   ],
   "source": [
    "# Distribution of the target variable (CLAIM)\n",
    "print(str(target)+':\\n'+str(df[target].unique())+'\\n')\n",
    "print(df[target].value_counts())"
   ]
  },
  {
   "cell_type": "markdown",
   "id": "33ebd78e-2a4b-4469-baa5-ee6336565fc4",
   "metadata": {
    "tags": []
   },
   "source": [
    "##### Se crean los dataframe de entrada (ValX) y salida (ValY) "
   ]
  },
  {
   "cell_type": "code",
   "execution_count": 7,
   "id": "1f5d28b7-afe3-4543-97ab-aedd132acf52",
   "metadata": {},
   "outputs": [],
   "source": [
    "# Create dataframe with int variables (ValX) and target variable (ValY)\n",
    "ValX = df.drop(columns=target)\n",
    "ValY = df[target]"
   ]
  },
  {
   "cell_type": "markdown",
   "id": "86d9b151-6347-4abd-bbcd-49c70a56298a",
   "metadata": {
    "tags": []
   },
   "source": [
    "##### Se crean los dataframe de entrenamiento y validación, necesarios para el entrenamiento del modelo, se definió un 15% de los datos para los dataframe de validación"
   ]
  },
  {
   "cell_type": "code",
   "execution_count": 8,
   "id": "173f3886-73f4-48e9-ab25-e7dd94665cca",
   "metadata": {},
   "outputs": [
    {
     "data": {
      "text/plain": [
       "((5188776, 53), (5188776,), (915667, 53), (915667,))"
      ]
     },
     "execution_count": 8,
     "metadata": {},
     "output_type": "execute_result"
    }
   ],
   "source": [
    "# Set training and validation data\n",
    "X_train, X_validation, Y_train, Y_validation = train_test_split(ValX, ValY, test_size=0.15, random_state=1, shuffle=True)\n",
    "X_train.shape, Y_train.shape, X_validation.shape, Y_validation.shape"
   ]
  },
  {
   "cell_type": "markdown",
   "id": "f045737f-b6f7-4788-9fa6-f15cbe437939",
   "metadata": {
    "tags": []
   },
   "source": [
    "##### Para no trabajar con datos de entrenamiento desbalanceados, se aplica la técnica de sobremuestreo (over-sampling) sobre los datos de entrenamiento (X_train y Y_train)"
   ]
  },
  {
   "cell_type": "code",
   "execution_count": 9,
   "id": "27f672d2-6966-4059-96df-f9704472fb69",
   "metadata": {},
   "outputs": [],
   "source": [
    "# Resampling the minority class using SMOTE stategy (Over-sampling)\n",
    "sm = SMOTE(sampling_strategy='minority', random_state=42)"
   ]
  },
  {
   "cell_type": "code",
   "execution_count": 10,
   "id": "df07ff2f-7e33-4dd5-8a50-e06b8c3ad76a",
   "metadata": {},
   "outputs": [
    {
     "name": "stderr",
     "output_type": "stream",
     "text": [
      "C:\\Users\\jefe.sistemas\\AppData\\Roaming\\Python\\Python311\\site-packages\\joblib\\externals\\loky\\backend\\context.py:136: UserWarning: Could not find the number of physical cores for the following reason:\n",
      "found 0 physical cores < 1\n",
      "Returning the number of logical cores instead. You can silence this warning by setting LOKY_MAX_CPU_COUNT to the number of cores you want to use.\n",
      "  warnings.warn(\n",
      "  File \"C:\\Users\\jefe.sistemas\\AppData\\Roaming\\Python\\Python311\\site-packages\\joblib\\externals\\loky\\backend\\context.py\", line 282, in _count_physical_cores\n",
      "    raise ValueError(f\"found {cpu_count_physical} physical cores < 1\")\n"
     ]
    }
   ],
   "source": [
    "# Fit the model to generate the data.\n",
    "X_train, Y_train = sm.fit_resample(X_train, Y_train)"
   ]
  },
  {
   "cell_type": "code",
   "execution_count": 11,
   "id": "65fce33f-1bf6-4c9f-bfe6-031206674eaf",
   "metadata": {},
   "outputs": [
    {
     "data": {
      "text/plain": [
       "((10377344, 53), (10377344,), (915667, 53), (915667,))"
      ]
     },
     "execution_count": 11,
     "metadata": {},
     "output_type": "execute_result"
    }
   ],
   "source": [
    "X_train.shape, Y_train.shape, X_validation.shape, Y_validation.shape"
   ]
  },
  {
   "cell_type": "markdown",
   "id": "e929a1a0-c97c-4201-8634-431b5a48f663",
   "metadata": {
    "tags": []
   },
   "source": [
    "## Creación del modelo\n",
    "##### Se crea una red neuronal, para verificar si es posible mejorar la sensibilidad de aciertos (recall), principalmente de la clase desbalanceada Claim (1)\n",
    "##### Para verificar los hiperparametros, se hicienron procesos de prueba y error obteniendo los siguientes: \n",
    "###### Pesos de las clases se calcularon para que se tenga en cuenta el desbalanceo de las mismas\n",
    "###### La cantidad de capas de la red se lograron a través de pruebas y verificación de las metricas de presición y sensibilidad, la arquitectura quedo con una (1) capa de entrada, cuatro (4) capas intermedias y una (1) capa de salida."
   ]
  },
  {
   "cell_type": "markdown",
   "id": "e690423f-144b-47aa-8809-31e444c93747",
   "metadata": {},
   "source": [
    "##### Calculo de los pesos de las clases, para incorporarlos a la red neuronal"
   ]
  },
  {
   "cell_type": "code",
   "execution_count": 12,
   "id": "908381ef-7878-491c-b76f-bceba459c5bd",
   "metadata": {},
   "outputs": [
    {
     "name": "stdout",
     "output_type": "stream",
     "text": [
      "Examples:\n",
      "    Total: 6104443\n",
      "    Positive: 120 (0.001966% of total)\n",
      "\n",
      "Weight for class 0: 0.500010\n",
      "Weight for class 1: 25435.179167\n"
     ]
    }
   ],
   "source": [
    "# Calculation of class weights\n",
    "count_negative, count_positive = np.bincount(df[target])\n",
    "count_total = count_negative + count_positive\n",
    "print('Examples:\\n    Total: {}\\n    Positive: {} ({:.6f}% of total)\\n'.\\\n",
    "      format(count_total, count_positive, 100 * count_positive / count_total))\n",
    "weight_for_0 = (1 / count_negative) * (count_total / 2.0)\n",
    "weight_for_1 = (1 / count_positive) * (count_total / 2.0)\n",
    "class_weight = {0: weight_for_0, 1: weight_for_1}\n",
    "print('Weight for class 0: {:.6f}'.format(weight_for_0))\n",
    "print('Weight for class 1: {:.6f}'.format(weight_for_1))"
   ]
  },
  {
   "cell_type": "markdown",
   "id": "df51e227-abdd-4078-87b7-61274f53cce1",
   "metadata": {},
   "source": [
    "##### Diseño de la red neuronal"
   ]
  },
  {
   "cell_type": "code",
   "execution_count": 13,
   "id": "d175edce-f0f1-486d-96a1-fbc3c04052f5",
   "metadata": {},
   "outputs": [
    {
     "name": "stdout",
     "output_type": "stream",
     "text": [
      "WARNING:tensorflow:From C:\\Users\\jefe.sistemas\\AppData\\Roaming\\Python\\Python311\\site-packages\\keras\\src\\backend.py:873: The name tf.get_default_graph is deprecated. Please use tf.compat.v1.get_default_graph instead.\n",
      "\n"
     ]
    }
   ],
   "source": [
    "# Neural network design\n",
    "NN_model = tf.keras.Sequential([\\\n",
    "    layers.Dense(106, activation='relu', input_shape=[len(X_train.keys())]),\\\n",
    "    layers.Dropout(0.25),\\\n",
    "    layers.Dense(53, activation='relu'),\\\n",
    "    layers.Dropout(0.25),\\\n",
    "    layers.Dense(28, activation='relu'),\\\n",
    "    layers.Dropout(0.25),\\\n",
    "    layers.Dense(14, activation='relu'),\\\n",
    "    layers.Dropout(0.25),\\\n",
    "    layers.Dense(7, activation='relu'),\\\n",
    "    layers.Dropout(0.25),\\\n",
    "    layers.Dense(1, activation='sigmoid', name='output')\\\n",
    "])"
   ]
  },
  {
   "cell_type": "markdown",
   "id": "d5345822-5056-47ec-a60f-9b5911dcd1dc",
   "metadata": {},
   "source": [
    "##### Compilación de la red neuronal, se incorporan las metricas de precisión (precision) y sensibilidad (recall)"
   ]
  },
  {
   "cell_type": "code",
   "execution_count": 14,
   "id": "39288923-8174-4ef7-8c6c-ac19431c5bac",
   "metadata": {},
   "outputs": [],
   "source": [
    "# Metrics for evaluation neural network\n",
    "metrics = [\n",
    "    keras.metrics.Accuracy(name=\"accuracy\"),\n",
    "    keras.metrics.Precision(name=\"precision\"),\n",
    "    keras.metrics.Recall(name=\"recall\"),\n",
    "]\n",
    "# Compile neural network\n",
    "NN_model.compile(\\\n",
    "    optimizer=keras.optimizers.Adam(learning_rate=1e-3),\\\n",
    "    loss=tf.keras.losses.BinaryCrossentropy(),\\\n",
    "    metrics=metrics\\\n",
    ")"
   ]
  },
  {
   "cell_type": "markdown",
   "id": "fc609353-237e-41a2-a3a8-190f76199215",
   "metadata": {},
   "source": [
    "##### Resumen de los parametros de la red neuronal"
   ]
  },
  {
   "cell_type": "code",
   "execution_count": 15,
   "id": "5e191f24-d879-4007-8687-c851566f671c",
   "metadata": {},
   "outputs": [
    {
     "name": "stdout",
     "output_type": "stream",
     "text": [
      "Model: \"sequential\"\n",
      "_________________________________________________________________\n",
      " Layer (type)                Output Shape              Param #   \n",
      "=================================================================\n",
      " dense (Dense)               (None, 106)               5724      \n",
      "                                                                 \n",
      " dropout (Dropout)           (None, 106)               0         \n",
      "                                                                 \n",
      " dense_1 (Dense)             (None, 53)                5671      \n",
      "                                                                 \n",
      " dropout_1 (Dropout)         (None, 53)                0         \n",
      "                                                                 \n",
      " dense_2 (Dense)             (None, 28)                1512      \n",
      "                                                                 \n",
      " dropout_2 (Dropout)         (None, 28)                0         \n",
      "                                                                 \n",
      " dense_3 (Dense)             (None, 14)                406       \n",
      "                                                                 \n",
      " dropout_3 (Dropout)         (None, 14)                0         \n",
      "                                                                 \n",
      " dense_4 (Dense)             (None, 7)                 105       \n",
      "                                                                 \n",
      " dropout_4 (Dropout)         (None, 7)                 0         \n",
      "                                                                 \n",
      " output (Dense)              (None, 1)                 8         \n",
      "                                                                 \n",
      "=================================================================\n",
      "Total params: 13426 (52.45 KB)\n",
      "Trainable params: 13426 (52.45 KB)\n",
      "Non-trainable params: 0 (0.00 Byte)\n",
      "_________________________________________________________________\n"
     ]
    }
   ],
   "source": [
    "# Summary neural network\n",
    "NN_model.summary()"
   ]
  },
  {
   "cell_type": "markdown",
   "id": "ecfb5bd2-2ad8-4ccb-b455-f13771a45de7",
   "metadata": {},
   "source": [
    "##### Entrenamiento de la red neuronal"
   ]
  },
  {
   "cell_type": "code",
   "execution_count": 16,
   "id": "f06f5b4b-b210-4e8e-af56-1acd8e330937",
   "metadata": {},
   "outputs": [
    {
     "name": "stdout",
     "output_type": "stream",
     "text": [
      "Epoch 1/30\n",
      "WARNING:tensorflow:From C:\\Users\\jefe.sistemas\\AppData\\Roaming\\Python\\Python311\\site-packages\\keras\\src\\utils\\tf_utils.py:492: The name tf.ragged.RaggedTensorValue is deprecated. Please use tf.compat.v1.ragged.RaggedTensorValue instead.\n",
      "\n",
      "5068/5068 [==============================] - 45s 9ms/step - loss: 123.5440 - accuracy: 0.4679 - precision: 0.6837 - recall: 0.9991 - val_loss: 3.2941 - val_accuracy: 1.5289e-05 - val_precision: 1.1350e-04 - val_recall: 0.9375\n",
      "Epoch 2/30\n",
      "5068/5068 [==============================] - 41s 8ms/step - loss: 14.7735 - accuracy: 0.5662 - precision: 0.8926 - recall: 1.0000 - val_loss: 0.6605 - val_accuracy: 0.4418 - val_precision: 3.7966e-04 - val_recall: 0.8750\n",
      "Epoch 3/30\n",
      "5068/5068 [==============================] - 42s 8ms/step - loss: 2.5136 - accuracy: 0.7439 - precision: 0.9367 - recall: 1.0000 - val_loss: 0.3323 - val_accuracy: 0.7567 - val_precision: 6.2744e-04 - val_recall: 0.8750\n",
      "Epoch 4/30\n",
      "5068/5068 [==============================] - 43s 9ms/step - loss: 0.4529 - accuracy: 0.8131 - precision: 0.9492 - recall: 1.0000 - val_loss: 0.4826 - val_accuracy: 0.8045 - val_precision: 3.8219e-04 - val_recall: 0.9375\n",
      "Epoch 5/30\n",
      "5068/5068 [==============================] - 42s 8ms/step - loss: 0.4544 - accuracy: 0.6765 - precision: 0.8846 - recall: 1.0000 - val_loss: 1.1257 - val_accuracy: 0.5634 - val_precision: 1.3875e-04 - val_recall: 0.9375\n",
      "Epoch 6/30\n",
      "5068/5068 [==============================] - 41s 8ms/step - loss: 0.5129 - accuracy: 0.5974 - precision: 0.8442 - recall: 1.0000 - val_loss: 0.8539 - val_accuracy: 0.5263 - val_precision: 1.6770e-04 - val_recall: 0.9375\n",
      "Epoch 7/30\n",
      "5068/5068 [==============================] - 42s 8ms/step - loss: 0.3876 - accuracy: 0.5723 - precision: 0.8649 - recall: 1.0000 - val_loss: 0.6400 - val_accuracy: 0.4328 - val_precision: 2.2258e-04 - val_recall: 0.9375\n",
      "Epoch 8/30\n",
      "5068/5068 [==============================] - 42s 8ms/step - loss: 0.3304 - accuracy: 0.5933 - precision: 0.8817 - recall: 1.0000 - val_loss: 0.6244 - val_accuracy: 0.5636 - val_precision: 2.4331e-04 - val_recall: 0.9375\n",
      "Epoch 9/30\n",
      "5068/5068 [==============================] - 42s 8ms/step - loss: 0.2520 - accuracy: 0.6437 - precision: 0.9080 - recall: 1.0000 - val_loss: 0.4018 - val_accuracy: 0.7389 - val_precision: 3.8669e-04 - val_recall: 0.9375\n",
      "Epoch 10/30\n",
      "5068/5068 [==============================] - 41s 8ms/step - loss: 0.2615 - accuracy: 0.6669 - precision: 0.9155 - recall: 1.0000 - val_loss: 0.5090 - val_accuracy: 0.5841 - val_precision: 2.8711e-04 - val_recall: 0.9375\n",
      "Epoch 11/30\n",
      "5068/5068 [==============================] - 41s 8ms/step - loss: 0.2353 - accuracy: 0.6446 - precision: 0.9113 - recall: 1.0000 - val_loss: 0.4261 - val_accuracy: 0.7696 - val_precision: 3.6132e-04 - val_recall: 0.9375\n",
      "Epoch 12/30\n",
      "5068/5068 [==============================] - 42s 8ms/step - loss: 0.2604 - accuracy: 0.6949 - precision: 0.9183 - recall: 1.0000 - val_loss: 0.6995 - val_accuracy: 0.6416 - val_precision: 2.1093e-04 - val_recall: 0.9375\n",
      "Epoch 13/30\n",
      "5068/5068 [==============================] - 42s 8ms/step - loss: 0.2585 - accuracy: 0.6657 - precision: 0.9072 - recall: 1.0000 - val_loss: 0.6015 - val_accuracy: 0.5889 - val_precision: 2.1754e-04 - val_recall: 0.9375\n",
      "Epoch 14/30\n",
      "5068/5068 [==============================] - 41s 8ms/step - loss: 0.2182 - accuracy: 0.6946 - precision: 0.9178 - recall: 1.0000 - val_loss: 0.4176 - val_accuracy: 0.8027 - val_precision: 3.4766e-04 - val_recall: 0.9375\n",
      "Epoch 15/30\n",
      "5068/5068 [==============================] - 43s 8ms/step - loss: 0.2964 - accuracy: 0.6627 - precision: 0.8998 - recall: 1.0000 - val_loss: 0.4621 - val_accuracy: 0.7252 - val_precision: 2.8406e-04 - val_recall: 0.9375\n",
      "Epoch 16/30\n",
      "5068/5068 [==============================] - 42s 8ms/step - loss: 0.2264 - accuracy: 0.7058 - precision: 0.9201 - recall: 1.0000 - val_loss: 0.3748 - val_accuracy: 0.8354 - val_precision: 3.9100e-04 - val_recall: 0.9375\n",
      "Epoch 17/30\n",
      "5068/5068 [==============================] - 43s 8ms/step - loss: 0.2173 - accuracy: 0.7295 - precision: 0.9266 - recall: 1.0000 - val_loss: 0.4306 - val_accuracy: 0.7807 - val_precision: 3.5132e-04 - val_recall: 0.9375\n",
      "Epoch 18/30\n",
      "5068/5068 [==============================] - 43s 9ms/step - loss: 0.2509 - accuracy: 0.7135 - precision: 0.9208 - recall: 1.0000 - val_loss: 0.7253 - val_accuracy: 0.4020 - val_precision: 1.5080e-04 - val_recall: 0.9375\n",
      "Epoch 19/30\n",
      "5068/5068 [==============================] - 42s 8ms/step - loss: 0.1790 - accuracy: 0.7243 - precision: 0.9302 - recall: 1.0000 - val_loss: 0.2428 - val_accuracy: 0.8704 - val_precision: 5.4142e-04 - val_recall: 0.8750\n",
      "Epoch 20/30\n",
      "5068/5068 [==============================] - 41s 8ms/step - loss: 0.2001 - accuracy: 0.7165 - precision: 0.9292 - recall: 1.0000 - val_loss: 0.3829 - val_accuracy: 0.7673 - val_precision: 3.8968e-04 - val_recall: 0.9375\n",
      "Epoch 21/30\n",
      "5068/5068 [==============================] - 42s 8ms/step - loss: 0.1500 - accuracy: 0.7757 - precision: 0.9427 - recall: 1.0000 - val_loss: 0.3153 - val_accuracy: 0.8547 - val_precision: 4.8165e-04 - val_recall: 0.9375\n",
      "Epoch 22/30\n",
      "5068/5068 [==============================] - 42s 8ms/step - loss: 0.2157 - accuracy: 0.7278 - precision: 0.9313 - recall: 1.0000 - val_loss: 0.3415 - val_accuracy: 0.8095 - val_precision: 4.2849e-04 - val_recall: 0.9375\n",
      "Epoch 23/30\n",
      "5068/5068 [==============================] - 42s 8ms/step - loss: 0.2166 - accuracy: 0.7461 - precision: 0.9327 - recall: 1.0000 - val_loss: 0.7297 - val_accuracy: 0.3698 - val_precision: 1.5115e-04 - val_recall: 0.9375\n",
      "Epoch 24/30\n",
      "5068/5068 [==============================] - 41s 8ms/step - loss: 0.1930 - accuracy: 0.7255 - precision: 0.9299 - recall: 1.0000 - val_loss: 0.3469 - val_accuracy: 0.7730 - val_precision: 3.9713e-04 - val_recall: 0.9375\n",
      "Epoch 25/30\n",
      "5068/5068 [==============================] - 41s 8ms/step - loss: 0.1882 - accuracy: 0.7327 - precision: 0.9337 - recall: 1.0000 - val_loss: 0.4599 - val_accuracy: 0.6313 - val_precision: 2.8025e-04 - val_recall: 0.9375\n",
      "Epoch 26/30\n",
      "5068/5068 [==============================] - 41s 8ms/step - loss: 0.1551 - accuracy: 0.7586 - precision: 0.9384 - recall: 1.0000 - val_loss: 0.3182 - val_accuracy: 0.8013 - val_precision: 4.4273e-04 - val_recall: 0.9375\n",
      "Epoch 27/30\n",
      "5068/5068 [==============================] - 42s 8ms/step - loss: 0.1297 - accuracy: 0.7962 - precision: 0.9492 - recall: 1.0000 - val_loss: 0.2206 - val_accuracy: 0.8890 - val_precision: 6.5337e-04 - val_recall: 0.9375\n",
      "Epoch 28/30\n",
      "5068/5068 [==============================] - 42s 8ms/step - loss: 0.1413 - accuracy: 0.7964 - precision: 0.9483 - recall: 1.0000 - val_loss: 0.3017 - val_accuracy: 0.7947 - val_precision: 4.9209e-04 - val_recall: 0.9375\n",
      "Epoch 29/30\n",
      "5068/5068 [==============================] - 42s 8ms/step - loss: 0.1306 - accuracy: 0.7996 - precision: 0.9495 - recall: 1.0000 - val_loss: 0.2246 - val_accuracy: 0.9191 - val_precision: 6.8880e-04 - val_recall: 0.9375\n",
      "Epoch 30/30\n",
      "5068/5068 [==============================] - 42s 8ms/step - loss: 0.1634 - accuracy: 0.7972 - precision: 0.9468 - recall: 1.0000 - val_loss: 0.2596 - val_accuracy: 0.8848 - val_precision: 5.5943e-04 - val_recall: 0.9375\n",
      "Elapsed time: 1272.0665094852 seconds.\n"
     ]
    }
   ],
   "source": [
    "# Trains neural network\n",
    "start_time = time()\n",
    "NN_model.fit(\\\n",
    "    X_train,\\\n",
    "    Y_train,\\\n",
    "    batch_size=2048,\\\n",
    "    epochs=30,\\\n",
    "    validation_data=(X_validation, Y_validation),\\\n",
    "    class_weight=class_weight\\\n",
    ")\n",
    "elapsed_time = time() - start_time\n",
    "print(\"Elapsed time: %.10f seconds.\" % elapsed_time)"
   ]
  },
  {
   "cell_type": "markdown",
   "id": "9e12d814-7013-424b-824a-cc4c274db81a",
   "metadata": {
    "tags": []
   },
   "source": [
    "### Validación del modelo\n",
    "##### Crear datase con los datos que predice el modelo (Y_predict), basado en los datos de validación X_validation"
   ]
  },
  {
   "cell_type": "code",
   "execution_count": 17,
   "id": "e3959146-2a38-494a-b43f-1daa8478893f",
   "metadata": {},
   "outputs": [
    {
     "name": "stdout",
     "output_type": "stream",
     "text": [
      "28615/28615 [==============================] - 24s 810us/step\n"
     ]
    }
   ],
   "source": [
    "# Predict model, set results in Y_predict\n",
    "Y_predict = NN_model.predict(X_validation)\n",
    "# Convert the predicted results to binary, \n",
    "# when it is greater than or equal to 0.5 it will be one (1) and the rest will be zero (0)\n",
    "Y_predict = tf.squeeze(Y_predict)\n",
    "Y_predict = np.array([1 if x >= 0.5 else 0 for x in Y_predict])"
   ]
  },
  {
   "cell_type": "markdown",
   "id": "2bf36f1f-ca5c-413e-95da-7248fbc7a0ca",
   "metadata": {},
   "source": [
    "##### Verificar el valor de la metrica de exactitud (accuracy)"
   ]
  },
  {
   "cell_type": "code",
   "execution_count": 18,
   "id": "20132b59-ec93-4506-ba45-ab549394eb1c",
   "metadata": {},
   "outputs": [
    {
     "name": "stdout",
     "output_type": "stream",
     "text": [
      "Model accuracy: 0.9707\n"
     ]
    }
   ],
   "source": [
    "# Calculate the accuracy of the model\n",
    "print('Model accuracy: {0:0.4f}'. format(accuracy_score(Y_validation, Y_predict)))"
   ]
  },
  {
   "cell_type": "markdown",
   "id": "14ab6efe-bcbd-4bbd-b4e6-54d6d65e76fd",
   "metadata": {
    "tags": []
   },
   "source": [
    "##### Verificar la salida esperada con la salida de la predicción"
   ]
  },
  {
   "cell_type": "code",
   "execution_count": 19,
   "id": "27eb73cf-a5b9-4cc9-ba9c-18fa2228423d",
   "metadata": {
    "editable": true,
    "slideshow": {
     "slide_type": ""
    },
    "tags": []
   },
   "outputs": [
    {
     "data": {
      "text/html": [
       "<div>\n",
       "<style scoped>\n",
       "    .dataframe tbody tr th:only-of-type {\n",
       "        vertical-align: middle;\n",
       "    }\n",
       "\n",
       "    .dataframe tbody tr th {\n",
       "        vertical-align: top;\n",
       "    }\n",
       "\n",
       "    .dataframe thead th {\n",
       "        text-align: right;\n",
       "    }\n",
       "</style>\n",
       "<table border=\"1\" class=\"dataframe\">\n",
       "  <thead>\n",
       "    <tr style=\"text-align: right;\">\n",
       "      <th></th>\n",
       "      <th>Actual value</th>\n",
       "      <th>Predicted value</th>\n",
       "    </tr>\n",
       "  </thead>\n",
       "  <tbody>\n",
       "    <tr>\n",
       "      <th>3141433</th>\n",
       "      <td>0.0</td>\n",
       "      <td>0</td>\n",
       "    </tr>\n",
       "    <tr>\n",
       "      <th>3895887</th>\n",
       "      <td>0.0</td>\n",
       "      <td>0</td>\n",
       "    </tr>\n",
       "    <tr>\n",
       "      <th>2199388</th>\n",
       "      <td>0.0</td>\n",
       "      <td>0</td>\n",
       "    </tr>\n",
       "    <tr>\n",
       "      <th>2010216</th>\n",
       "      <td>0.0</td>\n",
       "      <td>0</td>\n",
       "    </tr>\n",
       "    <tr>\n",
       "      <th>5153739</th>\n",
       "      <td>0.0</td>\n",
       "      <td>0</td>\n",
       "    </tr>\n",
       "    <tr>\n",
       "      <th>6054309</th>\n",
       "      <td>0.0</td>\n",
       "      <td>0</td>\n",
       "    </tr>\n",
       "    <tr>\n",
       "      <th>1411925</th>\n",
       "      <td>0.0</td>\n",
       "      <td>0</td>\n",
       "    </tr>\n",
       "    <tr>\n",
       "      <th>596122</th>\n",
       "      <td>0.0</td>\n",
       "      <td>0</td>\n",
       "    </tr>\n",
       "    <tr>\n",
       "      <th>5236999</th>\n",
       "      <td>0.0</td>\n",
       "      <td>1</td>\n",
       "    </tr>\n",
       "    <tr>\n",
       "      <th>4092770</th>\n",
       "      <td>0.0</td>\n",
       "      <td>0</td>\n",
       "    </tr>\n",
       "  </tbody>\n",
       "</table>\n",
       "</div>"
      ],
      "text/plain": [
       "         Actual value  Predicted value\n",
       "3141433           0.0                0\n",
       "3895887           0.0                0\n",
       "2199388           0.0                0\n",
       "2010216           0.0                0\n",
       "5153739           0.0                0\n",
       "6054309           0.0                0\n",
       "1411925           0.0                0\n",
       "596122            0.0                0\n",
       "5236999           0.0                1\n",
       "4092770           0.0                0"
      ]
     },
     "execution_count": 19,
     "metadata": {},
     "output_type": "execute_result"
    }
   ],
   "source": [
    "# Example predicted value versus expected value\n",
    "df_compare = pd.DataFrame({'Actual value': Y_validation, 'Predicted value': Y_predict})\n",
    "df_compare.tail(10)"
   ]
  },
  {
   "cell_type": "markdown",
   "id": "a54e4474-1ec7-4370-a5f3-afd8b5c60eaa",
   "metadata": {
    "tags": []
   },
   "source": [
    "##### Crear un dataframe resumen para verificar la cantidad de valores esperados clasificados en cada clase, versus los valores predichos"
   ]
  },
  {
   "cell_type": "code",
   "execution_count": 20,
   "id": "993ed5ec-f6d0-4d3a-8899-03c331cb01f0",
   "metadata": {},
   "outputs": [
    {
     "data": {
      "text/html": [
       "<div>\n",
       "<style scoped>\n",
       "    .dataframe tbody tr th:only-of-type {\n",
       "        vertical-align: middle;\n",
       "    }\n",
       "\n",
       "    .dataframe tbody tr th {\n",
       "        vertical-align: top;\n",
       "    }\n",
       "\n",
       "    .dataframe thead th {\n",
       "        text-align: right;\n",
       "    }\n",
       "</style>\n",
       "<table border=\"1\" class=\"dataframe\">\n",
       "  <thead>\n",
       "    <tr style=\"text-align: right;\">\n",
       "      <th></th>\n",
       "      <th>Actual value</th>\n",
       "      <th>Predicted value</th>\n",
       "    </tr>\n",
       "  </thead>\n",
       "  <tbody>\n",
       "    <tr>\n",
       "      <th>0.0</th>\n",
       "      <td>915651</td>\n",
       "      <td>888854</td>\n",
       "    </tr>\n",
       "    <tr>\n",
       "      <th>1.0</th>\n",
       "      <td>16</td>\n",
       "      <td>26813</td>\n",
       "    </tr>\n",
       "  </tbody>\n",
       "</table>\n",
       "</div>"
      ],
      "text/plain": [
       "     Actual value  Predicted value\n",
       "0.0        915651           888854\n",
       "1.0            16            26813"
      ]
     },
     "execution_count": 20,
     "metadata": {},
     "output_type": "execute_result"
    }
   ],
   "source": [
    "# Number of values ​​classified by each class, predicted versus expected values\n",
    "sumary = pd.DataFrame({'Actual value': df_compare['Actual value'].value_counts(),\\\n",
    "                       'Predicted value': df_compare['Predicted value'].value_counts()})\n",
    "sumary.head()"
   ]
  },
  {
   "cell_type": "markdown",
   "id": "02589dae-2a83-4736-9180-a8ae4d916013",
   "metadata": {
    "tags": []
   },
   "source": [
    "##### Crear un diagrama de barras que permita observar el comportamiento de las clasificaciones de los valores esperados versus los valores predichos"
   ]
  },
  {
   "cell_type": "code",
   "execution_count": 21,
   "id": "ded43d6a-6d05-4803-8332-14d84665ac2d",
   "metadata": {},
   "outputs": [
    {
     "data": {
      "image/png": "[encoded data removed]",
      "text/plain": [
       "<Figure size 640x480 with 1 Axes>"
      ]
     },
     "metadata": {},
     "output_type": "display_data"
    }
   ],
   "source": [
    "# Bar diagram with the behavior of the classification of predicted versus expected values\n",
    "val_no_claim_valida=str(sumary['Actual value'][0])\n",
    "val_no_claim_predict=str(sumary['Predicted value'][0])\n",
    "val_no_claim=val_no_claim_valida+' - '+val_no_claim_predict\n",
    "#print(val_no_claim)\n",
    "val_claim_valida=str(sumary['Actual value'][1])\n",
    "val_claim_predict=str(sumary['Predicted value'][1])\n",
    "val_claim=val_claim_valida+' - '+val_claim_predict\n",
    "#print(val_claim)\n",
    "bar_colors = ['lightblue', 'darkblue']\n",
    "sumary.plot.bar(color=bar_colors)\n",
    "plt.xticks(range(2), [\"No Claim\",\"Claim\"])\n",
    "plt.text(0, sumary['Actual value'][0], val_no_claim, ha='center', va='bottom')\n",
    "plt.text(1, sumary['Actual value'][1], val_claim, ha='center', va='bottom')\n",
    "#plt.xlabel(\"Target Class\")\n",
    "plt.ylabel(\"Number of Observations\")\n",
    "plt.legend(title=\"Target Class\")\n",
    "plt.show()"
   ]
  },
  {
   "cell_type": "markdown",
   "id": "771a9a44-4cce-47a9-89a2-dd3089ad135b",
   "metadata": {
    "tags": []
   },
   "source": [
    "##### Crear una matriz de confusión para observar el comportamiento de las clasificaciones de los valores predichos con respecto a los valores esperados"
   ]
  },
  {
   "cell_type": "code",
   "execution_count": 22,
   "id": "14e457a4-e077-46fd-a34e-ed98fc778ca5",
   "metadata": {},
   "outputs": [
    {
     "data": {
      "image/png": "[encoded data removed]",
      "text/plain": [
       "<Figure size 640x480 with 2 Axes>"
      ]
     },
     "metadata": {},
     "output_type": "display_data"
    }
   ],
   "source": [
    "# Confusion matrix of model\n",
    "confusion_matrix = confusion_matrix(Y_validation, Y_predict)\n",
    "cm_display = ConfusionMatrixDisplay(confusion_matrix = confusion_matrix,\\\n",
    "                                    display_labels = ['No Claim', 'Claim'])\n",
    "cm_display.plot(cmap=plt.cm.Blues)\n",
    "plt.show()"
   ]
  },
  {
   "cell_type": "markdown",
   "id": "9f6a12d6-98a0-48ce-9f69-6fc97aaece23",
   "metadata": {
    "tags": []
   },
   "source": [
    "##### Ver los valores de las metricas de clasificación para observar si el modelo clasifica bien, en este caso se escoje la metrica de sensibilidad (recall), porque al estar tan desbalanceados los datos, es dificil encontrar un buen porcentaje de aciertos con la clase Claim, basados en metricas más generales como la exactitud (accuracy)"
   ]
  },
  {
   "cell_type": "code",
   "execution_count": 23,
   "id": "81b137d1-646f-4f0b-8f36-ace5aef90074",
   "metadata": {},
   "outputs": [
    {
     "name": "stdout",
     "output_type": "stream",
     "text": [
      "              precision    recall  f1-score   support\n",
      "\n",
      "         0.0       1.00      0.97      0.99    915651\n",
      "         1.0       0.00      0.94      0.00        16\n",
      "\n",
      "    accuracy                           0.97    915667\n",
      "   macro avg       0.50      0.95      0.49    915667\n",
      "weighted avg       1.00      0.97      0.99    915667\n",
      "\n"
     ]
    }
   ],
   "source": [
    "# Clasification report of model\n",
    "print(classification_report(Y_validation, Y_predict))"
   ]
  },
  {
   "cell_type": "markdown",
   "id": "600d8874-71ae-4d9f-8197-c0f8155b8ae4",
   "metadata": {
    "tags": []
   },
   "source": [
    "##### A través de la curva ROC se observa el comportamiento de la sensibilidad (recall) del modelo y con el valor del área bajo la curva observamos si el modelo clasifica un gran porcentaje de casos de las dos clases"
   ]
  },
  {
   "cell_type": "code",
   "execution_count": 24,
   "id": "e3ca27f0-f6fb-45a9-99ef-979c6fa45e0f",
   "metadata": {},
   "outputs": [
    {
     "data": {
      "image/png": "[encoded data removed]",
      "text/plain": [
       "<Figure size 640x480 with 1 Axes>"
      ]
     },
     "metadata": {},
     "output_type": "display_data"
    }
   ],
   "source": [
    "# Calculate ROC curve\n",
    "fpr, tpr, thresholds = roc_curve(Y_validation, Y_predict) \n",
    "roc_auc = auc(fpr, tpr)\n",
    "# Plot the ROC curve\n",
    "plt.figure()  \n",
    "plt.plot(fpr, tpr, label='ROC curve (area = %0.2f)' % roc_auc)\n",
    "plt.plot([0, 1], [0, 1], 'k--', label='No Skill')\n",
    "plt.xlim([0.0, 1.0])\n",
    "plt.ylim([0.0, 1.05])\n",
    "plt.xlabel('False Positive Rate')\n",
    "plt.ylabel('True Positive Rate')\n",
    "#plt.title('ROC Curve for Breast Cancer Classification')\n",
    "plt.legend()\n",
    "plt.show()"
   ]
  }
 ],
 "metadata": {
  "kernelspec": {
   "display_name": "Python 3 (ipykernel)",
   "language": "python",
   "name": "python3"
  },
  "language_info": {
   "codemirror_mode": {
    "name": "ipython",
    "version": 3
   },
   "file_extension": ".py",
   "mimetype": "text/x-python",
   "name": "python",
   "nbconvert_exporter": "python",
   "pygments_lexer": "ipython3",
   "version": "3.11.9"
  }
 },
 "nbformat": 4,
 "nbformat_minor": 5
}
