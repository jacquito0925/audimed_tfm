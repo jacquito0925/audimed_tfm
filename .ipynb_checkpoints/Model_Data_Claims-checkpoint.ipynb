{
 "cells": [
  {
   "cell_type": "markdown",
   "id": "80a883ce-1260-48e1-ad56-3638f4e55189",
   "metadata": {
    "editable": true,
    "slideshow": {
     "slide_type": ""
    },
    "tags": []
   },
   "source": [
    "<img src=\"https://www.unir.net/wp-content/uploads/2019/11/Unir_2021_logo.svg\" width=\"240\" height=\"240\" align=\"right\"/>"
   ]
  },
  {
   "cell_type": "markdown",
   "id": "cf2e6c20-e7e3-4c0c-a17b-c125f2e55905",
   "metadata": {
    "tags": []
   },
   "source": [
    "<center><h1>Sistema inteligente para ayudar a detectar posibles reclamos (glosas) en las cuentas médicas previo al cobro, de una clínica en Colombia - Audimed</h1></center>\n",
    "<center><h2>Trabajo Fin de Master<br>Máster Universitario en Análisis y Visualización de Datos Masivos / Visual Analytics and Big Data</h2></center>"
   ]
  },
  {
   "cell_type": "markdown",
   "id": "e1bc6121-2a77-4cf1-838f-ee94b96778cd",
   "metadata": {
    "tags": []
   },
   "source": [
    "<h3>Presentado por: Jacqueline Guzmán Rodriguez</h3>\n",
    "<h4>Tipo de trabajo: Desarrollo Software <br>\n",
    "Director: Juan Carlos Rincon Acuña <br>\n",
    "Fecha: Junio/2024</h4>"
   ]
  },
  {
   "cell_type": "markdown",
   "id": "3e716198-1507-4272-8252-da35ecb3f440",
   "metadata": {
    "jp-MarkdownHeadingCollapsed": true
   },
   "source": [
    "<h3> <font color=\"#040078\">Notebook de modelado de los datos</font></h3>\n",
    "<h4></h4>\n",
    "<h5><font color=\"#C62400\">Licencia del Notebook CC BY-NC-SA 4.0 DEED <a href=\"https://creativecommons.org/licenses/by-nc-sa/4.0/\" target=\"_blank]\">https://creativecommons.org/licenses/by-nc-sa/4.0/</a></font></h5/>"
   ]
  },
  {
   "cell_type": "markdown",
   "id": "65726fff-f963-4f34-a525-a6843266b915",
   "metadata": {
    "tags": []
   },
   "source": [
    "## Importación de librerias necesarias"
   ]
  },
  {
   "cell_type": "code",
   "execution_count": 1,
   "id": "8593db40-45ff-4f57-b9e3-319cfcb192d4",
   "metadata": {
    "tags": []
   },
   "outputs": [],
   "source": [
    "# Load libraries\n",
    "import numpy as np\n",
    "import pandas as pd\n",
    "import seaborn as sns\n",
    "#from matplotlib import pyplot\n",
    "#import matplotlib.pyplot as plt \n",
    "from imblearn.over_sampling import SMOTE\n",
    "from sklearn.preprocessing import MinMaxScaler\n",
    "from sklearn.model_selection import train_test_split\n",
    "from sklearn.ensemble import RandomForestClassifier\n",
    "#from sklearn.tree import DecisionTreeClassifier\n",
    "from sklearn.metrics import accuracy_score\n",
    "from sklearn.metrics import confusion_matrix\n",
    "from sklearn.metrics import classification_report\n",
    "from sklearn.metrics import mean_squared_error"
   ]
  },
  {
   "cell_type": "code",
   "execution_count": 2,
   "id": "dc9d5628-7246-4e2f-929f-f0108f66e5ad",
   "metadata": {
    "tags": []
   },
   "outputs": [],
   "source": [
    "# Read file CSV Download of https://www.kaggle.com/datasets/d8e399cf772f115f4350cae12016ef9f497f63389a06dfdceb3292aa7fb72956\n",
    "file_cvs = \"claims.csv\"\n",
    "# Create dataframe with information of file CSV\n",
    "df = pd.read_csv(file_cvs, delimiter=',', encoding='utf-8')"
   ]
  },
  {
   "cell_type": "code",
   "execution_count": 3,
   "id": "bd408aef-f1aa-4ebc-b5bc-521600237840",
   "metadata": {},
   "outputs": [],
   "source": [
    "# Drop column NUM_HISTORY_MED_SET_24, because don't have data, all values is 0\n",
    "df = df.drop ('NUM_HISTORY_MED_SET_24', axis = 1)"
   ]
  },
  {
   "cell_type": "code",
   "execution_count": 4,
   "id": "076f6519-9608-4ca6-a7ae-79984b89bad4",
   "metadata": {
    "tags": []
   },
   "outputs": [],
   "source": [
    "# Define colums target (CLAIM)\n",
    "columns = df.columns\n",
    "target = \"CLAIM\"\n",
    "x_columns = columns.drop(target)"
   ]
  },
  {
   "cell_type": "code",
   "execution_count": 5,
   "id": "18a835f7-2182-4252-a5df-1043213fb2d4",
   "metadata": {},
   "outputs": [],
   "source": [
    "# Update datatype int64 to int32 and float64 to float32, because it is necessary to use less RAM\n",
    "float_columns = ['QUANTITY_PRODUCT_SERVICE', 'SALES_PRICE', 'INVOICED_PRICE']\n",
    "int_columns = columns.drop(float_columns)\n",
    "df[float_columns]=df[float_columns].astype(np.float32)\n",
    "df[int_columns]=df[int_columns].astype(int)"
   ]
  },
  {
   "cell_type": "code",
   "execution_count": 6,
   "id": "eeae36aa-147d-4d54-9639-24dabed5625c",
   "metadata": {},
   "outputs": [],
   "source": [
    "# Normalize data via MinMaxScaler function\n",
    "scaler = MinMaxScaler()\n",
    "df = scaler.fit_transform(df)\n",
    "df = pd.DataFrame(df,columns=columns)"
   ]
  },
  {
   "cell_type": "code",
   "execution_count": 7,
   "id": "5a23e874-6071-4178-89d4-946d7b57a01f",
   "metadata": {},
   "outputs": [
    {
     "name": "stdout",
     "output_type": "stream",
     "text": [
      "CLAIM:\n",
      "[0. 1.]\n",
      "\n",
      "CLAIM\n",
      "0.0    6104323\n",
      "1.0        120\n",
      "Name: count, dtype: int64\n"
     ]
    }
   ],
   "source": [
    "# Distribution of the target variable\n",
    "print(str(target)+':\\n'+str(df[target].unique())+'\\n')\n",
    "print(df[target].value_counts())"
   ]
  },
  {
   "cell_type": "code",
   "execution_count": 8,
   "id": "1f5d28b7-afe3-4543-97ab-aedd132acf52",
   "metadata": {},
   "outputs": [],
   "source": [
    "# Dividir variables de entrada y objetivo\n",
    "ValX = df.drop(columns=target)\n",
    "ValY = df[target]"
   ]
  },
  {
   "cell_type": "code",
   "execution_count": 9,
   "id": "173f3886-73f4-48e9-ab25-e7dd94665cca",
   "metadata": {},
   "outputs": [],
   "source": [
    "# Set training and validation data\n",
    "X_train, X_validation, Y_train, Y_validation = train_test_split(ValX, ValY, test_size=0.15, random_state=1, shuffle=True)"
   ]
  },
  {
   "cell_type": "code",
   "execution_count": 10,
   "id": "9fd75e17-9e5d-42d1-b49e-60360169a814",
   "metadata": {},
   "outputs": [
    {
     "data": {
      "text/plain": [
       "((5188776, 53), (915667, 53))"
      ]
     },
     "execution_count": 10,
     "metadata": {},
     "output_type": "execute_result"
    }
   ],
   "source": [
    "X_train.shape, X_validation.shape"
   ]
  },
  {
   "cell_type": "code",
   "execution_count": 11,
   "id": "27f672d2-6966-4059-96df-f9704472fb69",
   "metadata": {},
   "outputs": [],
   "source": [
    "# Resampling the minority class. The strategy can be changed as required.\n",
    "sm = SMOTE(sampling_strategy='minority', random_state=42)\n",
    "# Fit the model to generate the data.\n",
    "X_train, Y_train = sm.fit_resample(X_train, Y_train)\n",
    "df_train_oversampled = pd.concat([pd.DataFrame(Y_train), pd.DataFrame(X_train)], axis=1)"
   ]
  },
  {
   "cell_type": "code",
   "execution_count": 12,
   "id": "65fce33f-1bf6-4c9f-bfe6-031206674eaf",
   "metadata": {},
   "outputs": [
    {
     "data": {
      "text/plain": [
       "((10377344, 53), (915667, 53))"
      ]
     },
     "execution_count": 12,
     "metadata": {},
     "output_type": "execute_result"
    }
   ],
   "source": [
    "X_train.shape, X_validation.shape"
   ]
  },
  {
   "cell_type": "code",
   "execution_count": 13,
   "id": "fb84f99b-6a5e-451c-9b6c-e213b320ca48",
   "metadata": {},
   "outputs": [
    {
     "name": "stdout",
     "output_type": "stream",
     "text": [
      "CLAIM:\n",
      "[0. 1.]\n",
      "\n",
      "CLAIM\n",
      "0.0    5188672\n",
      "1.0    5188672\n",
      "Name: count, dtype: int64\n"
     ]
    }
   ],
   "source": [
    "print(str(target)+':\\n'+str(df_train_oversampled[target].unique())+'\\n')\n",
    "print(df_train_oversampled[target].value_counts())"
   ]
  },
  {
   "cell_type": "code",
   "execution_count": 14,
   "id": "d175edce-f0f1-486d-96a1-fbc3c04052f5",
   "metadata": {},
   "outputs": [
    {
     "data": {
      "text/html": [
       "<style>#sk-container-id-1 {color: black;}#sk-container-id-1 pre{padding: 0;}#sk-container-id-1 div.sk-toggleable {background-color: white;}#sk-container-id-1 label.sk-toggleable__label {cursor: pointer;display: block;width: 100%;margin-bottom: 0;padding: 0.3em;box-sizing: border-box;text-align: center;}#sk-container-id-1 label.sk-toggleable__label-arrow:before {content: \"▸\";float: left;margin-right: 0.25em;color: #696969;}#sk-container-id-1 label.sk-toggleable__label-arrow:hover:before {color: black;}#sk-container-id-1 div.sk-estimator:hover label.sk-toggleable__label-arrow:before {color: black;}#sk-container-id-1 div.sk-toggleable__content {max-height: 0;max-width: 0;overflow: hidden;text-align: left;background-color: #f0f8ff;}#sk-container-id-1 div.sk-toggleable__content pre {margin: 0.2em;color: black;border-radius: 0.25em;background-color: #f0f8ff;}#sk-container-id-1 input.sk-toggleable__control:checked~div.sk-toggleable__content {max-height: 200px;max-width: 100%;overflow: auto;}#sk-container-id-1 input.sk-toggleable__control:checked~label.sk-toggleable__label-arrow:before {content: \"▾\";}#sk-container-id-1 div.sk-estimator input.sk-toggleable__control:checked~label.sk-toggleable__label {background-color: #d4ebff;}#sk-container-id-1 div.sk-label input.sk-toggleable__control:checked~label.sk-toggleable__label {background-color: #d4ebff;}#sk-container-id-1 input.sk-hidden--visually {border: 0;clip: rect(1px 1px 1px 1px);clip: rect(1px, 1px, 1px, 1px);height: 1px;margin: -1px;overflow: hidden;padding: 0;position: absolute;width: 1px;}#sk-container-id-1 div.sk-estimator {font-family: monospace;background-color: #f0f8ff;border: 1px dotted black;border-radius: 0.25em;box-sizing: border-box;margin-bottom: 0.5em;}#sk-container-id-1 div.sk-estimator:hover {background-color: #d4ebff;}#sk-container-id-1 div.sk-parallel-item::after {content: \"\";width: 100%;border-bottom: 1px solid gray;flex-grow: 1;}#sk-container-id-1 div.sk-label:hover label.sk-toggleable__label {background-color: #d4ebff;}#sk-container-id-1 div.sk-serial::before {content: \"\";position: absolute;border-left: 1px solid gray;box-sizing: border-box;top: 0;bottom: 0;left: 50%;z-index: 0;}#sk-container-id-1 div.sk-serial {display: flex;flex-direction: column;align-items: center;background-color: white;padding-right: 0.2em;padding-left: 0.2em;position: relative;}#sk-container-id-1 div.sk-item {position: relative;z-index: 1;}#sk-container-id-1 div.sk-parallel {display: flex;align-items: stretch;justify-content: center;background-color: white;position: relative;}#sk-container-id-1 div.sk-item::before, #sk-container-id-1 div.sk-parallel-item::before {content: \"\";position: absolute;border-left: 1px solid gray;box-sizing: border-box;top: 0;bottom: 0;left: 50%;z-index: -1;}#sk-container-id-1 div.sk-parallel-item {display: flex;flex-direction: column;z-index: 1;position: relative;background-color: white;}#sk-container-id-1 div.sk-parallel-item:first-child::after {align-self: flex-end;width: 50%;}#sk-container-id-1 div.sk-parallel-item:last-child::after {align-self: flex-start;width: 50%;}#sk-container-id-1 div.sk-parallel-item:only-child::after {width: 0;}#sk-container-id-1 div.sk-dashed-wrapped {border: 1px dashed gray;margin: 0 0.4em 0.5em 0.4em;box-sizing: border-box;padding-bottom: 0.4em;background-color: white;}#sk-container-id-1 div.sk-label label {font-family: monospace;font-weight: bold;display: inline-block;line-height: 1.2em;}#sk-container-id-1 div.sk-label-container {text-align: center;}#sk-container-id-1 div.sk-container {/* jupyter's `normalize.less` sets `[hidden] { display: none; }` but bootstrap.min.css set `[hidden] { display: none !important; }` so we also need the `!important` here to be able to override the default hidden behavior on the sphinx rendered scikit-learn.org. See: https://github.com/scikit-learn/scikit-learn/issues/21755 */display: inline-block !important;position: relative;}#sk-container-id-1 div.sk-text-repr-fallback {display: none;}</style><div id=\"sk-container-id-1\" class=\"sk-top-container\"><div class=\"sk-text-repr-fallback\"><pre>RandomForestClassifier(max_depth=10, n_estimators=5, random_state=0)</pre><b>In a Jupyter environment, please rerun this cell to show the HTML representation or trust the notebook. <br />On GitHub, the HTML representation is unable to render, please try loading this page with nbviewer.org.</b></div><div class=\"sk-container\" hidden><div class=\"sk-item\"><div class=\"sk-estimator sk-toggleable\"><input class=\"sk-toggleable__control sk-hidden--visually\" id=\"sk-estimator-id-1\" type=\"checkbox\" checked><label for=\"sk-estimator-id-1\" class=\"sk-toggleable__label sk-toggleable__label-arrow\">RandomForestClassifier</label><div class=\"sk-toggleable__content\"><pre>RandomForestClassifier(max_depth=10, n_estimators=5, random_state=0)</pre></div></div></div></div></div>"
      ],
      "text/plain": [
       "RandomForestClassifier(max_depth=10, n_estimators=5, random_state=0)"
      ]
     },
     "execution_count": 14,
     "metadata": {},
     "output_type": "execute_result"
    }
   ],
   "source": [
    "rfc_model = RandomForestClassifier(random_state=0, n_estimators=5, max_depth=10)\n",
    "rfc_model.fit(X_train, Y_train)"
   ]
  },
  {
   "cell_type": "code",
   "execution_count": null,
   "id": "f7b52f8d-5bf3-4456-8827-c2d145a43760",
   "metadata": {},
   "outputs": [],
   "source": [
    "# Realizar la búsqueda de hiperparámetros utilizando GridSearchCV\n",
    "rfc_model = RandomForestClassifier(random_state=42)\n",
    "param_grid = {'criterion': ['gini', 'entropy'], 'max_depth': [5, 10, 15]}"
   ]
  },
  {
   "cell_type": "code",
   "execution_count": 15,
   "id": "8fc1f129-501d-4f7c-a83d-1cc6491f1077",
   "metadata": {},
   "outputs": [
    {
     "ename": "NameError",
     "evalue": "name 'param_grid' is not defined",
     "output_type": "error",
     "traceback": [
      "\u001b[1;31m---------------------------------------------------------------------------\u001b[0m",
      "\u001b[1;31mNameError\u001b[0m                                 Traceback (most recent call last)",
      "Cell \u001b[1;32mIn[15], line 2\u001b[0m\n\u001b[0;32m      1\u001b[0m \u001b[38;5;28;01mfrom\u001b[39;00m \u001b[38;5;21;01msklearn\u001b[39;00m\u001b[38;5;21;01m.\u001b[39;00m\u001b[38;5;21;01mmodel_selection\u001b[39;00m \u001b[38;5;28;01mimport\u001b[39;00m GridSearchCV\n\u001b[1;32m----> 2\u001b[0m grid_search \u001b[38;5;241m=\u001b[39m GridSearchCV(rfc_model, param_grid\u001b[38;5;241m=\u001b[39m\u001b[43mparam_grid\u001b[49m, cv\u001b[38;5;241m=\u001b[39m\u001b[38;5;241m10\u001b[39m, return_train_score\u001b[38;5;241m=\u001b[39m\u001b[38;5;28;01mTrue\u001b[39;00m)\n\u001b[0;32m      3\u001b[0m grid_search\u001b[38;5;241m.\u001b[39mfit(X_train, Y_train)\n",
      "\u001b[1;31mNameError\u001b[0m: name 'param_grid' is not defined"
     ]
    }
   ],
   "source": [
    "from sklearn.model_selection import GridSearchCV\n",
    "grid_search = GridSearchCV(rfc_model, param_grid=param_grid, cv=10, return_train_score=True)\n",
    "grid_search.fit(X_train, Y_train)"
   ]
  },
  {
   "cell_type": "code",
   "execution_count": null,
   "id": "fb32af30-c393-4ace-b533-2ec007482b30",
   "metadata": {},
   "outputs": [],
   "source": [
    "# Imprimir los resultados\n",
    "print(\"Mejores hiperparámetros encontrados:\")\n",
    "print(grid_search.best_params_)\n",
    "print(\"Mejor puntuación de validación cruzada:\")\n",
    "print(grid_search.best_score_)"
   ]
  },
  {
   "cell_type": "code",
   "execution_count": 16,
   "id": "e3959146-2a38-494a-b43f-1daa8478893f",
   "metadata": {},
   "outputs": [],
   "source": [
    "Y_predict = rfc_model.predict(X_validation)"
   ]
  },
  {
   "cell_type": "code",
   "execution_count": 17,
   "id": "20132b59-ec93-4506-ba45-ab549394eb1c",
   "metadata": {},
   "outputs": [
    {
     "name": "stdout",
     "output_type": "stream",
     "text": [
      "Model accuracy score with 10 decision-trees : 0.9861\n"
     ]
    }
   ],
   "source": [
    "print('Model accuracy score with 10 decision-trees : {0:0.4f}'. format(accuracy_score(Y_validation, Y_predict)))"
   ]
  },
  {
   "cell_type": "code",
   "execution_count": 18,
   "id": "109a2c16-4447-4825-bf17-ca1e3094aa5f",
   "metadata": {},
   "outputs": [
    {
     "name": "stdout",
     "output_type": "stream",
     "text": [
      "Prediction for test set: [0. 0. 0. ... 0. 0. 0.]\n"
     ]
    }
   ],
   "source": [
    "print(\"Prediction for test set: {}\".format(Y_predict))"
   ]
  },
  {
   "cell_type": "code",
   "execution_count": 19,
   "id": "27eb73cf-a5b9-4cc9-ba9c-18fa2228423d",
   "metadata": {
    "editable": true,
    "slideshow": {
     "slide_type": ""
    },
    "tags": []
   },
   "outputs": [
    {
     "data": {
      "text/html": [
       "<div>\n",
       "<style scoped>\n",
       "    .dataframe tbody tr th:only-of-type {\n",
       "        vertical-align: middle;\n",
       "    }\n",
       "\n",
       "    .dataframe tbody tr th {\n",
       "        vertical-align: top;\n",
       "    }\n",
       "\n",
       "    .dataframe thead th {\n",
       "        text-align: right;\n",
       "    }\n",
       "</style>\n",
       "<table border=\"1\" class=\"dataframe\">\n",
       "  <thead>\n",
       "    <tr style=\"text-align: right;\">\n",
       "      <th></th>\n",
       "      <th>Actual value</th>\n",
       "      <th>Predicted value</th>\n",
       "    </tr>\n",
       "  </thead>\n",
       "  <tbody>\n",
       "    <tr>\n",
       "      <th>3141433</th>\n",
       "      <td>0.0</td>\n",
       "      <td>0.0</td>\n",
       "    </tr>\n",
       "    <tr>\n",
       "      <th>3895887</th>\n",
       "      <td>0.0</td>\n",
       "      <td>0.0</td>\n",
       "    </tr>\n",
       "    <tr>\n",
       "      <th>2199388</th>\n",
       "      <td>0.0</td>\n",
       "      <td>0.0</td>\n",
       "    </tr>\n",
       "    <tr>\n",
       "      <th>2010216</th>\n",
       "      <td>0.0</td>\n",
       "      <td>0.0</td>\n",
       "    </tr>\n",
       "    <tr>\n",
       "      <th>5153739</th>\n",
       "      <td>0.0</td>\n",
       "      <td>0.0</td>\n",
       "    </tr>\n",
       "    <tr>\n",
       "      <th>6054309</th>\n",
       "      <td>0.0</td>\n",
       "      <td>0.0</td>\n",
       "    </tr>\n",
       "    <tr>\n",
       "      <th>1411925</th>\n",
       "      <td>0.0</td>\n",
       "      <td>0.0</td>\n",
       "    </tr>\n",
       "    <tr>\n",
       "      <th>596122</th>\n",
       "      <td>0.0</td>\n",
       "      <td>0.0</td>\n",
       "    </tr>\n",
       "    <tr>\n",
       "      <th>5236999</th>\n",
       "      <td>0.0</td>\n",
       "      <td>0.0</td>\n",
       "    </tr>\n",
       "    <tr>\n",
       "      <th>4092770</th>\n",
       "      <td>0.0</td>\n",
       "      <td>0.0</td>\n",
       "    </tr>\n",
       "  </tbody>\n",
       "</table>\n",
       "</div>"
      ],
      "text/plain": [
       "         Actual value  Predicted value\n",
       "3141433           0.0              0.0\n",
       "3895887           0.0              0.0\n",
       "2199388           0.0              0.0\n",
       "2010216           0.0              0.0\n",
       "5153739           0.0              0.0\n",
       "6054309           0.0              0.0\n",
       "1411925           0.0              0.0\n",
       "596122            0.0              0.0\n",
       "5236999           0.0              0.0\n",
       "4092770           0.0              0.0"
      ]
     },
     "execution_count": 19,
     "metadata": {},
     "output_type": "execute_result"
    }
   ],
   "source": [
    "#Crear un dataset para comprar la salida esperada con la salida de predicción\n",
    "mlr_diff = pd.DataFrame({'Actual value': Y_validation, 'Predicted value': Y_predict})\n",
    "mlr_diff.tail(10)"
   ]
  },
  {
   "cell_type": "code",
   "execution_count": 20,
   "id": "17dfd689-e551-4eee-87e6-2fce38ec4dff",
   "metadata": {},
   "outputs": [
    {
     "data": {
      "text/plain": [
       "<Axes: xlabel='Actual value', ylabel='Count'>"
      ]
     },
     "execution_count": 20,
     "metadata": {},
     "output_type": "execute_result"
    },
    {
     "data": {
      "image/png": "[encoded data removed]",
      "text/plain": [
       "<Figure size 640x480 with 1 Axes>"
      ]
     },
     "metadata": {},
     "output_type": "display_data"
    }
   ],
   "source": [
    "#Comportamiento de la salida esperada\n",
    "sns.histplot(data=mlr_diff[\"Actual value\"], kde=True)"
   ]
  },
  {
   "cell_type": "code",
   "execution_count": 21,
   "id": "1356f1d4-e44b-4ced-b9b4-f10bf31a75f5",
   "metadata": {},
   "outputs": [
    {
     "data": {
      "text/plain": [
       "<Axes: xlabel='Predicted value', ylabel='Count'>"
      ]
     },
     "execution_count": 21,
     "metadata": {},
     "output_type": "execute_result"
    },
    {
     "data": {
      "image/png": "[encoded data removed]",
      "text/plain": [
       "<Figure size 640x480 with 1 Axes>"
      ]
     },
     "metadata": {},
     "output_type": "display_data"
    }
   ],
   "source": [
    "#Comportamientos de la Salida Predicha\n",
    "sns.histplot(data=mlr_diff[\"Predicted value\"], kde=True)"
   ]
  },
  {
   "cell_type": "code",
   "execution_count": 22,
   "id": "0067d112-7756-414c-b085-1a97c940936f",
   "metadata": {},
   "outputs": [
    {
     "data": {
      "text/plain": [
       "<Axes: ylabel='Count'>"
      ]
     },
     "execution_count": 22,
     "metadata": {},
     "output_type": "execute_result"
    },
    {
     "data": {
      "image/png": "[encoded data removed]",
      "text/plain": [
       "<Figure size 640x480 with 1 Axes>"
      ]
     },
     "metadata": {},
     "output_type": "display_data"
    }
   ],
   "source": [
    "#Comportamiento de la salida esperada y predicha \n",
    "sns.histplot(data=mlr_diff, kde=True)"
   ]
  },
  {
   "cell_type": "code",
   "execution_count": 23,
   "id": "12caf6b4-ffe7-4494-977e-387855f63c20",
   "metadata": {},
   "outputs": [
    {
     "ename": "NameError",
     "evalue": "name 'rfc' is not defined",
     "output_type": "error",
     "traceback": [
      "\u001b[1;31m---------------------------------------------------------------------------\u001b[0m",
      "\u001b[1;31mNameError\u001b[0m                                 Traceback (most recent call last)",
      "Cell \u001b[1;32mIn[23], line 2\u001b[0m\n\u001b[0;32m      1\u001b[0m \u001b[38;5;66;03m#Metricas de evaluación del modelo\u001b[39;00m\n\u001b[1;32m----> 2\u001b[0m score \u001b[38;5;241m=\u001b[39m \u001b[43mrfc\u001b[49m\u001b[38;5;241m.\u001b[39mscore(X_train, Y_train)\n\u001b[0;32m      3\u001b[0m mse \u001b[38;5;241m=\u001b[39m mean_squared_error(Y_validation, Y_predict)\n\u001b[0;32m      4\u001b[0m \u001b[38;5;28mprint\u001b[39m(\u001b[38;5;124m\"\u001b[39m\u001b[38;5;124mR-squared:\u001b[39m\u001b[38;5;124m\"\u001b[39m, score)\n",
      "\u001b[1;31mNameError\u001b[0m: name 'rfc' is not defined"
     ]
    }
   ],
   "source": [
    "#Metricas de evaluación del modelo\n",
    "score = rfc.score(X_train, Y_train)\n",
    "mse = mean_squared_error(Y_validation, Y_predict)\n",
    "print(\"R-squared:\", score)\n",
    "print(\"MSE: \", mse)\n",
    "print(\"RMSE: \", mse**(1/2.0))"
   ]
  },
  {
   "cell_type": "code",
   "execution_count": 24,
   "id": "023c4d67-3c77-47b4-88b2-9963288c7012",
   "metadata": {},
   "outputs": [
    {
     "ename": "NameError",
     "evalue": "name 'insurance_model' is not defined",
     "output_type": "error",
     "traceback": [
      "\u001b[1;31m---------------------------------------------------------------------------\u001b[0m",
      "\u001b[1;31mNameError\u001b[0m                                 Traceback (most recent call last)",
      "Cell \u001b[1;32mIn[24], line 1\u001b[0m\n\u001b[1;32m----> 1\u001b[0m history\u001b[38;5;241m=\u001b[39m\u001b[43minsurance_model\u001b[49m\u001b[38;5;241m.\u001b[39mfit(X_train,Y_train,epochs\u001b[38;5;241m=\u001b[39m\u001b[38;5;241m1\u001b[39m)\n",
      "\u001b[1;31mNameError\u001b[0m: name 'insurance_model' is not defined"
     ]
    }
   ],
   "source": [
    "history=insurance_model.fit(X_train,Y_train,epochs=1)"
   ]
  },
  {
   "cell_type": "code",
   "execution_count": null,
   "id": "036f568a-02d0-4267-b4d3-d0ce26c65874",
   "metadata": {},
   "outputs": [],
   "source": []
  }
 ],
 "metadata": {
  "kernelspec": {
   "display_name": "Python 3 (ipykernel)",
   "language": "python",
   "name": "python3"
  },
  "language_info": {
   "codemirror_mode": {
    "name": "ipython",
    "version": 3
   },
   "file_extension": ".py",
   "mimetype": "text/x-python",
   "name": "python",
   "nbconvert_exporter": "python",
   "pygments_lexer": "ipython3",
   "version": "3.10.13"
  }
 },
 "nbformat": 4,
 "nbformat_minor": 5
}
