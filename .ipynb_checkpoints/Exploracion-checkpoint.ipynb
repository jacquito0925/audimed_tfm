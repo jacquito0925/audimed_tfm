{
 "cells": [
  {
   "cell_type": "code",
   "execution_count": 1,
   "id": "33c4cbae-ad96-44b4-b141-688a9395b696",
   "metadata": {
    "tags": []
   },
   "outputs": [],
   "source": [
    "# Load libraries\n",
    "import numpy as np\n",
    "import pandas as pd\n",
    "import seaborn as sns\n",
    "import myfuntions as mf\n",
    "from sklearn.preprocessing import OrdinalEncoder\n",
    "from sklearn.preprocessing import MinMaxScaler\n",
    "from sklearn.model_selection import train_test_split\n",
    "from sklearn.tree import DecisionTreeClassifier"
   ]
  },
  {
   "cell_type": "code",
   "execution_count": null,
   "id": "12df2650-a2b9-401f-a603-3c546ce43906",
   "metadata": {
    "tags": []
   },
   "outputs": [
    {
     "name": "stderr",
     "output_type": "stream",
     "text": [
      "C:\\Users\\jefe.sistemas\\AppData\\Local\\Temp\\ipykernel_23808\\2148548520.py:4: DtypeWarning: Columns (5,37,38,39,40,42,43,44,45,46) have mixed types. Specify dtype option on import or set low_memory=False.\n",
      "  df_origin = pd.read_csv(file_cvs, delimiter=',', on_bad_lines='skip', encoding='unicode_escape')\n"
     ]
    }
   ],
   "source": [
    "# Read file CSV - Donwload dataset in https://www.kaggle.com/datasets/jacquelineguzman/medical-bill-claims\n",
    "file_cvs = \"claims_origin.csv\"\n",
    "# Create dataframe with information of file CSV\n",
    "df_origin = pd.read_csv(file_cvs, delimiter=',', on_bad_lines='skip', encoding='unicode_escape')"
   ]
  },
  {
   "cell_type": "code",
   "execution_count": null,
   "id": "66c5fac3-6106-4d71-aaa2-be484a13dfdf",
   "metadata": {},
   "outputs": [],
   "source": [
    "# Read file with CIE10 CSV - Donwload dataset in https://www.kaggle.com/datasets/jacquelineguzman/medical-bill-claims\n",
    "file_cvs = \"seq_cie10.csv\"\n",
    "# Create dataframe with information of file CSV\n",
    "df_cie10 = pd.read_csv(file_cvs, delimiter=';', encoding='unicode_escape')"
   ]
  },
  {
   "cell_type": "code",
   "execution_count": null,
   "id": "9dc18a9d-76d1-4ac0-8780-95fc691bae64",
   "metadata": {
    "tags": []
   },
   "outputs": [],
   "source": [
    "# Read types data\n",
    "pd.set_option('display.max_rows', 100)\n",
    "df_origin.dtypes"
   ]
  },
  {
   "cell_type": "code",
   "execution_count": null,
   "id": "7b4d89a4-a4b0-4d2f-a330-e85720bed2e8",
   "metadata": {
    "tags": []
   },
   "outputs": [],
   "source": [
    "df_origin.head()"
   ]
  },
  {
   "cell_type": "code",
   "execution_count": null,
   "id": "62a8d3fa-a1c3-4dd8-882a-3819e9bae84f",
   "metadata": {
    "tags": []
   },
   "outputs": [],
   "source": [
    "# Create dataframe para procesar, copy dataframe origin\n",
    "df=df_origin"
   ]
  },
  {
   "cell_type": "code",
   "execution_count": null,
   "id": "8c6e1a05-d5a4-4b5e-8852-97d11ce9b835",
   "metadata": {},
   "outputs": [],
   "source": [
    "# Drop columns columns that are not needed\n",
    "df = df.drop ('TYPE_PATIENT', axis = 1)"
   ]
  },
  {
   "cell_type": "code",
   "execution_count": null,
   "id": "58e115aa-1a65-4ae9-ad3b-0ee3051159bb",
   "metadata": {},
   "outputs": [],
   "source": [
    "# Manual transform to number columns with alphanumeric data\n",
    "## \n",
    "df['TYPE_ATTENTION']=df['TYPE_ATTENTION'].fillna(0)\n",
    "df['TYPE_ATTENTION']=df['TYPE_ATTENTION'].replace('hosp_urge', 0)\n",
    "df['TYPE_ATTENTION']=df['TYPE_ATTENTION'].replace('ambulatorio', 1)\n",
    "df['TYPE_ATTENTION']=df['TYPE_ATTENTION'].astype(np.int64)\n",
    "##\n",
    "df['DETAIL_ATTENTION']=df['DETAIL_ATTENTION'].fillna(0)\n",
    "df['DETAIL_ATTENTION']=df['DETAIL_ATTENTION'].replace('HOSP', 0)\n",
    "df['DETAIL_ATTENTION']=df['DETAIL_ATTENTION'].replace('URGE', 1)\n",
    "df['DETAIL_ATTENTION']=df['DETAIL_ATTENTION'].replace('LABO', 2)\n",
    "df['DETAIL_ATTENTION']=df['DETAIL_ATTENTION'].replace('CEXT', 3)\n",
    "df['DETAIL_ATTENTION']=df['DETAIL_ATTENTION'].replace('AYDX', 4)\n",
    "df['DETAIL_ATTENTION']=df['DETAIL_ATTENTION'].replace('AYRA', 5)\n",
    "df['DETAIL_ATTENTION']=df['DETAIL_ATTENTION'].astype(np.int64)\n",
    "##\n",
    "df['TYPE_PAYMENT_REPON']=df['TYPE_PAYMENT_REPON'].fillna(0)\n",
    "df['TYPE_PAYMENT_REPON']=df['TYPE_PAYMENT_REPON'].replace('P', 0)\n",
    "df['TYPE_PAYMENT_REPON']=df['TYPE_PAYMENT_REPON'].replace('E', 1)\n",
    "df['TYPE_PAYMENT_REPON']=df['TYPE_PAYMENT_REPON'].astype(np.int64)\n",
    "##\n",
    "df['SEX_PATIENT']=df['SEX_PATIENT'].fillna(0)\n",
    "df['SEX_PATIENT']=df['SEX_PATIENT'].replace('F', 0)\n",
    "df['SEX_PATIENT']=df['SEX_PATIENT'].replace('M', 1)\n",
    "df['SEX_PATIENT']=df['SEX_PATIENT'].replace('I', 1)\n",
    "df['SEX_PATIENT']=df['SEX_PATIENT'].astype(np.int64)\n",
    "##\n",
    "df['TYPE_AFFILIATE']=df['TYPE_AFFILIATE'].fillna(0)\n",
    "df['TYPE_AFFILIATE']=df['TYPE_AFFILIATE'].replace('A', 0)\n",
    "df['TYPE_AFFILIATE']=df['TYPE_AFFILIATE'].replace('B', 1)\n",
    "df['TYPE_AFFILIATE']=df['TYPE_AFFILIATE'].replace('C', 1)\n",
    "df['TYPE_AFFILIATE']=df['TYPE_AFFILIATE'].astype(np.int64)\n",
    "##\n",
    "df['TYPE_AFFILIATION_REGIME']=df['TYPE_AFFILIATION_REGIME'].fillna(0)\n",
    "df['TYPE_AFFILIATION_REGIME']=df['TYPE_AFFILIATION_REGIME'].replace('C', 0)\n",
    "df['TYPE_AFFILIATION_REGIME']=df['TYPE_AFFILIATION_REGIME'].replace('O', 1)\n",
    "df['TYPE_AFFILIATION_REGIME']=df['TYPE_AFFILIATION_REGIME'].replace('P', 1)\n",
    "df['TYPE_AFFILIATION_REGIME']=df['TYPE_AFFILIATION_REGIME'].astype(np.int64)"
   ]
  },
  {
   "cell_type": "code",
   "execution_count": null,
   "id": "0c56029c-1db4-45b8-ad20-3ad5b42cff3d",
   "metadata": {
    "tags": []
   },
   "outputs": [],
   "source": [
    "print('TYPE_ATTENTION:\\n'+str(df['TYPE_ATTENTION'].unique()))\n",
    "print('DETAIL_ATTENTION:\\n'+str(df['DETAIL_ATTENTION'].unique()))\n",
    "print('TYPE_PAYMENT_REPON:\\n'+str(df['TYPE_PAYMENT_REPON'].unique()))\n",
    "print('SEX_PATIENT:\\n'+str(df['SEX_PATIENT'].unique()))\n",
    "print('TYPE_AFFILIATE:\\n'+str(df['TYPE_AFFILIATE'].unique()))\n",
    "print('TYPE_AFFILIATION_REGIME:\\n'+str(df['TYPE_AFFILIATION_REGIME'].unique()))"
   ]
  },
  {
   "cell_type": "code",
   "execution_count": null,
   "id": "a521d50f-a788-454b-9d31-0d21b4a763c7",
   "metadata": {
    "tags": []
   },
   "outputs": [],
   "source": [
    "df.head()"
   ]
  },
  {
   "cell_type": "code",
   "execution_count": null,
   "id": "3c3debc3-b676-4496-8a31-6d9364948105",
   "metadata": {},
   "outputs": [],
   "source": [
    "# Transform and  to number or alphanumeric columns using OrdinalEncoder\n",
    "enc = OrdinalEncoder()\n",
    "##\n",
    "df['SEQ_ATTENTION']=df['SEQ_ATTENTION'].fillna(0)\n",
    "df[[\"SEQ_ATTENTION\"]] = enc.fit_transform(df[[\"SEQ_ATTENTION\"]])\n",
    "df['SEQ_ATTENTION']=df['SEQ_ATTENTION'].astype(np.int64)\n",
    "##\n",
    "df['SEQ_PATIENT']=df['SEQ_PATIENT'].fillna(0)\n",
    "df[[\"SEQ_PATIENT\"]] = enc.fit_transform(df[[\"SEQ_PATIENT\"]])\n",
    "df['SEQ_PATIENT']=df['SEQ_PATIENT'].astype(np.int64)\n",
    "##\n",
    "df['ROOM_ATTENTION']=df['ROOM_ATTENTION'].fillna(0)\n",
    "df['ROOM_ATTENTION']=df['ROOM_ATTENTION'].replace({'J':''},regex=True)\n",
    "df['ROOM_ATTENTION']=df['ROOM_ATTENTION'].astype(str)\n",
    "df[[\"ROOM_ATTENTION\"]] = enc.fit_transform(df[[\"ROOM_ATTENTION\"]])\n",
    "df['ROOM_ATTENTION']=df['ROOM_ATTENTION'].astype(np.int64)\n",
    "##\n",
    "df['SEQ_DOCTOR']=df['SEQ_DOCTOR'].fillna(0)\n",
    "df['SEQ_DOCTOR']=df['SEQ_DOCTOR'].astype(str)\n",
    "df[[\"SEQ_DOCTOR\"]] = enc.fit_transform(df[[\"SEQ_DOCTOR\"]])\n",
    "df['SEQ_DOCTOR']=df['SEQ_DOCTOR'].astype(np.int64)\n",
    "##\n",
    "df['PAYMENT_REPONSIBLE']=df['PAYMENT_REPONSIBLE'].fillna(0)\n",
    "df['PAYMENT_REPONSIBLE']=df['PAYMENT_REPONSIBLE'].astype(str)\n",
    "df[[\"PAYMENT_REPONSIBLE\"]] = enc.fit_transform(df[[\"PAYMENT_REPONSIBLE\"]])\n",
    "df['PAYMENT_REPONSIBLE']=df['PAYMENT_REPONSIBLE'].astype(np.int64)\n",
    "##\n",
    "df['FEE_ATTENTION']=df['FEE_ATTENTION'].fillna(0)\n",
    "df['FEE_ATTENTION']=df['FEE_ATTENTION'].astype(str)\n",
    "df[[\"FEE_ATTENTION\"]] = enc.fit_transform(df[[\"FEE_ATTENTION\"]])\n",
    "df['FEE_ATTENTION']=df['FEE_ATTENTION'].astype(np.int64)\n",
    "##\n",
    "df['BILLING_CONCEPT']=df['BILLING_CONCEPT'].fillna(0)\n",
    "df['BILLING_CONCEPT']=df['BILLING_CONCEPT'].astype(str)\n",
    "df[[\"BILLING_CONCEPT\"]] = enc.fit_transform(df[[\"BILLING_CONCEPT\"]])\n",
    "df['BILLING_CONCEPT']=df['BILLING_CONCEPT'].astype(np.int64)\n",
    "##\n",
    "df['PRODUCT_SERVICE']=df['PRODUCT_SERVICE'].fillna(0)\n",
    "df['PRODUCT_SERVICE']=df['PRODUCT_SERVICE'].astype(str)\n",
    "df[[\"PRODUCT_SERVICE\"]] = enc.fit_transform(df[[\"PRODUCT_SERVICE\"]])\n",
    "df['PRODUCT_SERVICE']=df['PRODUCT_SERVICE'].astype(np.int64)\n",
    "##\n",
    "df['COST_CENTER']=df['COST_CENTER'].fillna(0)\n",
    "df['COST_CENTER']=df['COST_CENTER'].astype(str)\n",
    "df[[\"COST_CENTER\"]] = enc.fit_transform(df[[\"COST_CENTER\"]])\n",
    "df['COST_CENTER']=df['COST_CENTER'].astype(np.int64)\n",
    "##\n",
    "df['THIRD_RESPONSIBLE']=df['THIRD_RESPONSIBLE'].fillna(0)\n",
    "df['THIRD_RESPONSIBLE']=df['THIRD_RESPONSIBLE'].astype(str)\n",
    "df[[\"THIRD_RESPONSIBLE\"]] = enc.fit_transform(df[[\"THIRD_RESPONSIBLE\"]])\n",
    "df['THIRD_RESPONSIBLE']=df['THIRD_RESPONSIBLE'].astype(np.int64)"
   ]
  },
  {
   "cell_type": "code",
   "execution_count": null,
   "id": "44a5bd88-6ec1-4810-965d-c9073ffc1622",
   "metadata": {},
   "outputs": [],
   "source": [
    "print('SEQ_ATTENTION:\\n'+str(df['SEQ_ATTENTION'].unique()))\n",
    "print('SEQ_PATIENT:\\n'+str(df['SEQ_PATIENT'].unique()))\n",
    "print('ROOM_ATTENTION:\\n'+str(df['ROOM_ATTENTION'].unique()))\n",
    "print('SEQ_DOCTOR:\\n'+str(df['SEQ_DOCTOR'].unique()))\n",
    "print('PAYMENT_REPONSIBLE:\\n'+str(df['PAYMENT_REPONSIBLE'].unique()))\n",
    "print('BILLING_CONCEPT:\\n'+str(df['BILLING_CONCEPT'].unique()))\n",
    "print('PRODUCT_SERVICE:\\n'+str(df['PRODUCT_SERVICE'].unique()))\n",
    "print('COST_CENTER:\\n'+str(df['COST_CENTER'].unique()))\n",
    "print('THIRD_RESPONSIBLE:\\n'+str(df['THIRD_RESPONSIBLE'].unique()))"
   ]
  },
  {
   "cell_type": "code",
   "execution_count": null,
   "id": "d2686317-567d-4442-991e-fc2aceaa8c93",
   "metadata": {},
   "outputs": [],
   "source": [
    "df.head()"
   ]
  },
  {
   "cell_type": "code",
   "execution_count": null,
   "id": "85996c23-0e78-4230-a708-c41a3c08077b",
   "metadata": {},
   "outputs": [],
   "source": [
    "df.dtypes"
   ]
  },
  {
   "cell_type": "code",
   "execution_count": null,
   "id": "164f59a1-29dd-496e-979b-d5fdeb44248e",
   "metadata": {},
   "outputs": [],
   "source": [
    "print('MAIN_SPECIALITY:\\n'+str(df['MAIN_SPECIALITY'].unique()))"
   ]
  },
  {
   "cell_type": "code",
   "execution_count": null,
   "id": "a9779284-d290-4604-9e93-c1645bad46a8",
   "metadata": {},
   "outputs": [],
   "source": [
    "df['MAIN_SPECIALITY']=df['MAIN_SPECIALITY'].fillna(0)\n",
    "df['MAIN_SPECIALITY']=df['MAIN_SPECIALITY'].replace('CON', 1)\n",
    "df['MAIN_SPECIALITY']=df['MAIN_SPECIALITY'].replace('ACL', 2)\n",
    "df['MAIN_SPECIALITY']=df['MAIN_SPECIALITY'].astype(np.int64)\n",
    "##\n",
    "df['SPECIALITY_1']=df['SPECIALITY_1'].fillna(0)\n",
    "df['SPECIALITY_1']=df['SPECIALITY_1'].replace('CON', 1)\n",
    "df['SPECIALITY_1']=df['SPECIALITY_1'].replace('ACL', 2)\n",
    "df['SPECIALITY_1']=df['SPECIALITY_1'].astype(np.int64)\n",
    "##\n",
    "df['SPECIALITY_2']=df['SPECIALITY_2'].fillna(0)\n",
    "df['SPECIALITY_2']=df['SPECIALITY_2'].replace('CON', 1)\n",
    "df['SPECIALITY_2']=df['SPECIALITY_2'].replace('ACL', 2)\n",
    "df['SPECIALITY_2']=df['SPECIALITY_2'].astype(np.int64)\n",
    "##\n",
    "df['SPECIALITY_3']=df['SPECIALITY_3'].fillna(0)\n",
    "df['SPECIALITY_3']=df['SPECIALITY_3'].replace('CON', 1)\n",
    "df['SPECIALITY_3']=df['SPECIALITY_3'].replace('ACL', 2)\n",
    "df['SPECIALITY_3']=df['SPECIALITY_3'].astype(np.int64)\n",
    "##\n",
    "df['SPECIALITY_4']=df['SPECIALITY_4'].fillna(0)\n",
    "df['SPECIALITY_4']=df['SPECIALITY_4'].replace('CON', 1)\n",
    "df['SPECIALITY_4']=df['SPECIALITY_4'].replace('ACL', 2)\n",
    "df['SPECIALITY_4']=df['SPECIALITY_4'].astype(np.int64)\n",
    "##\n",
    "df['SPECIALITY_5']=df['SPECIALITY_5'].fillna(0)\n",
    "df['SPECIALITY_5']=df['SPECIALITY_5'].replace('CON', 1)\n",
    "df['SPECIALITY_5']=df['SPECIALITY_5'].replace('ACL', 2)\n",
    "df['SPECIALITY_5']=df['SPECIALITY_5'].astype(np.int64)\n",
    "##\n",
    "df['SPECIALITY_6']=df['SPECIALITY_6'].fillna(0)\n",
    "df['SPECIALITY_6']=df['SPECIALITY_6'].replace('CON', 1)\n",
    "df['SPECIALITY_6']=df['SPECIALITY_6'].replace('ACL', 2)\n",
    "df['SPECIALITY_6']=df['SPECIALITY_6'].astype(np.int64)"
   ]
  },
  {
   "cell_type": "code",
   "execution_count": null,
   "id": "ed5144b7-4500-4689-8a11-87058c2316b7",
   "metadata": {},
   "outputs": [],
   "source": [
    "print('MAIN_SPECIALITY:\\n'+str(df['MAIN_SPECIALITY'].unique()))\n",
    "print('SPECIALITY_1:\\n'+str(df['SPECIALITY_1'].unique()))\n",
    "print('SPECIALITY_2:\\n'+str(df['SPECIALITY_2'].unique()))\n",
    "print('SPECIALITY_3:\\n'+str(df['SPECIALITY_3'].unique()))\n",
    "print('SPECIALITY_4:\\n'+str(df['SPECIALITY_4'].unique()))\n",
    "print('SPECIALITY_5:\\n'+str(df['SPECIALITY_5'].unique()))\n",
    "print('SPECIALITY_6:\\n'+str(df['SPECIALITY_6'].unique()))"
   ]
  },
  {
   "cell_type": "code",
   "execution_count": null,
   "id": "147efcd6-83b9-4316-bd1f-a193ecc5281c",
   "metadata": {},
   "outputs": [],
   "source": [
    "df.dtypes"
   ]
  },
  {
   "cell_type": "code",
   "execution_count": null,
   "id": "247a4517-10c0-4bbd-9e03-7c31c2fc20ad",
   "metadata": {},
   "outputs": [],
   "source": [
    "df_cie10.head()"
   ]
  },
  {
   "cell_type": "code",
   "execution_count": null,
   "id": "ae440f87-7540-4071-9d2f-a3e00e02fae3",
   "metadata": {},
   "outputs": [],
   "source": [
    "df['ENTRY_DIAGNOSIS']=df['ENTRY_DIAGNOSIS'].fillna(0)\n",
    "df['ENTRY_DIAGNOSIS'] = df['ENTRY_DIAGNOSIS'].map(df_cie10.set_index('ID_DIAGNOSIS')['SEQ_DIAGNOSIS'])\n",
    "df['ENTRY_DIAGNOSIS']=df['ENTRY_DIAGNOSIS'].astype(np.int64)\n",
    "##\n",
    "df['PRINCIPAL_DIAGNOSIS']=df['PRINCIPAL_DIAGNOSIS'].fillna(0)\n",
    "df['PRINCIPAL_DIAGNOSIS'] = df['PRINCIPAL_DIAGNOSIS'].map(df_cie10.set_index('ID_DIAGNOSIS')['SEQ_DIAGNOSIS'])\n",
    "df['PRINCIPAL_DIAGNOSIS']=df['PRINCIPAL_DIAGNOSIS'].astype(np.int64)\n",
    "##\n",
    "df['EGRESS_DIAGNOSIS']=df['EGRESS_DIAGNOSIS'].fillna(0)\n",
    "df['EGRESS_DIAGNOSIS'] = df['EGRESS_DIAGNOSIS'].map(df_cie10.set_index('ID_DIAGNOSIS')['SEQ_DIAGNOSIS'])\n",
    "df['EGRESS_DIAGNOSIS']=df['EGRESS_DIAGNOSIS'].astype(np.int64)\n",
    "##\n",
    "df['PREVIOUS_DIAGNOSIS']=df['PREVIOUS_DIAGNOSIS'].fillna(0)\n",
    "df['PREVIOUS_DIAGNOSIS'] = df['PREVIOUS_DIAGNOSIS'].map(df_cie10.set_index('ID_DIAGNOSIS')['SEQ_DIAGNOSIS'])\n",
    "df['PREVIOUS_DIAGNOSIS']=df['PREVIOUS_DIAGNOSIS'].astype(np.int64)\n",
    "##\n",
    "df['POST_DIAGNOSIS']=df['POST_DIAGNOSIS'].fillna(0)\n",
    "df['POST_DIAGNOSIS'] = df['POST_DIAGNOSIS'].map(df_cie10.set_index('ID_DIAGNOSIS')['SEQ_DIAGNOSIS'])\n",
    "df['POST_DIAGNOSIS']=df['POST_DIAGNOSIS'].astype(np.int64)\n",
    "##\n",
    "df['RELATED_DIAGNOSIS_1']=df['RELATED_DIAGNOSIS_1'].fillna(0)\n",
    "df['RELATED_DIAGNOSIS_1'] = df['RELATED_DIAGNOSIS_1'].map(df_cie10.set_index('ID_DIAGNOSIS')['SEQ_DIAGNOSIS'])\n",
    "df['RELATED_DIAGNOSIS_1']=df['RELATED_DIAGNOSIS_1'].astype(np.int64)\n",
    "##\n",
    "df['RELATED_DIAGNOSIS_2']=df['RELATED_DIAGNOSIS_2'].fillna(0)\n",
    "df['RELATED_DIAGNOSIS_2'] = df['RELATED_DIAGNOSIS_2'].map(df_cie10.set_index('ID_DIAGNOSIS')['SEQ_DIAGNOSIS'])\n",
    "df['RELATED_DIAGNOSIS_2']=df['RELATED_DIAGNOSIS_2'].astype(np.int64)"
   ]
  },
  {
   "cell_type": "code",
   "execution_count": null,
   "id": "422ed496-5e1c-45a9-97d1-b85717cf7129",
   "metadata": {},
   "outputs": [],
   "source": [
    "print('ENTRY_DIAGNOSIS:\\n'+str(df['ENTRY_DIAGNOSIS'].unique()))\n",
    "print('PRINCIPAL_DIAGNOSIS:\\n'+str(df['PRINCIPAL_DIAGNOSIS'].unique()))\n",
    "print('EGRESS_DIAGNOSIS:\\n'+str(df['EGRESS_DIAGNOSIS'].unique()))\n",
    "print('PREVIOUS_DIAGNOSIS:\\n'+str(df['PREVIOUS_DIAGNOSIS'].unique()))\n",
    "print('POST_DIAGNOSIS:\\n'+str(df['POST_DIAGNOSIS'].unique()))\n",
    "print('RELATED_DIAGNOSIS_1:\\n'+str(df['RELATED_DIAGNOSIS_1'].unique()))\n",
    "print('RELATED_DIAGNOSIS_2:\\n'+str(df['RELATED_DIAGNOSIS_2'].unique()))"
   ]
  },
  {
   "cell_type": "code",
   "execution_count": null,
   "id": "96bbfcfe-7c7b-4729-8ee6-ff6aa68d4b72",
   "metadata": {},
   "outputs": [],
   "source": [
    "print('ENTRY_DIAGNOSIS:\\n'+str(df['ENTRY_DIAGNOSIS'].unique()))"
   ]
  },
  {
   "cell_type": "code",
   "execution_count": null,
   "id": "a6fb3cf3-98b7-4fce-8627-18654dd07a18",
   "metadata": {
    "tags": []
   },
   "outputs": [],
   "source": [
    "df['TIPO_ATENCION'].unique()"
   ]
  },
  {
   "cell_type": "code",
   "execution_count": null,
   "id": "1b7b7620-3626-40e2-959f-093fcef37445",
   "metadata": {
    "tags": []
   },
   "outputs": [],
   "source": [
    "df['TIPO_ATENCION'].describe()"
   ]
  },
  {
   "cell_type": "code",
   "execution_count": null,
   "id": "52603168-375b-4b6a-aa6c-ab13bce93be9",
   "metadata": {
    "tags": []
   },
   "outputs": [],
   "source": [
    "df['TIPO_ATENCION']=df['TIPO_ATENCION'].astype(np.int64)"
   ]
  },
  {
   "cell_type": "code",
   "execution_count": null,
   "id": "8518142b-ce0d-4ca5-be54-f89a826ecb7a",
   "metadata": {
    "tags": []
   },
   "outputs": [],
   "source": [
    "df['TIPO_ATENCION'].describe()"
   ]
  },
  {
   "cell_type": "code",
   "execution_count": null,
   "id": "1321fed6-c49b-4e40-916b-05a77943bc96",
   "metadata": {
    "tags": []
   },
   "outputs": [],
   "source": [
    "df.dtypes"
   ]
  },
  {
   "cell_type": "code",
   "execution_count": null,
   "id": "173e7d6d-626b-4418-af7a-e3474c3fb0f1",
   "metadata": {
    "tags": []
   },
   "outputs": [],
   "source": [
    "df['ATENCION'].describe()"
   ]
  },
  {
   "cell_type": "code",
   "execution_count": null,
   "id": "5fbfbcf1-25f6-4d2c-9b91-b45e932d4de0",
   "metadata": {
    "tags": []
   },
   "outputs": [],
   "source": [
    "df['DETALLE_ATENCION'].unique()"
   ]
  },
  {
   "cell_type": "code",
   "execution_count": null,
   "id": "9236e762-5b75-4eb4-8d3f-45d84f090278",
   "metadata": {},
   "outputs": [],
   "source": [
    "enc = OrdinalEncoder()\n",
    "df[[\"DETALLE_ATENCION\"]] = enc.fit_transform(df[[\"DETALLE_ATENCION\"]])"
   ]
  },
  {
   "cell_type": "code",
   "execution_count": null,
   "id": "121099bd-22ba-423d-8161-5555d7563c01",
   "metadata": {
    "tags": []
   },
   "outputs": [],
   "source": [
    "df['DETALLE_ATENCION'].unique()"
   ]
  },
  {
   "cell_type": "code",
   "execution_count": null,
   "id": "22362dae-0c3f-423e-937d-1cd82fd10da2",
   "metadata": {
    "tags": []
   },
   "outputs": [],
   "source": [
    "df['DETALLE_ATENCION']=df['DETALLE_ATENCION'].astype(np.int64)"
   ]
  },
  {
   "cell_type": "code",
   "execution_count": null,
   "id": "fe5a488f-dece-4902-90ed-c111cbeaea32",
   "metadata": {
    "tags": []
   },
   "outputs": [],
   "source": [
    "df['DETALLE_ATENCION'].describe()"
   ]
  },
  {
   "cell_type": "code",
   "execution_count": null,
   "id": "4a5e8c7a-1d5b-42c4-b803-70690d484804",
   "metadata": {},
   "outputs": [],
   "source": [
    "df['DETALLE_ATENCION'].unique()"
   ]
  },
  {
   "cell_type": "code",
   "execution_count": null,
   "id": "981ef1dc-34f7-438b-a4a4-77dc26f7db12",
   "metadata": {
    "tags": []
   },
   "outputs": [],
   "source": [
    "df['DETALLE_ATENCION']=df['DETALLE_ATENCION'].replace('HOSP', 0)\n",
    "df['DETALLE_ATENCION']=df['DETALLE_ATENCION'].replace('URGE', 1)\n",
    "df['DETALLE_ATENCION']=df['DETALLE_ATENCION'].replace('LABO', 2)\n",
    "df['DETALLE_ATENCION']=df['DETALLE_ATENCION'].replace('CEXT', 3)\n",
    "df['DETALLE_ATENCION']=df['DETALLE_ATENCION'].replace('AYDX', 4)\n",
    "df['DETALLE_ATENCION']=df['DETALLE_ATENCION'].replace('AYRA', 5)"
   ]
  },
  {
   "cell_type": "code",
   "execution_count": null,
   "id": "7c5784fa-f9e6-4eb6-ae6e-30475a741f64",
   "metadata": {
    "tags": []
   },
   "outputs": [],
   "source": [
    "#UBICACION_ATENCION\n",
    "df['UBICACION_ATENCION'].unique()"
   ]
  },
  {
   "cell_type": "code",
   "execution_count": null,
   "id": "3e38b2c5-7fd3-46d1-bc20-240ee7b7660e",
   "metadata": {
    "tags": []
   },
   "outputs": [],
   "source": [
    "df['UBICACION_ATENCION']=df['UBICACION_ATENCION'].replace('CHUR', 0)\n",
    "df['UBICACION_ATENCION']=df['UBICACION_ATENCION'].replace('CHHD', 1)\n",
    "df['UBICACION_ATENCION']=df['UBICACION_ATENCION'].replace('CHHT', 2)\n",
    "df['UBICACION_ATENCION']=df['UBICACION_ATENCION'].replace('CHHC', 3)\n",
    "df['UBICACION_ATENCION']=df['UBICACION_ATENCION'].replace('CHCI', 4)\n",
    "df['UBICACION_ATENCION']=df['UBICACION_ATENCION'].replace('CHTS', 5)\n",
    "df['UBICACION_ATENCION']=df['UBICACION_ATENCION'].replace('CHUC', 6)\n",
    "df['UBICACION_ATENCION']=df['UBICACION_ATENCION'].replace('CHHQ', 7)\n",
    "df['UBICACION_ATENCION']=df['UBICACION_ATENCION'].replace('CHUG', 8)\n",
    "df['UBICACION_ATENCION']=df['UBICACION_ATENCION'].replace('CHCE', 9)\n",
    "df['UBICACION_ATENCION']=df['UBICACION_ATENCION'].replace('JHEM', 10)\n",
    "df['UBICACION_ATENCION']=df['UBICACION_ATENCION'].replace('UNIM', 11)\n",
    "df['UBICACION_ATENCION']=df['UBICACION_ATENCION'].replace('JELE', 12)\n",
    "df['UBICACION_ATENCION']=df['UBICACION_ATENCION'].replace('URGE', 13)"
   ]
  },
  {
   "cell_type": "code",
   "execution_count": null,
   "id": "ed5091c9-44b4-47aa-a133-bac8bfd81834",
   "metadata": {
    "tags": []
   },
   "outputs": [],
   "source": [
    "df['UBICACION_ATENCION']=df['UBICACION_ATENCION'].astype(np.int64)"
   ]
  },
  {
   "cell_type": "code",
   "execution_count": null,
   "id": "cfeb57b9-4177-4edc-9248-ef6c26192950",
   "metadata": {
    "tags": []
   },
   "outputs": [],
   "source": [
    "df['UBICACION_ATENCION'].unique()"
   ]
  },
  {
   "cell_type": "code",
   "execution_count": null,
   "id": "391b2813-4d43-42f9-b84b-ea23e89bd7e1",
   "metadata": {
    "tags": []
   },
   "outputs": [],
   "source": [
    "df['UBICACION_ATENCION'].describe()"
   ]
  },
  {
   "cell_type": "code",
   "execution_count": null,
   "id": "5f7f4244-e0a5-49d6-bd8a-9000da4c758c",
   "metadata": {
    "tags": []
   },
   "outputs": [],
   "source": [
    "df['HABITACION_ATENCION'].unique()"
   ]
  },
  {
   "cell_type": "code",
   "execution_count": null,
   "id": "7e5d1139-226f-4984-9c7c-09313329b843",
   "metadata": {
    "tags": []
   },
   "outputs": [],
   "source": [
    "df['HABITACION_ATENCION']=df['HABITACION_ATENCION'].replace({'J':''},regex=True)\n",
    "df['HABITACION_ATENCION']=df['HABITACION_ATENCION'].fillna(0)\n",
    "df['HABITACION_ATENCION']=df['HABITACION_ATENCION'].replace('UCN4', 1)"
   ]
  },
  {
   "cell_type": "code",
   "execution_count": null,
   "id": "43228564-c60c-413f-b53b-5497380148b5",
   "metadata": {
    "tags": []
   },
   "outputs": [],
   "source": [
    "df['HABITACION_ATENCION']=df['HABITACION_ATENCION'].astype(np.int64)"
   ]
  },
  {
   "cell_type": "code",
   "execution_count": null,
   "id": "4227ed71-5188-4b3a-bab9-4a943288066d",
   "metadata": {
    "tags": []
   },
   "outputs": [],
   "source": [
    "df['HABITACION_ATENCION'].unique()"
   ]
  },
  {
   "cell_type": "code",
   "execution_count": null,
   "id": "f859c941-5a26-4054-9281-f94a5a2203b5",
   "metadata": {
    "tags": []
   },
   "outputs": [],
   "source": [
    "df['ESPECIALIDAD_ATENCION'].unique()"
   ]
  },
  {
   "cell_type": "code",
   "execution_count": null,
   "id": "6579c213-eb9a-4574-996a-cb69fd7b7a5a",
   "metadata": {
    "tags": []
   },
   "outputs": [],
   "source": [
    "df['ESPECIALIDAD_ATENCION']=df['ESPECIALIDAD_ATENCION'].replace('CON', 1)\n",
    "df['ESPECIALIDAD_ATENCION']=df['ESPECIALIDAD_ATENCION'].replace('ACL', 2)"
   ]
  },
  {
   "cell_type": "code",
   "execution_count": null,
   "id": "035fe6d0-adbd-411a-b7fd-a656ae9a7397",
   "metadata": {
    "tags": []
   },
   "outputs": [],
   "source": [
    "df['ESPECIALIDAD_ATENCION'].unique()"
   ]
  },
  {
   "cell_type": "code",
   "execution_count": null,
   "id": "0162f6ae-0015-4c1b-9d57-11f8f21bfa43",
   "metadata": {
    "tags": []
   },
   "outputs": [],
   "source": [
    "df['ESPECIALIDAD_ATENCION']=df['ESPECIALIDAD_ATENCION'].astype(np.int64)"
   ]
  },
  {
   "cell_type": "code",
   "execution_count": null,
   "id": "9015f756-e783-45a6-971f-53c0383c57c6",
   "metadata": {
    "tags": []
   },
   "outputs": [],
   "source": [
    "df['ESPECIALIDAD_ATENCION'].unique()"
   ]
  },
  {
   "cell_type": "code",
   "execution_count": null,
   "id": "a209cd7e-6544-4296-8562-289b7e59cdd2",
   "metadata": {
    "tags": []
   },
   "outputs": [],
   "source": [
    "df['ESPECIALIDAD_1'].unique()"
   ]
  },
  {
   "cell_type": "code",
   "execution_count": null,
   "id": "ba664018-d173-4210-b01f-14721f4af9b7",
   "metadata": {
    "tags": []
   },
   "outputs": [],
   "source": [
    "df['ESPECIALIDAD_1']=df['ESPECIALIDAD_1'].fillna(0)\n",
    "df['ESPECIALIDAD_1']=df['ESPECIALIDAD_1'].replace('CON', 1)\n",
    "df['ESPECIALIDAD_1']=df['ESPECIALIDAD_1'].replace('ACL', 2)"
   ]
  },
  {
   "cell_type": "code",
   "execution_count": null,
   "id": "6508770f-04ba-4804-aafc-32e6035b2b48",
   "metadata": {
    "tags": []
   },
   "outputs": [],
   "source": [
    "df['ESPECIALIDAD_1'].unique()"
   ]
  },
  {
   "cell_type": "code",
   "execution_count": null,
   "id": "6e05c98f-b7b4-4f5b-857a-e1e8049cd891",
   "metadata": {
    "tags": []
   },
   "outputs": [],
   "source": [
    "df['ESPECIALIDAD_1']=df['ESPECIALIDAD_1'].astype(np.int64)"
   ]
  },
  {
   "cell_type": "code",
   "execution_count": null,
   "id": "619e9ae9-fbb4-4137-ab2a-3325daa91c49",
   "metadata": {
    "tags": []
   },
   "outputs": [],
   "source": [
    "df['ESPECIALIDAD_1'].unique()"
   ]
  },
  {
   "cell_type": "code",
   "execution_count": null,
   "id": "53e879af-459b-4ae6-af87-5911fb97d925",
   "metadata": {
    "tags": []
   },
   "outputs": [],
   "source": [
    "df['ESPECIALIDAD_2'].unique()"
   ]
  },
  {
   "cell_type": "code",
   "execution_count": null,
   "id": "4fbb3f28-02a5-4190-9b55-27ca54ec1a2e",
   "metadata": {
    "tags": []
   },
   "outputs": [],
   "source": [
    "df['ESPECIALIDAD_2']=df['ESPECIALIDAD_2'].fillna(0)\n",
    "df['ESPECIALIDAD_2']=df['ESPECIALIDAD_2'].replace('CON', 1)\n",
    "df['ESPECIALIDAD_2']=df['ESPECIALIDAD_2'].replace('ACL', 2)"
   ]
  },
  {
   "cell_type": "code",
   "execution_count": null,
   "id": "296103be-333f-46c1-baf5-221574b5c9da",
   "metadata": {
    "tags": []
   },
   "outputs": [],
   "source": [
    "df['ESPECIALIDAD_2'].unique()"
   ]
  },
  {
   "cell_type": "code",
   "execution_count": null,
   "id": "901e5cb1-4b9e-4b6e-a805-723136fe3d87",
   "metadata": {
    "tags": []
   },
   "outputs": [],
   "source": [
    "df['ESPECIALIDAD_2']=df['ESPECIALIDAD_2'].astype(np.int64)"
   ]
  },
  {
   "cell_type": "code",
   "execution_count": null,
   "id": "de01baae-1878-49fe-a372-c3b768328cfe",
   "metadata": {
    "tags": []
   },
   "outputs": [],
   "source": [
    "df['ESPECIALIDAD_2'].unique()"
   ]
  },
  {
   "cell_type": "code",
   "execution_count": null,
   "id": "89cb6f49-2ab6-45b2-b13f-7e56595be7d4",
   "metadata": {
    "tags": []
   },
   "outputs": [],
   "source": [
    "df['ESPECIALIDAD_3'].unique()"
   ]
  },
  {
   "cell_type": "code",
   "execution_count": null,
   "id": "2dd5b92b-a71e-461b-b9a7-d7e0ed5cb707",
   "metadata": {
    "tags": []
   },
   "outputs": [],
   "source": [
    "df['ESPECIALIDAD_3']=df['ESPECIALIDAD_3'].fillna(0)\n",
    "df['ESPECIALIDAD_3']=df['ESPECIALIDAD_3'].replace('CON', 1)\n",
    "df['ESPECIALIDAD_3']=df['ESPECIALIDAD_3'].replace('ACL', 2)"
   ]
  },
  {
   "cell_type": "code",
   "execution_count": null,
   "id": "e215d05c-0dde-4ae2-8679-340251d3d0c9",
   "metadata": {
    "tags": []
   },
   "outputs": [],
   "source": [
    "df['ESPECIALIDAD_3'].unique()"
   ]
  },
  {
   "cell_type": "code",
   "execution_count": null,
   "id": "0bf99619-a2b4-4933-b64f-a1a578e77c51",
   "metadata": {
    "tags": []
   },
   "outputs": [],
   "source": [
    "df['ESPECIALIDAD_3']=df['ESPECIALIDAD_3'].astype(np.int64)"
   ]
  },
  {
   "cell_type": "code",
   "execution_count": null,
   "id": "64709610-952c-4a31-a2ce-48d5f7d938a1",
   "metadata": {
    "tags": []
   },
   "outputs": [],
   "source": [
    "df['ESPECIALIDAD_3'].unique()"
   ]
  },
  {
   "cell_type": "code",
   "execution_count": null,
   "id": "ea2ff46b-da17-4c31-a2e1-603446089eae",
   "metadata": {
    "tags": []
   },
   "outputs": [],
   "source": [
    "df['ESPECIALIDAD_4'].unique()"
   ]
  },
  {
   "cell_type": "code",
   "execution_count": null,
   "id": "5685e386-a45b-4e92-9ef3-8869f76edeab",
   "metadata": {
    "tags": []
   },
   "outputs": [],
   "source": [
    "df['ESPECIALIDAD_4']=df['ESPECIALIDAD_4'].fillna(0)\n",
    "df['ESPECIALIDAD_4']=df['ESPECIALIDAD_4'].replace('CON', 1)\n",
    "df['ESPECIALIDAD_4']=df['ESPECIALIDAD_4'].replace('ACL', 2)"
   ]
  },
  {
   "cell_type": "code",
   "execution_count": null,
   "id": "c04d5b95-0fe5-4be4-bdf5-435839f70d8d",
   "metadata": {
    "tags": []
   },
   "outputs": [],
   "source": [
    "df['ESPECIALIDAD_4'].unique()"
   ]
  },
  {
   "cell_type": "code",
   "execution_count": null,
   "id": "d1b3e67c-2bd6-4fc0-800f-93dee850be7a",
   "metadata": {
    "tags": []
   },
   "outputs": [],
   "source": [
    "df['ESPECIALIDAD_4']=df['ESPECIALIDAD_4'].astype(np.int64)"
   ]
  },
  {
   "cell_type": "code",
   "execution_count": null,
   "id": "b6e10439-6173-4878-9afa-48b5f77ef5a8",
   "metadata": {
    "tags": []
   },
   "outputs": [],
   "source": [
    "df['ESPECIALIDAD_4'].unique()"
   ]
  },
  {
   "cell_type": "code",
   "execution_count": null,
   "id": "59f8b970-8c19-4a23-b708-13120e552e50",
   "metadata": {
    "tags": []
   },
   "outputs": [],
   "source": [
    "df['ESPECIALIDAD_5'].unique()"
   ]
  },
  {
   "cell_type": "code",
   "execution_count": null,
   "id": "06dc9b8c-8a87-4bad-a1eb-151f3ac3f8f0",
   "metadata": {
    "tags": []
   },
   "outputs": [],
   "source": [
    "df['ESPECIALIDAD_5']=df['ESPECIALIDAD_5'].fillna(0)\n",
    "df['ESPECIALIDAD_5']=df['ESPECIALIDAD_5'].replace('CON', 1)\n",
    "df['ESPECIALIDAD_5']=df['ESPECIALIDAD_5'].replace('ACL', 2)"
   ]
  },
  {
   "cell_type": "code",
   "execution_count": null,
   "id": "fe17e64c-9626-4e55-9440-c85c9decba8b",
   "metadata": {
    "tags": []
   },
   "outputs": [],
   "source": [
    "df['ESPECIALIDAD_5'].unique()"
   ]
  },
  {
   "cell_type": "code",
   "execution_count": null,
   "id": "16459a78-16d4-48b1-b619-c8a0ccb015ce",
   "metadata": {
    "tags": []
   },
   "outputs": [],
   "source": [
    "df['ESPECIALIDAD_5']=df['ESPECIALIDAD_5'].astype(np.int64)"
   ]
  },
  {
   "cell_type": "code",
   "execution_count": null,
   "id": "a56ba891-cda8-4d21-a80c-7c53f546ab72",
   "metadata": {
    "tags": []
   },
   "outputs": [],
   "source": [
    "df['ESPECIALIDAD_5'].unique()"
   ]
  },
  {
   "cell_type": "code",
   "execution_count": null,
   "id": "ba77b5db-24c8-4b85-b270-605babbc4747",
   "metadata": {
    "tags": []
   },
   "outputs": [],
   "source": [
    "df['ESPECIALIDAD_6'].unique()"
   ]
  },
  {
   "cell_type": "code",
   "execution_count": null,
   "id": "2f02568c-c82a-44aa-b7f9-d5ff71900fc2",
   "metadata": {
    "tags": []
   },
   "outputs": [],
   "source": [
    "df['ESPECIALIDAD_6']=df['ESPECIALIDAD_6'].fillna(0)\n",
    "df['ESPECIALIDAD_6']=df['ESPECIALIDAD_6'].replace('CON', 1)\n",
    "df['ESPECIALIDAD_6']=df['ESPECIALIDAD_6'].replace('ACL', 2)"
   ]
  },
  {
   "cell_type": "code",
   "execution_count": null,
   "id": "b275fa9c-863d-4ee4-94d3-2db48fb1337b",
   "metadata": {
    "tags": []
   },
   "outputs": [],
   "source": [
    "df['ESPECIALIDAD_6'].unique()"
   ]
  },
  {
   "cell_type": "code",
   "execution_count": null,
   "id": "b49a603f-6e0e-4f00-9b65-30aeb8b0e042",
   "metadata": {
    "tags": []
   },
   "outputs": [],
   "source": [
    "df['ESPECIALIDAD_6']=df['ESPECIALIDAD_6'].astype(np.int64)"
   ]
  },
  {
   "cell_type": "code",
   "execution_count": null,
   "id": "2f09bbe6-d16b-4de2-b429-2a026745b9fe",
   "metadata": {
    "tags": []
   },
   "outputs": [],
   "source": [
    "df['ESPECIALIDAD_6'].unique()"
   ]
  },
  {
   "cell_type": "code",
   "execution_count": null,
   "id": "8e868a9f-f4d1-4f10-ba7d-3c867b17dfc9",
   "metadata": {
    "tags": []
   },
   "outputs": [],
   "source": [
    "df['MEDICO_ATENCION'].unique()"
   ]
  },
  {
   "cell_type": "code",
   "execution_count": null,
   "id": "50df6f7d-f1ba-45c5-8aef-3be9ce3070df",
   "metadata": {},
   "outputs": [],
   "source": [
    "enc = OrdinalEncoder()\n",
    "enc.fit(df['MEDICO_ATENCION'])\n",
    "df['MEDICO_ATENCION'] = enc.transform(df['MEDICO_ATENCION'])"
   ]
  },
  {
   "cell_type": "code",
   "execution_count": null,
   "id": "e9c267c9-6876-4f95-b7f9-d07b6b66f433",
   "metadata": {},
   "outputs": [],
   "source": [
    "enc = OrdinalEncoder()\n",
    "df[[\"MEDICO_ATENCION\"]] = enc.fit_transform(df[[\"MEDICO_ATENCION\"]])"
   ]
  },
  {
   "cell_type": "code",
   "execution_count": null,
   "id": "87b2086e-c353-4818-9701-5178855166ff",
   "metadata": {},
   "outputs": [],
   "source": [
    "df['MEDICO_ATENCION'].unique()"
   ]
  },
  {
   "cell_type": "code",
   "execution_count": null,
   "id": "d44720a3-7253-44d9-942d-08b60603f1eb",
   "metadata": {},
   "outputs": [],
   "source": []
  },
  {
   "cell_type": "code",
   "execution_count": null,
   "id": "ee0c55ac-b711-4286-be12-566e818d4a63",
   "metadata": {},
   "outputs": [],
   "source": [
    "df_origin['RESPONSABLE_PAGO']=df_origin['RESPONSABLE_PAGO'].apply(mf.string_to_num_string)"
   ]
  },
  {
   "cell_type": "code",
   "execution_count": null,
   "id": "7e513f50-b4ea-46c6-bc5b-4f8da43906c0",
   "metadata": {
    "tags": []
   },
   "outputs": [],
   "source": [
    "df_origin['RESPONSABLE_PAGO']=df_origin['RESPONSABLE_PAGO'].apply(mf.string_to_num_string)"
   ]
  },
  {
   "cell_type": "code",
   "execution_count": null,
   "id": "ebed0253-ce49-4b92-bc1e-c9c6376c312c",
   "metadata": {
    "tags": []
   },
   "outputs": [],
   "source": [
    "df_origin['RESPONSABLE_PAGO']=df_origin['RESPONSABLE_PAGO'].astype(int)"
   ]
  },
  {
   "cell_type": "code",
   "execution_count": null,
   "id": "902a4d5d-ded4-4186-8687-2e29ebe2423f",
   "metadata": {
    "tags": []
   },
   "outputs": [],
   "source": [
    "print(df_origin.dtypes)"
   ]
  },
  {
   "cell_type": "code",
   "execution_count": null,
   "id": "6c30d23f-0934-4201-96e4-14b21ef932b3",
   "metadata": {
    "tags": []
   },
   "outputs": [],
   "source": [
    "df_origin['RESPONSABLE_PAGO'].describe()"
   ]
  },
  {
   "cell_type": "code",
   "execution_count": null,
   "id": "90bd8177-8e0a-4b74-916e-75ee2dec8c8f",
   "metadata": {
    "tags": []
   },
   "outputs": [],
   "source": [
    "df_origin['RESPONSABLE_PAGO'].info()"
   ]
  },
  {
   "cell_type": "code",
   "execution_count": null,
   "id": "4a11486e-c920-4154-bb62-0287e8336a9d",
   "metadata": {
    "tags": []
   },
   "outputs": [],
   "source": [
    "df_origin['TERCERO_CARGO']=df_origin['TERCERO_CARGO'].apply(mf.string_to_num_string)"
   ]
  },
  {
   "cell_type": "code",
   "execution_count": null,
   "id": "a7990bc5-3bb3-484d-a6b4-b4701e09619b",
   "metadata": {
    "tags": []
   },
   "outputs": [],
   "source": [
    "print(df_origin.dtypes)"
   ]
  },
  {
   "cell_type": "code",
   "execution_count": null,
   "id": "a3724c45-ce59-4ea9-af3c-0edc185f569f",
   "metadata": {
    "tags": []
   },
   "outputs": [],
   "source": [
    "df_origin['RESPONSABLE_PAGO'].describe()"
   ]
  },
  {
   "cell_type": "code",
   "execution_count": null,
   "id": "093816a1-4a56-495e-8107-7ded326ade41",
   "metadata": {
    "tags": []
   },
   "outputs": [],
   "source": [
    "import numpy as np\n",
    "df_origin['RESPONSABLE_PAGO']=df_origin['RESPONSABLE_PAGO'].apply(np.int64)"
   ]
  },
  {
   "cell_type": "code",
   "execution_count": null,
   "id": "b99a3282-2de4-43ec-9bb4-97ec82127f9c",
   "metadata": {
    "tags": []
   },
   "outputs": [],
   "source": [
    "df_origin['RESPONSABLE_PAGO'].describe()"
   ]
  },
  {
   "cell_type": "code",
   "execution_count": null,
   "id": "18d70ee4-3706-4da5-8a5b-65ca8b0225e5",
   "metadata": {
    "tags": []
   },
   "outputs": [],
   "source": [
    "df_origin.info()"
   ]
  },
  {
   "cell_type": "code",
   "execution_count": null,
   "id": "8a2863d4-4341-4d25-8697-548905cae15a",
   "metadata": {
    "tags": []
   },
   "outputs": [],
   "source": [
    "df_origin.describe()"
   ]
  },
  {
   "cell_type": "code",
   "execution_count": null,
   "id": "ec2d64b0-0039-4229-8915-7b09fe70f765",
   "metadata": {
    "tags": []
   },
   "outputs": [],
   "source": [
    "df_origin.head()"
   ]
  },
  {
   "cell_type": "code",
   "execution_count": null,
   "id": "e7118409-b796-4493-bd4c-f455c052e0f2",
   "metadata": {
    "tags": []
   },
   "outputs": [],
   "source": [
    "df_origin.duplicated()"
   ]
  },
  {
   "cell_type": "code",
   "execution_count": null,
   "id": "a7b8675a-fc80-4fff-8b2d-261546d94bc4",
   "metadata": {
    "tags": []
   },
   "outputs": [],
   "source": [
    "df_origin.isnull().sum()"
   ]
  },
  {
   "cell_type": "code",
   "execution_count": null,
   "id": "5409a681-e2b1-4299-bba6-9f92b39b7389",
   "metadata": {
    "tags": []
   },
   "outputs": [],
   "source": [
    "df_origin['CAUSA_RECLAMO'].describe()"
   ]
  },
  {
   "cell_type": "code",
   "execution_count": null,
   "id": "b31f0bb8-4874-4b1a-9616-1a7975826d6f",
   "metadata": {
    "tags": []
   },
   "outputs": [],
   "source": [
    "df_origin.loc[df_origin['CAUSA_RECLAMO']>0, 'CAUSA_RECLAMO'] = 1"
   ]
  },
  {
   "cell_type": "code",
   "execution_count": null,
   "id": "bf19740a-691c-4572-9a51-cdadf6e90571",
   "metadata": {
    "tags": []
   },
   "outputs": [],
   "source": [
    "df_origin['CAUSA_RECLAMO'].describe()"
   ]
  },
  {
   "cell_type": "code",
   "execution_count": null,
   "id": "2b2c922a-aa1f-4bc2-9342-bf637d9d7591",
   "metadata": {
    "tags": []
   },
   "outputs": [],
   "source": [
    "df_copy = df_origin.drop('VALOR_RECLAMADO', axis = 1)"
   ]
  },
  {
   "cell_type": "code",
   "execution_count": null,
   "id": "5288606d-10cf-48fd-a835-b79f3aae9a4b",
   "metadata": {
    "tags": []
   },
   "outputs": [],
   "source": [
    "df_copy = df_copy.drop('VALOR_ACEPTADO', axis = 1)"
   ]
  },
  {
   "cell_type": "code",
   "execution_count": null,
   "id": "48c0a9b6-24e4-40a8-ba82-fffb50532eb0",
   "metadata": {
    "tags": []
   },
   "outputs": [],
   "source": [
    "df_copy = df_copy.drop('VALOR_FINAL_RECLAMADO', axis = 1)"
   ]
  },
  {
   "cell_type": "code",
   "execution_count": null,
   "id": "57e97567-d72c-487c-84b3-ac6e4c15a3d7",
   "metadata": {
    "tags": []
   },
   "outputs": [],
   "source": [
    "columns = df_copy.columns\n",
    "target = \"CAUSA_RECLAMO\"\n",
    "x_columns = columns.drop(target)\n",
    "print(columns)\n",
    "print(target)\n",
    "print(x_columns)"
   ]
  },
  {
   "cell_type": "code",
   "execution_count": null,
   "id": "d6be7dde-c5ae-4433-8842-64e5ea3542fe",
   "metadata": {
    "tags": []
   },
   "outputs": [],
   "source": [
    "scaler = MinMaxScaler()\n",
    "scaled_df = scaler.fit_transform(df_copy)\n",
    "scaled_df = pd.DataFrame(scaled_df, 'INGRESO_PACIENTE')\n",
    "scaled_df"
   ]
  },
  {
   "cell_type": "code",
   "execution_count": null,
   "id": "b38715f3-b5b3-4ec4-aac5-557a61786520",
   "metadata": {
    "tags": []
   },
   "outputs": [],
   "source": [
    "df_copy.describe()"
   ]
  },
  {
   "cell_type": "code",
   "execution_count": null,
   "id": "bf1406b6-623e-4005-b298-64bb1eb99c4a",
   "metadata": {
    "tags": []
   },
   "outputs": [],
   "source": []
  },
  {
   "cell_type": "code",
   "execution_count": null,
   "id": "38c8cfa4-d8b5-47d0-93b6-77b12ad78c4d",
   "metadata": {
    "tags": []
   },
   "outputs": [],
   "source": [
    "df_stats = df_copy.describe()\n",
    "df_stats = df_stats.transpose()\n",
    "df_stats"
   ]
  },
  {
   "cell_type": "code",
   "execution_count": null,
   "id": "1c96411f-2618-44f3-8ba1-4014ef2a6373",
   "metadata": {
    "tags": []
   },
   "outputs": [],
   "source": [
    "#Comportamiento de la variable objetivo\n",
    "sns.histplot(data=df_copy, x=target, kde=True)"
   ]
  },
  {
   "cell_type": "code",
   "execution_count": null,
   "id": "a2435c25-000d-46a6-9bdd-54d3470818c1",
   "metadata": {
    "tags": []
   },
   "outputs": [],
   "source": [
    "#Dividir variables de entrada y objetivo\n",
    "ValX = df_copy.drop(columns = target)\n",
    "ValY = df_copy[target]"
   ]
  },
  {
   "cell_type": "code",
   "execution_count": null,
   "id": "69ef9716-02dc-43a3-be91-7ea822a25ac6",
   "metadata": {
    "tags": []
   },
   "outputs": [],
   "source": [
    "X_train, X_validation, Y_train, Y_validation = train_test_split(ValX, ValY, test_size=0.30)"
   ]
  },
  {
   "cell_type": "code",
   "execution_count": null,
   "id": "ef03208c-5d88-459f-8874-1587b11d838e",
   "metadata": {
    "tags": []
   },
   "outputs": [],
   "source": [
    "model_simple = DecisionTreeClassifier(criterion='entropy')\n",
    "model_simple.fit(X_train, Y_train)\n",
    "predictions = model_simple.predict(X_validation)\n",
    "print(\"Precición del modelo:\", accuracy_score(Y_validation, predictions))\n",
    "print(\"Matriz de confusión\");\n",
    "print(confusion_matrix(Y_validation, predictions))\n",
    "print(\"Medidas de la precisión de clasificación\");\n",
    "print(classification_report(Y_validation, predictions))"
   ]
  },
  {
   "cell_type": "code",
   "execution_count": null,
   "id": "6454c0cd-da9b-41a9-a357-561c04c5c0ab",
   "metadata": {
    "tags": []
   },
   "outputs": [],
   "source": [
    "#70797877706876676765836893794285907244\n",
    "cadena='707978836678768467837478874087897344'\n",
    "cantidad=mf.string_to_num_string(cadena)\n",
    "print(cantidad)"
   ]
  },
  {
   "cell_type": "code",
   "execution_count": null,
   "id": "5b6e26ea-482d-48eb-9ee5-69536903dc3e",
   "metadata": {},
   "outputs": [],
   "source": []
  }
 ],
 "metadata": {
  "kernelspec": {
   "display_name": "Python 3 (ipykernel)",
   "language": "python",
   "name": "python3"
  },
  "language_info": {
   "codemirror_mode": {
    "name": "ipython",
    "version": 3
   },
   "file_extension": ".py",
   "mimetype": "text/x-python",
   "name": "python",
   "nbconvert_exporter": "python",
   "pygments_lexer": "ipython3",
   "version": "3.11.9"
  },
  "toc-showmarkdowntxt": true
 },
 "nbformat": 4,
 "nbformat_minor": 5
}
