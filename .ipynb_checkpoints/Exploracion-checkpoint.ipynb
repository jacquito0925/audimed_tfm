{
 "cells": [
  {
   "cell_type": "code",
   "execution_count": 1,
   "id": "33c4cbae-ad96-44b4-b141-688a9395b696",
   "metadata": {
    "tags": []
   },
   "outputs": [],
   "source": [
    "# Load libraries\n",
    "import numpy as np\n",
    "import pandas as pd\n",
    "import seaborn as sns\n",
    "import myfuntions as mf\n",
    "from sklearn.preprocessing import MinMaxScaler\n",
    "from sklearn.model_selection import train_test_split\n",
    "from sklearn.tree import DecisionTreeClassifier"
   ]
  },
  {
   "cell_type": "code",
   "execution_count": 2,
   "id": "12df2650-a2b9-401f-a603-3c546ce43906",
   "metadata": {
    "tags": []
   },
   "outputs": [
    {
     "name": "stderr",
     "output_type": "stream",
     "text": [
      "C:\\Users\\jacqui\\AppData\\Local\\Temp\\ipykernel_30332\\2854338045.py:3: DtypeWarning: Columns (7,43,44,45,46,47,48,49,50,51,52,53) have mixed types. Specify dtype option on import or set low_memory=False.\n",
      "  df_origin = pd.read_csv(file_cvs, delimiter=',', on_bad_lines='skip', encoding='unicode_escape')\n"
     ]
    }
   ],
   "source": [
    "# Read file - Donwload dataset in https://www.kaggle.com/datasets/jacquelineguzman/medical-bill-claims\n",
    "file_cvs = \"sabana_sede1.csv\"\n",
    "df_origin = pd.read_csv(file_cvs, delimiter=',', on_bad_lines='skip', encoding='unicode_escape')"
   ]
  },
  {
   "cell_type": "code",
   "execution_count": 3,
   "id": "9dc18a9d-76d1-4ac0-8780-95fc691bae64",
   "metadata": {
    "tags": []
   },
   "outputs": [
    {
     "data": {
      "text/plain": [
       "SEDE                            int64\n",
       "TIPO_ATENCION                  object\n",
       "ATENCION                        int64\n",
       "DETALLE_ATENCION               object\n",
       "CONS_PACIENTE                   int64\n",
       "INGRESO_PACIENTE                int64\n",
       "UBICACION_ATENCION             object\n",
       "HABITACION_ATENCION            object\n",
       "ESPECIALIDAD_ATENCION          object\n",
       "MEDICO_ATENCION                object\n",
       "TIPO_RESPON_PAGO               object\n",
       "RESPONSABLE_PAGO               object\n",
       "TARIFA_ATENCION                object\n",
       "TIPO_PACIENTE                  object\n",
       "SEXO_PACIENTE                  object\n",
       "FECHA_NACI_PACIENTE            object\n",
       "EDAD_INICIO_ATENCION            int64\n",
       "EDAD_EGRESO_ATENCION            int64\n",
       "FECHA_INGRESO_ATENCION         object\n",
       "FECHA_EGRESO_ATENCION          object\n",
       "MINUTOS_ESTANCIA                int64\n",
       "TIPO_AFILIADO                  object\n",
       "REGIMEN                        object\n",
       "TIPO_ADMINISTRADORA            object\n",
       "ADMINISTRADORA                 object\n",
       "CANT_ANTENCENDENTE_GRU_A01      int64\n",
       "CANT_ANTENCENDENTE_GRU_A02      int64\n",
       "CANT_ANTENCENDENTE_GRU_A03      int64\n",
       "CANT_ANTENCENDENTE_GRU_A04      int64\n",
       "CANT_ANTENCENDENTE_GRU_A06      int64\n",
       "CANT_ANTENCENDENTE_GRU_A07      int64\n",
       "CANT_ANTENCENDENTE_GRU_A08      int64\n",
       "CANT_ANTENCENDENTE_GRU_A09      int64\n",
       "CANT_ANTENCENDENTE_GRU_A11      int64\n",
       "CANT_ANTENCENDENTE_GRU_A12      int64\n",
       "CANT_ANTENCENDENTE_GRU_A13      int64\n",
       "CANT_ANTENCENDENTE_GRU_A14      int64\n",
       "CANT_ANTENCENDENTE_GRU_A20      int64\n",
       "CANT_ANTENCENDENTE_GRU_A23      int64\n",
       "CANT_ANTENCENDENTE_GRU_A24      int64\n",
       "CANT_ANTENCENDENTE_GRU_A25      int64\n",
       "DX_INGRESO                     object\n",
       "DX_PRINCIPAL                   object\n",
       "DX_EGRESO                      object\n",
       "DX_PREVIO                      object\n",
       "DX_POST                        object\n",
       "DX_RELACIONADO1                object\n",
       "DX_RELACIONADO2                object\n",
       "ESPECIALIDAD_1                 object\n",
       "ESPECIALIDAD_2                 object\n",
       "ESPECIALIDAD_3                 object\n",
       "ESPECIALIDAD_4                 object\n",
       "ESPECIALIDAD_5                 object\n",
       "ESPECIALIDAD_6                 object\n",
       "CONCEPTO_FACTURA_CARGO         object\n",
       "CODIGO_PRODUCTO_CARGO          object\n",
       "CCOSTO_CARGO                    int64\n",
       "TERCERO_CARGO                   int64\n",
       "FUENTE_FACTURA                 object\n",
       "NUMERO_FACTURA                  int64\n",
       "CANTIDAD_CARGO                  int64\n",
       "VALOR_TOTAL_CARGO               int64\n",
       "VALOR_FACTURADO_CARGO           int64\n",
       "CAUSA_RECLAMO                 float64\n",
       "VALOR_RECLAMADO               float64\n",
       "VALOR_ACEPTADO                  int64\n",
       "VALOR_FINAL_RECLAMADO           int64\n",
       "dtype: object"
      ]
     },
     "execution_count": 3,
     "metadata": {},
     "output_type": "execute_result"
    }
   ],
   "source": [
    "pd.set_option('display.max_rows', 100)\n",
    "df_origin.dtypes"
   ]
  },
  {
   "cell_type": "code",
   "execution_count": 4,
   "id": "7b4d89a4-a4b0-4d2f-a330-e85720bed2e8",
   "metadata": {
    "tags": []
   },
   "outputs": [
    {
     "data": {
      "text/html": [
       "<div>\n",
       "<style scoped>\n",
       "    .dataframe tbody tr th:only-of-type {\n",
       "        vertical-align: middle;\n",
       "    }\n",
       "\n",
       "    .dataframe tbody tr th {\n",
       "        vertical-align: top;\n",
       "    }\n",
       "\n",
       "    .dataframe thead th {\n",
       "        text-align: right;\n",
       "    }\n",
       "</style>\n",
       "<table border=\"1\" class=\"dataframe\">\n",
       "  <thead>\n",
       "    <tr style=\"text-align: right;\">\n",
       "      <th></th>\n",
       "      <th>SEDE</th>\n",
       "      <th>TIPO_ATENCION</th>\n",
       "      <th>ATENCION</th>\n",
       "      <th>DETALLE_ATENCION</th>\n",
       "      <th>CONS_PACIENTE</th>\n",
       "      <th>INGRESO_PACIENTE</th>\n",
       "      <th>UBICACION_ATENCION</th>\n",
       "      <th>HABITACION_ATENCION</th>\n",
       "      <th>ESPECIALIDAD_ATENCION</th>\n",
       "      <th>MEDICO_ATENCION</th>\n",
       "      <th>...</th>\n",
       "      <th>TERCERO_CARGO</th>\n",
       "      <th>FUENTE_FACTURA</th>\n",
       "      <th>NUMERO_FACTURA</th>\n",
       "      <th>CANTIDAD_CARGO</th>\n",
       "      <th>VALOR_TOTAL_CARGO</th>\n",
       "      <th>VALOR_FACTURADO_CARGO</th>\n",
       "      <th>CAUSA_RECLAMO</th>\n",
       "      <th>VALOR_RECLAMADO</th>\n",
       "      <th>VALOR_ACEPTADO</th>\n",
       "      <th>VALOR_FINAL_RECLAMADO</th>\n",
       "    </tr>\n",
       "  </thead>\n",
       "  <tbody>\n",
       "    <tr>\n",
       "      <th>0</th>\n",
       "      <td>4101</td>\n",
       "      <td>hosp_urge</td>\n",
       "      <td>771610</td>\n",
       "      <td>HOSP</td>\n",
       "      <td>219474</td>\n",
       "      <td>1</td>\n",
       "      <td>CHUR</td>\n",
       "      <td>NaN</td>\n",
       "      <td>CON</td>\n",
       "      <td>NaN</td>\n",
       "      <td>...</td>\n",
       "      <td>72182094</td>\n",
       "      <td>FH</td>\n",
       "      <td>5452</td>\n",
       "      <td>1</td>\n",
       "      <td>110000</td>\n",
       "      <td>110000</td>\n",
       "      <td>NaN</td>\n",
       "      <td>0.0</td>\n",
       "      <td>0</td>\n",
       "      <td>0</td>\n",
       "    </tr>\n",
       "    <tr>\n",
       "      <th>1</th>\n",
       "      <td>4101</td>\n",
       "      <td>hosp_urge</td>\n",
       "      <td>779997</td>\n",
       "      <td>HOSP</td>\n",
       "      <td>221797</td>\n",
       "      <td>1</td>\n",
       "      <td>CHUR</td>\n",
       "      <td>NaN</td>\n",
       "      <td>CON</td>\n",
       "      <td>NaN</td>\n",
       "      <td>...</td>\n",
       "      <td>0</td>\n",
       "      <td>FH</td>\n",
       "      <td>5744</td>\n",
       "      <td>1</td>\n",
       "      <td>76270</td>\n",
       "      <td>76270</td>\n",
       "      <td>NaN</td>\n",
       "      <td>0.0</td>\n",
       "      <td>0</td>\n",
       "      <td>0</td>\n",
       "    </tr>\n",
       "    <tr>\n",
       "      <th>2</th>\n",
       "      <td>4101</td>\n",
       "      <td>hosp_urge</td>\n",
       "      <td>781028</td>\n",
       "      <td>HOSP</td>\n",
       "      <td>222039</td>\n",
       "      <td>1</td>\n",
       "      <td>CHHD</td>\n",
       "      <td>J210</td>\n",
       "      <td>387</td>\n",
       "      <td>1085903094</td>\n",
       "      <td>...</td>\n",
       "      <td>0</td>\n",
       "      <td>FH</td>\n",
       "      <td>5489</td>\n",
       "      <td>1</td>\n",
       "      <td>16152</td>\n",
       "      <td>16152</td>\n",
       "      <td>NaN</td>\n",
       "      <td>0.0</td>\n",
       "      <td>0</td>\n",
       "      <td>0</td>\n",
       "    </tr>\n",
       "    <tr>\n",
       "      <th>3</th>\n",
       "      <td>4101</td>\n",
       "      <td>hosp_urge</td>\n",
       "      <td>774927</td>\n",
       "      <td>HOSP</td>\n",
       "      <td>220359</td>\n",
       "      <td>1</td>\n",
       "      <td>CHUR</td>\n",
       "      <td>NaN</td>\n",
       "      <td>CON</td>\n",
       "      <td>NaN</td>\n",
       "      <td>...</td>\n",
       "      <td>46669964</td>\n",
       "      <td>FH</td>\n",
       "      <td>5613</td>\n",
       "      <td>1</td>\n",
       "      <td>110000</td>\n",
       "      <td>110000</td>\n",
       "      <td>NaN</td>\n",
       "      <td>0.0</td>\n",
       "      <td>0</td>\n",
       "      <td>0</td>\n",
       "    </tr>\n",
       "    <tr>\n",
       "      <th>4</th>\n",
       "      <td>4101</td>\n",
       "      <td>hosp_urge</td>\n",
       "      <td>763117</td>\n",
       "      <td>HOSP</td>\n",
       "      <td>217386</td>\n",
       "      <td>1</td>\n",
       "      <td>CHUR</td>\n",
       "      <td>NaN</td>\n",
       "      <td>CON</td>\n",
       "      <td>NaN</td>\n",
       "      <td>...</td>\n",
       "      <td>52056800</td>\n",
       "      <td>FH</td>\n",
       "      <td>3061</td>\n",
       "      <td>1</td>\n",
       "      <td>58300</td>\n",
       "      <td>58300</td>\n",
       "      <td>NaN</td>\n",
       "      <td>0.0</td>\n",
       "      <td>0</td>\n",
       "      <td>0</td>\n",
       "    </tr>\n",
       "  </tbody>\n",
       "</table>\n",
       "<p>5 rows × 67 columns</p>\n",
       "</div>"
      ],
      "text/plain": [
       "   SEDE TIPO_ATENCION  ATENCION DETALLE_ATENCION  CONS_PACIENTE  \\\n",
       "0  4101     hosp_urge    771610             HOSP         219474   \n",
       "1  4101     hosp_urge    779997             HOSP         221797   \n",
       "2  4101     hosp_urge    781028             HOSP         222039   \n",
       "3  4101     hosp_urge    774927             HOSP         220359   \n",
       "4  4101     hosp_urge    763117             HOSP         217386   \n",
       "\n",
       "   INGRESO_PACIENTE UBICACION_ATENCION HABITACION_ATENCION  \\\n",
       "0                 1               CHUR                 NaN   \n",
       "1                 1               CHUR                 NaN   \n",
       "2                 1               CHHD                J210   \n",
       "3                 1               CHUR                 NaN   \n",
       "4                 1               CHUR                 NaN   \n",
       "\n",
       "  ESPECIALIDAD_ATENCION MEDICO_ATENCION  ... TERCERO_CARGO FUENTE_FACTURA  \\\n",
       "0                   CON             NaN  ...      72182094             FH   \n",
       "1                   CON             NaN  ...             0             FH   \n",
       "2                   387      1085903094  ...             0             FH   \n",
       "3                   CON             NaN  ...      46669964             FH   \n",
       "4                   CON             NaN  ...      52056800             FH   \n",
       "\n",
       "  NUMERO_FACTURA CANTIDAD_CARGO VALOR_TOTAL_CARGO VALOR_FACTURADO_CARGO  \\\n",
       "0           5452              1            110000                110000   \n",
       "1           5744              1             76270                 76270   \n",
       "2           5489              1             16152                 16152   \n",
       "3           5613              1            110000                110000   \n",
       "4           3061              1             58300                 58300   \n",
       "\n",
       "   CAUSA_RECLAMO  VALOR_RECLAMADO VALOR_ACEPTADO VALOR_FINAL_RECLAMADO  \n",
       "0            NaN              0.0              0                     0  \n",
       "1            NaN              0.0              0                     0  \n",
       "2            NaN              0.0              0                     0  \n",
       "3            NaN              0.0              0                     0  \n",
       "4            NaN              0.0              0                     0  \n",
       "\n",
       "[5 rows x 67 columns]"
      ]
     },
     "execution_count": 4,
     "metadata": {},
     "output_type": "execute_result"
    }
   ],
   "source": [
    "df_origin.head()"
   ]
  },
  {
   "cell_type": "code",
   "execution_count": 61,
   "id": "62a8d3fa-a1c3-4dd8-882a-3819e9bae84f",
   "metadata": {
    "tags": []
   },
   "outputs": [],
   "source": [
    "df=df_origin\n",
    "df=df.drop('SEDE', axis=1)"
   ]
  },
  {
   "cell_type": "code",
   "execution_count": 62,
   "id": "0c56029c-1db4-45b8-ad20-3ad5b42cff3d",
   "metadata": {
    "tags": []
   },
   "outputs": [
    {
     "data": {
      "text/plain": [
       "array(['hosp_urge', 'ambulatorio'], dtype=object)"
      ]
     },
     "execution_count": 62,
     "metadata": {},
     "output_type": "execute_result"
    }
   ],
   "source": [
    "df['TIPO_ATENCION'].unique()"
   ]
  },
  {
   "cell_type": "code",
   "execution_count": 63,
   "id": "a521d50f-a788-454b-9d31-0d21b4a763c7",
   "metadata": {
    "tags": []
   },
   "outputs": [],
   "source": [
    "df['TIPO_ATENCION']=df['TIPO_ATENCION'].replace('hosp_urge', 0)\n",
    "df['TIPO_ATENCION']=df['TIPO_ATENCION'].replace('ambulatorio', 1)"
   ]
  },
  {
   "cell_type": "code",
   "execution_count": 64,
   "id": "a6fb3cf3-98b7-4fce-8627-18654dd07a18",
   "metadata": {
    "tags": []
   },
   "outputs": [
    {
     "data": {
      "text/plain": [
       "array([0, 1], dtype=int64)"
      ]
     },
     "execution_count": 64,
     "metadata": {},
     "output_type": "execute_result"
    }
   ],
   "source": [
    "df['TIPO_ATENCION'].unique()"
   ]
  },
  {
   "cell_type": "code",
   "execution_count": 65,
   "id": "1b7b7620-3626-40e2-959f-093fcef37445",
   "metadata": {
    "tags": []
   },
   "outputs": [
    {
     "data": {
      "text/plain": [
       "count    6.097935e+06\n",
       "mean     2.703691e-01\n",
       "std      4.441505e-01\n",
       "min      0.000000e+00\n",
       "25%      0.000000e+00\n",
       "50%      0.000000e+00\n",
       "75%      1.000000e+00\n",
       "max      1.000000e+00\n",
       "Name: TIPO_ATENCION, dtype: float64"
      ]
     },
     "execution_count": 65,
     "metadata": {},
     "output_type": "execute_result"
    }
   ],
   "source": [
    "df['TIPO_ATENCION'].describe()"
   ]
  },
  {
   "cell_type": "code",
   "execution_count": 66,
   "id": "52603168-375b-4b6a-aa6c-ab13bce93be9",
   "metadata": {
    "tags": []
   },
   "outputs": [],
   "source": [
    "import numpy as np\n",
    "df['TIPO_ATENCION']=df['TIPO_ATENCION'].astype(np.int64)"
   ]
  },
  {
   "cell_type": "code",
   "execution_count": 67,
   "id": "8518142b-ce0d-4ca5-be54-f89a826ecb7a",
   "metadata": {
    "tags": []
   },
   "outputs": [
    {
     "data": {
      "text/plain": [
       "count    6.097935e+06\n",
       "mean     2.703691e-01\n",
       "std      4.441505e-01\n",
       "min      0.000000e+00\n",
       "25%      0.000000e+00\n",
       "50%      0.000000e+00\n",
       "75%      1.000000e+00\n",
       "max      1.000000e+00\n",
       "Name: TIPO_ATENCION, dtype: float64"
      ]
     },
     "execution_count": 67,
     "metadata": {},
     "output_type": "execute_result"
    }
   ],
   "source": [
    "df['TIPO_ATENCION'].describe()"
   ]
  },
  {
   "cell_type": "code",
   "execution_count": 68,
   "id": "1321fed6-c49b-4e40-916b-05a77943bc96",
   "metadata": {
    "tags": []
   },
   "outputs": [
    {
     "data": {
      "text/plain": [
       "TIPO_ATENCION                   int64\n",
       "ATENCION                        int64\n",
       "DETALLE_ATENCION               object\n",
       "CONS_PACIENTE                   int64\n",
       "INGRESO_PACIENTE                int64\n",
       "UBICACION_ATENCION             object\n",
       "HABITACION_ATENCION            object\n",
       "ESPECIALIDAD_ATENCION          object\n",
       "MEDICO_ATENCION                object\n",
       "TIPO_RESPON_PAGO               object\n",
       "RESPONSABLE_PAGO               object\n",
       "TARIFA_ATENCION                object\n",
       "TIPO_PACIENTE                  object\n",
       "SEXO_PACIENTE                  object\n",
       "FECHA_NACI_PACIENTE            object\n",
       "EDAD_INICIO_ATENCION            int64\n",
       "EDAD_EGRESO_ATENCION            int64\n",
       "FECHA_INGRESO_ATENCION         object\n",
       "FECHA_EGRESO_ATENCION          object\n",
       "MINUTOS_ESTANCIA                int64\n",
       "TIPO_AFILIADO                  object\n",
       "REGIMEN                        object\n",
       "TIPO_ADMINISTRADORA            object\n",
       "ADMINISTRADORA                 object\n",
       "CANT_ANTENCENDENTE_GRU_A01      int64\n",
       "CANT_ANTENCENDENTE_GRU_A02      int64\n",
       "CANT_ANTENCENDENTE_GRU_A03      int64\n",
       "CANT_ANTENCENDENTE_GRU_A04      int64\n",
       "CANT_ANTENCENDENTE_GRU_A06      int64\n",
       "CANT_ANTENCENDENTE_GRU_A07      int64\n",
       "CANT_ANTENCENDENTE_GRU_A08      int64\n",
       "CANT_ANTENCENDENTE_GRU_A09      int64\n",
       "CANT_ANTENCENDENTE_GRU_A11      int64\n",
       "CANT_ANTENCENDENTE_GRU_A12      int64\n",
       "CANT_ANTENCENDENTE_GRU_A13      int64\n",
       "CANT_ANTENCENDENTE_GRU_A14      int64\n",
       "CANT_ANTENCENDENTE_GRU_A20      int64\n",
       "CANT_ANTENCENDENTE_GRU_A23      int64\n",
       "CANT_ANTENCENDENTE_GRU_A24      int64\n",
       "CANT_ANTENCENDENTE_GRU_A25      int64\n",
       "DX_INGRESO                     object\n",
       "DX_PRINCIPAL                   object\n",
       "DX_EGRESO                      object\n",
       "DX_PREVIO                      object\n",
       "DX_POST                        object\n",
       "DX_RELACIONADO1                object\n",
       "DX_RELACIONADO2                object\n",
       "ESPECIALIDAD_1                 object\n",
       "ESPECIALIDAD_2                 object\n",
       "ESPECIALIDAD_3                 object\n",
       "ESPECIALIDAD_4                 object\n",
       "ESPECIALIDAD_5                 object\n",
       "ESPECIALIDAD_6                 object\n",
       "CONCEPTO_FACTURA_CARGO         object\n",
       "CODIGO_PRODUCTO_CARGO          object\n",
       "CCOSTO_CARGO                    int64\n",
       "TERCERO_CARGO                   int64\n",
       "FUENTE_FACTURA                 object\n",
       "NUMERO_FACTURA                  int64\n",
       "CANTIDAD_CARGO                  int64\n",
       "VALOR_TOTAL_CARGO               int64\n",
       "VALOR_FACTURADO_CARGO           int64\n",
       "CAUSA_RECLAMO                 float64\n",
       "VALOR_RECLAMADO               float64\n",
       "VALOR_ACEPTADO                  int64\n",
       "VALOR_FINAL_RECLAMADO           int64\n",
       "dtype: object"
      ]
     },
     "execution_count": 68,
     "metadata": {},
     "output_type": "execute_result"
    }
   ],
   "source": [
    "df.dtypes"
   ]
  },
  {
   "cell_type": "code",
   "execution_count": 69,
   "id": "173e7d6d-626b-4418-af7a-e3474c3fb0f1",
   "metadata": {
    "tags": []
   },
   "outputs": [
    {
     "data": {
      "text/plain": [
       "count    6.097935e+06\n",
       "mean     1.889232e+06\n",
       "std      5.859895e+05\n",
       "min      0.000000e+00\n",
       "25%      1.415267e+06\n",
       "50%      1.890184e+06\n",
       "75%      2.386521e+06\n",
       "max      2.939909e+06\n",
       "Name: ATENCION, dtype: float64"
      ]
     },
     "execution_count": 69,
     "metadata": {},
     "output_type": "execute_result"
    }
   ],
   "source": [
    "df['ATENCION'].describe()"
   ]
  },
  {
   "cell_type": "code",
   "execution_count": 70,
   "id": "5fbfbcf1-25f6-4d2c-9b91-b45e932d4de0",
   "metadata": {
    "tags": []
   },
   "outputs": [
    {
     "data": {
      "text/plain": [
       "array(['HOSP', 'URGE', 'LABO', 'CEXT', 'AYDX', 'AYRA'], dtype=object)"
      ]
     },
     "execution_count": 70,
     "metadata": {},
     "output_type": "execute_result"
    }
   ],
   "source": [
    "df['DETALLE_ATENCION'].unique()"
   ]
  },
  {
   "cell_type": "code",
   "execution_count": 71,
   "id": "981ef1dc-34f7-438b-a4a4-77dc26f7db12",
   "metadata": {
    "tags": []
   },
   "outputs": [],
   "source": [
    "df['DETALLE_ATENCION']=df['DETALLE_ATENCION'].replace('HOSP', 0)\n",
    "df['DETALLE_ATENCION']=df['DETALLE_ATENCION'].replace('URGE', 1)\n",
    "df['DETALLE_ATENCION']=df['DETALLE_ATENCION'].replace('LABO', 2)\n",
    "df['DETALLE_ATENCION']=df['DETALLE_ATENCION'].replace('CEXT', 3)\n",
    "df['DETALLE_ATENCION']=df['DETALLE_ATENCION'].replace('AYDX', 4)\n",
    "df['DETALLE_ATENCION']=df['DETALLE_ATENCION'].replace('AYRA', 5)"
   ]
  },
  {
   "cell_type": "code",
   "execution_count": 72,
   "id": "22362dae-0c3f-423e-937d-1cd82fd10da2",
   "metadata": {
    "tags": []
   },
   "outputs": [],
   "source": [
    "df['DETALLE_ATENCION']=df['DETALLE_ATENCION'].astype(np.int64)"
   ]
  },
  {
   "cell_type": "code",
   "execution_count": 73,
   "id": "121099bd-22ba-423d-8161-5555d7563c01",
   "metadata": {
    "tags": []
   },
   "outputs": [
    {
     "data": {
      "text/plain": [
       "array([0, 1, 2, 3, 4, 5], dtype=int64)"
      ]
     },
     "execution_count": 73,
     "metadata": {},
     "output_type": "execute_result"
    }
   ],
   "source": [
    "df['DETALLE_ATENCION'].unique()"
   ]
  },
  {
   "cell_type": "code",
   "execution_count": 74,
   "id": "fe5a488f-dece-4902-90ed-c111cbeaea32",
   "metadata": {
    "tags": []
   },
   "outputs": [
    {
     "data": {
      "text/plain": [
       "count    6.097935e+06\n",
       "mean     9.866045e-01\n",
       "std      1.327139e+00\n",
       "min      0.000000e+00\n",
       "25%      0.000000e+00\n",
       "50%      0.000000e+00\n",
       "75%      2.000000e+00\n",
       "max      5.000000e+00\n",
       "Name: DETALLE_ATENCION, dtype: float64"
      ]
     },
     "execution_count": 74,
     "metadata": {},
     "output_type": "execute_result"
    }
   ],
   "source": [
    "df['DETALLE_ATENCION'].describe()"
   ]
  },
  {
   "cell_type": "code",
   "execution_count": 75,
   "id": "7c5784fa-f9e6-4eb6-ae6e-30475a741f64",
   "metadata": {
    "tags": []
   },
   "outputs": [
    {
     "data": {
      "text/plain": [
       "array(['CHUR', 'CHHD', 'CHHT', 'CHHC', 'CHCI', 'CHTS', 'CHUC', 'CHHQ',\n",
       "       'CHUG', 'CHCE', 'JHEM', 'UNIM', 'JELE', 'URGE'], dtype=object)"
      ]
     },
     "execution_count": 75,
     "metadata": {},
     "output_type": "execute_result"
    }
   ],
   "source": [
    "#UBICACION_ATENCION\n",
    "df['UBICACION_ATENCION'].unique()"
   ]
  },
  {
   "cell_type": "code",
   "execution_count": 76,
   "id": "3e38b2c5-7fd3-46d1-bc20-240ee7b7660e",
   "metadata": {
    "tags": []
   },
   "outputs": [],
   "source": [
    "df['UBICACION_ATENCION']=df['UBICACION_ATENCION'].replace('CHUR', 0)\n",
    "df['UBICACION_ATENCION']=df['UBICACION_ATENCION'].replace('CHHD', 1)\n",
    "df['UBICACION_ATENCION']=df['UBICACION_ATENCION'].replace('CHHT', 2)\n",
    "df['UBICACION_ATENCION']=df['UBICACION_ATENCION'].replace('CHHC', 3)\n",
    "df['UBICACION_ATENCION']=df['UBICACION_ATENCION'].replace('CHCI', 4)\n",
    "df['UBICACION_ATENCION']=df['UBICACION_ATENCION'].replace('CHTS', 5)\n",
    "df['UBICACION_ATENCION']=df['UBICACION_ATENCION'].replace('CHUC', 6)\n",
    "df['UBICACION_ATENCION']=df['UBICACION_ATENCION'].replace('CHHQ', 7)\n",
    "df['UBICACION_ATENCION']=df['UBICACION_ATENCION'].replace('CHUG', 8)\n",
    "df['UBICACION_ATENCION']=df['UBICACION_ATENCION'].replace('CHCE', 9)\n",
    "df['UBICACION_ATENCION']=df['UBICACION_ATENCION'].replace('JHEM', 10)\n",
    "df['UBICACION_ATENCION']=df['UBICACION_ATENCION'].replace('UNIM', 11)\n",
    "df['UBICACION_ATENCION']=df['UBICACION_ATENCION'].replace('JELE', 12)\n",
    "df['UBICACION_ATENCION']=df['UBICACION_ATENCION'].replace('URGE', 13)"
   ]
  },
  {
   "cell_type": "code",
   "execution_count": 77,
   "id": "ed5091c9-44b4-47aa-a133-bac8bfd81834",
   "metadata": {
    "tags": []
   },
   "outputs": [],
   "source": [
    "df['UBICACION_ATENCION']=df['UBICACION_ATENCION'].astype(np.int64)"
   ]
  },
  {
   "cell_type": "code",
   "execution_count": 78,
   "id": "cfeb57b9-4177-4edc-9248-ef6c26192950",
   "metadata": {
    "tags": []
   },
   "outputs": [
    {
     "data": {
      "text/plain": [
       "array([ 0,  1,  2,  3,  4,  5,  6,  7,  8,  9, 10, 11, 12, 13],\n",
       "      dtype=int64)"
      ]
     },
     "execution_count": 78,
     "metadata": {},
     "output_type": "execute_result"
    }
   ],
   "source": [
    "df['UBICACION_ATENCION'].unique()"
   ]
  },
  {
   "cell_type": "code",
   "execution_count": 79,
   "id": "391b2813-4d43-42f9-b84b-ea23e89bd7e1",
   "metadata": {
    "tags": []
   },
   "outputs": [
    {
     "data": {
      "text/plain": [
       "count    6.097935e+06\n",
       "mean     3.627567e+00\n",
       "std      3.708380e+00\n",
       "min      0.000000e+00\n",
       "25%      0.000000e+00\n",
       "50%      2.000000e+00\n",
       "75%      9.000000e+00\n",
       "max      1.300000e+01\n",
       "Name: UBICACION_ATENCION, dtype: float64"
      ]
     },
     "execution_count": 79,
     "metadata": {},
     "output_type": "execute_result"
    }
   ],
   "source": [
    "df['UBICACION_ATENCION'].describe()"
   ]
  },
  {
   "cell_type": "code",
   "execution_count": 80,
   "id": "5f7f4244-e0a5-49d6-bd8a-9000da4c758c",
   "metadata": {
    "tags": []
   },
   "outputs": [
    {
     "data": {
      "text/plain": [
       "array([nan, 'J210', 'J207', 'J211', 'J305', 'J303', 'J306', 'J312',\n",
       "       'J314', 'J325', 'J419', 'J320', 'J316', 'J209', 'J304', 'J426',\n",
       "       'J327', 'J308', 'J208', 'J318', 'J321', 'J310', 'J416', 'J323',\n",
       "       'J322', 'J328', 'J422', 'J424', 'J324', 'J421', 'J201', 'J302',\n",
       "       'J326', 'J329', 'J205', 'J203', 'J418', 'J319', 'J317', 'J202',\n",
       "       'J206', 'J204', 'J216', 'J213', 'J217', 'J417', 'J420', 'J301',\n",
       "       '322', 'J423', '317', 'J427', '308', 'UCN4', 'J214', 'J212', '302',\n",
       "       'J425', '304', '306', 'J428', '312', '305', '314'], dtype=object)"
      ]
     },
     "execution_count": 80,
     "metadata": {},
     "output_type": "execute_result"
    }
   ],
   "source": [
    "df['HABITACION_ATENCION'].unique()"
   ]
  },
  {
   "cell_type": "code",
   "execution_count": 81,
   "id": "7e5d1139-226f-4984-9c7c-09313329b843",
   "metadata": {
    "tags": []
   },
   "outputs": [],
   "source": [
    "df['HABITACION_ATENCION']=df['HABITACION_ATENCION'].replace({'J':''},regex=True)\n",
    "df['HABITACION_ATENCION']=df['HABITACION_ATENCION'].fillna(0)\n",
    "df['HABITACION_ATENCION']=df['HABITACION_ATENCION'].replace('UCN4', 1)"
   ]
  },
  {
   "cell_type": "code",
   "execution_count": 82,
   "id": "43228564-c60c-413f-b53b-5497380148b5",
   "metadata": {
    "tags": []
   },
   "outputs": [],
   "source": [
    "df['HABITACION_ATENCION']=df['HABITACION_ATENCION'].astype(np.int64)"
   ]
  },
  {
   "cell_type": "code",
   "execution_count": 83,
   "id": "4227ed71-5188-4b3a-bab9-4a943288066d",
   "metadata": {
    "tags": []
   },
   "outputs": [
    {
     "data": {
      "text/plain": [
       "array([  0, 210, 207, 211, 305, 303, 306, 312, 314, 325, 419, 320, 316,\n",
       "       209, 304, 426, 327, 308, 208, 318, 321, 310, 416, 323, 322, 328,\n",
       "       422, 424, 324, 421, 201, 302, 326, 329, 205, 203, 418, 319, 317,\n",
       "       202, 206, 204, 216, 213, 217, 417, 420, 301, 423, 427,   1, 214,\n",
       "       212, 425, 428], dtype=int64)"
      ]
     },
     "execution_count": 83,
     "metadata": {},
     "output_type": "execute_result"
    }
   ],
   "source": [
    "df['HABITACION_ATENCION'].unique()"
   ]
  },
  {
   "cell_type": "code",
   "execution_count": 84,
   "id": "f859c941-5a26-4054-9281-f94a5a2203b5",
   "metadata": {
    "tags": []
   },
   "outputs": [
    {
     "data": {
      "text/plain": [
       "array(['CON', '387', '550', '137', '430', '514', '441', '750', '521',\n",
       "       '440', '410', '830', '142', '515', '134', '341', '420', '143',\n",
       "       '310', '131', '133', '351', '138', '010', '230', '991', '480',\n",
       "       '021', '160', '531', '740', '950', '320', '995', '148', '140',\n",
       "       '147', '386', '450', '120', '992', '121', '132', '141', '551',\n",
       "       '382', '136', '431', '442', '200', '590', '870', '895', '240',\n",
       "       '383', '122', '820', '312', '925', '620', '500', '880', '283',\n",
       "       '963', '999', '360', '290', '602', '190', '902', '690', '220',\n",
       "       '998', '601', '144', 'ACL', '065', '530', '903', '100', '930',\n",
       "       '600', '890', '385'], dtype=object)"
      ]
     },
     "execution_count": 84,
     "metadata": {},
     "output_type": "execute_result"
    }
   ],
   "source": [
    "df['ESPECIALIDAD_ATENCION'].unique()"
   ]
  },
  {
   "cell_type": "code",
   "execution_count": 85,
   "id": "6579c213-eb9a-4574-996a-cb69fd7b7a5a",
   "metadata": {
    "tags": []
   },
   "outputs": [],
   "source": [
    "df['ESPECIALIDAD_ATENCION']=df['ESPECIALIDAD_ATENCION'].replace('CON', 1)\n",
    "df['ESPECIALIDAD_ATENCION']=df['ESPECIALIDAD_ATENCION'].replace('ACL', 2)"
   ]
  },
  {
   "cell_type": "code",
   "execution_count": 86,
   "id": "035fe6d0-adbd-411a-b7fd-a656ae9a7397",
   "metadata": {
    "tags": []
   },
   "outputs": [
    {
     "data": {
      "text/plain": [
       "array([1, '387', '550', '137', '430', '514', '441', '750', '521', '440',\n",
       "       '410', '830', '142', '515', '134', '341', '420', '143', '310',\n",
       "       '131', '133', '351', '138', '010', '230', '991', '480', '021',\n",
       "       '160', '531', '740', '950', '320', '995', '148', '140', '147',\n",
       "       '386', '450', '120', '992', '121', '132', '141', '551', '382',\n",
       "       '136', '431', '442', '200', '590', '870', '895', '240', '383',\n",
       "       '122', '820', '312', '925', '620', '500', '880', '283', '963',\n",
       "       '999', '360', '290', '602', '190', '902', '690', '220', '998',\n",
       "       '601', '144', 2, '065', '530', '903', '100', '930', '600', '890',\n",
       "       '385'], dtype=object)"
      ]
     },
     "execution_count": 86,
     "metadata": {},
     "output_type": "execute_result"
    }
   ],
   "source": [
    "df['ESPECIALIDAD_ATENCION'].unique()"
   ]
  },
  {
   "cell_type": "code",
   "execution_count": 89,
   "id": "0162f6ae-0015-4c1b-9d57-11f8f21bfa43",
   "metadata": {
    "tags": []
   },
   "outputs": [],
   "source": [
    "df['ESPECIALIDAD_ATENCION']=df['ESPECIALIDAD_ATENCION'].astype(np.int64)"
   ]
  },
  {
   "cell_type": "code",
   "execution_count": 90,
   "id": "9015f756-e783-45a6-971f-53c0383c57c6",
   "metadata": {
    "tags": []
   },
   "outputs": [
    {
     "data": {
      "text/plain": [
       "array([  1, 387, 550, 137, 430, 514, 441, 750, 521, 440, 410, 830, 142,\n",
       "       515, 134, 341, 420, 143, 310, 131, 133, 351, 138,  10, 230, 991,\n",
       "       480,  21, 160, 531, 740, 950, 320, 995, 148, 140, 147, 386, 450,\n",
       "       120, 992, 121, 132, 141, 551, 382, 136, 431, 442, 200, 590, 870,\n",
       "       895, 240, 383, 122, 820, 312, 925, 620, 500, 880, 283, 963, 999,\n",
       "       360, 290, 602, 190, 902, 690, 220, 998, 601, 144,   2,  65, 530,\n",
       "       903, 100, 930, 600, 890, 385], dtype=int64)"
      ]
     },
     "execution_count": 90,
     "metadata": {},
     "output_type": "execute_result"
    }
   ],
   "source": [
    "df['ESPECIALIDAD_ATENCION'].unique()"
   ]
  },
  {
   "cell_type": "code",
   "execution_count": 91,
   "id": "a209cd7e-6544-4296-8562-289b7e59cdd2",
   "metadata": {
    "tags": []
   },
   "outputs": [
    {
     "data": {
      "text/plain": [
       "array(['CON', '387', '550', '137', nan, '750', '521', '410', '830', '514',\n",
       "       '515', '134', '341', '430', '420', '441', '310', '131', '133',\n",
       "       '010', '440', '143', '142', '230', '991', '480', '138', '021',\n",
       "       '160', '531', '950', '995', '320', '148', '140', '147', '386',\n",
       "       '450', '120', '992', '132', '141', '551', '382', '136', '431',\n",
       "       '442', '121', '200', '590', '870', '895', '740', '290', '602',\n",
       "       '190', 450.0, '351', '925', '100', 387.0], dtype=object)"
      ]
     },
     "execution_count": 91,
     "metadata": {},
     "output_type": "execute_result"
    }
   ],
   "source": [
    "df['ESPECIALIDAD_1'].unique()"
   ]
  },
  {
   "cell_type": "code",
   "execution_count": 92,
   "id": "ba664018-d173-4210-b01f-14721f4af9b7",
   "metadata": {
    "tags": []
   },
   "outputs": [],
   "source": [
    "df['ESPECIALIDAD_1']=df['ESPECIALIDAD_1'].fillna(0)\n",
    "df['ESPECIALIDAD_1']=df['ESPECIALIDAD_1'].replace('CON', 1)\n",
    "df['ESPECIALIDAD_1']=df['ESPECIALIDAD_1'].replace('ACL', 2)"
   ]
  },
  {
   "cell_type": "code",
   "execution_count": 93,
   "id": "6508770f-04ba-4804-aafc-32e6035b2b48",
   "metadata": {
    "tags": []
   },
   "outputs": [
    {
     "data": {
      "text/plain": [
       "array([1, '387', '550', '137', 0, '750', '521', '410', '830', '514',\n",
       "       '515', '134', '341', '430', '420', '441', '310', '131', '133',\n",
       "       '010', '440', '143', '142', '230', '991', '480', '138', '021',\n",
       "       '160', '531', '950', '995', '320', '148', '140', '147', '386',\n",
       "       '450', '120', '992', '132', '141', '551', '382', '136', '431',\n",
       "       '442', '121', '200', '590', '870', '895', '740', '290', '602',\n",
       "       '190', 450.0, '351', '925', '100', 387.0], dtype=object)"
      ]
     },
     "execution_count": 93,
     "metadata": {},
     "output_type": "execute_result"
    }
   ],
   "source": [
    "df['ESPECIALIDAD_1'].unique()"
   ]
  },
  {
   "cell_type": "code",
   "execution_count": 94,
   "id": "6e05c98f-b7b4-4f5b-857a-e1e8049cd891",
   "metadata": {
    "tags": []
   },
   "outputs": [],
   "source": [
    "df['ESPECIALIDAD_1']=df['ESPECIALIDAD_1'].astype(np.int64)"
   ]
  },
  {
   "cell_type": "code",
   "execution_count": 95,
   "id": "619e9ae9-fbb4-4137-ab2a-3325daa91c49",
   "metadata": {
    "tags": []
   },
   "outputs": [
    {
     "data": {
      "text/plain": [
       "array([  1, 387, 550, 137,   0, 750, 521, 410, 830, 514, 515, 134, 341,\n",
       "       430, 420, 441, 310, 131, 133,  10, 440, 143, 142, 230, 991, 480,\n",
       "       138,  21, 160, 531, 950, 995, 320, 148, 140, 147, 386, 450, 120,\n",
       "       992, 132, 141, 551, 382, 136, 431, 442, 121, 200, 590, 870, 895,\n",
       "       740, 290, 602, 190, 351, 925, 100], dtype=int64)"
      ]
     },
     "execution_count": 95,
     "metadata": {},
     "output_type": "execute_result"
    }
   ],
   "source": [
    "df['ESPECIALIDAD_1'].unique()"
   ]
  },
  {
   "cell_type": "code",
   "execution_count": 96,
   "id": "53e879af-459b-4ae6-af87-5911fb97d925",
   "metadata": {
    "tags": []
   },
   "outputs": [
    {
     "data": {
      "text/plain": [
       "array([nan, '430', '514', '441', '440', '750', '142', '143', '351', '133',\n",
       "       '138', '137', '341', '387', '521', '515', '480', '740', '320',\n",
       "       'CON', '120', '830', '121', '310', '991', '148', '410', '550',\n",
       "       '134', '021', 441.0, 750.0, 514.0, 142.0, 410.0, 387.0, 310.0,\n",
       "       138.0, 143.0, 440.0, 137.0, 550.0, 521.0, 991.0, 133.0, 430.0,\n",
       "       '230', 341.0, 830.0, 515.0, 134.0, 320.0, 121.0, 21.0, 480.0,\n",
       "       148.0, 740.0, 120.0, '590', '160', 351.0, '450', 590.0, 230.0,\n",
       "       160.0], dtype=object)"
      ]
     },
     "execution_count": 96,
     "metadata": {},
     "output_type": "execute_result"
    }
   ],
   "source": [
    "df['ESPECIALIDAD_2'].unique()"
   ]
  },
  {
   "cell_type": "code",
   "execution_count": 97,
   "id": "4fbb3f28-02a5-4190-9b55-27ca54ec1a2e",
   "metadata": {
    "tags": []
   },
   "outputs": [],
   "source": [
    "df['ESPECIALIDAD_2']=df['ESPECIALIDAD_2'].fillna(0)\n",
    "df['ESPECIALIDAD_2']=df['ESPECIALIDAD_2'].replace('CON', 1)\n",
    "df['ESPECIALIDAD_2']=df['ESPECIALIDAD_2'].replace('ACL', 2)"
   ]
  },
  {
   "cell_type": "code",
   "execution_count": 98,
   "id": "296103be-333f-46c1-baf5-221574b5c9da",
   "metadata": {
    "tags": []
   },
   "outputs": [
    {
     "data": {
      "text/plain": [
       "array([0, '430', '514', '441', '440', '750', '142', '143', '351', '133',\n",
       "       '138', '137', '341', '387', '521', '515', '480', '740', '320', 1,\n",
       "       '120', '830', '121', '310', '991', '148', '410', '550', '134',\n",
       "       '021', 441.0, 750.0, 514.0, 142.0, 410.0, 387.0, 310.0, 138.0,\n",
       "       143.0, 440.0, 137.0, 550.0, 521.0, 991.0, 133.0, 430.0, '230',\n",
       "       341.0, 830.0, 515.0, 134.0, 320.0, 121.0, 21.0, 480.0, 148.0,\n",
       "       740.0, 120.0, '590', '160', 351.0, '450', 590.0, 230.0, 160.0],\n",
       "      dtype=object)"
      ]
     },
     "execution_count": 98,
     "metadata": {},
     "output_type": "execute_result"
    }
   ],
   "source": [
    "df['ESPECIALIDAD_2'].unique()"
   ]
  },
  {
   "cell_type": "code",
   "execution_count": 99,
   "id": "901e5cb1-4b9e-4b6e-a805-723136fe3d87",
   "metadata": {
    "tags": []
   },
   "outputs": [],
   "source": [
    "df['ESPECIALIDAD_2']=df['ESPECIALIDAD_2'].astype(np.int64)"
   ]
  },
  {
   "cell_type": "code",
   "execution_count": 100,
   "id": "de01baae-1878-49fe-a372-c3b768328cfe",
   "metadata": {
    "tags": []
   },
   "outputs": [
    {
     "data": {
      "text/plain": [
       "array([  0, 430, 514, 441, 440, 750, 142, 143, 351, 133, 138, 137, 341,\n",
       "       387, 521, 515, 480, 740, 320,   1, 120, 830, 121, 310, 991, 148,\n",
       "       410, 550, 134,  21, 230, 590, 160, 450], dtype=int64)"
      ]
     },
     "execution_count": 100,
     "metadata": {},
     "output_type": "execute_result"
    }
   ],
   "source": [
    "df['ESPECIALIDAD_2'].unique()"
   ]
  },
  {
   "cell_type": "code",
   "execution_count": 101,
   "id": "89cb6f49-2ab6-45b2-b13f-7e56595be7d4",
   "metadata": {
    "tags": []
   },
   "outputs": [
    {
     "data": {
      "text/plain": [
       "array([nan, '430', '143', '133', '441', '142', 'CON', '440', 750.0, 514.0,\n",
       "       133.0, 441.0, 142.0, 521.0, '750', '137', '514', 310.0, 440.0,\n",
       "       '521', 143.0, 430.0, 137.0, '310'], dtype=object)"
      ]
     },
     "execution_count": 101,
     "metadata": {},
     "output_type": "execute_result"
    }
   ],
   "source": [
    "df['ESPECIALIDAD_3'].unique()"
   ]
  },
  {
   "cell_type": "code",
   "execution_count": 102,
   "id": "2dd5b92b-a71e-461b-b9a7-d7e0ed5cb707",
   "metadata": {
    "tags": []
   },
   "outputs": [],
   "source": [
    "df['ESPECIALIDAD_3']=df['ESPECIALIDAD_3'].fillna(0)\n",
    "df['ESPECIALIDAD_3']=df['ESPECIALIDAD_3'].replace('CON', 1)\n",
    "df['ESPECIALIDAD_3']=df['ESPECIALIDAD_3'].replace('ACL', 2)"
   ]
  },
  {
   "cell_type": "code",
   "execution_count": 103,
   "id": "e215d05c-0dde-4ae2-8679-340251d3d0c9",
   "metadata": {
    "tags": []
   },
   "outputs": [
    {
     "data": {
      "text/plain": [
       "array([0, '430', '143', '133', '441', '142', 1, '440', 750.0, 514.0,\n",
       "       133.0, 441.0, 142.0, 521.0, '750', '137', '514', 310.0, 440.0,\n",
       "       '521', 143.0, 430.0, 137.0, '310'], dtype=object)"
      ]
     },
     "execution_count": 103,
     "metadata": {},
     "output_type": "execute_result"
    }
   ],
   "source": [
    "df['ESPECIALIDAD_3'].unique()"
   ]
  },
  {
   "cell_type": "code",
   "execution_count": 104,
   "id": "0bf99619-a2b4-4933-b64f-a1a578e77c51",
   "metadata": {
    "tags": []
   },
   "outputs": [],
   "source": [
    "df['ESPECIALIDAD_3']=df['ESPECIALIDAD_3'].astype(np.int64)"
   ]
  },
  {
   "cell_type": "code",
   "execution_count": 105,
   "id": "64709610-952c-4a31-a2ce-48d5f7d938a1",
   "metadata": {
    "tags": []
   },
   "outputs": [
    {
     "data": {
      "text/plain": [
       "array([  0, 430, 143, 133, 441, 142,   1, 440, 750, 514, 521, 137, 310],\n",
       "      dtype=int64)"
      ]
     },
     "execution_count": 105,
     "metadata": {},
     "output_type": "execute_result"
    }
   ],
   "source": [
    "df['ESPECIALIDAD_3'].unique()"
   ]
  },
  {
   "cell_type": "code",
   "execution_count": 106,
   "id": "ea2ff46b-da17-4c31-a2e1-603446089eae",
   "metadata": {
    "tags": []
   },
   "outputs": [
    {
     "data": {
      "text/plain": [
       "array([nan, 'CON'], dtype=object)"
      ]
     },
     "execution_count": 106,
     "metadata": {},
     "output_type": "execute_result"
    }
   ],
   "source": [
    "df['ESPECIALIDAD_4'].unique()"
   ]
  },
  {
   "cell_type": "code",
   "execution_count": 107,
   "id": "5685e386-a45b-4e92-9ef3-8869f76edeab",
   "metadata": {
    "tags": []
   },
   "outputs": [],
   "source": [
    "df['ESPECIALIDAD_4']=df['ESPECIALIDAD_4'].fillna(0)\n",
    "df['ESPECIALIDAD_4']=df['ESPECIALIDAD_4'].replace('CON', 1)\n",
    "df['ESPECIALIDAD_4']=df['ESPECIALIDAD_4'].replace('ACL', 2)"
   ]
  },
  {
   "cell_type": "code",
   "execution_count": 108,
   "id": "c04d5b95-0fe5-4be4-bdf5-435839f70d8d",
   "metadata": {
    "tags": []
   },
   "outputs": [
    {
     "data": {
      "text/plain": [
       "array([0, 1], dtype=int64)"
      ]
     },
     "execution_count": 108,
     "metadata": {},
     "output_type": "execute_result"
    }
   ],
   "source": [
    "df['ESPECIALIDAD_4'].unique()"
   ]
  },
  {
   "cell_type": "code",
   "execution_count": 109,
   "id": "d1b3e67c-2bd6-4fc0-800f-93dee850be7a",
   "metadata": {
    "tags": []
   },
   "outputs": [],
   "source": [
    "df['ESPECIALIDAD_4']=df['ESPECIALIDAD_4'].astype(np.int64)"
   ]
  },
  {
   "cell_type": "code",
   "execution_count": 110,
   "id": "b6e10439-6173-4878-9afa-48b5f77ef5a8",
   "metadata": {
    "tags": []
   },
   "outputs": [
    {
     "data": {
      "text/plain": [
       "array([0, 1], dtype=int64)"
      ]
     },
     "execution_count": 110,
     "metadata": {},
     "output_type": "execute_result"
    }
   ],
   "source": [
    "df['ESPECIALIDAD_4'].unique()"
   ]
  },
  {
   "cell_type": "code",
   "execution_count": 111,
   "id": "59f8b970-8c19-4a23-b708-13120e552e50",
   "metadata": {
    "tags": []
   },
   "outputs": [
    {
     "data": {
      "text/plain": [
       "array([nan, 440.0, 'CON', '440'], dtype=object)"
      ]
     },
     "execution_count": 111,
     "metadata": {},
     "output_type": "execute_result"
    }
   ],
   "source": [
    "df['ESPECIALIDAD_5'].unique()"
   ]
  },
  {
   "cell_type": "code",
   "execution_count": 112,
   "id": "06dc9b8c-8a87-4bad-a1eb-151f3ac3f8f0",
   "metadata": {
    "tags": []
   },
   "outputs": [],
   "source": [
    "df['ESPECIALIDAD_5']=df['ESPECIALIDAD_5'].fillna(0)\n",
    "df['ESPECIALIDAD_5']=df['ESPECIALIDAD_5'].replace('CON', 1)\n",
    "df['ESPECIALIDAD_5']=df['ESPECIALIDAD_5'].replace('ACL', 2)"
   ]
  },
  {
   "cell_type": "code",
   "execution_count": 113,
   "id": "fe17e64c-9626-4e55-9440-c85c9decba8b",
   "metadata": {
    "tags": []
   },
   "outputs": [
    {
     "data": {
      "text/plain": [
       "array([0, 440.0, 1, '440'], dtype=object)"
      ]
     },
     "execution_count": 113,
     "metadata": {},
     "output_type": "execute_result"
    }
   ],
   "source": [
    "df['ESPECIALIDAD_5'].unique()"
   ]
  },
  {
   "cell_type": "code",
   "execution_count": 114,
   "id": "16459a78-16d4-48b1-b619-c8a0ccb015ce",
   "metadata": {
    "tags": []
   },
   "outputs": [],
   "source": [
    "df['ESPECIALIDAD_5']=df['ESPECIALIDAD_5'].astype(np.int64)"
   ]
  },
  {
   "cell_type": "code",
   "execution_count": 115,
   "id": "a56ba891-cda8-4d21-a80c-7c53f546ab72",
   "metadata": {
    "tags": []
   },
   "outputs": [
    {
     "data": {
      "text/plain": [
       "array([  0, 440,   1], dtype=int64)"
      ]
     },
     "execution_count": 115,
     "metadata": {},
     "output_type": "execute_result"
    }
   ],
   "source": [
    "df['ESPECIALIDAD_5'].unique()"
   ]
  },
  {
   "cell_type": "code",
   "execution_count": 116,
   "id": "ba77b5db-24c8-4b85-b270-605babbc4747",
   "metadata": {
    "tags": []
   },
   "outputs": [
    {
     "data": {
      "text/plain": [
       "array([nan, 'CON'], dtype=object)"
      ]
     },
     "execution_count": 116,
     "metadata": {},
     "output_type": "execute_result"
    }
   ],
   "source": [
    "df['ESPECIALIDAD_6'].unique()"
   ]
  },
  {
   "cell_type": "code",
   "execution_count": 117,
   "id": "2f02568c-c82a-44aa-b7f9-d5ff71900fc2",
   "metadata": {
    "tags": []
   },
   "outputs": [],
   "source": [
    "df['ESPECIALIDAD_6']=df['ESPECIALIDAD_6'].fillna(0)\n",
    "df['ESPECIALIDAD_6']=df['ESPECIALIDAD_6'].replace('CON', 1)\n",
    "df['ESPECIALIDAD_6']=df['ESPECIALIDAD_6'].replace('ACL', 2)"
   ]
  },
  {
   "cell_type": "code",
   "execution_count": 118,
   "id": "b275fa9c-863d-4ee4-94d3-2db48fb1337b",
   "metadata": {
    "tags": []
   },
   "outputs": [
    {
     "data": {
      "text/plain": [
       "array([0, 1], dtype=int64)"
      ]
     },
     "execution_count": 118,
     "metadata": {},
     "output_type": "execute_result"
    }
   ],
   "source": [
    "df['ESPECIALIDAD_6'].unique()"
   ]
  },
  {
   "cell_type": "code",
   "execution_count": 119,
   "id": "b49a603f-6e0e-4f00-9b65-30aeb8b0e042",
   "metadata": {
    "tags": []
   },
   "outputs": [],
   "source": [
    "df['ESPECIALIDAD_6']=df['ESPECIALIDAD_6'].astype(np.int64)"
   ]
  },
  {
   "cell_type": "code",
   "execution_count": 120,
   "id": "2f09bbe6-d16b-4de2-b429-2a026745b9fe",
   "metadata": {
    "tags": []
   },
   "outputs": [
    {
     "data": {
      "text/plain": [
       "array([0, 1], dtype=int64)"
      ]
     },
     "execution_count": 120,
     "metadata": {},
     "output_type": "execute_result"
    }
   ],
   "source": [
    "df['ESPECIALIDAD_6'].unique()"
   ]
  },
  {
   "cell_type": "code",
   "execution_count": 121,
   "id": "8e868a9f-f4d1-4f10-ba7d-3c867b17dfc9",
   "metadata": {
    "tags": []
   },
   "outputs": [
    {
     "data": {
      "text/plain": [
       "array([nan, '1085903094', '11349411', '80085251', '46669964',\n",
       "       '1018407789', '52056800', '80059490', '79473576', '51810591',\n",
       "       '78709587', '80229527', '52589482', '1057574882', '19403078',\n",
       "       '79542488', '79593168', '80505197', '52451035', '79916911',\n",
       "       '81717441', '79488087', '79442674', '91284033', '80730595',\n",
       "       '1010160668', '39785861', '15047759', '19249648', '80544501',\n",
       "       '79601680', '19457462', '52250015', '80419282', '79945552',\n",
       "       '52418327', '72182094', '79541926', '79346707', '11201869',\n",
       "       '46384582', '52252486', '80408896', '51775000', '52107774',\n",
       "       '52517376', '79591620', '79906719', '79248694', 'CONE', '79157856',\n",
       "       '79459675', '80173233', '79568156', '1018440874', '1032400411',\n",
       "       '1053323524', '80181594', '1020743184', '1072638522', '1032430994',\n",
       "       '94491250', '79472538', '79159710', '80426537', '60334896',\n",
       "       '79780577', '51624070', '98384845', '81720732', '19463248',\n",
       "       '1020740334', '53106524', '79533401', '52996544', '52863885',\n",
       "       '1032389632', '52087301', '46384144', '52984586', '52079313',\n",
       "       '79311890', '1072666650', '1018406738', '52416933', '35199303',\n",
       "       '46369909', '79600768', '52386184', '72301473', '1072649107',\n",
       "       '52696725', '79950409', '52087455', '80764394', '33378485',\n",
       "       '1072702647', '35511664', '1057571264', '79914551', '1049605206',\n",
       "       '80425141', '1032422706', '71266249', '53905429', '79149961',\n",
       "       '80020003', '52390336', '79779383', '51897880', '1019025070',\n",
       "       '1020727341', '1020786615', '1140837120', '19458991', '91222410',\n",
       "       '52375484', '77163148', '79553769', '79161588', '1129573690',\n",
       "       '79354241', '1013624599', '1020720272', '80418461', '80217578',\n",
       "       '80186685', '93127719', '1018409456', '1019072267', '80014295',\n",
       "       '53121782', '52435978', '80194959', '79627705', '3806900',\n",
       "       '80871261', '1032438502', '1088007612', 'MEDICO', '52997205',\n",
       "       '80864959', '1065592414', '80765710', '91530481', '35414939',\n",
       "       '79947383', '370046', '79486850', '19260395', '1032388791',\n",
       "       '80038945', '79778752', '19145010', '514251', '1144044163',\n",
       "       '9434259', '13959264', '80414351', '1022340055', '79306123',\n",
       "       '1095794255', '22516920', '1110541041', '1019045105', '1032410869',\n",
       "       '52057645', '1015411890', '79863467', '1130607079', '52864291',\n",
       "       '79554715', '52963667', '29314756', '1010195567', '80238432',\n",
       "       '1037664572', '79288100', '1018415967', '7186346', '8637353',\n",
       "       '52167513', '51645297', '1020732127', '1020811422', '51667198',\n",
       "       '604516', '79783252', '42148282', '35428609', '1075661674',\n",
       "       '1018430328', '52906475', '52711766', '1016053093', '1020805710',\n",
       "       '1129565668', '547729', '80075383', '80085149', '52717776',\n",
       "       '39690293', '52868922', '18010489', '11320570', '93354925',\n",
       "       '52421487', '79778551', '80135874', '42152103', '10214934',\n",
       "       '1075657693', '1098616139', '1020800212', '19336856', '1052407150',\n",
       "       '1032463465', '79866084', '80092164', '1072674092', '72181982',\n",
       "       '53105095', '51772679', '52259526', '1140865751', '1018419434',\n",
       "       '1053609659', '40437280', '52452177', '80471049', '7711173',\n",
       "       '79141260', '1018447543', '79351604', '1044932997', '1018461162',\n",
       "       '79918927', '1026564461', '1020799402', '79153648', '1019128362',\n",
       "       '1013579071', '79569801', '52621136', '1026252632', '19224025',\n",
       "       '11204717', '19168176', '8736614', '79155035', '1026560382',\n",
       "       '1113666575', '39791424', '79354308', '13921650', '1077033680',\n",
       "       '1020820730', '1073486182', '1130617839', '1015405669', '80425085',\n",
       "       '1022413036', '35479342', '79365136', '1013646454', '1019056346',\n",
       "       '1115070988', '13958759', '1070918564', '1020786700', '35511262',\n",
       "       '19210657', '39804209', '1095819499', '438185', '52352090',\n",
       "       '52996083', '1136879059', '79691243', '26421540', '80416800',\n",
       "       '1070021212', '51645711', '1015402349', '79601278', '1016019940',\n",
       "       '79448572', 'RXJCG', 'JUMF', 'JGAST', 'M2004', 'MAJCG', 'ECJCG',\n",
       "       'CELEC', 'M0720', 'JLAFP', 'FLJCG', 'M1990', 'M2062', 'M2092',\n",
       "       'REJCG', 'EJCG2', 'M2059', 'M2117', 'M1668', 'JCNI2', 'TAJCG',\n",
       "       'M1849', 'M2098', 'M1989', 'M1975', 'M2115', 'M1982', 'JCNI',\n",
       "       'M1934', 'M1979', 'M1993', 'M1978', 'M1984', 'M1981', 'M1991',\n",
       "       'M2070', 'M2037', 'M1983', 'M2179', 'M2017', 'M2087', 'M0351',\n",
       "       'M1997', 'M1202', 'M1701', 'M0282', 'INJCG', 'JTEF2', 'M2111',\n",
       "       'M2139', 'M2134', 'M0820', 'M2091', 'M2109', 'M1986', 'M1071',\n",
       "       'M2028', 'JSALP', 'JHOLT', 'M0135', 'M2160', 'M0676', 'JTEF3',\n",
       "       'M1099', 'M0650', 'M0550', 'JTERF', 'M2089', 'JMAPA', 'M1980',\n",
       "       'JTER4', 'JCNIP', 'JFONO', 'M2116', 'JECOT', 'M1760', 'M2205',\n",
       "       'M1058', 'M2088', 'M1994', 'JCNI3', 'M3001', 'M2162', 'M2099',\n",
       "       'M1995', 'M2096', 'M3000', 'M2262', 'M0688', 'JECOP', 'JCHER',\n",
       "       'JLAF1', 'M2069', 'JDMO', 'M0255', 'M2122', 'M2079', 'M2230',\n",
       "       'M2333', 'M2293', 'M2363', 'M0552', 'M2003', 'M2061', 'M1936',\n",
       "       'M2280', 'M0717', 'M1987', 'JEMG', 'M1325', 'M2344', 'M3003',\n",
       "       'M2340', 'M2364', 'M2147', 'M2360', 'JORL', 'M2208', 'M1313',\n",
       "       'CITO', 'M2130', 'M2376', 'M1970', 'M3066', 'M2440', 'M2379',\n",
       "       'RAJCG', 'CCANE', 'M1972', 'M2065', 'M0684', 'M2451', 'M2454',\n",
       "       'JAUDI', 'M2424', 'M1077', 'M2478', 'M1297', 'M2464', 'JCAR3',\n",
       "       'JTER5', 'JTVES', 'M2052', 'M2042', 'M2445', 'JCAR1', 'JCAR2',\n",
       "       'JTEPP', 'JTER6', 'M2356', 'M2482', 'M1228', 'M1996', 'M2491',\n",
       "       'M2453', 'M1973', 'M2487', '51781540', 'JGAT2', 'M2486', 'M2507',\n",
       "       'M2509', 'JEEG', 'JPOLS', 'M1971', 'M3155', 'M2535', 'M3186',\n",
       "       'M2539', 'M2224', 'JBAIG', 'M2545', 'M051', 'M2552', 'M2551',\n",
       "       'M1540', 'M2419', 'M3144', 'M2510', 'JTER3', 'M2585', 'M2590',\n",
       "       'JMEBA', 'M1974', 'M2707', 'M2588', 'M2015', 'M2727', 'M2709',\n",
       "       'M2578', 'M2564', 'M3284', 'M2600', 'M2706', 'M2151', 'M2739',\n",
       "       'M2291', 'M2285', 'M2131', 'M2443', 'M1609', 'M2214', 'JGAAV',\n",
       "       'M2000', 'M2522', 'M2120', '79626792', '35421025', '1121892265',\n",
       "       '37729166', '1128047041', '1070015039', '11378535', '1013648336',\n",
       "       'CON', '1070016457', '79471564', '52810329', '80136644',\n",
       "       '52413236', '51838838', '19398142', '1032374643', '88221946',\n",
       "       '1015431505', '1015435229', '37840630', '80426716', '79236471',\n",
       "       '31866650', '79532003', '19270885', '13800809', '1050132',\n",
       "       '79747954', 'M1304', 'M2055', 'M3002', 'M2275', 'M2066', 'M2375',\n",
       "       'M2277', 'M2348', 'M2346', 'JPOEV', 'JRETP', 'M2580', 'JEEGV',\n",
       "       'JLAVO', 'M2016', 'JSAP2', 'M2001', 'JGAS1', 'JTERR', 'M2702',\n",
       "       '52919021', '79578354', '1032446626', '79292532', '13722753',\n",
       "       '1057599514', '79153642', '79155631', '79154117', '79639197',\n",
       "       '9098185', '1018407250', '51831285', 'M1110', 'M1985', 'M2097',\n",
       "       'JCHE1', 'M2093', 'M2166', 'M2377', 'M2560', 'M2082', 'JOXIM',\n",
       "       '52802596', '1032366476', '1017159916', '79965984', '1077090782',\n",
       "       '80426183', '1018468976', '79375973', '52778755', '1072643748',\n",
       "       '1020724368', 'M2127', 'M2174', 'M2168', 'M3213', 'JFISG', 'M2544',\n",
       "       'M0380', 'M2398', '1032363967', '1032481284', '1026263546',\n",
       "       '1072707560', '79143156', '393625', 'CMAP', '52968737', '79786043',\n",
       "       '39686433', '1020750050', 'M2030', '1072647337', '79285491',\n",
       "       'JHEMO', '1110463397', '1020804504', '52453761', 'M2002',\n",
       "       '1018488721', '1032372192', 'M2368', '1032465584', '1019145276',\n",
       "       'JCAPS', 'M1561', 'M2373', '1024477214', 'M1785', '1032464790',\n",
       "       '79595769', 'JJUME', 'M2940', 'JREEF', '1020730595', 'M2533',\n",
       "       'M2345', '52708506', '19151570', 'M2036', '1018456324', 'M2511',\n",
       "       'M1992', 'M2382', 'M2257', '1022328301', 'M2068', 'M2221', 'M2165',\n",
       "       '79484994', 'M2941', 'M2074', 'M2163', 'JPSIC', 'JSAOC', 'M2126'],\n",
       "      dtype=object)"
      ]
     },
     "execution_count": 121,
     "metadata": {},
     "output_type": "execute_result"
    }
   ],
   "source": [
    "df['MEDICO_ATENCION'].unique()"
   ]
  },
  {
   "cell_type": "code",
   "execution_count": null,
   "id": "50df6f7d-f1ba-45c5-8aef-3be9ce3070df",
   "metadata": {},
   "outputs": [],
   "source": []
  },
  {
   "cell_type": "code",
   "execution_count": null,
   "id": "ee0c55ac-b711-4286-be12-566e818d4a63",
   "metadata": {},
   "outputs": [],
   "source": [
    "df_origin['RESPONSABLE_PAGO']=df_origin['RESPONSABLE_PAGO'].apply(mf.string_to_num_string)"
   ]
  },
  {
   "cell_type": "code",
   "execution_count": null,
   "id": "7e513f50-b4ea-46c6-bc5b-4f8da43906c0",
   "metadata": {
    "tags": []
   },
   "outputs": [],
   "source": [
    "df_origin['RESPONSABLE_PAGO']=df_origin['RESPONSABLE_PAGO'].apply(mf.string_to_num_string)"
   ]
  },
  {
   "cell_type": "code",
   "execution_count": null,
   "id": "ebed0253-ce49-4b92-bc1e-c9c6376c312c",
   "metadata": {
    "tags": []
   },
   "outputs": [],
   "source": [
    "df_origin['RESPONSABLE_PAGO']=df_origin['RESPONSABLE_PAGO'].astype(int)"
   ]
  },
  {
   "cell_type": "code",
   "execution_count": null,
   "id": "902a4d5d-ded4-4186-8687-2e29ebe2423f",
   "metadata": {
    "tags": []
   },
   "outputs": [],
   "source": [
    "print(df_origin.dtypes)"
   ]
  },
  {
   "cell_type": "code",
   "execution_count": null,
   "id": "6c30d23f-0934-4201-96e4-14b21ef932b3",
   "metadata": {
    "tags": []
   },
   "outputs": [],
   "source": [
    "df_origin['RESPONSABLE_PAGO'].describe()"
   ]
  },
  {
   "cell_type": "code",
   "execution_count": null,
   "id": "90bd8177-8e0a-4b74-916e-75ee2dec8c8f",
   "metadata": {
    "tags": []
   },
   "outputs": [],
   "source": [
    "df_origin['RESPONSABLE_PAGO'].info()"
   ]
  },
  {
   "cell_type": "code",
   "execution_count": null,
   "id": "4a11486e-c920-4154-bb62-0287e8336a9d",
   "metadata": {
    "tags": []
   },
   "outputs": [],
   "source": [
    "df_origin['TERCERO_CARGO']=df_origin['TERCERO_CARGO'].apply(mf.string_to_num_string)"
   ]
  },
  {
   "cell_type": "code",
   "execution_count": null,
   "id": "a7990bc5-3bb3-484d-a6b4-b4701e09619b",
   "metadata": {
    "tags": []
   },
   "outputs": [],
   "source": [
    "print(df_origin.dtypes)"
   ]
  },
  {
   "cell_type": "code",
   "execution_count": null,
   "id": "a3724c45-ce59-4ea9-af3c-0edc185f569f",
   "metadata": {
    "tags": []
   },
   "outputs": [],
   "source": [
    "df_origin['RESPONSABLE_PAGO'].describe()"
   ]
  },
  {
   "cell_type": "code",
   "execution_count": null,
   "id": "093816a1-4a56-495e-8107-7ded326ade41",
   "metadata": {
    "tags": []
   },
   "outputs": [],
   "source": [
    "import numpy as np\n",
    "df_origin['RESPONSABLE_PAGO']=df_origin['RESPONSABLE_PAGO'].apply(np.int64)"
   ]
  },
  {
   "cell_type": "code",
   "execution_count": null,
   "id": "b99a3282-2de4-43ec-9bb4-97ec82127f9c",
   "metadata": {
    "tags": []
   },
   "outputs": [],
   "source": [
    "df_origin['RESPONSABLE_PAGO'].describe()"
   ]
  },
  {
   "cell_type": "code",
   "execution_count": null,
   "id": "18d70ee4-3706-4da5-8a5b-65ca8b0225e5",
   "metadata": {
    "tags": []
   },
   "outputs": [],
   "source": [
    "df_origin.info()"
   ]
  },
  {
   "cell_type": "code",
   "execution_count": null,
   "id": "8a2863d4-4341-4d25-8697-548905cae15a",
   "metadata": {
    "tags": []
   },
   "outputs": [],
   "source": [
    "df_origin.describe()"
   ]
  },
  {
   "cell_type": "code",
   "execution_count": null,
   "id": "ec2d64b0-0039-4229-8915-7b09fe70f765",
   "metadata": {
    "tags": []
   },
   "outputs": [],
   "source": [
    "df_origin.head()"
   ]
  },
  {
   "cell_type": "code",
   "execution_count": null,
   "id": "e7118409-b796-4493-bd4c-f455c052e0f2",
   "metadata": {
    "tags": []
   },
   "outputs": [],
   "source": [
    "df_origin.duplicated()"
   ]
  },
  {
   "cell_type": "code",
   "execution_count": null,
   "id": "a7b8675a-fc80-4fff-8b2d-261546d94bc4",
   "metadata": {
    "tags": []
   },
   "outputs": [],
   "source": [
    "df_origin.isnull().sum()"
   ]
  },
  {
   "cell_type": "code",
   "execution_count": null,
   "id": "5409a681-e2b1-4299-bba6-9f92b39b7389",
   "metadata": {
    "tags": []
   },
   "outputs": [],
   "source": [
    "df_origin['CAUSA_RECLAMO'].describe()"
   ]
  },
  {
   "cell_type": "code",
   "execution_count": null,
   "id": "b31f0bb8-4874-4b1a-9616-1a7975826d6f",
   "metadata": {
    "tags": []
   },
   "outputs": [],
   "source": [
    "df_origin.loc[df_origin['CAUSA_RECLAMO']>0, 'CAUSA_RECLAMO'] = 1"
   ]
  },
  {
   "cell_type": "code",
   "execution_count": null,
   "id": "bf19740a-691c-4572-9a51-cdadf6e90571",
   "metadata": {
    "tags": []
   },
   "outputs": [],
   "source": [
    "df_origin['CAUSA_RECLAMO'].describe()"
   ]
  },
  {
   "cell_type": "code",
   "execution_count": null,
   "id": "2b2c922a-aa1f-4bc2-9342-bf637d9d7591",
   "metadata": {
    "tags": []
   },
   "outputs": [],
   "source": [
    "df_copy = df_origin.drop('VALOR_RECLAMADO', axis = 1)"
   ]
  },
  {
   "cell_type": "code",
   "execution_count": null,
   "id": "5288606d-10cf-48fd-a835-b79f3aae9a4b",
   "metadata": {
    "tags": []
   },
   "outputs": [],
   "source": [
    "df_copy = df_copy.drop('VALOR_ACEPTADO', axis = 1)"
   ]
  },
  {
   "cell_type": "code",
   "execution_count": null,
   "id": "48c0a9b6-24e4-40a8-ba82-fffb50532eb0",
   "metadata": {
    "tags": []
   },
   "outputs": [],
   "source": [
    "df_copy = df_copy.drop('VALOR_FINAL_RECLAMADO', axis = 1)"
   ]
  },
  {
   "cell_type": "code",
   "execution_count": null,
   "id": "57e97567-d72c-487c-84b3-ac6e4c15a3d7",
   "metadata": {
    "tags": []
   },
   "outputs": [],
   "source": [
    "columns = df_copy.columns\n",
    "target = \"CAUSA_RECLAMO\"\n",
    "x_columns = columns.drop(target)\n",
    "print(columns)\n",
    "print(target)\n",
    "print(x_columns)"
   ]
  },
  {
   "cell_type": "code",
   "execution_count": null,
   "id": "d6be7dde-c5ae-4433-8842-64e5ea3542fe",
   "metadata": {
    "tags": []
   },
   "outputs": [],
   "source": [
    "scaler = MinMaxScaler()\n",
    "scaled_df = scaler.fit_transform(df_copy)\n",
    "scaled_df = pd.DataFrame(scaled_df, 'INGRESO_PACIENTE')\n",
    "scaled_df"
   ]
  },
  {
   "cell_type": "code",
   "execution_count": null,
   "id": "b38715f3-b5b3-4ec4-aac5-557a61786520",
   "metadata": {
    "tags": []
   },
   "outputs": [],
   "source": [
    "df_copy.describe()"
   ]
  },
  {
   "cell_type": "code",
   "execution_count": null,
   "id": "bf1406b6-623e-4005-b298-64bb1eb99c4a",
   "metadata": {
    "tags": []
   },
   "outputs": [],
   "source": []
  },
  {
   "cell_type": "code",
   "execution_count": null,
   "id": "38c8cfa4-d8b5-47d0-93b6-77b12ad78c4d",
   "metadata": {
    "tags": []
   },
   "outputs": [],
   "source": [
    "df_stats = df_copy.describe()\n",
    "df_stats = df_stats.transpose()\n",
    "df_stats"
   ]
  },
  {
   "cell_type": "code",
   "execution_count": null,
   "id": "1c96411f-2618-44f3-8ba1-4014ef2a6373",
   "metadata": {
    "tags": []
   },
   "outputs": [],
   "source": [
    "#Comportamiento de la variable objetivo\n",
    "sns.histplot(data=df_copy, x=target, kde=True)"
   ]
  },
  {
   "cell_type": "code",
   "execution_count": null,
   "id": "a2435c25-000d-46a6-9bdd-54d3470818c1",
   "metadata": {
    "tags": []
   },
   "outputs": [],
   "source": [
    "#Dividir variables de entrada y objetivo\n",
    "ValX = df_copy.drop(columns = target)\n",
    "ValY = df_copy[target]"
   ]
  },
  {
   "cell_type": "code",
   "execution_count": null,
   "id": "69ef9716-02dc-43a3-be91-7ea822a25ac6",
   "metadata": {
    "tags": []
   },
   "outputs": [],
   "source": [
    "X_train, X_validation, Y_train, Y_validation = train_test_split(ValX, ValY, test_size=0.30)"
   ]
  },
  {
   "cell_type": "code",
   "execution_count": null,
   "id": "ef03208c-5d88-459f-8874-1587b11d838e",
   "metadata": {
    "tags": []
   },
   "outputs": [],
   "source": [
    "model_simple = DecisionTreeClassifier(criterion='entropy')\n",
    "model_simple.fit(X_train, Y_train)\n",
    "predictions = model_simple.predict(X_validation)\n",
    "print(\"Precición del modelo:\", accuracy_score(Y_validation, predictions))\n",
    "print(\"Matriz de confusión\");\n",
    "print(confusion_matrix(Y_validation, predictions))\n",
    "print(\"Medidas de la precisión de clasificación\");\n",
    "print(classification_report(Y_validation, predictions))"
   ]
  },
  {
   "cell_type": "code",
   "execution_count": null,
   "id": "6454c0cd-da9b-41a9-a357-561c04c5c0ab",
   "metadata": {
    "tags": []
   },
   "outputs": [],
   "source": [
    "#70797877706876676765836893794285907244\n",
    "cadena='707978836678768467837478874087897344'\n",
    "cantidad=mf.string_to_num_string(cadena)\n",
    "print(cantidad)"
   ]
  },
  {
   "cell_type": "code",
   "execution_count": null,
   "id": "5b6e26ea-482d-48eb-9ee5-69536903dc3e",
   "metadata": {},
   "outputs": [],
   "source": []
  }
 ],
 "metadata": {
  "kernelspec": {
   "display_name": "Python 3 (ipykernel)",
   "language": "python",
   "name": "python3"
  },
  "language_info": {
   "codemirror_mode": {
    "name": "ipython",
    "version": 3
   },
   "file_extension": ".py",
   "mimetype": "text/x-python",
   "name": "python",
   "nbconvert_exporter": "python",
   "pygments_lexer": "ipython3",
   "version": "3.10.13"
  },
  "toc-showmarkdowntxt": true
 },
 "nbformat": 4,
 "nbformat_minor": 5
}
