{
 "cells": [
  {
   "cell_type": "code",
   "execution_count": 1,
   "id": "33c4cbae-ad96-44b4-b141-688a9395b696",
   "metadata": {
    "tags": []
   },
   "outputs": [],
   "source": [
    "# Load libraries\n",
    "import numpy as np\n",
    "import pandas as pd\n",
    "import seaborn as sns\n",
    "import myfuntions as mf\n",
    "from sklearn.preprocessing import MinMaxScaler\n",
    "from sklearn.model_selection import train_test_split\n",
    "from sklearn.tree import DecisionTreeClassifier"
   ]
  },
  {
   "cell_type": "code",
   "execution_count": 2,
   "id": "12df2650-a2b9-401f-a603-3c546ce43906",
   "metadata": {
    "tags": []
   },
   "outputs": [
    {
     "name": "stderr",
     "output_type": "stream",
     "text": [
      "C:\\Users\\jacqui\\AppData\\Local\\Temp\\ipykernel_30332\\2854338045.py:3: DtypeWarning: Columns (7,43,44,45,46,47,48,49,50,51,52,53) have mixed types. Specify dtype option on import or set low_memory=False.\n",
      "  df_origin = pd.read_csv(file_cvs, delimiter=',', on_bad_lines='skip', encoding='unicode_escape')\n"
     ]
    }
   ],
   "source": [
    "# Read file - Donwload dataset in https://www.kaggle.com/datasets/jacquelineguzman/medical-bill-claims\n",
    "file_cvs = \"sabana_sede1.csv\"\n",
    "df_origin = pd.read_csv(file_cvs, delimiter=',', on_bad_lines='skip', encoding='unicode_escape')"
   ]
  },
  {
   "cell_type": "code",
   "execution_count": 3,
   "id": "9dc18a9d-76d1-4ac0-8780-95fc691bae64",
   "metadata": {
    "tags": []
   },
   "outputs": [
    {
     "data": {
      "text/plain": [
       "SEDE                            int64\n",
       "TIPO_ATENCION                  object\n",
       "ATENCION                        int64\n",
       "DETALLE_ATENCION               object\n",
       "CONS_PACIENTE                   int64\n",
       "INGRESO_PACIENTE                int64\n",
       "UBICACION_ATENCION             object\n",
       "HABITACION_ATENCION            object\n",
       "ESPECIALIDAD_ATENCION          object\n",
       "MEDICO_ATENCION                object\n",
       "TIPO_RESPON_PAGO               object\n",
       "RESPONSABLE_PAGO               object\n",
       "TARIFA_ATENCION                object\n",
       "TIPO_PACIENTE                  object\n",
       "SEXO_PACIENTE                  object\n",
       "FECHA_NACI_PACIENTE            object\n",
       "EDAD_INICIO_ATENCION            int64\n",
       "EDAD_EGRESO_ATENCION            int64\n",
       "FECHA_INGRESO_ATENCION         object\n",
       "FECHA_EGRESO_ATENCION          object\n",
       "MINUTOS_ESTANCIA                int64\n",
       "TIPO_AFILIADO                  object\n",
       "REGIMEN                        object\n",
       "TIPO_ADMINISTRADORA            object\n",
       "ADMINISTRADORA                 object\n",
       "CANT_ANTENCENDENTE_GRU_A01      int64\n",
       "CANT_ANTENCENDENTE_GRU_A02      int64\n",
       "CANT_ANTENCENDENTE_GRU_A03      int64\n",
       "CANT_ANTENCENDENTE_GRU_A04      int64\n",
       "CANT_ANTENCENDENTE_GRU_A06      int64\n",
       "CANT_ANTENCENDENTE_GRU_A07      int64\n",
       "CANT_ANTENCENDENTE_GRU_A08      int64\n",
       "CANT_ANTENCENDENTE_GRU_A09      int64\n",
       "CANT_ANTENCENDENTE_GRU_A11      int64\n",
       "CANT_ANTENCENDENTE_GRU_A12      int64\n",
       "CANT_ANTENCENDENTE_GRU_A13      int64\n",
       "CANT_ANTENCENDENTE_GRU_A14      int64\n",
       "CANT_ANTENCENDENTE_GRU_A20      int64\n",
       "CANT_ANTENCENDENTE_GRU_A23      int64\n",
       "CANT_ANTENCENDENTE_GRU_A24      int64\n",
       "CANT_ANTENCENDENTE_GRU_A25      int64\n",
       "DX_INGRESO                     object\n",
       "DX_PRINCIPAL                   object\n",
       "DX_EGRESO                      object\n",
       "DX_PREVIO                      object\n",
       "DX_POST                        object\n",
       "DX_RELACIONADO1                object\n",
       "DX_RELACIONADO2                object\n",
       "ESPECIALIDAD_1                 object\n",
       "ESPECIALIDAD_2                 object\n",
       "ESPECIALIDAD_3                 object\n",
       "ESPECIALIDAD_4                 object\n",
       "ESPECIALIDAD_5                 object\n",
       "ESPECIALIDAD_6                 object\n",
       "CONCEPTO_FACTURA_CARGO         object\n",
       "CODIGO_PRODUCTO_CARGO          object\n",
       "CCOSTO_CARGO                    int64\n",
       "TERCERO_CARGO                   int64\n",
       "FUENTE_FACTURA                 object\n",
       "NUMERO_FACTURA                  int64\n",
       "CANTIDAD_CARGO                  int64\n",
       "VALOR_TOTAL_CARGO               int64\n",
       "VALOR_FACTURADO_CARGO           int64\n",
       "CAUSA_RECLAMO                 float64\n",
       "VALOR_RECLAMADO               float64\n",
       "VALOR_ACEPTADO                  int64\n",
       "VALOR_FINAL_RECLAMADO           int64\n",
       "dtype: object"
      ]
     },
     "execution_count": 3,
     "metadata": {},
     "output_type": "execute_result"
    }
   ],
   "source": [
    "pd.set_option('display.max_rows', 100)\n",
    "df_origin.dtypes"
   ]
  },
  {
   "cell_type": "code",
   "execution_count": 4,
   "id": "7b4d89a4-a4b0-4d2f-a330-e85720bed2e8",
   "metadata": {
    "tags": []
   },
   "outputs": [
    {
     "data": {
      "text/html": [
       "<div>\n",
       "<style scoped>\n",
       "    .dataframe tbody tr th:only-of-type {\n",
       "        vertical-align: middle;\n",
       "    }\n",
       "\n",
       "    .dataframe tbody tr th {\n",
       "        vertical-align: top;\n",
       "    }\n",
       "\n",
       "    .dataframe thead th {\n",
       "        text-align: right;\n",
       "    }\n",
       "</style>\n",
       "<table border=\"1\" class=\"dataframe\">\n",
       "  <thead>\n",
       "    <tr style=\"text-align: right;\">\n",
       "      <th></th>\n",
       "      <th>SEDE</th>\n",
       "      <th>TIPO_ATENCION</th>\n",
       "      <th>ATENCION</th>\n",
       "      <th>DETALLE_ATENCION</th>\n",
       "      <th>CONS_PACIENTE</th>\n",
       "      <th>INGRESO_PACIENTE</th>\n",
       "      <th>UBICACION_ATENCION</th>\n",
       "      <th>HABITACION_ATENCION</th>\n",
       "      <th>ESPECIALIDAD_ATENCION</th>\n",
       "      <th>MEDICO_ATENCION</th>\n",
       "      <th>...</th>\n",
       "      <th>TERCERO_CARGO</th>\n",
       "      <th>FUENTE_FACTURA</th>\n",
       "      <th>NUMERO_FACTURA</th>\n",
       "      <th>CANTIDAD_CARGO</th>\n",
       "      <th>VALOR_TOTAL_CARGO</th>\n",
       "      <th>VALOR_FACTURADO_CARGO</th>\n",
       "      <th>CAUSA_RECLAMO</th>\n",
       "      <th>VALOR_RECLAMADO</th>\n",
       "      <th>VALOR_ACEPTADO</th>\n",
       "      <th>VALOR_FINAL_RECLAMADO</th>\n",
       "    </tr>\n",
       "  </thead>\n",
       "  <tbody>\n",
       "    <tr>\n",
       "      <th>0</th>\n",
       "      <td>4101</td>\n",
       "      <td>hosp_urge</td>\n",
       "      <td>771610</td>\n",
       "      <td>HOSP</td>\n",
       "      <td>219474</td>\n",
       "      <td>1</td>\n",
       "      <td>CHUR</td>\n",
       "      <td>NaN</td>\n",
       "      <td>CON</td>\n",
       "      <td>NaN</td>\n",
       "      <td>...</td>\n",
       "      <td>72182094</td>\n",
       "      <td>FH</td>\n",
       "      <td>5452</td>\n",
       "      <td>1</td>\n",
       "      <td>110000</td>\n",
       "      <td>110000</td>\n",
       "      <td>NaN</td>\n",
       "      <td>0.0</td>\n",
       "      <td>0</td>\n",
       "      <td>0</td>\n",
       "    </tr>\n",
       "    <tr>\n",
       "      <th>1</th>\n",
       "      <td>4101</td>\n",
       "      <td>hosp_urge</td>\n",
       "      <td>779997</td>\n",
       "      <td>HOSP</td>\n",
       "      <td>221797</td>\n",
       "      <td>1</td>\n",
       "      <td>CHUR</td>\n",
       "      <td>NaN</td>\n",
       "      <td>CON</td>\n",
       "      <td>NaN</td>\n",
       "      <td>...</td>\n",
       "      <td>0</td>\n",
       "      <td>FH</td>\n",
       "      <td>5744</td>\n",
       "      <td>1</td>\n",
       "      <td>76270</td>\n",
       "      <td>76270</td>\n",
       "      <td>NaN</td>\n",
       "      <td>0.0</td>\n",
       "      <td>0</td>\n",
       "      <td>0</td>\n",
       "    </tr>\n",
       "    <tr>\n",
       "      <th>2</th>\n",
       "      <td>4101</td>\n",
       "      <td>hosp_urge</td>\n",
       "      <td>781028</td>\n",
       "      <td>HOSP</td>\n",
       "      <td>222039</td>\n",
       "      <td>1</td>\n",
       "      <td>CHHD</td>\n",
       "      <td>J210</td>\n",
       "      <td>387</td>\n",
       "      <td>1085903094</td>\n",
       "      <td>...</td>\n",
       "      <td>0</td>\n",
       "      <td>FH</td>\n",
       "      <td>5489</td>\n",
       "      <td>1</td>\n",
       "      <td>16152</td>\n",
       "      <td>16152</td>\n",
       "      <td>NaN</td>\n",
       "      <td>0.0</td>\n",
       "      <td>0</td>\n",
       "      <td>0</td>\n",
       "    </tr>\n",
       "    <tr>\n",
       "      <th>3</th>\n",
       "      <td>4101</td>\n",
       "      <td>hosp_urge</td>\n",
       "      <td>774927</td>\n",
       "      <td>HOSP</td>\n",
       "      <td>220359</td>\n",
       "      <td>1</td>\n",
       "      <td>CHUR</td>\n",
       "      <td>NaN</td>\n",
       "      <td>CON</td>\n",
       "      <td>NaN</td>\n",
       "      <td>...</td>\n",
       "      <td>46669964</td>\n",
       "      <td>FH</td>\n",
       "      <td>5613</td>\n",
       "      <td>1</td>\n",
       "      <td>110000</td>\n",
       "      <td>110000</td>\n",
       "      <td>NaN</td>\n",
       "      <td>0.0</td>\n",
       "      <td>0</td>\n",
       "      <td>0</td>\n",
       "    </tr>\n",
       "    <tr>\n",
       "      <th>4</th>\n",
       "      <td>4101</td>\n",
       "      <td>hosp_urge</td>\n",
       "      <td>763117</td>\n",
       "      <td>HOSP</td>\n",
       "      <td>217386</td>\n",
       "      <td>1</td>\n",
       "      <td>CHUR</td>\n",
       "      <td>NaN</td>\n",
       "      <td>CON</td>\n",
       "      <td>NaN</td>\n",
       "      <td>...</td>\n",
       "      <td>52056800</td>\n",
       "      <td>FH</td>\n",
       "      <td>3061</td>\n",
       "      <td>1</td>\n",
       "      <td>58300</td>\n",
       "      <td>58300</td>\n",
       "      <td>NaN</td>\n",
       "      <td>0.0</td>\n",
       "      <td>0</td>\n",
       "      <td>0</td>\n",
       "    </tr>\n",
       "  </tbody>\n",
       "</table>\n",
       "<p>5 rows × 67 columns</p>\n",
       "</div>"
      ],
      "text/plain": [
       "   SEDE TIPO_ATENCION  ATENCION DETALLE_ATENCION  CONS_PACIENTE  \\\n",
       "0  4101     hosp_urge    771610             HOSP         219474   \n",
       "1  4101     hosp_urge    779997             HOSP         221797   \n",
       "2  4101     hosp_urge    781028             HOSP         222039   \n",
       "3  4101     hosp_urge    774927             HOSP         220359   \n",
       "4  4101     hosp_urge    763117             HOSP         217386   \n",
       "\n",
       "   INGRESO_PACIENTE UBICACION_ATENCION HABITACION_ATENCION  \\\n",
       "0                 1               CHUR                 NaN   \n",
       "1                 1               CHUR                 NaN   \n",
       "2                 1               CHHD                J210   \n",
       "3                 1               CHUR                 NaN   \n",
       "4                 1               CHUR                 NaN   \n",
       "\n",
       "  ESPECIALIDAD_ATENCION MEDICO_ATENCION  ... TERCERO_CARGO FUENTE_FACTURA  \\\n",
       "0                   CON             NaN  ...      72182094             FH   \n",
       "1                   CON             NaN  ...             0             FH   \n",
       "2                   387      1085903094  ...             0             FH   \n",
       "3                   CON             NaN  ...      46669964             FH   \n",
       "4                   CON             NaN  ...      52056800             FH   \n",
       "\n",
       "  NUMERO_FACTURA CANTIDAD_CARGO VALOR_TOTAL_CARGO VALOR_FACTURADO_CARGO  \\\n",
       "0           5452              1            110000                110000   \n",
       "1           5744              1             76270                 76270   \n",
       "2           5489              1             16152                 16152   \n",
       "3           5613              1            110000                110000   \n",
       "4           3061              1             58300                 58300   \n",
       "\n",
       "   CAUSA_RECLAMO  VALOR_RECLAMADO VALOR_ACEPTADO VALOR_FINAL_RECLAMADO  \n",
       "0            NaN              0.0              0                     0  \n",
       "1            NaN              0.0              0                     0  \n",
       "2            NaN              0.0              0                     0  \n",
       "3            NaN              0.0              0                     0  \n",
       "4            NaN              0.0              0                     0  \n",
       "\n",
       "[5 rows x 67 columns]"
      ]
     },
     "execution_count": 4,
     "metadata": {},
     "output_type": "execute_result"
    }
   ],
   "source": [
    "df_origin.head()"
   ]
  },
  {
   "cell_type": "code",
   "execution_count": 61,
   "id": "62a8d3fa-a1c3-4dd8-882a-3819e9bae84f",
   "metadata": {
    "tags": []
   },
   "outputs": [],
   "source": [
    "df=df_origin\n",
    "df=df.drop('SEDE', axis=1)"
   ]
  },
  {
   "cell_type": "code",
   "execution_count": 62,
   "id": "0c56029c-1db4-45b8-ad20-3ad5b42cff3d",
   "metadata": {
    "tags": []
   },
   "outputs": [
    {
     "data": {
      "text/plain": [
       "array(['hosp_urge', 'ambulatorio'], dtype=object)"
      ]
     },
     "execution_count": 62,
     "metadata": {},
     "output_type": "execute_result"
    }
   ],
   "source": [
    "df['TIPO_ATENCION'].unique()"
   ]
  },
  {
   "cell_type": "code",
   "execution_count": 63,
   "id": "a521d50f-a788-454b-9d31-0d21b4a763c7",
   "metadata": {
    "tags": []
   },
   "outputs": [],
   "source": [
    "df['TIPO_ATENCION']=df['TIPO_ATENCION'].replace('hosp_urge', 0)\n",
    "df['TIPO_ATENCION']=df['TIPO_ATENCION'].replace('ambulatorio', 1)"
   ]
  },
  {
   "cell_type": "code",
   "execution_count": 64,
   "id": "a6fb3cf3-98b7-4fce-8627-18654dd07a18",
   "metadata": {
    "tags": []
   },
   "outputs": [
    {
     "data": {
      "text/plain": [
       "array([0, 1], dtype=int64)"
      ]
     },
     "execution_count": 64,
     "metadata": {},
     "output_type": "execute_result"
    }
   ],
   "source": [
    "df['TIPO_ATENCION'].unique()"
   ]
  },
  {
   "cell_type": "code",
   "execution_count": 65,
   "id": "1b7b7620-3626-40e2-959f-093fcef37445",
   "metadata": {
    "tags": []
   },
   "outputs": [
    {
     "data": {
      "text/plain": [
       "count    6.097935e+06\n",
       "mean     2.703691e-01\n",
       "std      4.441505e-01\n",
       "min      0.000000e+00\n",
       "25%      0.000000e+00\n",
       "50%      0.000000e+00\n",
       "75%      1.000000e+00\n",
       "max      1.000000e+00\n",
       "Name: TIPO_ATENCION, dtype: float64"
      ]
     },
     "execution_count": 65,
     "metadata": {},
     "output_type": "execute_result"
    }
   ],
   "source": [
    "df['TIPO_ATENCION'].describe()"
   ]
  },
  {
   "cell_type": "code",
   "execution_count": 66,
   "id": "52603168-375b-4b6a-aa6c-ab13bce93be9",
   "metadata": {
    "tags": []
   },
   "outputs": [],
   "source": [
    "import numpy as np\n",
    "df['TIPO_ATENCION']=df['TIPO_ATENCION'].astype(np.int64)"
   ]
  },
  {
   "cell_type": "code",
   "execution_count": 67,
   "id": "8518142b-ce0d-4ca5-be54-f89a826ecb7a",
   "metadata": {
    "tags": []
   },
   "outputs": [
    {
     "data": {
      "text/plain": [
       "count    6.097935e+06\n",
       "mean     2.703691e-01\n",
       "std      4.441505e-01\n",
       "min      0.000000e+00\n",
       "25%      0.000000e+00\n",
       "50%      0.000000e+00\n",
       "75%      1.000000e+00\n",
       "max      1.000000e+00\n",
       "Name: TIPO_ATENCION, dtype: float64"
      ]
     },
     "execution_count": 67,
     "metadata": {},
     "output_type": "execute_result"
    }
   ],
   "source": [
    "df['TIPO_ATENCION'].describe()"
   ]
  },
  {
   "cell_type": "code",
   "execution_count": 68,
   "id": "1321fed6-c49b-4e40-916b-05a77943bc96",
   "metadata": {
    "tags": []
   },
   "outputs": [
    {
     "data": {
      "text/plain": [
       "TIPO_ATENCION                   int64\n",
       "ATENCION                        int64\n",
       "DETALLE_ATENCION               object\n",
       "CONS_PACIENTE                   int64\n",
       "INGRESO_PACIENTE                int64\n",
       "UBICACION_ATENCION             object\n",
       "HABITACION_ATENCION            object\n",
       "ESPECIALIDAD_ATENCION          object\n",
       "MEDICO_ATENCION                object\n",
       "TIPO_RESPON_PAGO               object\n",
       "RESPONSABLE_PAGO               object\n",
       "TARIFA_ATENCION                object\n",
       "TIPO_PACIENTE                  object\n",
       "SEXO_PACIENTE                  object\n",
       "FECHA_NACI_PACIENTE            object\n",
       "EDAD_INICIO_ATENCION            int64\n",
       "EDAD_EGRESO_ATENCION            int64\n",
       "FECHA_INGRESO_ATENCION         object\n",
       "FECHA_EGRESO_ATENCION          object\n",
       "MINUTOS_ESTANCIA                int64\n",
       "TIPO_AFILIADO                  object\n",
       "REGIMEN                        object\n",
       "TIPO_ADMINISTRADORA            object\n",
       "ADMINISTRADORA                 object\n",
       "CANT_ANTENCENDENTE_GRU_A01      int64\n",
       "CANT_ANTENCENDENTE_GRU_A02      int64\n",
       "CANT_ANTENCENDENTE_GRU_A03      int64\n",
       "CANT_ANTENCENDENTE_GRU_A04      int64\n",
       "CANT_ANTENCENDENTE_GRU_A06      int64\n",
       "CANT_ANTENCENDENTE_GRU_A07      int64\n",
       "CANT_ANTENCENDENTE_GRU_A08      int64\n",
       "CANT_ANTENCENDENTE_GRU_A09      int64\n",
       "CANT_ANTENCENDENTE_GRU_A11      int64\n",
       "CANT_ANTENCENDENTE_GRU_A12      int64\n",
       "CANT_ANTENCENDENTE_GRU_A13      int64\n",
       "CANT_ANTENCENDENTE_GRU_A14      int64\n",
       "CANT_ANTENCENDENTE_GRU_A20      int64\n",
       "CANT_ANTENCENDENTE_GRU_A23      int64\n",
       "CANT_ANTENCENDENTE_GRU_A24      int64\n",
       "CANT_ANTENCENDENTE_GRU_A25      int64\n",
       "DX_INGRESO                     object\n",
       "DX_PRINCIPAL                   object\n",
       "DX_EGRESO                      object\n",
       "DX_PREVIO                      object\n",
       "DX_POST                        object\n",
       "DX_RELACIONADO1                object\n",
       "DX_RELACIONADO2                object\n",
       "ESPECIALIDAD_1                 object\n",
       "ESPECIALIDAD_2                 object\n",
       "ESPECIALIDAD_3                 object\n",
       "ESPECIALIDAD_4                 object\n",
       "ESPECIALIDAD_5                 object\n",
       "ESPECIALIDAD_6                 object\n",
       "CONCEPTO_FACTURA_CARGO         object\n",
       "CODIGO_PRODUCTO_CARGO          object\n",
       "CCOSTO_CARGO                    int64\n",
       "TERCERO_CARGO                   int64\n",
       "FUENTE_FACTURA                 object\n",
       "NUMERO_FACTURA                  int64\n",
       "CANTIDAD_CARGO                  int64\n",
       "VALOR_TOTAL_CARGO               int64\n",
       "VALOR_FACTURADO_CARGO           int64\n",
       "CAUSA_RECLAMO                 float64\n",
       "VALOR_RECLAMADO               float64\n",
       "VALOR_ACEPTADO                  int64\n",
       "VALOR_FINAL_RECLAMADO           int64\n",
       "dtype: object"
      ]
     },
     "execution_count": 68,
     "metadata": {},
     "output_type": "execute_result"
    }
   ],
   "source": [
    "df.dtypes"
   ]
  },
  {
   "cell_type": "code",
   "execution_count": 69,
   "id": "173e7d6d-626b-4418-af7a-e3474c3fb0f1",
   "metadata": {
    "tags": []
   },
   "outputs": [
    {
     "data": {
      "text/plain": [
       "count    6.097935e+06\n",
       "mean     1.889232e+06\n",
       "std      5.859895e+05\n",
       "min      0.000000e+00\n",
       "25%      1.415267e+06\n",
       "50%      1.890184e+06\n",
       "75%      2.386521e+06\n",
       "max      2.939909e+06\n",
       "Name: ATENCION, dtype: float64"
      ]
     },
     "execution_count": 69,
     "metadata": {},
     "output_type": "execute_result"
    }
   ],
   "source": [
    "df['ATENCION'].describe()"
   ]
  },
  {
   "cell_type": "code",
   "execution_count": 70,
   "id": "5fbfbcf1-25f6-4d2c-9b91-b45e932d4de0",
   "metadata": {
    "tags": []
   },
   "outputs": [
    {
     "data": {
      "text/plain": [
       "array(['HOSP', 'URGE', 'LABO', 'CEXT', 'AYDX', 'AYRA'], dtype=object)"
      ]
     },
     "execution_count": 70,
     "metadata": {},
     "output_type": "execute_result"
    }
   ],
   "source": [
    "df['DETALLE_ATENCION'].unique()"
   ]
  },
  {
   "cell_type": "code",
   "execution_count": 71,
   "id": "981ef1dc-34f7-438b-a4a4-77dc26f7db12",
   "metadata": {
    "tags": []
   },
   "outputs": [],
   "source": [
    "df['DETALLE_ATENCION']=df['DETALLE_ATENCION'].replace('HOSP', 0)\n",
    "df['DETALLE_ATENCION']=df['DETALLE_ATENCION'].replace('URGE', 1)\n",
    "df['DETALLE_ATENCION']=df['DETALLE_ATENCION'].replace('LABO', 2)\n",
    "df['DETALLE_ATENCION']=df['DETALLE_ATENCION'].replace('CEXT', 3)\n",
    "df['DETALLE_ATENCION']=df['DETALLE_ATENCION'].replace('AYDX', 4)\n",
    "df['DETALLE_ATENCION']=df['DETALLE_ATENCION'].replace('AYRA', 5)"
   ]
  },
  {
   "cell_type": "code",
   "execution_count": 72,
   "id": "22362dae-0c3f-423e-937d-1cd82fd10da2",
   "metadata": {
    "tags": []
   },
   "outputs": [],
   "source": [
    "df['DETALLE_ATENCION']=df['DETALLE_ATENCION'].astype(np.int64)"
   ]
  },
  {
   "cell_type": "code",
   "execution_count": 73,
   "id": "121099bd-22ba-423d-8161-5555d7563c01",
   "metadata": {
    "tags": []
   },
   "outputs": [
    {
     "data": {
      "text/plain": [
       "array([0, 1, 2, 3, 4, 5], dtype=int64)"
      ]
     },
     "execution_count": 73,
     "metadata": {},
     "output_type": "execute_result"
    }
   ],
   "source": [
    "df['DETALLE_ATENCION'].unique()"
   ]
  },
  {
   "cell_type": "code",
   "execution_count": 74,
   "id": "fe5a488f-dece-4902-90ed-c111cbeaea32",
   "metadata": {
    "tags": []
   },
   "outputs": [
    {
     "data": {
      "text/plain": [
       "count    6.097935e+06\n",
       "mean     9.866045e-01\n",
       "std      1.327139e+00\n",
       "min      0.000000e+00\n",
       "25%      0.000000e+00\n",
       "50%      0.000000e+00\n",
       "75%      2.000000e+00\n",
       "max      5.000000e+00\n",
       "Name: DETALLE_ATENCION, dtype: float64"
      ]
     },
     "execution_count": 74,
     "metadata": {},
     "output_type": "execute_result"
    }
   ],
   "source": [
    "df['DETALLE_ATENCION'].describe()"
   ]
  },
  {
   "cell_type": "code",
   "execution_count": 75,
   "id": "7c5784fa-f9e6-4eb6-ae6e-30475a741f64",
   "metadata": {
    "tags": []
   },
   "outputs": [
    {
     "data": {
      "text/plain": [
       "array(['CHUR', 'CHHD', 'CHHT', 'CHHC', 'CHCI', 'CHTS', 'CHUC', 'CHHQ',\n",
       "       'CHUG', 'CHCE', 'JHEM', 'UNIM', 'JELE', 'URGE'], dtype=object)"
      ]
     },
     "execution_count": 75,
     "metadata": {},
     "output_type": "execute_result"
    }
   ],
   "source": [
    "#UBICACION_ATENCION\n",
    "df['UBICACION_ATENCION'].unique()"
   ]
  },
  {
   "cell_type": "code",
   "execution_count": 76,
   "id": "3e38b2c5-7fd3-46d1-bc20-240ee7b7660e",
   "metadata": {
    "tags": []
   },
   "outputs": [],
   "source": [
    "df['UBICACION_ATENCION']=df['UBICACION_ATENCION'].replace('CHUR', 0)\n",
    "df['UBICACION_ATENCION']=df['UBICACION_ATENCION'].replace('CHHD', 1)\n",
    "df['UBICACION_ATENCION']=df['UBICACION_ATENCION'].replace('CHHT', 2)\n",
    "df['UBICACION_ATENCION']=df['UBICACION_ATENCION'].replace('CHHC', 3)\n",
    "df['UBICACION_ATENCION']=df['UBICACION_ATENCION'].replace('CHCI', 4)\n",
    "df['UBICACION_ATENCION']=df['UBICACION_ATENCION'].replace('CHTS', 5)\n",
    "df['UBICACION_ATENCION']=df['UBICACION_ATENCION'].replace('CHUC', 6)\n",
    "df['UBICACION_ATENCION']=df['UBICACION_ATENCION'].replace('CHHQ', 7)\n",
    "df['UBICACION_ATENCION']=df['UBICACION_ATENCION'].replace('CHUG', 8)\n",
    "df['UBICACION_ATENCION']=df['UBICACION_ATENCION'].replace('CHCE', 9)\n",
    "df['UBICACION_ATENCION']=df['UBICACION_ATENCION'].replace('JHEM', 10)\n",
    "df['UBICACION_ATENCION']=df['UBICACION_ATENCION'].replace('UNIM', 11)\n",
    "df['UBICACION_ATENCION']=df['UBICACION_ATENCION'].replace('JELE', 12)\n",
    "df['UBICACION_ATENCION']=df['UBICACION_ATENCION'].replace('URGE', 13)"
   ]
  },
  {
   "cell_type": "code",
   "execution_count": 77,
   "id": "ed5091c9-44b4-47aa-a133-bac8bfd81834",
   "metadata": {
    "tags": []
   },
   "outputs": [],
   "source": [
    "df['UBICACION_ATENCION']=df['UBICACION_ATENCION'].astype(np.int64)"
   ]
  },
  {
   "cell_type": "code",
   "execution_count": 78,
   "id": "cfeb57b9-4177-4edc-9248-ef6c26192950",
   "metadata": {
    "tags": []
   },
   "outputs": [
    {
     "data": {
      "text/plain": [
       "array([ 0,  1,  2,  3,  4,  5,  6,  7,  8,  9, 10, 11, 12, 13],\n",
       "      dtype=int64)"
      ]
     },
     "execution_count": 78,
     "metadata": {},
     "output_type": "execute_result"
    }
   ],
   "source": [
    "df['UBICACION_ATENCION'].unique()"
   ]
  },
  {
   "cell_type": "code",
   "execution_count": 79,
   "id": "391b2813-4d43-42f9-b84b-ea23e89bd7e1",
   "metadata": {
    "tags": []
   },
   "outputs": [
    {
     "data": {
      "text/plain": [
       "count    6.097935e+06\n",
       "mean     3.627567e+00\n",
       "std      3.708380e+00\n",
       "min      0.000000e+00\n",
       "25%      0.000000e+00\n",
       "50%      2.000000e+00\n",
       "75%      9.000000e+00\n",
       "max      1.300000e+01\n",
       "Name: UBICACION_ATENCION, dtype: float64"
      ]
     },
     "execution_count": 79,
     "metadata": {},
     "output_type": "execute_result"
    }
   ],
   "source": [
    "df['UBICACION_ATENCION'].describe()"
   ]
  },
  {
   "cell_type": "code",
   "execution_count": 80,
   "id": "5f7f4244-e0a5-49d6-bd8a-9000da4c758c",
   "metadata": {
    "tags": []
   },
   "outputs": [
    {
     "data": {
      "text/plain": [
       "array([nan, 'J210', 'J207', 'J211', 'J305', 'J303', 'J306', 'J312',\n",
       "       'J314', 'J325', 'J419', 'J320', 'J316', 'J209', 'J304', 'J426',\n",
       "       'J327', 'J308', 'J208', 'J318', 'J321', 'J310', 'J416', 'J323',\n",
       "       'J322', 'J328', 'J422', 'J424', 'J324', 'J421', 'J201', 'J302',\n",
       "       'J326', 'J329', 'J205', 'J203', 'J418', 'J319', 'J317', 'J202',\n",
       "       'J206', 'J204', 'J216', 'J213', 'J217', 'J417', 'J420', 'J301',\n",
       "       '322', 'J423', '317', 'J427', '308', 'UCN4', 'J214', 'J212', '302',\n",
       "       'J425', '304', '306', 'J428', '312', '305', '314'], dtype=object)"
      ]
     },
     "execution_count": 80,
     "metadata": {},
     "output_type": "execute_result"
    }
   ],
   "source": [
    "df['HABITACION_ATENCION'].unique()"
   ]
  },
  {
   "cell_type": "code",
   "execution_count": 81,
   "id": "7e5d1139-226f-4984-9c7c-09313329b843",
   "metadata": {
    "tags": []
   },
   "outputs": [],
   "source": [
    "df['HABITACION_ATENCION']=df['HABITACION_ATENCION'].replace({'J':''},regex=True)\n",
    "df['HABITACION_ATENCION']=df['HABITACION_ATENCION'].fillna(0)\n",
    "df['HABITACION_ATENCION']=df['HABITACION_ATENCION'].replace('UCN4', 1)"
   ]
  },
  {
   "cell_type": "code",
   "execution_count": 82,
   "id": "43228564-c60c-413f-b53b-5497380148b5",
   "metadata": {
    "tags": []
   },
   "outputs": [],
   "source": [
    "df['HABITACION_ATENCION']=df['HABITACION_ATENCION'].astype(np.int64)"
   ]
  },
  {
   "cell_type": "code",
   "execution_count": 83,
   "id": "4227ed71-5188-4b3a-bab9-4a943288066d",
   "metadata": {
    "tags": []
   },
   "outputs": [
    {
     "data": {
      "text/plain": [
       "array([  0, 210, 207, 211, 305, 303, 306, 312, 314, 325, 419, 320, 316,\n",
       "       209, 304, 426, 327, 308, 208, 318, 321, 310, 416, 323, 322, 328,\n",
       "       422, 424, 324, 421, 201, 302, 326, 329, 205, 203, 418, 319, 317,\n",
       "       202, 206, 204, 216, 213, 217, 417, 420, 301, 423, 427,   1, 214,\n",
       "       212, 425, 428], dtype=int64)"
      ]
     },
     "execution_count": 83,
     "metadata": {},
     "output_type": "execute_result"
    }
   ],
   "source": [
    "df['HABITACION_ATENCION'].unique()"
   ]
  },
  {
   "cell_type": "code",
   "execution_count": 84,
   "id": "f859c941-5a26-4054-9281-f94a5a2203b5",
   "metadata": {
    "tags": []
   },
   "outputs": [
    {
     "data": {
      "text/plain": [
       "array(['CON', '387', '550', '137', '430', '514', '441', '750', '521',\n",
       "       '440', '410', '830', '142', '515', '134', '341', '420', '143',\n",
       "       '310', '131', '133', '351', '138', '010', '230', '991', '480',\n",
       "       '021', '160', '531', '740', '950', '320', '995', '148', '140',\n",
       "       '147', '386', '450', '120', '992', '121', '132', '141', '551',\n",
       "       '382', '136', '431', '442', '200', '590', '870', '895', '240',\n",
       "       '383', '122', '820', '312', '925', '620', '500', '880', '283',\n",
       "       '963', '999', '360', '290', '602', '190', '902', '690', '220',\n",
       "       '998', '601', '144', 'ACL', '065', '530', '903', '100', '930',\n",
       "       '600', '890', '385'], dtype=object)"
      ]
     },
     "execution_count": 84,
     "metadata": {},
     "output_type": "execute_result"
    }
   ],
   "source": [
    "df['ESPECIALIDAD_ATENCION'].unique()"
   ]
  },
  {
   "cell_type": "code",
   "execution_count": 85,
   "id": "6579c213-eb9a-4574-996a-cb69fd7b7a5a",
   "metadata": {
    "tags": []
   },
   "outputs": [],
   "source": [
    "df['ESPECIALIDAD_ATENCION']=df['ESPECIALIDAD_ATENCION'].replace('CON', 1)\n",
    "df['ESPECIALIDAD_ATENCION']=df['ESPECIALIDAD_ATENCION'].replace('ACL', 2)"
   ]
  },
  {
   "cell_type": "code",
   "execution_count": 86,
   "id": "035fe6d0-adbd-411a-b7fd-a656ae9a7397",
   "metadata": {
    "tags": []
   },
   "outputs": [
    {
     "data": {
      "text/plain": [
       "array([1, '387', '550', '137', '430', '514', '441', '750', '521', '440',\n",
       "       '410', '830', '142', '515', '134', '341', '420', '143', '310',\n",
       "       '131', '133', '351', '138', '010', '230', '991', '480', '021',\n",
       "       '160', '531', '740', '950', '320', '995', '148', '140', '147',\n",
       "       '386', '450', '120', '992', '121', '132', '141', '551', '382',\n",
       "       '136', '431', '442', '200', '590', '870', '895', '240', '383',\n",
       "       '122', '820', '312', '925', '620', '500', '880', '283', '963',\n",
       "       '999', '360', '290', '602', '190', '902', '690', '220', '998',\n",
       "       '601', '144', 2, '065', '530', '903', '100', '930', '600', '890',\n",
       "       '385'], dtype=object)"
      ]
     },
     "execution_count": 86,
     "metadata": {},
     "output_type": "execute_result"
    }
   ],
   "source": [
    "df['ESPECIALIDAD_ATENCION'].unique()"
   ]
  },
  {
   "cell_type": "code",
   "execution_count": 89,
   "id": "0162f6ae-0015-4c1b-9d57-11f8f21bfa43",
   "metadata": {
    "tags": []
   },
   "outputs": [],
   "source": [
    "df['ESPECIALIDAD_ATENCION']=df['ESPECIALIDAD_ATENCION'].astype(np.int64)"
   ]
  },
  {
   "cell_type": "code",
   "execution_count": 90,
   "id": "9015f756-e783-45a6-971f-53c0383c57c6",
   "metadata": {
    "tags": []
   },
   "outputs": [
    {
     "data": {
      "text/plain": [
       "array([  1, 387, 550, 137, 430, 514, 441, 750, 521, 440, 410, 830, 142,\n",
       "       515, 134, 341, 420, 143, 310, 131, 133, 351, 138,  10, 230, 991,\n",
       "       480,  21, 160, 531, 740, 950, 320, 995, 148, 140, 147, 386, 450,\n",
       "       120, 992, 121, 132, 141, 551, 382, 136, 431, 442, 200, 590, 870,\n",
       "       895, 240, 383, 122, 820, 312, 925, 620, 500, 880, 283, 963, 999,\n",
       "       360, 290, 602, 190, 902, 690, 220, 998, 601, 144,   2,  65, 530,\n",
       "       903, 100, 930, 600, 890, 385], dtype=int64)"
      ]
     },
     "execution_count": 90,
     "metadata": {},
     "output_type": "execute_result"
    }
   ],
   "source": [
    "df['ESPECIALIDAD_ATENCION'].unique()"
   ]
  },
  {
   "cell_type": "code",
   "execution_count": 91,
   "id": "a209cd7e-6544-4296-8562-289b7e59cdd2",
   "metadata": {
    "tags": []
   },
   "outputs": [
    {
     "data": {
      "text/plain": [
       "array(['CON', '387', '550', '137', nan, '750', '521', '410', '830', '514',\n",
       "       '515', '134', '341', '430', '420', '441', '310', '131', '133',\n",
       "       '010', '440', '143', '142', '230', '991', '480', '138', '021',\n",
       "       '160', '531', '950', '995', '320', '148', '140', '147', '386',\n",
       "       '450', '120', '992', '132', '141', '551', '382', '136', '431',\n",
       "       '442', '121', '200', '590', '870', '895', '740', '290', '602',\n",
       "       '190', 450.0, '351', '925', '100', 387.0], dtype=object)"
      ]
     },
     "execution_count": 91,
     "metadata": {},
     "output_type": "execute_result"
    }
   ],
   "source": [
    "df['ESPECIALIDAD_1'].unique()"
   ]
  },
  {
   "cell_type": "code",
   "execution_count": 92,
   "id": "ba664018-d173-4210-b01f-14721f4af9b7",
   "metadata": {
    "tags": []
   },
   "outputs": [],
   "source": [
    "df['ESPECIALIDAD_1']=df['ESPECIALIDAD_1'].fillna(0)\n",
    "df['ESPECIALIDAD_1']=df['ESPECIALIDAD_1'].replace('CON', 1)\n",
    "df['ESPECIALIDAD_1']=df['ESPECIALIDAD_1'].replace('ACL', 2)"
   ]
  },
  {
   "cell_type": "code",
   "execution_count": 93,
   "id": "6508770f-04ba-4804-aafc-32e6035b2b48",
   "metadata": {
    "tags": []
   },
   "outputs": [
    {
     "data": {
      "text/plain": [
       "array([1, '387', '550', '137', 0, '750', '521', '410', '830', '514',\n",
       "       '515', '134', '341', '430', '420', '441', '310', '131', '133',\n",
       "       '010', '440', '143', '142', '230', '991', '480', '138', '021',\n",
       "       '160', '531', '950', '995', '320', '148', '140', '147', '386',\n",
       "       '450', '120', '992', '132', '141', '551', '382', '136', '431',\n",
       "       '442', '121', '200', '590', '870', '895', '740', '290', '602',\n",
       "       '190', 450.0, '351', '925', '100', 387.0], dtype=object)"
      ]
     },
     "execution_count": 93,
     "metadata": {},
     "output_type": "execute_result"
    }
   ],
   "source": [
    "df['ESPECIALIDAD_1'].unique()"
   ]
  },
  {
   "cell_type": "code",
   "execution_count": 94,
   "id": "6e05c98f-b7b4-4f5b-857a-e1e8049cd891",
   "metadata": {
    "tags": []
   },
   "outputs": [],
   "source": [
    "df['ESPECIALIDAD_1']=df['ESPECIALIDAD_1'].astype(np.int64)"
   ]
  },
  {
   "cell_type": "code",
   "execution_count": 95,
   "id": "619e9ae9-fbb4-4137-ab2a-3325daa91c49",
   "metadata": {
    "tags": []
   },
   "outputs": [
    {
     "data": {
      "text/plain": [
       "array([  1, 387, 550, 137,   0, 750, 521, 410, 830, 514, 515, 134, 341,\n",
       "       430, 420, 441, 310, 131, 133,  10, 440, 143, 142, 230, 991, 480,\n",
       "       138,  21, 160, 531, 950, 995, 320, 148, 140, 147, 386, 450, 120,\n",
       "       992, 132, 141, 551, 382, 136, 431, 442, 121, 200, 590, 870, 895,\n",
       "       740, 290, 602, 190, 351, 925, 100], dtype=int64)"
      ]
     },
     "execution_count": 95,
     "metadata": {},
     "output_type": "execute_result"
    }
   ],
   "source": [
    "df['ESPECIALIDAD_1'].unique()"
   ]
  },
  {
   "cell_type": "code",
   "execution_count": 96,
   "id": "53e879af-459b-4ae6-af87-5911fb97d925",
   "metadata": {
    "tags": []
   },
   "outputs": [
    {
     "data": {
      "text/plain": [
       "array([nan, '430', '514', '441', '440', '750', '142', '143', '351', '133',\n",
       "       '138', '137', '341', '387', '521', '515', '480', '740', '320',\n",
       "       'CON', '120', '830', '121', '310', '991', '148', '410', '550',\n",
       "       '134', '021', 441.0, 750.0, 514.0, 142.0, 410.0, 387.0, 310.0,\n",
       "       138.0, 143.0, 440.0, 137.0, 550.0, 521.0, 991.0, 133.0, 430.0,\n",
       "       '230', 341.0, 830.0, 515.0, 134.0, 320.0, 121.0, 21.0, 480.0,\n",
       "       148.0, 740.0, 120.0, '590', '160', 351.0, '450', 590.0, 230.0,\n",
       "       160.0], dtype=object)"
      ]
     },
     "execution_count": 96,
     "metadata": {},
     "output_type": "execute_result"
    }
   ],
   "source": [
    "df['ESPECIALIDAD_2'].unique()"
   ]
  },
  {
   "cell_type": "code",
   "execution_count": 97,
   "id": "4fbb3f28-02a5-4190-9b55-27ca54ec1a2e",
   "metadata": {
    "tags": []
   },
   "outputs": [],
   "source": [
    "df['ESPECIALIDAD_2']=df['ESPECIALIDAD_2'].fillna(0)\n",
    "df['ESPECIALIDAD_2']=df['ESPECIALIDAD_2'].replace('CON', 1)\n",
    "df['ESPECIALIDAD_2']=df['ESPECIALIDAD_2'].replace('ACL', 2)"
   ]
  },
  {
   "cell_type": "code",
   "execution_count": 98,
   "id": "296103be-333f-46c1-baf5-221574b5c9da",
   "metadata": {
    "tags": []
   },
   "outputs": [
    {
     "data": {
      "text/plain": [
       "array([0, '430', '514', '441', '440', '750', '142', '143', '351', '133',\n",
       "       '138', '137', '341', '387', '521', '515', '480', '740', '320', 1,\n",
       "       '120', '830', '121', '310', '991', '148', '410', '550', '134',\n",
       "       '021', 441.0, 750.0, 514.0, 142.0, 410.0, 387.0, 310.0, 138.0,\n",
       "       143.0, 440.0, 137.0, 550.0, 521.0, 991.0, 133.0, 430.0, '230',\n",
       "       341.0, 830.0, 515.0, 134.0, 320.0, 121.0, 21.0, 480.0, 148.0,\n",
       "       740.0, 120.0, '590', '160', 351.0, '450', 590.0, 230.0, 160.0],\n",
       "      dtype=object)"
      ]
     },
     "execution_count": 98,
     "metadata": {},
     "output_type": "execute_result"
    }
   ],
   "source": [
    "df['ESPECIALIDAD_2'].unique()"
   ]
  },
  {
   "cell_type": "code",
   "execution_count": 99,
   "id": "901e5cb1-4b9e-4b6e-a805-723136fe3d87",
   "metadata": {
    "tags": []
   },
   "outputs": [],
   "source": [
    "df['ESPECIALIDAD_2']=df['ESPECIALIDAD_2'].astype(np.int64)"
   ]
  },
  {
   "cell_type": "code",
   "execution_count": 100,
   "id": "de01baae-1878-49fe-a372-c3b768328cfe",
   "metadata": {
    "tags": []
   },
   "outputs": [
    {
     "data": {
      "text/plain": [
       "array([  0, 430, 514, 441, 440, 750, 142, 143, 351, 133, 138, 137, 341,\n",
       "       387, 521, 515, 480, 740, 320,   1, 120, 830, 121, 310, 991, 148,\n",
       "       410, 550, 134,  21, 230, 590, 160, 450], dtype=int64)"
      ]
     },
     "execution_count": 100,
     "metadata": {},
     "output_type": "execute_result"
    }
   ],
   "source": [
    "df['ESPECIALIDAD_2'].unique()"
   ]
  },
  {
   "cell_type": "code",
   "execution_count": 101,
   "id": "89cb6f49-2ab6-45b2-b13f-7e56595be7d4",
   "metadata": {
    "tags": []
   },
   "outputs": [
    {
     "data": {
      "text/plain": [
       "array([nan, '430', '143', '133', '441', '142', 'CON', '440', 750.0, 514.0,\n",
       "       133.0, 441.0, 142.0, 521.0, '750', '137', '514', 310.0, 440.0,\n",
       "       '521', 143.0, 430.0, 137.0, '310'], dtype=object)"
      ]
     },
     "execution_count": 101,
     "metadata": {},
     "output_type": "execute_result"
    }
   ],
   "source": [
    "df['ESPECIALIDAD_3'].unique()"
   ]
  },
  {
   "cell_type": "code",
   "execution_count": 102,
   "id": "2dd5b92b-a71e-461b-b9a7-d7e0ed5cb707",
   "metadata": {
    "tags": []
   },
   "outputs": [],
   "source": [
    "df['ESPECIALIDAD_3']=df['ESPECIALIDAD_3'].fillna(0)\n",
    "df['ESPECIALIDAD_3']=df['ESPECIALIDAD_3'].replace('CON', 1)\n",
    "df['ESPECIALIDAD_3']=df['ESPECIALIDAD_3'].replace('ACL', 2)"
   ]
  },
  {
   "cell_type": "code",
   "execution_count": 103,
   "id": "e215d05c-0dde-4ae2-8679-340251d3d0c9",
   "metadata": {
    "tags": []
   },
   "outputs": [
    {
     "data": {
      "text/plain": [
       "array([0, '430', '143', '133', '441', '142', 1, '440', 750.0, 514.0,\n",
       "       133.0, 441.0, 142.0, 521.0, '750', '137', '514', 310.0, 440.0,\n",
       "       '521', 143.0, 430.0, 137.0, '310'], dtype=object)"
      ]
     },
     "execution_count": 103,
     "metadata": {},
     "output_type": "execute_result"
    }
   ],
   "source": [
    "df['ESPECIALIDAD_3'].unique()"
   ]
  },
  {
   "cell_type": "code",
   "execution_count": 104,
   "id": "0bf99619-a2b4-4933-b64f-a1a578e77c51",
   "metadata": {
    "tags": []
   },
   "outputs": [],
   "source": [
    "df['ESPECIALIDAD_3']=df['ESPECIALIDAD_3'].astype(np.int64)"
   ]
  },
  {
   "cell_type": "code",
   "execution_count": 105,
   "id": "64709610-952c-4a31-a2ce-48d5f7d938a1",
   "metadata": {
    "tags": []
   },
   "outputs": [
    {
     "data": {
      "text/plain": [
       "array([  0, 430, 143, 133, 441, 142,   1, 440, 750, 514, 521, 137, 310],\n",
       "      dtype=int64)"
      ]
     },
     "execution_count": 105,
     "metadata": {},
     "output_type": "execute_result"
    }
   ],
   "source": [
    "df['ESPECIALIDAD_3'].unique()"
   ]
  },
  {
   "cell_type": "code",
   "execution_count": 106,
   "id": "ea2ff46b-da17-4c31-a2e1-603446089eae",
   "metadata": {
    "tags": []
   },
   "outputs": [
    {
     "data": {
      "text/plain": [
       "array([nan, 'CON'], dtype=object)"
      ]
     },
     "execution_count": 106,
     "metadata": {},
     "output_type": "execute_result"
    }
   ],
   "source": [
    "df['ESPECIALIDAD_4'].unique()"
   ]
  },
  {
   "cell_type": "code",
   "execution_count": 107,
   "id": "5685e386-a45b-4e92-9ef3-8869f76edeab",
   "metadata": {
    "tags": []
   },
   "outputs": [],
   "source": [
    "df['ESPECIALIDAD_4']=df['ESPECIALIDAD_4'].fillna(0)\n",
    "df['ESPECIALIDAD_4']=df['ESPECIALIDAD_4'].replace('CON', 1)\n",
    "df['ESPECIALIDAD_4']=df['ESPECIALIDAD_4'].replace('ACL', 2)"
   ]
  },
  {
   "cell_type": "code",
   "execution_count": 108,
   "id": "c04d5b95-0fe5-4be4-bdf5-435839f70d8d",
   "metadata": {
    "tags": []
   },
   "outputs": [
    {
     "data": {
      "text/plain": [
       "array([0, 1], dtype=int64)"
      ]
     },
     "execution_count": 108,
     "metadata": {},
     "output_type": "execute_result"
    }
   ],
   "source": [
    "df['ESPECIALIDAD_4'].unique()"
   ]
  },
  {
   "cell_type": "code",
   "execution_count": 109,
   "id": "d1b3e67c-2bd6-4fc0-800f-93dee850be7a",
   "metadata": {
    "tags": []
   },
   "outputs": [],
   "source": [
    "df['ESPECIALIDAD_4']=df['ESPECIALIDAD_4'].astype(np.int64)"
   ]
  },
  {
   "cell_type": "code",
   "execution_count": 110,
   "id": "b6e10439-6173-4878-9afa-48b5f77ef5a8",
   "metadata": {
    "tags": []
   },
   "outputs": [
    {
     "data": {
      "text/plain": [
       "array([0, 1], dtype=int64)"
      ]
     },
     "execution_count": 110,
     "metadata": {},
     "output_type": "execute_result"
    }
   ],
   "source": [
    "df['ESPECIALIDAD_4'].unique()"
   ]
  },
  {
   "cell_type": "code",
   "execution_count": 111,
   "id": "59f8b970-8c19-4a23-b708-13120e552e50",
   "metadata": {
    "tags": []
   },
   "outputs": [
    {
     "data": {
      "text/plain": [
       "array([nan, 440.0, 'CON', '440'], dtype=object)"
      ]
     },
     "execution_count": 111,
     "metadata": {},
     "output_type": "execute_result"
    }
   ],
   "source": [
    "df['ESPECIALIDAD_5'].unique()"
   ]
  },
  {
   "cell_type": "code",
   "execution_count": 112,
   "id": "06dc9b8c-8a87-4bad-a1eb-151f3ac3f8f0",
   "metadata": {
    "tags": []
   },
   "outputs": [],
   "source": [
    "df['ESPECIALIDAD_5']=df['ESPECIALIDAD_5'].fillna(0)\n",
    "df['ESPECIALIDAD_5']=df['ESPECIALIDAD_5'].replace('CON', 1)\n",
    "df['ESPECIALIDAD_5']=df['ESPECIALIDAD_5'].replace('ACL', 2)"
   ]
  },
  {
   "cell_type": "code",
   "execution_count": 113,
   "id": "fe17e64c-9626-4e55-9440-c85c9decba8b",
   "metadata": {
    "tags": []
   },
   "outputs": [
    {
     "data": {
      "text/plain": [
       "array([0, 440.0, 1, '440'], dtype=object)"
      ]
     },
     "execution_count": 113,
     "metadata": {},
     "output_type": "execute_result"
    }
   ],
   "source": [
    "df['ESPECIALIDAD_5'].unique()"
   ]
  },
  {
   "cell_type": "code",
   "execution_count": 114,
   "id": "16459a78-16d4-48b1-b619-c8a0ccb015ce",
   "metadata": {
    "tags": []
   },
   "outputs": [],
   "source": [
    "df['ESPECIALIDAD_5']=df['ESPECIALIDAD_5'].astype(np.int64)"
   ]
  },
  {
   "cell_type": "code",
   "execution_count": 115,
   "id": "a56ba891-cda8-4d21-a80c-7c53f546ab72",
   "metadata": {
    "tags": []
   },
   "outputs": [
    {
     "data": {
      "text/plain": [
       "array([  0, 440,   1], dtype=int64)"
      ]
     },
     "execution_count": 115,
     "metadata": {},
     "output_type": "execute_result"
    }
   ],
   "source": [
    "df['ESPECIALIDAD_5'].unique()"
   ]
  },
  {
   "cell_type": "code",
   "execution_count": 116,
   "id": "ba77b5db-24c8-4b85-b270-605babbc4747",
   "metadata": {
    "tags": []
   },
   "outputs": [
    {
     "data": {
      "text/plain": [
       "array([nan, 'CON'], dtype=object)"
      ]
     },
     "execution_count": 116,
     "metadata": {},
     "output_type": "execute_result"
    }
   ],
   "source": [
    "df['ESPECIALIDAD_6'].unique()"
   ]
  },
  {
   "cell_type": "code",
   "execution_count": 117,
   "id": "2f02568c-c82a-44aa-b7f9-d5ff71900fc2",
   "metadata": {
    "tags": []
   },
   "outputs": [],
   "source": [
    "df['ESPECIALIDAD_6']=df['ESPECIALIDAD_6'].fillna(0)\n",
    "df['ESPECIALIDAD_6']=df['ESPECIALIDAD_6'].replace('CON', 1)\n",
    "df['ESPECIALIDAD_6']=df['ESPECIALIDAD_6'].replace('ACL', 2)"
   ]
  },
  {
   "cell_type": "code",
   "execution_count": 118,
   "id": "b275fa9c-863d-4ee4-94d3-2db48fb1337b",
   "metadata": {
    "tags": []
   },
   "outputs": [
    {
     "data": {
      "text/plain": [
       "array([0, 1], dtype=int64)"
      ]
     },
     "execution_count": 118,
     "metadata": {},
     "output_type": "execute_result"
    }
   ],
   "source": [
    "df['ESPECIALIDAD_6'].unique()"
   ]
  },
  {
   "cell_type": "code",
   "execution_count": 119,
   "id": "b49a603f-6e0e-4f00-9b65-30aeb8b0e042",
   "metadata": {
    "tags": []
   },
   "outputs": [],
   "source": [
    "df['ESPECIALIDAD_6']=df['ESPECIALIDAD_6'].astype(np.int64)"
   ]
  },
  {
   "cell_type": "code",
   "execution_count": 120,
   "id": "2f09bbe6-d16b-4de2-b429-2a026745b9fe",
   "metadata": {
    "tags": []
   },
   "outputs": [
    {
     "data": {
      "text/plain": [
       "array([0, 1], dtype=int64)"
      ]
     },
     "execution_count": 120,
     "metadata": {},
     "output_type": "execute_result"
    }
   ],
   "source": [
    "df['ESPECIALIDAD_6'].unique()"
   ]
  },
  {
   "cell_type": "code",
   "execution_count": null,
   "id": "8e868a9f-f4d1-4f10-ba7d-3c867b17dfc9",
   "metadata": {},
   "outputs": [],
   "source": []
  },
  {
   "cell_type": "code",
   "execution_count": null,
   "id": "50df6f7d-f1ba-45c5-8aef-3be9ce3070df",
   "metadata": {},
   "outputs": [],
   "source": []
  },
  {
   "cell_type": "code",
   "execution_count": null,
   "id": "ee0c55ac-b711-4286-be12-566e818d4a63",
   "metadata": {},
   "outputs": [],
   "source": [
    "df_origin['RESPONSABLE_PAGO']=df_origin['RESPONSABLE_PAGO'].apply(mf.string_to_num_string)"
   ]
  },
  {
   "cell_type": "code",
   "execution_count": null,
   "id": "7e513f50-b4ea-46c6-bc5b-4f8da43906c0",
   "metadata": {
    "tags": []
   },
   "outputs": [],
   "source": [
    "df_origin['RESPONSABLE_PAGO']=df_origin['RESPONSABLE_PAGO'].apply(mf.string_to_num_string)"
   ]
  },
  {
   "cell_type": "code",
   "execution_count": null,
   "id": "ebed0253-ce49-4b92-bc1e-c9c6376c312c",
   "metadata": {
    "tags": []
   },
   "outputs": [],
   "source": [
    "df_origin['RESPONSABLE_PAGO']=df_origin['RESPONSABLE_PAGO'].astype(int)"
   ]
  },
  {
   "cell_type": "code",
   "execution_count": null,
   "id": "902a4d5d-ded4-4186-8687-2e29ebe2423f",
   "metadata": {
    "tags": []
   },
   "outputs": [],
   "source": [
    "print(df_origin.dtypes)"
   ]
  },
  {
   "cell_type": "code",
   "execution_count": null,
   "id": "6c30d23f-0934-4201-96e4-14b21ef932b3",
   "metadata": {
    "tags": []
   },
   "outputs": [],
   "source": [
    "df_origin['RESPONSABLE_PAGO'].describe()"
   ]
  },
  {
   "cell_type": "code",
   "execution_count": null,
   "id": "90bd8177-8e0a-4b74-916e-75ee2dec8c8f",
   "metadata": {
    "tags": []
   },
   "outputs": [],
   "source": [
    "df_origin['RESPONSABLE_PAGO'].info()"
   ]
  },
  {
   "cell_type": "code",
   "execution_count": null,
   "id": "4a11486e-c920-4154-bb62-0287e8336a9d",
   "metadata": {
    "tags": []
   },
   "outputs": [],
   "source": [
    "df_origin['TERCERO_CARGO']=df_origin['TERCERO_CARGO'].apply(mf.string_to_num_string)"
   ]
  },
  {
   "cell_type": "code",
   "execution_count": null,
   "id": "a7990bc5-3bb3-484d-a6b4-b4701e09619b",
   "metadata": {
    "tags": []
   },
   "outputs": [],
   "source": [
    "print(df_origin.dtypes)"
   ]
  },
  {
   "cell_type": "code",
   "execution_count": null,
   "id": "a3724c45-ce59-4ea9-af3c-0edc185f569f",
   "metadata": {
    "tags": []
   },
   "outputs": [],
   "source": [
    "df_origin['RESPONSABLE_PAGO'].describe()"
   ]
  },
  {
   "cell_type": "code",
   "execution_count": null,
   "id": "093816a1-4a56-495e-8107-7ded326ade41",
   "metadata": {
    "tags": []
   },
   "outputs": [],
   "source": [
    "import numpy as np\n",
    "df_origin['RESPONSABLE_PAGO']=df_origin['RESPONSABLE_PAGO'].apply(np.int64)"
   ]
  },
  {
   "cell_type": "code",
   "execution_count": null,
   "id": "b99a3282-2de4-43ec-9bb4-97ec82127f9c",
   "metadata": {
    "tags": []
   },
   "outputs": [],
   "source": [
    "df_origin['RESPONSABLE_PAGO'].describe()"
   ]
  },
  {
   "cell_type": "code",
   "execution_count": null,
   "id": "18d70ee4-3706-4da5-8a5b-65ca8b0225e5",
   "metadata": {
    "tags": []
   },
   "outputs": [],
   "source": [
    "df_origin.info()"
   ]
  },
  {
   "cell_type": "code",
   "execution_count": null,
   "id": "8a2863d4-4341-4d25-8697-548905cae15a",
   "metadata": {
    "tags": []
   },
   "outputs": [],
   "source": [
    "df_origin.describe()"
   ]
  },
  {
   "cell_type": "code",
   "execution_count": null,
   "id": "ec2d64b0-0039-4229-8915-7b09fe70f765",
   "metadata": {
    "tags": []
   },
   "outputs": [],
   "source": [
    "df_origin.head()"
   ]
  },
  {
   "cell_type": "code",
   "execution_count": null,
   "id": "e7118409-b796-4493-bd4c-f455c052e0f2",
   "metadata": {
    "tags": []
   },
   "outputs": [],
   "source": [
    "df_origin.duplicated()"
   ]
  },
  {
   "cell_type": "code",
   "execution_count": null,
   "id": "a7b8675a-fc80-4fff-8b2d-261546d94bc4",
   "metadata": {
    "tags": []
   },
   "outputs": [],
   "source": [
    "df_origin.isnull().sum()"
   ]
  },
  {
   "cell_type": "code",
   "execution_count": null,
   "id": "5409a681-e2b1-4299-bba6-9f92b39b7389",
   "metadata": {
    "tags": []
   },
   "outputs": [],
   "source": [
    "df_origin['CAUSA_RECLAMO'].describe()"
   ]
  },
  {
   "cell_type": "code",
   "execution_count": null,
   "id": "b31f0bb8-4874-4b1a-9616-1a7975826d6f",
   "metadata": {
    "tags": []
   },
   "outputs": [],
   "source": [
    "df_origin.loc[df_origin['CAUSA_RECLAMO']>0, 'CAUSA_RECLAMO'] = 1"
   ]
  },
  {
   "cell_type": "code",
   "execution_count": null,
   "id": "bf19740a-691c-4572-9a51-cdadf6e90571",
   "metadata": {
    "tags": []
   },
   "outputs": [],
   "source": [
    "df_origin['CAUSA_RECLAMO'].describe()"
   ]
  },
  {
   "cell_type": "code",
   "execution_count": null,
   "id": "2b2c922a-aa1f-4bc2-9342-bf637d9d7591",
   "metadata": {
    "tags": []
   },
   "outputs": [],
   "source": [
    "df_copy = df_origin.drop('VALOR_RECLAMADO', axis = 1)"
   ]
  },
  {
   "cell_type": "code",
   "execution_count": null,
   "id": "5288606d-10cf-48fd-a835-b79f3aae9a4b",
   "metadata": {
    "tags": []
   },
   "outputs": [],
   "source": [
    "df_copy = df_copy.drop('VALOR_ACEPTADO', axis = 1)"
   ]
  },
  {
   "cell_type": "code",
   "execution_count": null,
   "id": "48c0a9b6-24e4-40a8-ba82-fffb50532eb0",
   "metadata": {
    "tags": []
   },
   "outputs": [],
   "source": [
    "df_copy = df_copy.drop('VALOR_FINAL_RECLAMADO', axis = 1)"
   ]
  },
  {
   "cell_type": "code",
   "execution_count": null,
   "id": "57e97567-d72c-487c-84b3-ac6e4c15a3d7",
   "metadata": {
    "tags": []
   },
   "outputs": [],
   "source": [
    "columns = df_copy.columns\n",
    "target = \"CAUSA_RECLAMO\"\n",
    "x_columns = columns.drop(target)\n",
    "print(columns)\n",
    "print(target)\n",
    "print(x_columns)"
   ]
  },
  {
   "cell_type": "code",
   "execution_count": null,
   "id": "d6be7dde-c5ae-4433-8842-64e5ea3542fe",
   "metadata": {
    "tags": []
   },
   "outputs": [],
   "source": [
    "scaler = MinMaxScaler()\n",
    "scaled_df = scaler.fit_transform(df_copy)\n",
    "scaled_df = pd.DataFrame(scaled_df, 'INGRESO_PACIENTE')\n",
    "scaled_df"
   ]
  },
  {
   "cell_type": "code",
   "execution_count": null,
   "id": "b38715f3-b5b3-4ec4-aac5-557a61786520",
   "metadata": {
    "tags": []
   },
   "outputs": [],
   "source": [
    "df_copy.describe()"
   ]
  },
  {
   "cell_type": "code",
   "execution_count": null,
   "id": "bf1406b6-623e-4005-b298-64bb1eb99c4a",
   "metadata": {
    "tags": []
   },
   "outputs": [],
   "source": []
  },
  {
   "cell_type": "code",
   "execution_count": null,
   "id": "38c8cfa4-d8b5-47d0-93b6-77b12ad78c4d",
   "metadata": {
    "tags": []
   },
   "outputs": [],
   "source": [
    "df_stats = df_copy.describe()\n",
    "df_stats = df_stats.transpose()\n",
    "df_stats"
   ]
  },
  {
   "cell_type": "code",
   "execution_count": null,
   "id": "1c96411f-2618-44f3-8ba1-4014ef2a6373",
   "metadata": {
    "tags": []
   },
   "outputs": [],
   "source": [
    "#Comportamiento de la variable objetivo\n",
    "sns.histplot(data=df_copy, x=target, kde=True)"
   ]
  },
  {
   "cell_type": "code",
   "execution_count": null,
   "id": "a2435c25-000d-46a6-9bdd-54d3470818c1",
   "metadata": {
    "tags": []
   },
   "outputs": [],
   "source": [
    "#Dividir variables de entrada y objetivo\n",
    "ValX = df_copy.drop(columns = target)\n",
    "ValY = df_copy[target]"
   ]
  },
  {
   "cell_type": "code",
   "execution_count": null,
   "id": "69ef9716-02dc-43a3-be91-7ea822a25ac6",
   "metadata": {
    "tags": []
   },
   "outputs": [],
   "source": [
    "X_train, X_validation, Y_train, Y_validation = train_test_split(ValX, ValY, test_size=0.30)"
   ]
  },
  {
   "cell_type": "code",
   "execution_count": null,
   "id": "ef03208c-5d88-459f-8874-1587b11d838e",
   "metadata": {
    "tags": []
   },
   "outputs": [],
   "source": [
    "model_simple = DecisionTreeClassifier(criterion='entropy')\n",
    "model_simple.fit(X_train, Y_train)\n",
    "predictions = model_simple.predict(X_validation)\n",
    "print(\"Precición del modelo:\", accuracy_score(Y_validation, predictions))\n",
    "print(\"Matriz de confusión\");\n",
    "print(confusion_matrix(Y_validation, predictions))\n",
    "print(\"Medidas de la precisión de clasificación\");\n",
    "print(classification_report(Y_validation, predictions))"
   ]
  },
  {
   "cell_type": "code",
   "execution_count": null,
   "id": "6454c0cd-da9b-41a9-a357-561c04c5c0ab",
   "metadata": {
    "tags": []
   },
   "outputs": [],
   "source": [
    "#70797877706876676765836893794285907244\n",
    "cadena='707978836678768467837478874087897344'\n",
    "cantidad=mf.string_to_num_string(cadena)\n",
    "print(cantidad)"
   ]
  },
  {
   "cell_type": "code",
   "execution_count": null,
   "id": "5b6e26ea-482d-48eb-9ee5-69536903dc3e",
   "metadata": {},
   "outputs": [],
   "source": []
  }
 ],
 "metadata": {
  "kernelspec": {
   "display_name": "Python 3 (ipykernel)",
   "language": "python",
   "name": "python3"
  },
  "language_info": {
   "codemirror_mode": {
    "name": "ipython",
    "version": 3
   },
   "file_extension": ".py",
   "mimetype": "text/x-python",
   "name": "python",
   "nbconvert_exporter": "python",
   "pygments_lexer": "ipython3",
   "version": "3.10.13"
  },
  "toc-showmarkdowntxt": true
 },
 "nbformat": 4,
 "nbformat_minor": 5
}
