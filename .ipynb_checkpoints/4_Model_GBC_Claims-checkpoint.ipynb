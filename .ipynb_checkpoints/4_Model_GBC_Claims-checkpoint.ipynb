{
 "cells": [
  {
   "cell_type": "markdown",
   "id": "80a883ce-1260-48e1-ad56-3638f4e55189",
   "metadata": {
    "editable": true,
    "slideshow": {
     "slide_type": ""
    },
    "tags": []
   },
   "source": [
    "<img src=\"https://www.unir.net/wp-content/uploads/2019/11/Unir_2021_logo.svg\" width=\"240\" height=\"240\" align=\"right\"/>"
   ]
  },
  {
   "cell_type": "markdown",
   "id": "cf2e6c20-e7e3-4c0c-a17b-c125f2e55905",
   "metadata": {
    "tags": []
   },
   "source": [
    "<center><h1>Sistema inteligente para ayudar a detectar posibles reclamos (glosas) en las cuentas médicas previo al cobro, de una clínica en Colombia - Audimed</h1></center>\n",
    "<center><h2>Trabajo Fin de Master<br>Máster Universitario en Análisis y Visualización de Datos Masivos / Visual Analytics and Big Data</h2></center>"
   ]
  },
  {
   "cell_type": "markdown",
   "id": "e1bc6121-2a77-4cf1-838f-ee94b96778cd",
   "metadata": {
    "tags": []
   },
   "source": [
    "<h3>Presentado por: Jacqueline Guzmán Rodriguez</h3>\n",
    "<h4>Tipo de trabajo: Desarrollo Software <br>\n",
    "Director: Juan Carlos Rincon Acuña <br>\n",
    "Fecha: Junio/2024</h4>"
   ]
  },
  {
   "cell_type": "markdown",
   "id": "3e716198-1507-4272-8252-da35ecb3f440",
   "metadata": {
    "jp-MarkdownHeadingCollapsed": true
   },
   "source": [
    "<h3> <font color=\"#040078\">Notebook de modelado de los datos</font></h3>\n",
    "<h4></h4>\n",
    "<h5><font color=\"#C62400\">Licencia del Notebook CC BY-NC-SA 4.0 DEED <a href=\"https://creativecommons.org/licenses/by-nc-sa/4.0/\" target=\"_blank]\">https://creativecommons.org/licenses/by-nc-sa/4.0/</a></font></h5/>"
   ]
  },
  {
   "cell_type": "markdown",
   "id": "65726fff-f963-4f34-a525-a6843266b915",
   "metadata": {
    "tags": []
   },
   "source": [
    "## Importación de librerias necesarias"
   ]
  },
  {
   "cell_type": "code",
   "execution_count": 1,
   "id": "8593db40-45ff-4f57-b9e3-319cfcb192d4",
   "metadata": {
    "tags": []
   },
   "outputs": [
    {
     "name": "stdout",
     "output_type": "stream",
     "text": [
      "Deploy Shiny apps for free on Ploomber Cloud! Learn more: https://ploomber.io/s/signup\n"
     ]
    }
   ],
   "source": [
    "# Load libraries\n",
    "import numpy as np\n",
    "import pandas as pd\n",
    "import seaborn as sns\n",
    "import matplotlib.pyplot as plt \n",
    "from imblearn.over_sampling import SMOTE\n",
    "from sklearn.preprocessing import MinMaxScaler\n",
    "from sklearn.model_selection import train_test_split\n",
    "from sklearn.ensemble import HistGradientBoostingClassifier\n",
    "from sklearn.model_selection import GridSearchCV\n",
    "from sklearn.metrics import accuracy_score\n",
    "from sklearn.metrics import confusion_matrix\n",
    "from sklearn.metrics import classification_report\n",
    "from sklearn.metrics import mean_squared_error\n",
    "from sklearn.metrics import ConfusionMatrixDisplay\n",
    "from sklearn_evaluation import plot"
   ]
  },
  {
   "cell_type": "markdown",
   "id": "d9e7608d-a1ee-497a-8036-5eab94e063f0",
   "metadata": {
    "tags": []
   },
   "source": [
    "## Carga de archivo con datos transformados claims.cvs\n",
    "#### Se pueden descargar los datos de la plataforma kaggle en el siguiente link: \n",
    "##### https://www.kaggle.com/datasets/jacquelineguzman/claims-of-medical-billing/"
   ]
  },
  {
   "cell_type": "code",
   "execution_count": 2,
   "id": "dc9d5628-7246-4e2f-929f-f0108f66e5ad",
   "metadata": {
    "tags": []
   },
   "outputs": [],
   "source": [
    "# Read file CSV Download of https://www.kaggle.com/datasets/jacquelineguzman/claims-of-medical-billing/\n",
    "file_cvs = \"claims.csv\"\n",
    "# Create dataframe with information of file CSV\n",
    "df = pd.read_csv(file_cvs, delimiter=',', encoding='utf-8')"
   ]
  },
  {
   "cell_type": "markdown",
   "id": "e2fcd0a4-18a2-4d4c-8a9c-1d5c5558ab82",
   "metadata": {
    "tags": []
   },
   "source": [
    "## Tratamiento de datos previos a la aplicación del modelo de clasificación\n",
    "##### Se define como variable objetivo la marca de si el registro tiene reclamación o no (CLAIM)"
   ]
  },
  {
   "cell_type": "code",
   "execution_count": 3,
   "id": "076f6519-9608-4ca6-a7ae-79984b89bad4",
   "metadata": {
    "tags": []
   },
   "outputs": [],
   "source": [
    "# Define colums target (CLAIM)\n",
    "columns = df.columns\n",
    "target = \"CLAIM\"\n",
    "x_columns = columns.drop(target)"
   ]
  },
  {
   "cell_type": "markdown",
   "id": "0060fc23-d28b-4319-989f-f9fd2a084f94",
   "metadata": {
    "tags": []
   },
   "source": [
    "##### Se actualizan las variables para manejar tipos de datos a 32 bits, dado que usa menos recurso de memoria."
   ]
  },
  {
   "cell_type": "code",
   "execution_count": 4,
   "id": "18a835f7-2182-4252-a5df-1043213fb2d4",
   "metadata": {},
   "outputs": [],
   "source": [
    "# Update datatype int64 to int32 and float64 to float32, because it is necessary to use less RAM\n",
    "float_columns = ['QUANTITY_PRODUCT_SERVICE', 'SALES_PRICE', 'INVOICED_PRICE']\n",
    "int_columns = columns.drop(float_columns)\n",
    "df[float_columns]=df[float_columns].astype(np.float32)\n",
    "df[int_columns]=df[int_columns].astype(int)"
   ]
  },
  {
   "cell_type": "markdown",
   "id": "4ac091a9-538e-4806-8329-2ecba61b696a",
   "metadata": {
    "tags": []
   },
   "source": [
    "##### Para facilitar los calculos del algoritmo se normaliza la información de las variables de entrada para que manejen rangos numericos entre cero (0) y uno (1), esto se hace con la función MinMaxScaler"
   ]
  },
  {
   "cell_type": "code",
   "execution_count": 5,
   "id": "eeae36aa-147d-4d54-9639-24dabed5625c",
   "metadata": {},
   "outputs": [],
   "source": [
    "# Normalize data via MinMaxScaler function\n",
    "scaler = MinMaxScaler()\n",
    "df = scaler.fit_transform(df)\n",
    "df = pd.DataFrame(df,columns=columns)"
   ]
  },
  {
   "cell_type": "markdown",
   "id": "e07ed7b1-a712-4756-bf4b-c1d96c1173e6",
   "metadata": {
    "tags": []
   },
   "source": [
    "##### Se verifica la distribucción de la variable objetivo (CLAIM), donde se observa que es desbalanceda."
   ]
  },
  {
   "cell_type": "code",
   "execution_count": 6,
   "id": "5a23e874-6071-4178-89d4-946d7b57a01f",
   "metadata": {},
   "outputs": [
    {
     "name": "stdout",
     "output_type": "stream",
     "text": [
      "CLAIM:\n",
      "[0. 1.]\n",
      "\n",
      "CLAIM\n",
      "0.0    6104323\n",
      "1.0        120\n",
      "Name: count, dtype: int64\n"
     ]
    }
   ],
   "source": [
    "# Distribution of the target variable (CLAIM)\n",
    "print(str(target)+':\\n'+str(df[target].unique())+'\\n')\n",
    "print(df[target].value_counts())"
   ]
  },
  {
   "cell_type": "markdown",
   "id": "33ebd78e-2a4b-4469-baa5-ee6336565fc4",
   "metadata": {
    "tags": []
   },
   "source": [
    "##### Se crean los dataframe de entrada (ValX) y salida (ValY) "
   ]
  },
  {
   "cell_type": "code",
   "execution_count": 7,
   "id": "1f5d28b7-afe3-4543-97ab-aedd132acf52",
   "metadata": {},
   "outputs": [],
   "source": [
    "# Create dataframe with int variables (ValX) and target variable (ValY)\n",
    "ValX = df.drop(columns=target)\n",
    "ValY = df[target]"
   ]
  },
  {
   "cell_type": "markdown",
   "id": "86d9b151-6347-4abd-bbcd-49c70a56298a",
   "metadata": {
    "tags": []
   },
   "source": [
    "##### Se crean los dataframe de entrenamiento y validación, necesarios para el entrenamiento del modelo, se definió un 15% de los datos para los dataframe de validación"
   ]
  },
  {
   "cell_type": "code",
   "execution_count": 8,
   "id": "173f3886-73f4-48e9-ab25-e7dd94665cca",
   "metadata": {},
   "outputs": [
    {
     "data": {
      "text/plain": [
       "((5188776, 53), (915667, 53))"
      ]
     },
     "execution_count": 8,
     "metadata": {},
     "output_type": "execute_result"
    }
   ],
   "source": [
    "# Set training and validation data\n",
    "X_train, X_validation, Y_train, Y_validation = train_test_split(ValX, ValY, test_size=0.15, random_state=1, shuffle=True)\n",
    "X_train.shape, X_validation.shape"
   ]
  },
  {
   "cell_type": "markdown",
   "id": "f045737f-b6f7-4788-9fa6-f15cbe437939",
   "metadata": {
    "tags": []
   },
   "source": [
    "##### Para no trabajar con datos de entrenamiento desbalanceados, se aplica la técnica de sobremuestreo (over-sampling) sobre los datos de entrenamiento (X_train y Y_train)"
   ]
  },
  {
   "cell_type": "code",
   "execution_count": 9,
   "id": "27f672d2-6966-4059-96df-f9704472fb69",
   "metadata": {},
   "outputs": [],
   "source": [
    "# Resampling the minority class using SMOTE stategy (Over-sampling)\n",
    "sm = SMOTE(sampling_strategy='minority', random_state=42)"
   ]
  },
  {
   "cell_type": "code",
   "execution_count": 10,
   "id": "df07ff2f-7e33-4dd5-8a50-e06b8c3ad76a",
   "metadata": {},
   "outputs": [
    {
     "name": "stderr",
     "output_type": "stream",
     "text": [
      "C:\\Users\\jefe.sistemas\\AppData\\Roaming\\Python\\Python311\\site-packages\\joblib\\externals\\loky\\backend\\context.py:136: UserWarning: Could not find the number of physical cores for the following reason:\n",
      "found 0 physical cores < 1\n",
      "Returning the number of logical cores instead. You can silence this warning by setting LOKY_MAX_CPU_COUNT to the number of cores you want to use.\n",
      "  warnings.warn(\n",
      "  File \"C:\\Users\\jefe.sistemas\\AppData\\Roaming\\Python\\Python311\\site-packages\\joblib\\externals\\loky\\backend\\context.py\", line 282, in _count_physical_cores\n",
      "    raise ValueError(f\"found {cpu_count_physical} physical cores < 1\")\n"
     ]
    }
   ],
   "source": [
    "# Fit the model to generate the data.\n",
    "X_train, Y_train = sm.fit_resample(X_train, Y_train)"
   ]
  },
  {
   "cell_type": "code",
   "execution_count": 11,
   "id": "65fce33f-1bf6-4c9f-bfe6-031206674eaf",
   "metadata": {},
   "outputs": [
    {
     "data": {
      "text/plain": [
       "((10377344, 53), (915667, 53))"
      ]
     },
     "execution_count": 11,
     "metadata": {},
     "output_type": "execute_result"
    }
   ],
   "source": [
    "X_train.shape, X_validation.shape"
   ]
  },
  {
   "cell_type": "markdown",
   "id": "985ff0ba-379f-4c37-b347-e3231916ef53",
   "metadata": {
    "tags": []
   },
   "source": [
    "## Creación del modelo\n",
    "##### Se escoge el algoritmo de Random Forest de clasificación, dado que tenemos una variable objetivo con dos clases (0, 1)\n",
    "##### Para verificar los hiperparametros, se hicienron procesos de prueba y error obteniendo los siguientes: n_estimators=5, con 5 arboles es suficiente, y con 10 ramas tambien max_depth=10"
   ]
  },
  {
   "cell_type": "code",
   "execution_count": 12,
   "id": "d175edce-f0f1-486d-96a1-fbc3c04052f5",
   "metadata": {},
   "outputs": [
    {
     "data": {
      "text/html": [
       "<style>#sk-container-id-1 {\n",
       "  /* Definition of color scheme common for light and dark mode */\n",
       "  --sklearn-color-text: black;\n",
       "  --sklearn-color-line: gray;\n",
       "  /* Definition of color scheme for unfitted estimators */\n",
       "  --sklearn-color-unfitted-level-0: #fff5e6;\n",
       "  --sklearn-color-unfitted-level-1: #f6e4d2;\n",
       "  --sklearn-color-unfitted-level-2: #ffe0b3;\n",
       "  --sklearn-color-unfitted-level-3: chocolate;\n",
       "  /* Definition of color scheme for fitted estimators */\n",
       "  --sklearn-color-fitted-level-0: #f0f8ff;\n",
       "  --sklearn-color-fitted-level-1: #d4ebff;\n",
       "  --sklearn-color-fitted-level-2: #b3dbfd;\n",
       "  --sklearn-color-fitted-level-3: cornflowerblue;\n",
       "\n",
       "  /* Specific color for light theme */\n",
       "  --sklearn-color-text-on-default-background: var(--sg-text-color, var(--theme-code-foreground, var(--jp-content-font-color1, black)));\n",
       "  --sklearn-color-background: var(--sg-background-color, var(--theme-background, var(--jp-layout-color0, white)));\n",
       "  --sklearn-color-border-box: var(--sg-text-color, var(--theme-code-foreground, var(--jp-content-font-color1, black)));\n",
       "  --sklearn-color-icon: #696969;\n",
       "\n",
       "  @media (prefers-color-scheme: dark) {\n",
       "    /* Redefinition of color scheme for dark theme */\n",
       "    --sklearn-color-text-on-default-background: var(--sg-text-color, var(--theme-code-foreground, var(--jp-content-font-color1, white)));\n",
       "    --sklearn-color-background: var(--sg-background-color, var(--theme-background, var(--jp-layout-color0, #111)));\n",
       "    --sklearn-color-border-box: var(--sg-text-color, var(--theme-code-foreground, var(--jp-content-font-color1, white)));\n",
       "    --sklearn-color-icon: #878787;\n",
       "  }\n",
       "}\n",
       "\n",
       "#sk-container-id-1 {\n",
       "  color: var(--sklearn-color-text);\n",
       "}\n",
       "\n",
       "#sk-container-id-1 pre {\n",
       "  padding: 0;\n",
       "}\n",
       "\n",
       "#sk-container-id-1 input.sk-hidden--visually {\n",
       "  border: 0;\n",
       "  clip: rect(1px 1px 1px 1px);\n",
       "  clip: rect(1px, 1px, 1px, 1px);\n",
       "  height: 1px;\n",
       "  margin: -1px;\n",
       "  overflow: hidden;\n",
       "  padding: 0;\n",
       "  position: absolute;\n",
       "  width: 1px;\n",
       "}\n",
       "\n",
       "#sk-container-id-1 div.sk-dashed-wrapped {\n",
       "  border: 1px dashed var(--sklearn-color-line);\n",
       "  margin: 0 0.4em 0.5em 0.4em;\n",
       "  box-sizing: border-box;\n",
       "  padding-bottom: 0.4em;\n",
       "  background-color: var(--sklearn-color-background);\n",
       "}\n",
       "\n",
       "#sk-container-id-1 div.sk-container {\n",
       "  /* jupyter's `normalize.less` sets `[hidden] { display: none; }`\n",
       "     but bootstrap.min.css set `[hidden] { display: none !important; }`\n",
       "     so we also need the `!important` here to be able to override the\n",
       "     default hidden behavior on the sphinx rendered scikit-learn.org.\n",
       "     See: https://github.com/scikit-learn/scikit-learn/issues/21755 */\n",
       "  display: inline-block !important;\n",
       "  position: relative;\n",
       "}\n",
       "\n",
       "#sk-container-id-1 div.sk-text-repr-fallback {\n",
       "  display: none;\n",
       "}\n",
       "\n",
       "div.sk-parallel-item,\n",
       "div.sk-serial,\n",
       "div.sk-item {\n",
       "  /* draw centered vertical line to link estimators */\n",
       "  background-image: linear-gradient(var(--sklearn-color-text-on-default-background), var(--sklearn-color-text-on-default-background));\n",
       "  background-size: 2px 100%;\n",
       "  background-repeat: no-repeat;\n",
       "  background-position: center center;\n",
       "}\n",
       "\n",
       "/* Parallel-specific style estimator block */\n",
       "\n",
       "#sk-container-id-1 div.sk-parallel-item::after {\n",
       "  content: \"\";\n",
       "  width: 100%;\n",
       "  border-bottom: 2px solid var(--sklearn-color-text-on-default-background);\n",
       "  flex-grow: 1;\n",
       "}\n",
       "\n",
       "#sk-container-id-1 div.sk-parallel {\n",
       "  display: flex;\n",
       "  align-items: stretch;\n",
       "  justify-content: center;\n",
       "  background-color: var(--sklearn-color-background);\n",
       "  position: relative;\n",
       "}\n",
       "\n",
       "#sk-container-id-1 div.sk-parallel-item {\n",
       "  display: flex;\n",
       "  flex-direction: column;\n",
       "}\n",
       "\n",
       "#sk-container-id-1 div.sk-parallel-item:first-child::after {\n",
       "  align-self: flex-end;\n",
       "  width: 50%;\n",
       "}\n",
       "\n",
       "#sk-container-id-1 div.sk-parallel-item:last-child::after {\n",
       "  align-self: flex-start;\n",
       "  width: 50%;\n",
       "}\n",
       "\n",
       "#sk-container-id-1 div.sk-parallel-item:only-child::after {\n",
       "  width: 0;\n",
       "}\n",
       "\n",
       "/* Serial-specific style estimator block */\n",
       "\n",
       "#sk-container-id-1 div.sk-serial {\n",
       "  display: flex;\n",
       "  flex-direction: column;\n",
       "  align-items: center;\n",
       "  background-color: var(--sklearn-color-background);\n",
       "  padding-right: 1em;\n",
       "  padding-left: 1em;\n",
       "}\n",
       "\n",
       "\n",
       "/* Toggleable style: style used for estimator/Pipeline/ColumnTransformer box that is\n",
       "clickable and can be expanded/collapsed.\n",
       "- Pipeline and ColumnTransformer use this feature and define the default style\n",
       "- Estimators will overwrite some part of the style using the `sk-estimator` class\n",
       "*/\n",
       "\n",
       "/* Pipeline and ColumnTransformer style (default) */\n",
       "\n",
       "#sk-container-id-1 div.sk-toggleable {\n",
       "  /* Default theme specific background. It is overwritten whether we have a\n",
       "  specific estimator or a Pipeline/ColumnTransformer */\n",
       "  background-color: var(--sklearn-color-background);\n",
       "}\n",
       "\n",
       "/* Toggleable label */\n",
       "#sk-container-id-1 label.sk-toggleable__label {\n",
       "  cursor: pointer;\n",
       "  display: block;\n",
       "  width: 100%;\n",
       "  margin-bottom: 0;\n",
       "  padding: 0.5em;\n",
       "  box-sizing: border-box;\n",
       "  text-align: center;\n",
       "}\n",
       "\n",
       "#sk-container-id-1 label.sk-toggleable__label-arrow:before {\n",
       "  /* Arrow on the left of the label */\n",
       "  content: \"▸\";\n",
       "  float: left;\n",
       "  margin-right: 0.25em;\n",
       "  color: var(--sklearn-color-icon);\n",
       "}\n",
       "\n",
       "#sk-container-id-1 label.sk-toggleable__label-arrow:hover:before {\n",
       "  color: var(--sklearn-color-text);\n",
       "}\n",
       "\n",
       "/* Toggleable content - dropdown */\n",
       "\n",
       "#sk-container-id-1 div.sk-toggleable__content {\n",
       "  max-height: 0;\n",
       "  max-width: 0;\n",
       "  overflow: hidden;\n",
       "  text-align: left;\n",
       "  /* unfitted */\n",
       "  background-color: var(--sklearn-color-unfitted-level-0);\n",
       "}\n",
       "\n",
       "#sk-container-id-1 div.sk-toggleable__content.fitted {\n",
       "  /* fitted */\n",
       "  background-color: var(--sklearn-color-fitted-level-0);\n",
       "}\n",
       "\n",
       "#sk-container-id-1 div.sk-toggleable__content pre {\n",
       "  margin: 0.2em;\n",
       "  border-radius: 0.25em;\n",
       "  color: var(--sklearn-color-text);\n",
       "  /* unfitted */\n",
       "  background-color: var(--sklearn-color-unfitted-level-0);\n",
       "}\n",
       "\n",
       "#sk-container-id-1 div.sk-toggleable__content.fitted pre {\n",
       "  /* unfitted */\n",
       "  background-color: var(--sklearn-color-fitted-level-0);\n",
       "}\n",
       "\n",
       "#sk-container-id-1 input.sk-toggleable__control:checked~div.sk-toggleable__content {\n",
       "  /* Expand drop-down */\n",
       "  max-height: 200px;\n",
       "  max-width: 100%;\n",
       "  overflow: auto;\n",
       "}\n",
       "\n",
       "#sk-container-id-1 input.sk-toggleable__control:checked~label.sk-toggleable__label-arrow:before {\n",
       "  content: \"▾\";\n",
       "}\n",
       "\n",
       "/* Pipeline/ColumnTransformer-specific style */\n",
       "\n",
       "#sk-container-id-1 div.sk-label input.sk-toggleable__control:checked~label.sk-toggleable__label {\n",
       "  color: var(--sklearn-color-text);\n",
       "  background-color: var(--sklearn-color-unfitted-level-2);\n",
       "}\n",
       "\n",
       "#sk-container-id-1 div.sk-label.fitted input.sk-toggleable__control:checked~label.sk-toggleable__label {\n",
       "  background-color: var(--sklearn-color-fitted-level-2);\n",
       "}\n",
       "\n",
       "/* Estimator-specific style */\n",
       "\n",
       "/* Colorize estimator box */\n",
       "#sk-container-id-1 div.sk-estimator input.sk-toggleable__control:checked~label.sk-toggleable__label {\n",
       "  /* unfitted */\n",
       "  background-color: var(--sklearn-color-unfitted-level-2);\n",
       "}\n",
       "\n",
       "#sk-container-id-1 div.sk-estimator.fitted input.sk-toggleable__control:checked~label.sk-toggleable__label {\n",
       "  /* fitted */\n",
       "  background-color: var(--sklearn-color-fitted-level-2);\n",
       "}\n",
       "\n",
       "#sk-container-id-1 div.sk-label label.sk-toggleable__label,\n",
       "#sk-container-id-1 div.sk-label label {\n",
       "  /* The background is the default theme color */\n",
       "  color: var(--sklearn-color-text-on-default-background);\n",
       "}\n",
       "\n",
       "/* On hover, darken the color of the background */\n",
       "#sk-container-id-1 div.sk-label:hover label.sk-toggleable__label {\n",
       "  color: var(--sklearn-color-text);\n",
       "  background-color: var(--sklearn-color-unfitted-level-2);\n",
       "}\n",
       "\n",
       "/* Label box, darken color on hover, fitted */\n",
       "#sk-container-id-1 div.sk-label.fitted:hover label.sk-toggleable__label.fitted {\n",
       "  color: var(--sklearn-color-text);\n",
       "  background-color: var(--sklearn-color-fitted-level-2);\n",
       "}\n",
       "\n",
       "/* Estimator label */\n",
       "\n",
       "#sk-container-id-1 div.sk-label label {\n",
       "  font-family: monospace;\n",
       "  font-weight: bold;\n",
       "  display: inline-block;\n",
       "  line-height: 1.2em;\n",
       "}\n",
       "\n",
       "#sk-container-id-1 div.sk-label-container {\n",
       "  text-align: center;\n",
       "}\n",
       "\n",
       "/* Estimator-specific */\n",
       "#sk-container-id-1 div.sk-estimator {\n",
       "  font-family: monospace;\n",
       "  border: 1px dotted var(--sklearn-color-border-box);\n",
       "  border-radius: 0.25em;\n",
       "  box-sizing: border-box;\n",
       "  margin-bottom: 0.5em;\n",
       "  /* unfitted */\n",
       "  background-color: var(--sklearn-color-unfitted-level-0);\n",
       "}\n",
       "\n",
       "#sk-container-id-1 div.sk-estimator.fitted {\n",
       "  /* fitted */\n",
       "  background-color: var(--sklearn-color-fitted-level-0);\n",
       "}\n",
       "\n",
       "/* on hover */\n",
       "#sk-container-id-1 div.sk-estimator:hover {\n",
       "  /* unfitted */\n",
       "  background-color: var(--sklearn-color-unfitted-level-2);\n",
       "}\n",
       "\n",
       "#sk-container-id-1 div.sk-estimator.fitted:hover {\n",
       "  /* fitted */\n",
       "  background-color: var(--sklearn-color-fitted-level-2);\n",
       "}\n",
       "\n",
       "/* Specification for estimator info (e.g. \"i\" and \"?\") */\n",
       "\n",
       "/* Common style for \"i\" and \"?\" */\n",
       "\n",
       ".sk-estimator-doc-link,\n",
       "a:link.sk-estimator-doc-link,\n",
       "a:visited.sk-estimator-doc-link {\n",
       "  float: right;\n",
       "  font-size: smaller;\n",
       "  line-height: 1em;\n",
       "  font-family: monospace;\n",
       "  background-color: var(--sklearn-color-background);\n",
       "  border-radius: 1em;\n",
       "  height: 1em;\n",
       "  width: 1em;\n",
       "  text-decoration: none !important;\n",
       "  margin-left: 1ex;\n",
       "  /* unfitted */\n",
       "  border: var(--sklearn-color-unfitted-level-1) 1pt solid;\n",
       "  color: var(--sklearn-color-unfitted-level-1);\n",
       "}\n",
       "\n",
       ".sk-estimator-doc-link.fitted,\n",
       "a:link.sk-estimator-doc-link.fitted,\n",
       "a:visited.sk-estimator-doc-link.fitted {\n",
       "  /* fitted */\n",
       "  border: var(--sklearn-color-fitted-level-1) 1pt solid;\n",
       "  color: var(--sklearn-color-fitted-level-1);\n",
       "}\n",
       "\n",
       "/* On hover */\n",
       "div.sk-estimator:hover .sk-estimator-doc-link:hover,\n",
       ".sk-estimator-doc-link:hover,\n",
       "div.sk-label-container:hover .sk-estimator-doc-link:hover,\n",
       ".sk-estimator-doc-link:hover {\n",
       "  /* unfitted */\n",
       "  background-color: var(--sklearn-color-unfitted-level-3);\n",
       "  color: var(--sklearn-color-background);\n",
       "  text-decoration: none;\n",
       "}\n",
       "\n",
       "div.sk-estimator.fitted:hover .sk-estimator-doc-link.fitted:hover,\n",
       ".sk-estimator-doc-link.fitted:hover,\n",
       "div.sk-label-container:hover .sk-estimator-doc-link.fitted:hover,\n",
       ".sk-estimator-doc-link.fitted:hover {\n",
       "  /* fitted */\n",
       "  background-color: var(--sklearn-color-fitted-level-3);\n",
       "  color: var(--sklearn-color-background);\n",
       "  text-decoration: none;\n",
       "}\n",
       "\n",
       "/* Span, style for the box shown on hovering the info icon */\n",
       ".sk-estimator-doc-link span {\n",
       "  display: none;\n",
       "  z-index: 9999;\n",
       "  position: relative;\n",
       "  font-weight: normal;\n",
       "  right: .2ex;\n",
       "  padding: .5ex;\n",
       "  margin: .5ex;\n",
       "  width: min-content;\n",
       "  min-width: 20ex;\n",
       "  max-width: 50ex;\n",
       "  color: var(--sklearn-color-text);\n",
       "  box-shadow: 2pt 2pt 4pt #999;\n",
       "  /* unfitted */\n",
       "  background: var(--sklearn-color-unfitted-level-0);\n",
       "  border: .5pt solid var(--sklearn-color-unfitted-level-3);\n",
       "}\n",
       "\n",
       ".sk-estimator-doc-link.fitted span {\n",
       "  /* fitted */\n",
       "  background: var(--sklearn-color-fitted-level-0);\n",
       "  border: var(--sklearn-color-fitted-level-3);\n",
       "}\n",
       "\n",
       ".sk-estimator-doc-link:hover span {\n",
       "  display: block;\n",
       "}\n",
       "\n",
       "/* \"?\"-specific style due to the `<a>` HTML tag */\n",
       "\n",
       "#sk-container-id-1 a.estimator_doc_link {\n",
       "  float: right;\n",
       "  font-size: 1rem;\n",
       "  line-height: 1em;\n",
       "  font-family: monospace;\n",
       "  background-color: var(--sklearn-color-background);\n",
       "  border-radius: 1rem;\n",
       "  height: 1rem;\n",
       "  width: 1rem;\n",
       "  text-decoration: none;\n",
       "  /* unfitted */\n",
       "  color: var(--sklearn-color-unfitted-level-1);\n",
       "  border: var(--sklearn-color-unfitted-level-1) 1pt solid;\n",
       "}\n",
       "\n",
       "#sk-container-id-1 a.estimator_doc_link.fitted {\n",
       "  /* fitted */\n",
       "  border: var(--sklearn-color-fitted-level-1) 1pt solid;\n",
       "  color: var(--sklearn-color-fitted-level-1);\n",
       "}\n",
       "\n",
       "/* On hover */\n",
       "#sk-container-id-1 a.estimator_doc_link:hover {\n",
       "  /* unfitted */\n",
       "  background-color: var(--sklearn-color-unfitted-level-3);\n",
       "  color: var(--sklearn-color-background);\n",
       "  text-decoration: none;\n",
       "}\n",
       "\n",
       "#sk-container-id-1 a.estimator_doc_link.fitted:hover {\n",
       "  /* fitted */\n",
       "  background-color: var(--sklearn-color-fitted-level-3);\n",
       "}\n",
       "</style><div id=\"sk-container-id-1\" class=\"sk-top-container\"><div class=\"sk-text-repr-fallback\"><pre>HistGradientBoostingClassifier(class_weight=&#x27;balanced&#x27;, max_depth=3)</pre><b>In a Jupyter environment, please rerun this cell to show the HTML representation or trust the notebook. <br />On GitHub, the HTML representation is unable to render, please try loading this page with nbviewer.org.</b></div><div class=\"sk-container\" hidden><div class=\"sk-item\"><div class=\"sk-estimator fitted sk-toggleable\"><input class=\"sk-toggleable__control sk-hidden--visually\" id=\"sk-estimator-id-1\" type=\"checkbox\" checked><label for=\"sk-estimator-id-1\" class=\"sk-toggleable__label fitted sk-toggleable__label-arrow fitted\">&nbsp;&nbsp;HistGradientBoostingClassifier<a class=\"sk-estimator-doc-link fitted\" rel=\"noreferrer\" target=\"_blank\" href=\"https://scikit-learn.org/1.4/modules/generated/sklearn.ensemble.HistGradientBoostingClassifier.html\">?<span>Documentation for HistGradientBoostingClassifier</span></a><span class=\"sk-estimator-doc-link fitted\">i<span>Fitted</span></span></label><div class=\"sk-toggleable__content fitted\"><pre>HistGradientBoostingClassifier(class_weight=&#x27;balanced&#x27;, max_depth=3)</pre></div> </div></div></div></div>"
      ],
      "text/plain": [
       "HistGradientBoostingClassifier(class_weight='balanced', max_depth=3)"
      ]
     },
     "execution_count": 12,
     "metadata": {},
     "output_type": "execute_result"
    }
   ],
   "source": [
    "# Model random forest classifier\n",
    "#,class_weight=\"balanced\"\n",
    "RFC_model = HistGradientBoostingClassifier(max_depth=3, class_weight=\"balanced\")\n",
    "RFC_model.fit(X_train, Y_train)"
   ]
  },
  {
   "cell_type": "markdown",
   "id": "9e12d814-7013-424b-824a-cc4c274db81a",
   "metadata": {
    "tags": []
   },
   "source": [
    "### Validación del modelo\n",
    "##### Crear datase con los datos que predice el modelo (Y_predict), basado en los datos de validación X_validation"
   ]
  },
  {
   "cell_type": "code",
   "execution_count": 13,
   "id": "e3959146-2a38-494a-b43f-1daa8478893f",
   "metadata": {},
   "outputs": [],
   "source": [
    "Y_predict = RFC_model.predict(X_validation)"
   ]
  },
  {
   "cell_type": "code",
   "execution_count": 14,
   "id": "20132b59-ec93-4506-ba45-ab549394eb1c",
   "metadata": {},
   "outputs": [
    {
     "name": "stdout",
     "output_type": "stream",
     "text": [
      "Model accuracy score with 5 decision-trees : 0.9982\n"
     ]
    }
   ],
   "source": [
    "print('Model accuracy score with 5 decision-trees : {0:0.4f}'. format(accuracy_score(Y_validation, Y_predict)))"
   ]
  },
  {
   "cell_type": "markdown",
   "id": "14ab6efe-bcbd-4bbd-b4e6-54d6d65e76fd",
   "metadata": {
    "tags": []
   },
   "source": [
    "##### Verificar la salida esperada con la salida de la predicción"
   ]
  },
  {
   "cell_type": "code",
   "execution_count": 15,
   "id": "27eb73cf-a5b9-4cc9-ba9c-18fa2228423d",
   "metadata": {
    "editable": true,
    "slideshow": {
     "slide_type": ""
    },
    "tags": []
   },
   "outputs": [
    {
     "data": {
      "text/html": [
       "<div>\n",
       "<style scoped>\n",
       "    .dataframe tbody tr th:only-of-type {\n",
       "        vertical-align: middle;\n",
       "    }\n",
       "\n",
       "    .dataframe tbody tr th {\n",
       "        vertical-align: top;\n",
       "    }\n",
       "\n",
       "    .dataframe thead th {\n",
       "        text-align: right;\n",
       "    }\n",
       "</style>\n",
       "<table border=\"1\" class=\"dataframe\">\n",
       "  <thead>\n",
       "    <tr style=\"text-align: right;\">\n",
       "      <th></th>\n",
       "      <th>Actual value</th>\n",
       "      <th>Predicted value</th>\n",
       "    </tr>\n",
       "  </thead>\n",
       "  <tbody>\n",
       "    <tr>\n",
       "      <th>3141433</th>\n",
       "      <td>0.0</td>\n",
       "      <td>0.0</td>\n",
       "    </tr>\n",
       "    <tr>\n",
       "      <th>3895887</th>\n",
       "      <td>0.0</td>\n",
       "      <td>0.0</td>\n",
       "    </tr>\n",
       "    <tr>\n",
       "      <th>2199388</th>\n",
       "      <td>0.0</td>\n",
       "      <td>0.0</td>\n",
       "    </tr>\n",
       "    <tr>\n",
       "      <th>2010216</th>\n",
       "      <td>0.0</td>\n",
       "      <td>0.0</td>\n",
       "    </tr>\n",
       "    <tr>\n",
       "      <th>5153739</th>\n",
       "      <td>0.0</td>\n",
       "      <td>0.0</td>\n",
       "    </tr>\n",
       "    <tr>\n",
       "      <th>6054309</th>\n",
       "      <td>0.0</td>\n",
       "      <td>0.0</td>\n",
       "    </tr>\n",
       "    <tr>\n",
       "      <th>1411925</th>\n",
       "      <td>0.0</td>\n",
       "      <td>0.0</td>\n",
       "    </tr>\n",
       "    <tr>\n",
       "      <th>596122</th>\n",
       "      <td>0.0</td>\n",
       "      <td>0.0</td>\n",
       "    </tr>\n",
       "    <tr>\n",
       "      <th>5236999</th>\n",
       "      <td>0.0</td>\n",
       "      <td>0.0</td>\n",
       "    </tr>\n",
       "    <tr>\n",
       "      <th>4092770</th>\n",
       "      <td>0.0</td>\n",
       "      <td>0.0</td>\n",
       "    </tr>\n",
       "  </tbody>\n",
       "</table>\n",
       "</div>"
      ],
      "text/plain": [
       "         Actual value  Predicted value\n",
       "3141433           0.0              0.0\n",
       "3895887           0.0              0.0\n",
       "2199388           0.0              0.0\n",
       "2010216           0.0              0.0\n",
       "5153739           0.0              0.0\n",
       "6054309           0.0              0.0\n",
       "1411925           0.0              0.0\n",
       "596122            0.0              0.0\n",
       "5236999           0.0              0.0\n",
       "4092770           0.0              0.0"
      ]
     },
     "execution_count": 15,
     "metadata": {},
     "output_type": "execute_result"
    }
   ],
   "source": [
    "df_compare = pd.DataFrame({'Actual value': Y_validation, 'Predicted value': Y_predict})\n",
    "df_compare.tail(10)"
   ]
  },
  {
   "cell_type": "code",
   "execution_count": 16,
   "id": "2a808202-c556-4ad8-a3cd-84f432755a65",
   "metadata": {},
   "outputs": [
    {
     "data": {
      "text/html": [
       "<div>\n",
       "<style scoped>\n",
       "    .dataframe tbody tr th:only-of-type {\n",
       "        vertical-align: middle;\n",
       "    }\n",
       "\n",
       "    .dataframe tbody tr th {\n",
       "        vertical-align: top;\n",
       "    }\n",
       "\n",
       "    .dataframe thead th {\n",
       "        text-align: right;\n",
       "    }\n",
       "</style>\n",
       "<table border=\"1\" class=\"dataframe\">\n",
       "  <thead>\n",
       "    <tr style=\"text-align: right;\">\n",
       "      <th></th>\n",
       "      <th>Actual value</th>\n",
       "      <th>Predicted value</th>\n",
       "    </tr>\n",
       "  </thead>\n",
       "  <tbody>\n",
       "    <tr>\n",
       "      <th>0.0</th>\n",
       "      <td>915651</td>\n",
       "      <td>913966</td>\n",
       "    </tr>\n",
       "    <tr>\n",
       "      <th>1.0</th>\n",
       "      <td>16</td>\n",
       "      <td>1701</td>\n",
       "    </tr>\n",
       "  </tbody>\n",
       "</table>\n",
       "</div>"
      ],
      "text/plain": [
       "     Actual value  Predicted value\n",
       "0.0        915651           913966\n",
       "1.0            16             1701"
      ]
     },
     "execution_count": 16,
     "metadata": {},
     "output_type": "execute_result"
    }
   ],
   "source": [
    "sumary = pd.DataFrame({'Actual value': df_compare['Actual value'].value_counts(), 'Predicted value': df_compare['Predicted value'].value_counts()})\n",
    "sumary.head()"
   ]
  },
  {
   "cell_type": "code",
   "execution_count": 17,
   "id": "8a3574c1-e73e-4f8e-9d20-9ea8c3cc129b",
   "metadata": {},
   "outputs": [
    {
     "data": {
      "image/png": "[encoded data removed]",
      "text/plain": [
       "<Figure size 640x480 with 1 Axes>"
      ]
     },
     "metadata": {},
     "output_type": "display_data"
    }
   ],
   "source": [
    "val_no_claim_valida=str(sumary['Actual value'][0])\n",
    "val_no_claim_predict=str(sumary['Predicted value'][0])\n",
    "val_no_claim=val_no_claim_valida+' - '+val_no_claim_predict\n",
    "#print(val_no_claim)\n",
    "val_claim_valida=str(sumary['Actual value'][1])\n",
    "val_claim_predict=str(sumary['Predicted value'][1])\n",
    "val_claim=val_claim_valida+' - '+val_claim_predict\n",
    "#print(val_claim)\n",
    "bar_colors = ['lightblue', 'darkblue']\n",
    "sumary.plot.bar(color=bar_colors)\n",
    "plt.xticks(range(2), [\"No Claim\",\"Claim\"])\n",
    "plt.text(0, sumary['Actual value'][0], val_no_claim, ha='center', va='bottom')\n",
    "plt.text(1, sumary['Actual value'][1], val_claim, ha='center', va='bottom')\n",
    "#plt.xlabel(\"Target Class\")\n",
    "plt.ylabel(\"Number of Observations\")\n",
    "plt.legend(title=\"Target Class\")\n",
    "plt.show()"
   ]
  },
  {
   "cell_type": "code",
   "execution_count": 18,
   "id": "14e457a4-e077-46fd-a34e-ed98fc778ca5",
   "metadata": {},
   "outputs": [
    {
     "data": {
      "image/png": "[encoded data removed]",
      "text/plain": [
       "<Figure size 640x480 with 2 Axes>"
      ]
     },
     "metadata": {},
     "output_type": "display_data"
    }
   ],
   "source": [
    "confusion_matrix = confusion_matrix(df_compare['Actual value'], df_compare['Predicted value'])\n",
    "cm_display = ConfusionMatrixDisplay(confusion_matrix = confusion_matrix, display_labels = ['No Claim', 'Claim'])\n",
    "cm_display.plot(cmap=plt.cm.Blues)\n",
    "plt.show()"
   ]
  },
  {
   "cell_type": "code",
   "execution_count": 19,
   "id": "1a0d9373-951a-4254-9b09-99c8f959e2fe",
   "metadata": {},
   "outputs": [
    {
     "name": "stdout",
     "output_type": "stream",
     "text": [
      "              precision    recall  f1-score   support\n",
      "\n",
      "         0.0       1.00      1.00      1.00    915651\n",
      "         1.0       0.01      0.94      0.02        16\n",
      "\n",
      "    accuracy                           1.00    915667\n",
      "   macro avg       0.50      0.97      0.51    915667\n",
      "weighted avg       1.00      1.00      1.00    915667\n",
      "\n"
     ]
    }
   ],
   "source": [
    "print(classification_report(df_compare['Actual value'], df_compare['Predicted value']))"
   ]
  },
  {
   "cell_type": "code",
   "execution_count": 20,
   "id": "81d2ebd8-a24f-4fe7-a910-ff5d49d96756",
   "metadata": {},
   "outputs": [
    {
     "data": {
      "text/plain": [
       "0.008818342151675485"
      ]
     },
     "execution_count": 20,
     "metadata": {},
     "output_type": "execute_result"
    }
   ],
   "source": [
    "from sklearn.metrics import precision_score\n",
    "precision_score(Y_validation, Y_predict)"
   ]
  },
  {
   "cell_type": "code",
   "execution_count": 38,
   "id": "92c02a3c-7ddc-4eba-9fb7-f5d024bd35d0",
   "metadata": {},
   "outputs": [
    {
     "data": {
      "text/plain": [
       "0.9981586870980319"
      ]
     },
     "execution_count": 38,
     "metadata": {},
     "output_type": "execute_result"
    }
   ],
   "source": [
    "from imblearn.metrics import specificity_score\n",
    "specificity_score(Y_validation, Y_predict)"
   ]
  },
  {
   "cell_type": "code",
   "execution_count": 34,
   "id": "1afc5234-4f81-4b5d-a513-bf0bb8fc0f72",
   "metadata": {},
   "outputs": [
    {
     "data": {
      "text/plain": [
       "0.9375"
      ]
     },
     "execution_count": 34,
     "metadata": {},
     "output_type": "execute_result"
    }
   ],
   "source": [
    "from sklearn.metrics import recall_score\n",
    "recall_score(Y_validation, Y_predict)"
   ]
  },
  {
   "cell_type": "code",
   "execution_count": 23,
   "id": "dfc409ca-897a-4d19-9c57-8d82e5cc5d7f",
   "metadata": {},
   "outputs": [
    {
     "data": {
      "text/plain": [
       "0.017472335468841003"
      ]
     },
     "execution_count": 23,
     "metadata": {},
     "output_type": "execute_result"
    }
   ],
   "source": [
    "from sklearn.metrics import f1_score\n",
    "f1_score(Y_validation, Y_predict)"
   ]
  },
  {
   "cell_type": "code",
   "execution_count": 24,
   "id": "51fbf377-8ff6-42b4-baec-16280dffc1b2",
   "metadata": {},
   "outputs": [
    {
     "data": {
      "text/plain": [
       "0.09082915118694924"
      ]
     },
     "execution_count": 24,
     "metadata": {},
     "output_type": "execute_result"
    }
   ],
   "source": [
    "from sklearn.metrics import matthews_corrcoef\n",
    "matthews_corrcoef(Y_validation, Y_predict)"
   ]
  },
  {
   "cell_type": "code",
   "execution_count": 27,
   "id": "a5b6dcf6-0dfa-4a63-a808-1cec8b7987f8",
   "metadata": {},
   "outputs": [
    {
     "data": {
      "text/plain": [
       "(array([0.99999891, 0.00881834]),\n",
       " array([0.99815869, 0.9375    ]),\n",
       " array([0.99907795, 0.01747234]),\n",
       " array([915651,     16], dtype=int64))"
      ]
     },
     "execution_count": 27,
     "metadata": {},
     "output_type": "execute_result"
    }
   ],
   "source": [
    "from sklearn.metrics import precision_recall_fscore_support\n",
    "precision_recall_fscore_support(Y_validation, Y_predict)"
   ]
  },
  {
   "cell_type": "code",
   "execution_count": 25,
   "id": "20218202-ef28-43d6-8095-2521a059ff77",
   "metadata": {},
   "outputs": [
    {
     "data": {
      "image/png": "[encoded data removed]",
      "text/plain": [
       "<Figure size 640x480 with 1 Axes>"
      ]
     },
     "metadata": {},
     "output_type": "display_data"
    }
   ],
   "source": [
    "from sklearn.metrics import roc_curve, auc\n",
    "# Calculate ROC curve\n",
    "fpr, tpr, thresholds = roc_curve(Y_validation, Y_predict) \n",
    "roc_auc = auc(fpr, tpr)\n",
    "# Plot the ROC curve\n",
    "plt.figure()  \n",
    "plt.plot(fpr, tpr, label='ROC curve (area = %0.2f)' % roc_auc)\n",
    "plt.plot([0, 1], [0, 1], 'k--', label='No Skill')\n",
    "plt.xlim([0.0, 1.0])\n",
    "plt.ylim([0.0, 1.05])\n",
    "plt.xlabel('False Positive Rate')\n",
    "plt.ylabel('True Positive Rate')\n",
    "plt.title('ROC Curve for Breast Cancer Classification')\n",
    "plt.legend()\n",
    "plt.show()"
   ]
  },
  {
   "cell_type": "code",
   "execution_count": 26,
   "id": "b40f9222-df7a-4681-a88a-ab019268ad7c",
   "metadata": {},
   "outputs": [
    {
     "ename": "NameError",
     "evalue": "name 'TF' is not defined",
     "output_type": "error",
     "traceback": [
      "\u001b[1;31m---------------------------------------------------------------------------\u001b[0m",
      "\u001b[1;31mNameError\u001b[0m                                 Traceback (most recent call last)",
      "Cell \u001b[1;32mIn[26], line 16\u001b[0m\n\u001b[0;32m     14\u001b[0m Error_rate \u001b[38;5;241m=\u001b[39m (FP\u001b[38;5;241m+\u001b[39mFN)\u001b[38;5;241m/\u001b[39m(P\u001b[38;5;241m+\u001b[39mN)\n\u001b[0;32m     15\u001b[0m Precision_true \u001b[38;5;241m=\u001b[39m TP\u001b[38;5;241m/\u001b[39m(TP\u001b[38;5;241m+\u001b[39mFP)\n\u001b[1;32m---> 16\u001b[0m Precision_false \u001b[38;5;241m=\u001b[39m TF\u001b[38;5;241m/\u001b[39m(TF\u001b[38;5;241m+\u001b[39mFN)\n\u001b[0;32m     17\u001b[0m TPrate_true \u001b[38;5;241m=\u001b[39m TP\u001b[38;5;241m/\u001b[39mP\n\u001b[0;32m     18\u001b[0m TPrate_true \u001b[38;5;241m=\u001b[39m TN\u001b[38;5;241m/\u001b[39mN\n",
      "\u001b[1;31mNameError\u001b[0m: name 'TF' is not defined"
     ]
    }
   ],
   "source": [
    "# True positive = 913.707\n",
    "# True negative = 14\n",
    "# False positive = 2\n",
    "# False negative = 1.944\n",
    "# Negatives = 913.707 + 1.944 = 915.651\n",
    "# Positives = 2 + 14 = 16\n",
    "TN=913707\n",
    "TP=14\n",
    "FN=2\n",
    "FP=1944\n",
    "N=915641\n",
    "P=16\n",
    "Accuracy = (TP+TN)/(P+N)\n",
    "Error_rate = (FP+FN)/(P+N)\n",
    "Precision_true = TP/(TP+FP)\n",
    "Precision_false = TF/(TF+FN)\n",
    "TPrate_true = TP/P\n",
    "TPrate_true = TN/N\n"
   ]
  },
  {
   "cell_type": "code",
   "execution_count": null,
   "id": "a8ecab32-db0a-40cf-a707-51bc07fa973f",
   "metadata": {},
   "outputs": [],
   "source": [
    "R-squared: Al ser muy cercano a Uno es un modelo muy confiable (Coeficiente de determinación)\n",
    "TPR: 0.99649102\n",
    "Precisión: 0.99999671\n",
    "Alta precesión y alto TPR El modelo maneja muy bien la clase"
   ]
  },
  {
   "cell_type": "code",
   "execution_count": null,
   "id": "1661cffc-e2af-446a-8603-dcfe98e69a3f",
   "metadata": {},
   "outputs": [],
   "source": []
  }
 ],
 "metadata": {
  "kernelspec": {
   "display_name": "Python 3 (ipykernel)",
   "language": "python",
   "name": "python3"
  },
  "language_info": {
   "codemirror_mode": {
    "name": "ipython",
    "version": 3
   },
   "file_extension": ".py",
   "mimetype": "text/x-python",
   "name": "python",
   "nbconvert_exporter": "python",
   "pygments_lexer": "ipython3",
   "version": "3.11.9"
  }
 },
 "nbformat": 4,
 "nbformat_minor": 5
}
