{
 "cells": [
  {
   "cell_type": "markdown",
   "id": "80a883ce-1260-48e1-ad56-3638f4e55189",
   "metadata": {
    "tags": []
   },
   "source": [
    "<img src=\"https://www.unir.net/wp-content/uploads/2019/11/Unir_2021_logo.svg\" width=\"240\" height=\"240\" align=\"right\"/>"
   ]
  },
  {
   "cell_type": "markdown",
   "id": "cf2e6c20-e7e3-4c0c-a17b-c125f2e55905",
   "metadata": {
    "tags": []
   },
   "source": [
    "<center><h1>Sistema inteligente para ayudar a detectar posibles reclamos (glosas) en las cuentas médicas previo al cobro, de una clínica en Colombia - Audimed</h1></center>\n",
    "<center><h2>Trabajo Fin de Master<br>Máster Universitario en Análisis y Visualización de Datos Masivos / Visual Analytics and Big Data</h2></center>"
   ]
  },
  {
   "cell_type": "markdown",
   "id": "e1bc6121-2a77-4cf1-838f-ee94b96778cd",
   "metadata": {
    "tags": []
   },
   "source": [
    "<h3>Presentado por: Jacqueline Guzmán Rodriguez</h3>\n",
    "<h4>Tipo de trabajo: Desarrollo Software <br>\n",
    "Director: Juan Carlos Rincon Acuña <br>\n",
    "Fecha: Junio/2024</h4>"
   ]
  },
  {
   "cell_type": "markdown",
   "id": "b6d4cebc-da36-446b-92de-8762d6342e6e",
   "metadata": {
    "jp-MarkdownHeadingCollapsed": true
   },
   "source": [
    "<h3> <font color=\"#040078\">Notebook de exploración de los datos, despues de transformados</font></h3>\n",
    "<h4>Del proceso de transformación se obtiene un archivo CSV (claims.cvs), el cual es el que vamos a utilizar de ahora en adelante, en este script se exploran los datos para detectar posibles patrones de los datos, antes del modelo de datos</h4>\n",
    "<h5><font color=\"#C62400\">Licencia del Notebook CC BY-NC-SA 4.0 DEED <a href=\"https://creativecommons.org/licenses/by-nc-sa/4.0/\" target=\"_blank]\">https://creativecommons.org/licenses/by-nc-sa/4.0/</a></font></h5/>"
   ]
  },
  {
   "cell_type": "markdown",
   "id": "65726fff-f963-4f34-a525-a6843266b915",
   "metadata": {
    "tags": []
   },
   "source": [
    "## Importación de librerias necesarias"
   ]
  },
  {
   "cell_type": "code",
   "execution_count": 1,
   "id": "8593db40-45ff-4f57-b9e3-319cfcb192d4",
   "metadata": {
    "tags": []
   },
   "outputs": [],
   "source": [
    "# Load libraries\n",
    "import numpy as np\n",
    "import pandas as pd\n",
    "import seaborn as sns\n",
    "from matplotlib import pyplot\n",
    "import matplotlib.pyplot as plt \n",
    "from sklearn.preprocessing import MinMaxScaler\n",
    "import dataframe_image as dfi"
   ]
  },
  {
   "cell_type": "markdown",
   "id": "b19ff1db-5062-4d34-be79-24bbbde77754",
   "metadata": {
    "tags": []
   },
   "source": [
    "## Carga de archivo con datos transformados claims.cvs\n",
    "#### Se pueden descargar los datos de la plataforma kaggle en el siguiente link: \n",
    "##### https://www.kaggle.com/datasets/jacquelineguzman/claims-of-medical-billing/"
   ]
  },
  {
   "cell_type": "code",
   "execution_count": null,
   "id": "dc9d5628-7246-4e2f-929f-f0108f66e5ad",
   "metadata": {
    "tags": []
   },
   "outputs": [],
   "source": [
    "# Read file CSV Download of \n",
    "# https://www.kaggle.com/datasets/jacquelineguzman/claims-of-medical-billing/\n",
    "file_cvs = \"claims.csv\"\n",
    "# Create dataframe with information of file CSV\n",
    "df = pd.read_csv(file_cvs, delimiter=',', encoding='utf-8')"
   ]
  },
  {
   "cell_type": "markdown",
   "id": "b45b65f9-ed88-4ca1-8dc2-cc8f58dc0b18",
   "metadata": {
    "tags": []
   },
   "source": [
    "##### Dividir el dataframe con los datos de entrada y la variable objetivo"
   ]
  },
  {
   "cell_type": "code",
   "execution_count": null,
   "id": "076f6519-9608-4ca6-a7ae-79984b89bad4",
   "metadata": {
    "tags": []
   },
   "outputs": [],
   "source": [
    "# Define colums target (CLAIM)\n",
    "columns = df.columns\n",
    "target = \"CLAIM\"\n",
    "x_columns = columns.drop(target)"
   ]
  },
  {
   "cell_type": "code",
   "execution_count": null,
   "id": "3c7a9113-f116-41be-bc95-dacdd692e0c8",
   "metadata": {},
   "outputs": [],
   "source": [
    "df.info()"
   ]
  },
  {
   "cell_type": "markdown",
   "id": "1caf29cf-3767-4404-8e97-f3db72a8062c",
   "metadata": {
    "tags": []
   },
   "source": [
    "##### Actualizar los tipos de datos a 32 bits para mejorar el uso de la RAM"
   ]
  },
  {
   "cell_type": "code",
   "execution_count": null,
   "id": "05bf33b8-6972-4560-81ce-7b2b7a8446d3",
   "metadata": {},
   "outputs": [],
   "source": [
    "# Update datatype int64 to int32 and float64 to float32, because it is necessary to use less RAM\n",
    "float_columns = ['QUANTITY_PRODUCT_SERVICE', 'SALES_PRICE', 'INVOICED_PRICE']\n",
    "int_columns = columns.drop(float_columns)\n",
    "df[float_columns]=df[float_columns].astype(np.float32)\n",
    "df[int_columns]=df[int_columns].astype(int)"
   ]
  },
  {
   "cell_type": "code",
   "execution_count": null,
   "id": "847e02c5-db3a-4cd6-895f-855283daa851",
   "metadata": {
    "tags": []
   },
   "outputs": [],
   "source": [
    "df.info()"
   ]
  },
  {
   "cell_type": "markdown",
   "id": "8d85a4ec-d36b-4c86-98b5-daf41ba712df",
   "metadata": {
    "tags": []
   },
   "source": [
    "##### Verificar valores nulos."
   ]
  },
  {
   "cell_type": "code",
   "execution_count": null,
   "id": "d3a9826a-a4c8-4132-8769-7f342fe848ff",
   "metadata": {
    "tags": []
   },
   "outputs": [],
   "source": [
    "# Verify values null\n",
    "print(\"Null Count: \"+str(df.isnull().sum().sum())+\"\\n\")\n",
    "print(df.isnull().sum())"
   ]
  },
  {
   "cell_type": "code",
   "execution_count": null,
   "id": "42f59530-6b92-442b-a35f-90cea3ce7de1",
   "metadata": {
    "tags": []
   },
   "outputs": [],
   "source": [
    "# Descritive Statistics\n",
    "df_stats = df.describe()\n",
    "df_stats = df_stats.transpose()\n",
    "\n",
    "df_stats"
   ]
  },
  {
   "cell_type": "markdown",
   "id": "ba96926f-bbcd-4125-a36a-8eec90db63e4",
   "metadata": {
    "tags": []
   },
   "source": [
    "##### Normalizar la información de los datos de entrada."
   ]
  },
  {
   "cell_type": "code",
   "execution_count": null,
   "id": "49b16c8b-dede-44c4-9a5c-713f7d4af682",
   "metadata": {
    "tags": []
   },
   "outputs": [],
   "source": [
    "# Normalize data via MinMaxScaler function\n",
    "scaler = MinMaxScaler()\n",
    "df = scaler.fit_transform(df)\n",
    "df = pd.DataFrame(df,columns=columns)"
   ]
  },
  {
   "cell_type": "code",
   "execution_count": null,
   "id": "aa2754ea-3428-4224-8bc5-5ef9df5c3cca",
   "metadata": {},
   "outputs": [],
   "source": [
    "# Descritive Statistics\n",
    "df_stats = df.describe()\n",
    "df_stats = df_stats.transpose()\n",
    "\n",
    "df_stats"
   ]
  },
  {
   "cell_type": "markdown",
   "id": "3b6f12fc-6d1a-41c0-bb38-54b7ae3992e5",
   "metadata": {
    "tags": []
   },
   "source": [
    "##### Liberar espacio en memoria de los dataframe usados"
   ]
  },
  {
   "cell_type": "code",
   "execution_count": null,
   "id": "36494bb2-4d03-4c2a-a7e9-e4b3f540e430",
   "metadata": {},
   "outputs": [],
   "source": [
    "# Free uo dataframe (dt_stats) memory space\n",
    "df_stats.drop(df_stats.index, inplace=True)"
   ]
  },
  {
   "cell_type": "markdown",
   "id": "789b6c1a-0dfd-4c56-9f5d-52c51cde87ee",
   "metadata": {
    "tags": []
   },
   "source": [
    "##### Verificar la cantidad de datos por clase de la variable objetivo"
   ]
  },
  {
   "cell_type": "code",
   "execution_count": null,
   "id": "dd6896a2-3d3a-468d-8ad3-8f2fe7e62092",
   "metadata": {},
   "outputs": [],
   "source": [
    "sumary_target = pd.DataFrame({'COUNT':df[target].value_counts()})\n",
    "dfi.export(sumary_target, 'sumary_target.png')\n",
    "sumary_target.head()"
   ]
  },
  {
   "cell_type": "markdown",
   "id": "d10e4776-8dad-4121-9655-9b1bdefd0927",
   "metadata": {
    "tags": []
   },
   "source": [
    "##### Grafico de barras de la cantidad de clases de la variable objetivo"
   ]
  },
  {
   "cell_type": "code",
   "execution_count": null,
   "id": "7d9a8d95-ae07-46b9-8a97-1e984dd9b48a",
   "metadata": {},
   "outputs": [],
   "source": [
    "val_no_claim=str(sumary_target['COUNT'][0])\n",
    "val_claim=str(sumary_target['COUNT'][1])\n",
    "fig, ax = plt.subplots()\n",
    "labels = ['No Claim', 'Claim']\n",
    "counts=df[target].value_counts()\n",
    "bar_labels = ['No Claim', 'Claim']\n",
    "bar_colors = ['lightblue', 'darkblue']\n",
    "ax.bar(labels, counts, label=bar_labels, color=bar_colors)\n",
    "plt.text(0, counts[0], val_no_claim, ha='center', va='bottom')\n",
    "plt.text(1, counts[1], val_claim, ha='center', va='bottom')\n",
    "ax.set_ylabel('Number of Observations')\n",
    "ax.legend(title='Target Class')\n",
    "plt.savefig(\"target class.jpg\")\n",
    "plt.show()"
   ]
  },
  {
   "cell_type": "markdown",
   "id": "2fe849d9-af5a-47f8-aafe-bbcd994b23b8",
   "metadata": {
    "tags": []
   },
   "source": [
    "##### Matriz de correlación"
   ]
  },
  {
   "cell_type": "code",
   "execution_count": null,
   "id": "c42c391e-d77b-42f4-84ef-5655d5bdbcb1",
   "metadata": {
    "tags": []
   },
   "outputs": [],
   "source": [
    "# Correlation matrix\n",
    "corr = df.corr(method=\"pearson\")\n",
    "plt.figure(figsize=(20,20)) \n",
    "mask=np.triu(np.ones_like(corr,dtype=bool))\n",
    "cmap='coolwarm'\n",
    "sns.heatmap(corr, cmap=cmap, mask=mask, center=0,\\\n",
    "            linewidths=0.5, fmt='.2f', annot=False) \n",
    "plt.savefig(\"correlation matrix.jpg\")\n",
    "plt.show()"
   ]
  },
  {
   "cell_type": "code",
   "execution_count": null,
   "id": "ca4f319f-44bf-449a-a33b-231fd8928076",
   "metadata": {
    "tags": []
   },
   "outputs": [],
   "source": [
    "# Correlation matrix (Data)\n",
    "corr"
   ]
  },
  {
   "cell_type": "code",
   "execution_count": null,
   "id": "7c0343e9-8eaf-4053-b010-c4997c16654c",
   "metadata": {},
   "outputs": [],
   "source": [
    "# Free uo dataframe (corr) memory space\n",
    "corr.drop(corr.index, inplace=True)"
   ]
  }
 ],
 "metadata": {
  "kernelspec": {
   "display_name": "Python 3 (ipykernel)",
   "language": "python",
   "name": "python3"
  },
  "language_info": {
   "codemirror_mode": {
    "name": "ipython",
    "version": 3
   },
   "file_extension": ".py",
   "mimetype": "text/x-python",
   "name": "python",
   "nbconvert_exporter": "python",
   "pygments_lexer": "ipython3",
   "version": "3.11.9"
  }
 },
 "nbformat": 4,
 "nbformat_minor": 5
}
