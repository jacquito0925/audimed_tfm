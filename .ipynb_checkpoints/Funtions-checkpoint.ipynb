{
 "cells": [
  {
   "cell_type": "code",
   "execution_count": 1,
   "id": "296d4ac8-e854-4ada-80b7-4481c1b6a772",
   "metadata": {
    "tags": []
   },
   "outputs": [],
   "source": [
    "def valor_cadena(string):\n",
    "    num_string=0\n",
    "    for i in range(len(string)):\n",
    "        num=int(ord(cadena[i]))\n",
    "        #print(num)\n",
    "        num_string=num_string+num\n",
    "    #print('Este es el valor de la cadena: '+cadena+' '+str(num_cadena))\n",
    "    return num_string"
   ]
  },
  {
   "cell_type": "code",
   "execution_count": null,
   "id": "b2b5c83a-fad3-4e24-a8e8-d3502d87c5f3",
   "metadata": {},
   "outputs": [],
   "source": []
  }
 ],
 "metadata": {
  "kernelspec": {
   "display_name": "Python 3 (ipykernel)",
   "language": "python",
   "name": "python3"
  },
  "language_info": {
   "codemirror_mode": {
    "name": "ipython",
    "version": 3
   },
   "file_extension": ".py",
   "mimetype": "text/x-python",
   "name": "python",
   "nbconvert_exporter": "python",
   "pygments_lexer": "ipython3",
   "version": "3.10.13"
  }
 },
 "nbformat": 4,
 "nbformat_minor": 5
}
