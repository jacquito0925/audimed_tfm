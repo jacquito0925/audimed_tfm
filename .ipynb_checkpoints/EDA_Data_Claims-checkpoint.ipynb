{
 "cells": [
  {
   "cell_type": "markdown",
   "id": "80a883ce-1260-48e1-ad56-3638f4e55189",
   "metadata": {
    "tags": []
   },
   "source": [
    "<img src=\"https://www.unir.net/wp-content/uploads/2019/11/Unir_2021_logo.svg\" width=\"240\" height=\"240\" align=\"right\"/>"
   ]
  },
  {
   "cell_type": "markdown",
   "id": "cf2e6c20-e7e3-4c0c-a17b-c125f2e55905",
   "metadata": {
    "tags": []
   },
   "source": [
    "<center><h1>Sistema inteligente para ayudar a detectar posibles reclamos (glosas) en las cuentas médicas previo al cobro, de una clínica en Colombia - Audimed</h1></center>\n",
    "<center><h2>Trabajo Fin de Master<br>Máster Universitario en Análisis y Visualización de Datos Masivos / Visual Analytics and Big Data</h2></center>"
   ]
  },
  {
   "cell_type": "markdown",
   "id": "e1bc6121-2a77-4cf1-838f-ee94b96778cd",
   "metadata": {
    "tags": []
   },
   "source": [
    "<h3>Presentado por: Jacqueline Guzmán Rodriguez</h3>\n",
    "<h4>Tipo de trabajo: Desarrollo Software <br>\n",
    "Director: Juan Carlos Rincon Acuña <br>\n",
    "Fecha: Junio/2024</h4>"
   ]
  },
  {
   "cell_type": "markdown",
   "id": "b6d4cebc-da36-446b-92de-8762d6342e6e",
   "metadata": {
    "jp-MarkdownHeadingCollapsed": true
   },
   "source": [
    "<h3> <font color=\"#040078\">Notebook de exploración de los datos, despues de transformados</font></h3>\n",
    "<h4>Del proceso de transformación se obtiene un archivo CSV (claims.cvs), el cual es el que vamos a utilizar de ahora en adelante, en este script se exploran los datos para detectar posibles patrones de los datos, antes del modelo de datos</h4>\n",
    "<h5><font color=\"#C62400\">Licencia del Notebook CC BY-NC-SA 4.0 DEED <a href=\"https://creativecommons.org/licenses/by-nc-sa/4.0/\" target=\"_blank]\">https://creativecommons.org/licenses/by-nc-sa/4.0/</a></font></h5/>"
   ]
  },
  {
   "cell_type": "markdown",
   "id": "65726fff-f963-4f34-a525-a6843266b915",
   "metadata": {
    "tags": []
   },
   "source": [
    "## Importación de librerias necesarias"
   ]
  },
  {
   "cell_type": "code",
   "execution_count": null,
   "id": "8593db40-45ff-4f57-b9e3-319cfcb192d4",
   "metadata": {
    "tags": []
   },
   "outputs": [],
   "source": [
    "# Load libraries\n",
    "import random\n",
    "import numpy as np\n",
    "import pandas as pd\n",
    "import seaborn as sns\n",
    "from matplotlib import pyplot\n",
    "import matplotlib.pyplot as plt \n",
    "import myfuntions as mf\n",
    "from sklearn.preprocessing import OrdinalEncoder\n",
    "from sklearn.preprocessing import MinMaxScaler\n",
    "from sklearn.model_selection import train_test_split\n",
    "from sklearn.tree import DecisionTreeClassifier\n",
    "from sklearn.metrics import accuracy_score\n",
    "from sklearn.metrics import confusion_matrix\n",
    "from sklearn.metrics import classification_report"
   ]
  },
  {
   "cell_type": "markdown",
   "id": "b19ff1db-5062-4d34-be79-24bbbde77754",
   "metadata": {
    "tags": []
   },
   "source": [
    "## Carga de archivo con datos transformados claims.cvs\n",
    "#### Se pueden descargar los datos de la plataforma kaggle en el siguiente link: "
   ]
  },
  {
   "cell_type": "code",
   "execution_count": null,
   "id": "dc9d5628-7246-4e2f-929f-f0108f66e5ad",
   "metadata": {
    "tags": []
   },
   "outputs": [],
   "source": [
    "# Read file CSV Download of https://www.kaggle.com/datasets/d8e399cf772f115f4350cae12016ef9f497f63389a06dfdceb3292aa7fb72956\n",
    "file_cvs = \"claims.csv\"\n",
    "# Create dataframe with information of file CSV\n",
    "df_origin = pd.read_csv(file_cvs, delimiter=',', encoding='utf-8')"
   ]
  },
  {
   "cell_type": "code",
   "execution_count": null,
   "id": "076f6519-9608-4ca6-a7ae-79984b89bad4",
   "metadata": {
    "tags": []
   },
   "outputs": [],
   "source": [
    "# Define colums target (CLAIM)\n",
    "columns = df_origin.columns\n",
    "target = \"CLAIM\"\n",
    "x_columns = columns.drop(target)\n",
    "print(columns)\n",
    "print(target)\n",
    "print(x_columns)"
   ]
  },
  {
   "cell_type": "code",
   "execution_count": null,
   "id": "847e02c5-db3a-4cd6-895f-855283daa851",
   "metadata": {
    "tags": []
   },
   "outputs": [],
   "source": [
    "df_origin.info()"
   ]
  },
  {
   "cell_type": "code",
   "execution_count": null,
   "id": "d3a9826a-a4c8-4132-8769-7f342fe848ff",
   "metadata": {
    "tags": []
   },
   "outputs": [],
   "source": [
    "# Verify values null\n",
    "print(\"Null Count: \"+str(df_origin.isnull().sum().sum())+\"\\n\")\n",
    "print(df_origin.isnull().sum())"
   ]
  },
  {
   "cell_type": "code",
   "execution_count": null,
   "id": "49b16c8b-dede-44c4-9a5c-713f7d4af682",
   "metadata": {
    "tags": []
   },
   "outputs": [],
   "source": [
    "# Normalize data via MinMaxScaler function\n",
    "scaler = MinMaxScaler()\n",
    "df = scaler.fit_transform(df_origin)\n",
    "df = pd.DataFrame(df,columns=columns)"
   ]
  },
  {
   "cell_type": "code",
   "execution_count": null,
   "id": "42f59530-6b92-442b-a35f-90cea3ce7de1",
   "metadata": {
    "tags": []
   },
   "outputs": [],
   "source": [
    "# Descritive Statistics\n",
    "df_stats = df.describe()\n",
    "df_stats = df_stats.transpose()\n",
    "df_stats"
   ]
  },
  {
   "cell_type": "code",
   "execution_count": null,
   "id": "aeb67111-04c5-435d-b6fa-d21d9435b6fb",
   "metadata": {
    "tags": []
   },
   "outputs": [],
   "source": [
    "# Behavior of the target variable (histogram)\n",
    "sns.histplot(data=df, x=target)"
   ]
  },
  {
   "cell_type": "code",
   "execution_count": null,
   "id": "473d04d2-b1a8-4d8a-a929-46279c1903c1",
   "metadata": {},
   "outputs": [],
   "source": [
    "# Verify values frecuency of target variable\n",
    "print(str(target)+':\\n'+str(df[target].unique())+'\\n')\n",
    "print(df[target].value_counts())"
   ]
  },
  {
   "cell_type": "code",
   "execution_count": null,
   "id": "c42c391e-d77b-42f4-84ef-5655d5bdbcb1",
   "metadata": {
    "tags": []
   },
   "outputs": [],
   "source": [
    "# Correlation matrix\n",
    "corr = df.corr(method=\"pearson\")\n",
    "plt.figure(figsize=(20,20)) \n",
    "mask=np.triu(np.ones_like(corr,dtype=bool))\n",
    "cmap='coolwarm'\n",
    "sns.heatmap(corr, cmap=cmap, mask=mask, center=0, linewidths=0.5, fmt='.2f', annot=False) \n",
    "plt.show()"
   ]
  },
  {
   "cell_type": "code",
   "execution_count": null,
   "id": "ca4f319f-44bf-449a-a33b-231fd8928076",
   "metadata": {
    "tags": []
   },
   "outputs": [],
   "source": [
    "# Correlation matrix (Data)\n",
    "corr"
   ]
  },
  {
   "cell_type": "code",
   "execution_count": null,
   "id": "91ec0cf1-6933-4b69-b14a-f781ce2a3bf1",
   "metadata": {},
   "outputs": [],
   "source": [
    "columns_attention=['TYPE_ATTENTION', 'DETAIL_ATTENTION', 'SEQ_ATTENTION', 'SEQ_PATIENT', 'SEQ_ATTEN_PATIENT',\\\n",
    "                   'ROOM_ATTENTION', 'MAIN_SPECIALITY', 'ID_DOCTOR', 'SEX_PATIENT', 'AGE_PATIENT_START_ATTENTION',\\\n",
    "                   'AGE_PATIENT_FINISH_ATTENTION', 'MINUTES_STAY', 'TYPE_AFFILIATE', 'TYPE_AFFILIATION_REGIME', target]\n",
    "df_attention = df[columns_attention]"
   ]
  },
  {
   "cell_type": "code",
   "execution_count": null,
   "id": "8306fcf6-bf07-40fb-98e6-bd4dff9b8fe2",
   "metadata": {},
   "outputs": [],
   "source": [
    "sns.pairplot(df_attention, hue=target, height=2.5)"
   ]
  },
  {
   "cell_type": "code",
   "execution_count": null,
   "id": "d72f7ed8-4412-43e1-b26c-018d6f8363fb",
   "metadata": {},
   "outputs": [],
   "source": []
  },
  {
   "cell_type": "code",
   "execution_count": null,
   "id": "26a8be6e-46ee-4102-9bba-ae116d4c6173",
   "metadata": {},
   "outputs": [],
   "source": [
    "columns_hitory_med=['NUM_HISTORY_MED_SET_1', 'NUM_HISTORY_MED_SET_2', 'NUM_HISTORY_MED_SET_3', 'NUM_HISTORY_MED_SET_4', 'NUM_HISTORY_MED_SET_6',\\\n",
    "                    'NUM_HISTORY_MED_SET_7', 'NUM_HISTORY_MED_SET_8', 'NUM_HISTORY_MED_SET_9', 'NUM_HISTORY_MED_SET_11',\\\n",
    "                    'NUM_HISTORY_MED_SET_12', 'NUM_HISTORY_MED_SET_13', 'NUM_HISTORY_MED_SET_14', 'NUM_HISTORY_MED_SET_20',\\\n",
    "                    'NUM_HISTORY_MED_SET_23', 'NUM_HISTORY_MED_SET_25', target]\n",
    "df_history = df[columns_hitory_med]"
   ]
  },
  {
   "cell_type": "code",
   "execution_count": null,
   "id": "7f0d5b51-209f-4dd2-92cb-9c7c557b0215",
   "metadata": {
    "tags": []
   },
   "outputs": [],
   "source": [
    "sns.pairplot(df_history_med, hue=target, height=2.5)"
   ]
  },
  {
   "cell_type": "code",
   "execution_count": null,
   "id": "f6d5b530-4a35-483a-87bb-38451d95200d",
   "metadata": {},
   "outputs": [],
   "source": []
  },
  {
   "cell_type": "code",
   "execution_count": null,
   "id": "a634f537-e215-49fd-8fc2-bda965b9b27b",
   "metadata": {},
   "outputs": [],
   "source": [
    "columns_diagnosis=['ENTRY_DIAGNOSIS', 'PRINCIPAL_DIAGNOSIS', 'EGRESS_DIAGNOSIS', 'PREVIOUS_DIAGNOSIS',\\\n",
    "                    'POST_DIAGNOSIS', 'RELATED_DIAGNOSIS_1', 'RELATED_DIAGNOSIS_2', target]\n",
    "df_diagnosis = df[columns_diagnosis]"
   ]
  },
  {
   "cell_type": "code",
   "execution_count": null,
   "id": "ac6abfa2-3d83-4748-b327-1a7e1ffa353e",
   "metadata": {},
   "outputs": [],
   "source": [
    "sns.pairplot(df_diagnosis, hue=target, height=2.5)"
   ]
  },
  {
   "cell_type": "code",
   "execution_count": null,
   "id": "aea41550-1438-4bc4-b888-b75f6f6e0dac",
   "metadata": {},
   "outputs": [],
   "source": []
  },
  {
   "cell_type": "code",
   "execution_count": null,
   "id": "4c710842-3c6a-4d5d-85a6-fffc729ef7d4",
   "metadata": {},
   "outputs": [],
   "source": [
    "columns_especiality_med=['MAIN_SPECIALITY', 'SPECIALITY_1', 'SPECIALITY_2', 'SPECIALITY_3', 'SPECIALITY_4', 'SPECIALITY_5', 'SPECIALITY_6', target]\n",
    "df_especiality_med = df[columns_especiality_med]"
   ]
  },
  {
   "cell_type": "code",
   "execution_count": null,
   "id": "81253631-15b1-4388-aea8-877795b4d1ba",
   "metadata": {},
   "outputs": [],
   "source": [
    "sns.pairplot(df_especiality_med, hue=target, height=2.5)"
   ]
  },
  {
   "cell_type": "code",
   "execution_count": null,
   "id": "e375e491-cb9b-4ffe-8dc9-23e0c7dc899a",
   "metadata": {},
   "outputs": [],
   "source": []
  },
  {
   "cell_type": "code",
   "execution_count": null,
   "id": "11792137-6687-41fa-af2a-ea21c90fc9d3",
   "metadata": {},
   "outputs": [],
   "source": [
    "columns_billing=['TYPE_PAYMENT_REPON', 'PAYMENT_REPONSIBLE', 'FEE_ATTENTION', 'BILLING_CONCEPT',\\\n",
    "                 'PRODUCT_SERVICE', 'COST_CENTER', 'THIRD_RESPONSIBLE', 'INVOICE_NUMBER',\\\n",
    "                 'QUANTITY_PRODUCT_SERVICE', 'SALES_PRICE', 'INVOICED_PRICE', target]\n",
    "df_billing = df[columns_billing]"
   ]
  },
  {
   "cell_type": "code",
   "execution_count": null,
   "id": "d32664e9-b812-43de-9af0-cae271e137d8",
   "metadata": {},
   "outputs": [],
   "source": [
    "sns.pairplot(df_billing, hue=target, height=2.5)"
   ]
  }
 ],
 "metadata": {
  "kernelspec": {
   "display_name": "Python 3 (ipykernel)",
   "language": "python",
   "name": "python3"
  },
  "language_info": {
   "codemirror_mode": {
    "name": "ipython",
    "version": 3
   },
   "file_extension": ".py",
   "mimetype": "text/x-python",
   "name": "python",
   "nbconvert_exporter": "python",
   "pygments_lexer": "ipython3",
   "version": "3.10.13"
  }
 },
 "nbformat": 4,
 "nbformat_minor": 5
}
