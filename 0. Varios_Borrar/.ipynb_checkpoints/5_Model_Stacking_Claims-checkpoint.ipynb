{
 "cells": [
  {
   "cell_type": "code",
   "execution_count": 1,
   "id": "f8b27737-bf78-4b8e-a973-0275676342d0",
   "metadata": {},
   "outputs": [],
   "source": [
    "from sklearn.ensemble import RandomForestClassifier\n",
    "from sklearn.neighbors import KNeighborsClassifier\n",
    "from sklearn.linear_model import LogisticRegression\n",
    "from sklearn.ensemble import StackingClassifier\n",
    "from sklearn.datasets import make_classification\n",
    "from sklearn.model_selection import train_test_split\n",
    "import pandas as pd\n",
    "import numpy as np\n",
    "from imblearn.over_sampling import SMOTE\n",
    "from sklearn.preprocessing import MinMaxScaler"
   ]
  },
  {
   "cell_type": "code",
   "execution_count": 2,
   "id": "3f083e0b-db1b-4db5-9b5e-01f9743d4710",
   "metadata": {},
   "outputs": [],
   "source": [
    "# Read file CSV Download of https://www.kaggle.com/datasets/jacquelineguzman/claims-of-medical-billing/\n",
    "file_cvs = \"claims.csv\"\n",
    "# Create dataframe with information of file CSV\n",
    "df = pd.read_csv(file_cvs, delimiter=',', encoding='utf-8')"
   ]
  },
  {
   "cell_type": "code",
   "execution_count": 3,
   "id": "13497c46-32a1-48ba-8d65-abff7d75941a",
   "metadata": {},
   "outputs": [],
   "source": [
    "# Define colums target (CLAIM)\n",
    "columns = df.columns\n",
    "target = \"CLAIM\"\n",
    "x_columns = columns.drop(target)"
   ]
  },
  {
   "cell_type": "code",
   "execution_count": 4,
   "id": "4ac9d90c-e123-4650-877e-74a8d737fe8d",
   "metadata": {},
   "outputs": [],
   "source": [
    "# Update datatype int64 to int32 and float64 to float32, because it is necessary to use less RAM\n",
    "float_columns = ['QUANTITY_PRODUCT_SERVICE', 'SALES_PRICE', 'INVOICED_PRICE']\n",
    "int_columns = columns.drop(float_columns)\n",
    "df[float_columns]=df[float_columns].astype(np.float32)\n",
    "df[int_columns]=df[int_columns].astype(int)"
   ]
  },
  {
   "cell_type": "code",
   "execution_count": 5,
   "id": "a210ffd0-6f7c-4a61-8d3b-562b8f3fe72b",
   "metadata": {},
   "outputs": [],
   "source": [
    "# Normalize data via MinMaxScaler function\n",
    "scaler = MinMaxScaler()\n",
    "df = scaler.fit_transform(df)\n",
    "df = pd.DataFrame(df,columns=columns)"
   ]
  },
  {
   "cell_type": "code",
   "execution_count": 6,
   "id": "2a80ac95-1de0-49fb-bdd5-49069f01bb52",
   "metadata": {},
   "outputs": [],
   "source": [
    "# Create dataframe with int variables (ValX) and target variable (ValY)\n",
    "ValX = df.drop(columns=target)\n",
    "ValY = df[target]"
   ]
  },
  {
   "cell_type": "code",
   "execution_count": 7,
   "id": "20f4fadb-5b51-4efc-8158-32aeffcbfd0e",
   "metadata": {},
   "outputs": [
    {
     "data": {
      "text/plain": [
       "((5188776, 53), (915667, 53))"
      ]
     },
     "execution_count": 7,
     "metadata": {},
     "output_type": "execute_result"
    }
   ],
   "source": [
    "# Set training and validation data\n",
    "X_train, X_validation, Y_train, Y_validation = train_test_split(ValX, ValY, test_size=0.15, random_state=1, shuffle=True)\n",
    "X_train.shape, X_validation.shape"
   ]
  },
  {
   "cell_type": "code",
   "execution_count": 8,
   "id": "3bc83991-6655-47c9-b451-5e3aa0aed4a1",
   "metadata": {},
   "outputs": [],
   "source": [
    "# Resampling the minority class using SMOTE stategy (Over-sampling)\n",
    "sm = SMOTE(sampling_strategy='minority', random_state=42)"
   ]
  },
  {
   "cell_type": "code",
   "execution_count": null,
   "id": "43939fb1-2b4d-45f2-909a-2fbb3c3e5740",
   "metadata": {},
   "outputs": [],
   "source": [
    "estimators = [('rf', RandomForestClassifier(n_estimators=3, max_depth=10)),\n",
    "              ('knn', KNeighborsClassifier(n_neighbors=5))]\n",
    "meta_estimator = LogisticRegression()\n",
    "stacking = StackingClassifier(estimators=estimators, final_estimator=meta_estimator)"
   ]
  },
  {
   "cell_type": "code",
   "execution_count": null,
   "id": "a6a3edae-f457-4755-bcbc-2ffa6cce093e",
   "metadata": {},
   "outputs": [],
   "source": [
    "stacking.fit(X_train, Y_train)"
   ]
  },
  {
   "cell_type": "code",
   "execution_count": null,
   "id": "85510465-48bc-406f-bc03-96d214c506e6",
   "metadata": {},
   "outputs": [],
   "source": [
    "# Model random forest classifier\n",
    "RFC_model = RandomForestClassifier(n_estimators=5, max_depth=10)\n",
    "RFC_model.fit(X_train, Y_train)"
   ]
  },
  {
   "cell_type": "code",
   "execution_count": null,
   "id": "63d9c5c0-a333-442a-9065-bc50df6de742",
   "metadata": {},
   "outputs": [],
   "source": [
    "# Load the dataset\n",
    "X, y = make_classification(n_samples=1000, n_features=10, n_classes=2, random_state=42)\n",
    "# Split the data into training and testing sets\n",
    "X_train, X_test, y_train, y_test = train_test_split(X, y, test_size=0.3, random_state=42)\n",
    "# Define the base estimators\n",
    "estimators = [('rf', RandomForestClassifier(n_estimators=10, random_state=42)),\n",
    "              ('knn', KNeighborsClassifier(n_neighbors=5))]\n",
    "# Define the meta-model\n",
    "meta_estimator = LogisticRegression()\n",
    "# Create the stacking classifier\n",
    "stacking = StackingClassifier(estimators=estimators, final_estimator=meta_estimator)\n",
    "# Train the stacking classifier\n",
    "stacking.fit(X_train, y_train)\n",
    "# Make predictions on the testing data\n",
    "y_pred = stacking.predict(X_test)\n",
    "# Evaluate the accuracy of the stacking classifier\n",
    "accuracy = stacking.score(X_test, y_test)\n",
    "print(\"Accuracy:\", accuracy)"
   ]
  }
 ],
 "metadata": {
  "kernelspec": {
   "display_name": "Python 3 (ipykernel)",
   "language": "python",
   "name": "python3"
  },
  "language_info": {
   "codemirror_mode": {
    "name": "ipython",
    "version": 3
   },
   "file_extension": ".py",
   "mimetype": "text/x-python",
   "name": "python",
   "nbconvert_exporter": "python",
   "pygments_lexer": "ipython3",
   "version": "3.11.9"
  }
 },
 "nbformat": 4,
 "nbformat_minor": 5
}
