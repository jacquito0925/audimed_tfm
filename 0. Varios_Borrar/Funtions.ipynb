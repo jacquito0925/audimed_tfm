{
 "cells": [
  {
   "cell_type": "code",
   "execution_count": 1,
   "id": "296d4ac8-e854-4ada-80b7-4481c1b6a772",
   "metadata": {
    "tags": []
   },
   "outputs": [],
   "source": [
    "def num_string(string):\n",
    "    num_string=0\n",
    "    for i in range(len(string)):\n",
    "        num=int(ord(cadena[i]))\n",
    "        #print(num)\n",
    "        num_string=num_string+num\n",
    "    #print('Este es el valor de la cadena: '+cadena+' '+str(num_cadena))\n",
    "    return num_string"
   ]
  },
  {
   "cell_type": "code",
   "execution_count": null,
   "id": "b2b5c83a-fad3-4e24-a8e8-d3502d87c5f3",
   "metadata": {},
   "outputs": [],
   "source": [
    "EPSSURACONTRHEMDCXCA"
   ]
  },
  {
   "cell_type": "code",
   "execution_count": 2,
   "id": "3f4f0d55-6c46-4094-ac91-1581b7346f47",
   "metadata": {
    "tags": []
   },
   "outputs": [],
   "source": [
    "#ARLPOSITIVA(UYH)\n",
    "#COMPENSARPAC(UYH)\n",
    "#ECOPETROL(UYH)\n",
    "def valor_cadena(cadena):\n",
    "    num_cadena=''\n",
    "    #cadena=cadena.lower()\n",
    "    for i in range(len(cadena)):\n",
    "        num=str(ord(cadena[i]))\n",
    "        print(num)\n",
    "        num_cadena=num_cadena+num\n",
    "    print('Este es el valor de la cadena: '+cadena+' '+str(num_cadena))"
   ]
  },
  {
   "cell_type": "code",
   "execution_count": 3,
   "id": "3d04f282-028c-47a3-a1d0-033ef662755f",
   "metadata": {
    "tags": []
   },
   "outputs": [
    {
     "name": "stdout",
     "output_type": "stream",
     "text": [
      "65\n",
      "82\n",
      "76\n",
      "80\n",
      "79\n",
      "83\n",
      "73\n",
      "84\n",
      "73\n",
      "86\n",
      "65\n",
      "40\n",
      "85\n",
      "89\n",
      "72\n",
      "41\n",
      "Este es el valor de la cadena: ARLPOSITIVA(UYH) 65827680798373847386654085897241\n"
     ]
    }
   ],
   "source": [
    "cadena='ARLPOSITIVA(UYH)'\n",
    "valor_cadena(cadena)"
   ]
  },
  {
   "cell_type": "code",
   "execution_count": null,
   "id": "17ec6160-ceb0-4a66-bf93-f358df0936a2",
   "metadata": {},
   "outputs": [],
   "source": []
  }
 ],
 "metadata": {
  "kernelspec": {
   "display_name": "Python 3 (ipykernel)",
   "language": "python",
   "name": "python3"
  },
  "language_info": {
   "codemirror_mode": {
    "name": "ipython",
    "version": 3
   },
   "file_extension": ".py",
   "mimetype": "text/x-python",
   "name": "python",
   "nbconvert_exporter": "python",
   "pygments_lexer": "ipython3",
   "version": "3.10.13"
  }
 },
 "nbformat": 4,
 "nbformat_minor": 5
}
