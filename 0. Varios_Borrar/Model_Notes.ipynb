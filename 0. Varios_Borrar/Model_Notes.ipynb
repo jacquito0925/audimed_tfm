{
 "cells": [
  {
   "cell_type": "code",
   "execution_count": null,
   "id": "7691b770-4877-415f-a2b4-fd493c6c2cc7",
   "metadata": {},
   "outputs": [],
   "source": [
    "# Realizar la búsqueda de hiperparámetros utilizando GridSearchCV\n",
    "rfc_model = RandomForestClassifier(random_state=42)\n",
    "param_grid = {'criterion': ['gini', 'entropy'], 'max_depth': [5, 10, 15]}\n",
    "grid_search = GridSearchCV(rfc_model, param_grid=param_grid, cv=10, return_train_score=True)\n",
    "grid_search.fit(X_train, Y_train)\n",
    "# Imprimir los resultados\n",
    "print(\"Mejores hiperparámetros encontrados:\")\n",
    "print(grid_search.best_params_)\n",
    "print(\"Mejor puntuación de validación cruzada:\")\n",
    "print(grid_search.best_score_)"
   ]
  }
 ],
 "metadata": {
  "kernelspec": {
   "display_name": "Python 3 (ipykernel)",
   "language": "python",
   "name": "python3"
  },
  "language_info": {
   "codemirror_mode": {
    "name": "ipython",
    "version": 3
   },
   "file_extension": ".py",
   "mimetype": "text/x-python",
   "name": "python",
   "nbconvert_exporter": "python",
   "pygments_lexer": "ipython3",
   "version": "3.11.9"
  }
 },
 "nbformat": 4,
 "nbformat_minor": 5
}
