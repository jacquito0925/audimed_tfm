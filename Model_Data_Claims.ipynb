{
 "cells": [
  {
   "cell_type": "markdown",
   "id": "80a883ce-1260-48e1-ad56-3638f4e55189",
   "metadata": {
    "tags": []
   },
   "source": [
    "<img src=\"https://www.unir.net/wp-content/uploads/2019/11/Unir_2021_logo.svg\" width=\"240\" height=\"240\" align=\"right\"/>"
   ]
  },
  {
   "cell_type": "markdown",
   "id": "cf2e6c20-e7e3-4c0c-a17b-c125f2e55905",
   "metadata": {
    "tags": []
   },
   "source": [
    "<center><h1>Sistema inteligente para ayudar a detectar posibles reclamos (glosas) en las cuentas médicas previo al cobro, de una clínica en Colombia - Audimed</h1></center>\n",
    "<center><h2>Trabajo Fin de Master<br>Máster Universitario en Análisis y Visualización de Datos Masivos / Visual Analytics and Big Data</h2></center>"
   ]
  },
  {
   "cell_type": "markdown",
   "id": "e1bc6121-2a77-4cf1-838f-ee94b96778cd",
   "metadata": {
    "tags": []
   },
   "source": [
    "<h3>Presentado por: Jacqueline Guzmán Rodriguez</h3>\n",
    "<h4>Tipo de trabajo: Desarrollo Software <br>\n",
    "Director: Juan Carlos Rincon Acuña <br>\n",
    "Fecha: Junio/2024</h4>"
   ]
  },
  {
   "cell_type": "markdown",
   "id": "3e716198-1507-4272-8252-da35ecb3f440",
   "metadata": {
    "jp-MarkdownHeadingCollapsed": true
   },
   "source": [
    "<h3> <font color=\"#040078\">Notebook de modelado de los datos</font></h3>\n",
    "<h4></h4>\n",
    "<h5><font color=\"#C62400\">Licencia del Notebook CC BY-NC-SA 4.0 DEED <a href=\"https://creativecommons.org/licenses/by-nc-sa/4.0/\" target=\"_blank]\">https://creativecommons.org/licenses/by-nc-sa/4.0/</a></font></h5/>"
   ]
  },
  {
   "cell_type": "markdown",
   "id": "65726fff-f963-4f34-a525-a6843266b915",
   "metadata": {
    "tags": []
   },
   "source": [
    "## Importación de librerias necesarias"
   ]
  },
  {
   "cell_type": "code",
   "execution_count": 1,
   "id": "8593db40-45ff-4f57-b9e3-319cfcb192d4",
   "metadata": {
    "tags": []
   },
   "outputs": [],
   "source": [
    "# Load libraries\n",
    "import random\n",
    "import numpy as np\n",
    "import pandas as pd\n",
    "import seaborn as sns\n",
    "from matplotlib import pyplot\n",
    "import matplotlib.pyplot as plt \n",
    "import myfuntions as mf\n",
    "from sklearn.preprocessing import OrdinalEncoder\n",
    "from sklearn.preprocessing import MinMaxScaler\n",
    "from sklearn.model_selection import train_test_split\n",
    "from sklearn.tree import DecisionTreeClassifier\n",
    "from sklearn.metrics import accuracy_score\n",
    "from sklearn.metrics import confusion_matrix\n",
    "from sklearn.metrics import classification_report"
   ]
  },
  {
   "cell_type": "code",
   "execution_count": 3,
   "id": "dc9d5628-7246-4e2f-929f-f0108f66e5ad",
   "metadata": {
    "tags": []
   },
   "outputs": [],
   "source": [
    "# Read file CSV Download of https://www.kaggle.com/datasets/d8e399cf772f115f4350cae12016ef9f497f63389a06dfdceb3292aa7fb72956\n",
    "file_cvs = \"claims.csv\"\n",
    "# Create dataframe with information of file CSV\n",
    "df_origin = pd.read_csv(file_cvs, delimiter=',', encoding='utf-8')"
   ]
  },
  {
   "cell_type": "code",
   "execution_count": 4,
   "id": "076f6519-9608-4ca6-a7ae-79984b89bad4",
   "metadata": {
    "tags": []
   },
   "outputs": [
    {
     "name": "stdout",
     "output_type": "stream",
     "text": [
      "Index(['TYPE_ATTENTION', 'DETAIL_ATTENTION', 'SEQ_ATTENTION', 'SEQ_PATIENT',\n",
      "       'SEQ_ATTEN_PATIENT', 'ROOM_ATTENTION', 'MAIN_SPECIALITY', 'ID_DOCTOR',\n",
      "       'TYPE_PAYMENT_REPON', 'PAYMENT_REPONSIBLE', 'FEE_ATTENTION',\n",
      "       'SEX_PATIENT', 'AGE_PATIENT_START_ATTENTION',\n",
      "       'AGE_PATIENT_FINISH_ATTENTION', 'MINUTES_STAY', 'TYPE_AFFILIATE',\n",
      "       'TYPE_AFFILIATION_REGIME', 'NUM_HISTORY_MED_SET_1',\n",
      "       'NUM_HISTORY_MED_SET_2', 'NUM_HISTORY_MED_SET_3',\n",
      "       'NUM_HISTORY_MED_SET_4', 'NUM_HISTORY_MED_SET_6',\n",
      "       'NUM_HISTORY_MED_SET_7', 'NUM_HISTORY_MED_SET_8',\n",
      "       'NUM_HISTORY_MED_SET_9', 'NUM_HISTORY_MED_SET_11',\n",
      "       'NUM_HISTORY_MED_SET_12', 'NUM_HISTORY_MED_SET_13',\n",
      "       'NUM_HISTORY_MED_SET_14', 'NUM_HISTORY_MED_SET_20',\n",
      "       'NUM_HISTORY_MED_SET_23', 'NUM_HISTORY_MED_SET_25', 'ENTRY_DIAGNOSIS',\n",
      "       'PRINCIPAL_DIAGNOSIS', 'EGRESS_DIAGNOSIS', 'PREVIOUS_DIAGNOSIS',\n",
      "       'POST_DIAGNOSIS', 'RELATED_DIAGNOSIS_1', 'RELATED_DIAGNOSIS_2',\n",
      "       'SPECIALITY_1', 'SPECIALITY_2', 'SPECIALITY_3', 'SPECIALITY_4',\n",
      "       'SPECIALITY_5', 'SPECIALITY_6', 'BILLING_CONCEPT', 'PRODUCT_SERVICE',\n",
      "       'COST_CENTER', 'THIRD_RESPONSIBLE', 'INVOICE_NUMBER',\n",
      "       'QUANTITY_PRODUCT_SERVICE', 'SALES_PRICE', 'INVOICED_PRICE', 'CLAIM'],\n",
      "      dtype='object')\n",
      "CLAIM\n",
      "Index(['TYPE_ATTENTION', 'DETAIL_ATTENTION', 'SEQ_ATTENTION', 'SEQ_PATIENT',\n",
      "       'SEQ_ATTEN_PATIENT', 'ROOM_ATTENTION', 'MAIN_SPECIALITY', 'ID_DOCTOR',\n",
      "       'TYPE_PAYMENT_REPON', 'PAYMENT_REPONSIBLE', 'FEE_ATTENTION',\n",
      "       'SEX_PATIENT', 'AGE_PATIENT_START_ATTENTION',\n",
      "       'AGE_PATIENT_FINISH_ATTENTION', 'MINUTES_STAY', 'TYPE_AFFILIATE',\n",
      "       'TYPE_AFFILIATION_REGIME', 'NUM_HISTORY_MED_SET_1',\n",
      "       'NUM_HISTORY_MED_SET_2', 'NUM_HISTORY_MED_SET_3',\n",
      "       'NUM_HISTORY_MED_SET_4', 'NUM_HISTORY_MED_SET_6',\n",
      "       'NUM_HISTORY_MED_SET_7', 'NUM_HISTORY_MED_SET_8',\n",
      "       'NUM_HISTORY_MED_SET_9', 'NUM_HISTORY_MED_SET_11',\n",
      "       'NUM_HISTORY_MED_SET_12', 'NUM_HISTORY_MED_SET_13',\n",
      "       'NUM_HISTORY_MED_SET_14', 'NUM_HISTORY_MED_SET_20',\n",
      "       'NUM_HISTORY_MED_SET_23', 'NUM_HISTORY_MED_SET_25', 'ENTRY_DIAGNOSIS',\n",
      "       'PRINCIPAL_DIAGNOSIS', 'EGRESS_DIAGNOSIS', 'PREVIOUS_DIAGNOSIS',\n",
      "       'POST_DIAGNOSIS', 'RELATED_DIAGNOSIS_1', 'RELATED_DIAGNOSIS_2',\n",
      "       'SPECIALITY_1', 'SPECIALITY_2', 'SPECIALITY_3', 'SPECIALITY_4',\n",
      "       'SPECIALITY_5', 'SPECIALITY_6', 'BILLING_CONCEPT', 'PRODUCT_SERVICE',\n",
      "       'COST_CENTER', 'THIRD_RESPONSIBLE', 'INVOICE_NUMBER',\n",
      "       'QUANTITY_PRODUCT_SERVICE', 'SALES_PRICE', 'INVOICED_PRICE'],\n",
      "      dtype='object')\n",
      "['QUANTITY_PRODUCT_SERVICE', 'SALES_PRICE', 'INVOICED_PRICE']\n",
      "Index(['TYPE_ATTENTION', 'DETAIL_ATTENTION', 'SEQ_ATTENTION', 'SEQ_PATIENT',\n",
      "       'SEQ_ATTEN_PATIENT', 'ROOM_ATTENTION', 'MAIN_SPECIALITY', 'ID_DOCTOR',\n",
      "       'TYPE_PAYMENT_REPON', 'PAYMENT_REPONSIBLE', 'FEE_ATTENTION',\n",
      "       'SEX_PATIENT', 'AGE_PATIENT_START_ATTENTION',\n",
      "       'AGE_PATIENT_FINISH_ATTENTION', 'MINUTES_STAY', 'TYPE_AFFILIATE',\n",
      "       'TYPE_AFFILIATION_REGIME', 'NUM_HISTORY_MED_SET_1',\n",
      "       'NUM_HISTORY_MED_SET_2', 'NUM_HISTORY_MED_SET_3',\n",
      "       'NUM_HISTORY_MED_SET_4', 'NUM_HISTORY_MED_SET_6',\n",
      "       'NUM_HISTORY_MED_SET_7', 'NUM_HISTORY_MED_SET_8',\n",
      "       'NUM_HISTORY_MED_SET_9', 'NUM_HISTORY_MED_SET_11',\n",
      "       'NUM_HISTORY_MED_SET_12', 'NUM_HISTORY_MED_SET_13',\n",
      "       'NUM_HISTORY_MED_SET_14', 'NUM_HISTORY_MED_SET_20',\n",
      "       'NUM_HISTORY_MED_SET_23', 'NUM_HISTORY_MED_SET_25', 'ENTRY_DIAGNOSIS',\n",
      "       'PRINCIPAL_DIAGNOSIS', 'EGRESS_DIAGNOSIS', 'PREVIOUS_DIAGNOSIS',\n",
      "       'POST_DIAGNOSIS', 'RELATED_DIAGNOSIS_1', 'RELATED_DIAGNOSIS_2',\n",
      "       'SPECIALITY_1', 'SPECIALITY_2', 'SPECIALITY_3', 'SPECIALITY_4',\n",
      "       'SPECIALITY_5', 'SPECIALITY_6', 'BILLING_CONCEPT', 'PRODUCT_SERVICE',\n",
      "       'COST_CENTER', 'THIRD_RESPONSIBLE', 'INVOICE_NUMBER', 'CLAIM'],\n",
      "      dtype='object')\n"
     ]
    }
   ],
   "source": [
    "# Define colums target (CLAIM)\n",
    "columns = df_origin.columns\n",
    "target = \"CLAIM\"\n",
    "x_columns = columns.drop(target)\n",
    "float_columns = ['QUANTITY_PRODUCT_SERVICE', 'SALES_PRICE', 'INVOICED_PRICE']\n",
    "int_columns = columns.drop(float_columns)\n",
    "print(columns)\n",
    "print(target)\n",
    "print(x_columns)\n",
    "print(float_columns)\n",
    "print(int_columns)"
   ]
  },
  {
   "cell_type": "code",
   "execution_count": 6,
   "id": "18a835f7-2182-4252-a5df-1043213fb2d4",
   "metadata": {},
   "outputs": [],
   "source": [
    "df=df_origin\n",
    "df[float_columns]=df[float_columns].astype(np.float32)\n",
    "df[int_columns]=df[int_columns].astype(int)"
   ]
  },
  {
   "cell_type": "code",
   "execution_count": 7,
   "id": "33a6eb73-c544-4814-8281-108d6a5be161",
   "metadata": {},
   "outputs": [
    {
     "name": "stdout",
     "output_type": "stream",
     "text": [
      "<class 'pandas.core.frame.DataFrame'>\n",
      "RangeIndex: 6104443 entries, 0 to 6104442\n",
      "Data columns (total 54 columns):\n",
      " #   Column                        Dtype  \n",
      "---  ------                        -----  \n",
      " 0   TYPE_ATTENTION                int32  \n",
      " 1   DETAIL_ATTENTION              int32  \n",
      " 2   SEQ_ATTENTION                 int32  \n",
      " 3   SEQ_PATIENT                   int32  \n",
      " 4   SEQ_ATTEN_PATIENT             int32  \n",
      " 5   ROOM_ATTENTION                int32  \n",
      " 6   MAIN_SPECIALITY               int32  \n",
      " 7   ID_DOCTOR                     int32  \n",
      " 8   TYPE_PAYMENT_REPON            int32  \n",
      " 9   PAYMENT_REPONSIBLE            int32  \n",
      " 10  FEE_ATTENTION                 int32  \n",
      " 11  SEX_PATIENT                   int32  \n",
      " 12  AGE_PATIENT_START_ATTENTION   int32  \n",
      " 13  AGE_PATIENT_FINISH_ATTENTION  int32  \n",
      " 14  MINUTES_STAY                  int32  \n",
      " 15  TYPE_AFFILIATE                int32  \n",
      " 16  TYPE_AFFILIATION_REGIME       int32  \n",
      " 17  NUM_HISTORY_MED_SET_1         int32  \n",
      " 18  NUM_HISTORY_MED_SET_2         int32  \n",
      " 19  NUM_HISTORY_MED_SET_3         int32  \n",
      " 20  NUM_HISTORY_MED_SET_4         int32  \n",
      " 21  NUM_HISTORY_MED_SET_6         int32  \n",
      " 22  NUM_HISTORY_MED_SET_7         int32  \n",
      " 23  NUM_HISTORY_MED_SET_8         int32  \n",
      " 24  NUM_HISTORY_MED_SET_9         int32  \n",
      " 25  NUM_HISTORY_MED_SET_11        int32  \n",
      " 26  NUM_HISTORY_MED_SET_12        int32  \n",
      " 27  NUM_HISTORY_MED_SET_13        int32  \n",
      " 28  NUM_HISTORY_MED_SET_14        int32  \n",
      " 29  NUM_HISTORY_MED_SET_20        int32  \n",
      " 30  NUM_HISTORY_MED_SET_23        int32  \n",
      " 31  NUM_HISTORY_MED_SET_25        int32  \n",
      " 32  ENTRY_DIAGNOSIS               int32  \n",
      " 33  PRINCIPAL_DIAGNOSIS           int32  \n",
      " 34  EGRESS_DIAGNOSIS              int32  \n",
      " 35  PREVIOUS_DIAGNOSIS            int32  \n",
      " 36  POST_DIAGNOSIS                int32  \n",
      " 37  RELATED_DIAGNOSIS_1           int32  \n",
      " 38  RELATED_DIAGNOSIS_2           int32  \n",
      " 39  SPECIALITY_1                  int32  \n",
      " 40  SPECIALITY_2                  int32  \n",
      " 41  SPECIALITY_3                  int32  \n",
      " 42  SPECIALITY_4                  int32  \n",
      " 43  SPECIALITY_5                  int32  \n",
      " 44  SPECIALITY_6                  int32  \n",
      " 45  BILLING_CONCEPT               int32  \n",
      " 46  PRODUCT_SERVICE               int32  \n",
      " 47  COST_CENTER                   int32  \n",
      " 48  THIRD_RESPONSIBLE             int32  \n",
      " 49  INVOICE_NUMBER                int32  \n",
      " 50  QUANTITY_PRODUCT_SERVICE      float32\n",
      " 51  SALES_PRICE                   float32\n",
      " 52  INVOICED_PRICE                float32\n",
      " 53  CLAIM                         int32  \n",
      "dtypes: float32(3), int32(51)\n",
      "memory usage: 1.2 GB\n"
     ]
    }
   ],
   "source": [
    "df.info()"
   ]
  },
  {
   "cell_type": "code",
   "execution_count": 8,
   "id": "eeae36aa-147d-4d54-9639-24dabed5625c",
   "metadata": {},
   "outputs": [],
   "source": [
    "# Normalize data via MinMaxScaler function\n",
    "scaler = MinMaxScaler()\n",
    "df = scaler.fit_transform(df)\n",
    "df = pd.DataFrame(df,columns=columns)"
   ]
  },
  {
   "cell_type": "code",
   "execution_count": 9,
   "id": "5a23e874-6071-4178-89d4-946d7b57a01f",
   "metadata": {},
   "outputs": [
    {
     "name": "stdout",
     "output_type": "stream",
     "text": [
      "CLAIM:\n",
      "[0. 1.]\n",
      "\n",
      "CLAIM\n",
      "0.0    6104323\n",
      "1.0        120\n",
      "Name: count, dtype: int64\n"
     ]
    }
   ],
   "source": [
    "print(str(target)+':\\n'+str(df[target].unique())+'\\n')\n",
    "print(df[target].value_counts())"
   ]
  },
  {
   "cell_type": "code",
   "execution_count": 10,
   "id": "1f5d28b7-afe3-4543-97ab-aedd132acf52",
   "metadata": {},
   "outputs": [],
   "source": [
    "#Dividir variables de entrada y objetivo\n",
    "ValX = df.drop(columns=target)\n",
    "ValY = df[target]"
   ]
  },
  {
   "cell_type": "code",
   "execution_count": 11,
   "id": "27f672d2-6966-4059-96df-f9704472fb69",
   "metadata": {},
   "outputs": [],
   "source": [
    "from imblearn.over_sampling import SMOTE\n",
    "# Resampling the minority class. The strategy can be changed as required.\n",
    "sm = SMOTE(sampling_strategy='minority', random_state=42)\n",
    "# Fit the model to generate the data.\n",
    "oversampled_X, oversampled_Y = sm.fit_resample(ValX, ValY)\n",
    "oversampled = pd.concat([pd.DataFrame(oversampled_Y), pd.DataFrame(oversampled_X)], axis=1)"
   ]
  },
  {
   "cell_type": "code",
   "execution_count": 12,
   "id": "fb84f99b-6a5e-451c-9b6c-e213b320ca48",
   "metadata": {},
   "outputs": [
    {
     "name": "stdout",
     "output_type": "stream",
     "text": [
      "CLAIM:\n",
      "[0. 1.]\n",
      "\n",
      "CLAIM\n",
      "0.0    6104323\n",
      "1.0    6104323\n",
      "Name: count, dtype: int64\n"
     ]
    }
   ],
   "source": [
    "print(str(target)+':\\n'+str(oversampled[target].unique())+'\\n')\n",
    "print(oversampled[target].value_counts())"
   ]
  },
  {
   "cell_type": "code",
   "execution_count": 13,
   "id": "03aac7ff-51ad-430b-ae45-a866995472f7",
   "metadata": {},
   "outputs": [],
   "source": [
    "#Dividir variables de entrada y objetivo\n",
    "ValX = oversampled.drop(columns=target)\n",
    "ValY = oversampled[target]"
   ]
  },
  {
   "cell_type": "code",
   "execution_count": 14,
   "id": "db4b0ac3-b494-419d-84e9-4a4709ad065b",
   "metadata": {},
   "outputs": [],
   "source": [
    "#Dividir los datos para entrenamiento y validación de los algoritmos\n",
    "X_train, X_validation, Y_train, Y_validation = train_test_split(ValX, ValY, test_size=0.15, random_state=1, shuffle=True)"
   ]
  },
  {
   "cell_type": "code",
   "execution_count": 15,
   "id": "f8f2e964-cb88-4d87-8c6e-0d9b16e5ffb2",
   "metadata": {},
   "outputs": [
    {
     "data": {
      "text/plain": [
       "((10377349, 53), (1831297, 53))"
      ]
     },
     "execution_count": 15,
     "metadata": {},
     "output_type": "execute_result"
    }
   ],
   "source": [
    "X_train.shape, X_validation.shape"
   ]
  },
  {
   "cell_type": "code",
   "execution_count": 16,
   "id": "d175edce-f0f1-486d-96a1-fbc3c04052f5",
   "metadata": {},
   "outputs": [
    {
     "data": {
      "text/html": [
       "<style>#sk-container-id-1 {color: black;}#sk-container-id-1 pre{padding: 0;}#sk-container-id-1 div.sk-toggleable {background-color: white;}#sk-container-id-1 label.sk-toggleable__label {cursor: pointer;display: block;width: 100%;margin-bottom: 0;padding: 0.3em;box-sizing: border-box;text-align: center;}#sk-container-id-1 label.sk-toggleable__label-arrow:before {content: \"▸\";float: left;margin-right: 0.25em;color: #696969;}#sk-container-id-1 label.sk-toggleable__label-arrow:hover:before {color: black;}#sk-container-id-1 div.sk-estimator:hover label.sk-toggleable__label-arrow:before {color: black;}#sk-container-id-1 div.sk-toggleable__content {max-height: 0;max-width: 0;overflow: hidden;text-align: left;background-color: #f0f8ff;}#sk-container-id-1 div.sk-toggleable__content pre {margin: 0.2em;color: black;border-radius: 0.25em;background-color: #f0f8ff;}#sk-container-id-1 input.sk-toggleable__control:checked~div.sk-toggleable__content {max-height: 200px;max-width: 100%;overflow: auto;}#sk-container-id-1 input.sk-toggleable__control:checked~label.sk-toggleable__label-arrow:before {content: \"▾\";}#sk-container-id-1 div.sk-estimator input.sk-toggleable__control:checked~label.sk-toggleable__label {background-color: #d4ebff;}#sk-container-id-1 div.sk-label input.sk-toggleable__control:checked~label.sk-toggleable__label {background-color: #d4ebff;}#sk-container-id-1 input.sk-hidden--visually {border: 0;clip: rect(1px 1px 1px 1px);clip: rect(1px, 1px, 1px, 1px);height: 1px;margin: -1px;overflow: hidden;padding: 0;position: absolute;width: 1px;}#sk-container-id-1 div.sk-estimator {font-family: monospace;background-color: #f0f8ff;border: 1px dotted black;border-radius: 0.25em;box-sizing: border-box;margin-bottom: 0.5em;}#sk-container-id-1 div.sk-estimator:hover {background-color: #d4ebff;}#sk-container-id-1 div.sk-parallel-item::after {content: \"\";width: 100%;border-bottom: 1px solid gray;flex-grow: 1;}#sk-container-id-1 div.sk-label:hover label.sk-toggleable__label {background-color: #d4ebff;}#sk-container-id-1 div.sk-serial::before {content: \"\";position: absolute;border-left: 1px solid gray;box-sizing: border-box;top: 0;bottom: 0;left: 50%;z-index: 0;}#sk-container-id-1 div.sk-serial {display: flex;flex-direction: column;align-items: center;background-color: white;padding-right: 0.2em;padding-left: 0.2em;position: relative;}#sk-container-id-1 div.sk-item {position: relative;z-index: 1;}#sk-container-id-1 div.sk-parallel {display: flex;align-items: stretch;justify-content: center;background-color: white;position: relative;}#sk-container-id-1 div.sk-item::before, #sk-container-id-1 div.sk-parallel-item::before {content: \"\";position: absolute;border-left: 1px solid gray;box-sizing: border-box;top: 0;bottom: 0;left: 50%;z-index: -1;}#sk-container-id-1 div.sk-parallel-item {display: flex;flex-direction: column;z-index: 1;position: relative;background-color: white;}#sk-container-id-1 div.sk-parallel-item:first-child::after {align-self: flex-end;width: 50%;}#sk-container-id-1 div.sk-parallel-item:last-child::after {align-self: flex-start;width: 50%;}#sk-container-id-1 div.sk-parallel-item:only-child::after {width: 0;}#sk-container-id-1 div.sk-dashed-wrapped {border: 1px dashed gray;margin: 0 0.4em 0.5em 0.4em;box-sizing: border-box;padding-bottom: 0.4em;background-color: white;}#sk-container-id-1 div.sk-label label {font-family: monospace;font-weight: bold;display: inline-block;line-height: 1.2em;}#sk-container-id-1 div.sk-label-container {text-align: center;}#sk-container-id-1 div.sk-container {/* jupyter's `normalize.less` sets `[hidden] { display: none; }` but bootstrap.min.css set `[hidden] { display: none !important; }` so we also need the `!important` here to be able to override the default hidden behavior on the sphinx rendered scikit-learn.org. See: https://github.com/scikit-learn/scikit-learn/issues/21755 */display: inline-block !important;position: relative;}#sk-container-id-1 div.sk-text-repr-fallback {display: none;}</style><div id=\"sk-container-id-1\" class=\"sk-top-container\"><div class=\"sk-text-repr-fallback\"><pre>RandomForestClassifier(max_depth=25, n_estimators=50, random_state=0)</pre><b>In a Jupyter environment, please rerun this cell to show the HTML representation or trust the notebook. <br />On GitHub, the HTML representation is unable to render, please try loading this page with nbviewer.org.</b></div><div class=\"sk-container\" hidden><div class=\"sk-item\"><div class=\"sk-estimator sk-toggleable\"><input class=\"sk-toggleable__control sk-hidden--visually\" id=\"sk-estimator-id-1\" type=\"checkbox\" checked><label for=\"sk-estimator-id-1\" class=\"sk-toggleable__label sk-toggleable__label-arrow\">RandomForestClassifier</label><div class=\"sk-toggleable__content\"><pre>RandomForestClassifier(max_depth=25, n_estimators=50, random_state=0)</pre></div></div></div></div></div>"
      ],
      "text/plain": [
       "RandomForestClassifier(max_depth=25, n_estimators=50, random_state=0)"
      ]
     },
     "execution_count": 16,
     "metadata": {},
     "output_type": "execute_result"
    }
   ],
   "source": [
    "from sklearn.ensemble import RandomForestClassifier\n",
    "rfc = RandomForestClassifier(random_state=0, n_estimators=50, max_depth=25)\n",
    "rfc.fit(X_train, Y_train)"
   ]
  },
  {
   "cell_type": "code",
   "execution_count": 17,
   "id": "e3959146-2a38-494a-b43f-1daa8478893f",
   "metadata": {},
   "outputs": [],
   "source": [
    "y_pred = rfc.predict(X_validation)"
   ]
  },
  {
   "cell_type": "code",
   "execution_count": 18,
   "id": "20132b59-ec93-4506-ba45-ab549394eb1c",
   "metadata": {},
   "outputs": [
    {
     "name": "stdout",
     "output_type": "stream",
     "text": [
      "Model accuracy score with 10 decision-trees : 0.9998\n"
     ]
    }
   ],
   "source": [
    "from sklearn.metrics import accuracy_score\n",
    "\n",
    "print('Model accuracy score with 10 decision-trees : {0:0.4f}'. format(accuracy_score(Y_validation, y_pred)))"
   ]
  },
  {
   "cell_type": "code",
   "execution_count": null,
   "id": "80a7a8b5-a9bc-40f0-80ff-be288ed89447",
   "metadata": {},
   "outputs": [],
   "source": []
  },
  {
   "cell_type": "code",
   "execution_count": null,
   "id": "801f9d74-df03-4a8b-9034-750b9931ebbf",
   "metadata": {},
   "outputs": [],
   "source": []
  },
  {
   "cell_type": "code",
   "execution_count": null,
   "id": "8f6c10b7-fc6a-4a73-abd6-48961ca5800e",
   "metadata": {},
   "outputs": [],
   "source": []
  },
  {
   "cell_type": "code",
   "execution_count": null,
   "id": "394d4deb-8e8c-48ea-b72a-24fa39ad0d4e",
   "metadata": {},
   "outputs": [],
   "source": [
    "#Dividir los datos para entrenamiento y validación de los algoritmos\n",
    "X_train, X_validation, Y_train, Y_validation = train_test_split(ValX, ValY, test_size=0.15, random_state=1, shuffle=True)"
   ]
  },
  {
   "cell_type": "code",
   "execution_count": null,
   "id": "db711e41-653d-4282-ad59-599190c2c124",
   "metadata": {},
   "outputs": [],
   "source": [
    "X_train.shape, X_validation.shape"
   ]
  },
  {
   "cell_type": "code",
   "execution_count": null,
   "id": "bdd62d15-fc32-4990-8070-aebfb879dc01",
   "metadata": {},
   "outputs": [],
   "source": [
    "from sklearn.ensemble import RandomForestClassifier\n",
    "rfc = RandomForestClassifier(random_state=0, n_estimators=50, max_depth=15)\n",
    "rfc.fit(X_train, Y_train)"
   ]
  },
  {
   "cell_type": "code",
   "execution_count": null,
   "id": "960f9b66-2a8b-4065-bd97-b8742a92e000",
   "metadata": {},
   "outputs": [],
   "source": [
    "y_pred = rfc.predict(X_validation)"
   ]
  },
  {
   "cell_type": "code",
   "execution_count": null,
   "id": "cc4322ad-df54-440b-8584-8a06a2ade6d9",
   "metadata": {},
   "outputs": [],
   "source": [
    "from sklearn.metrics import accuracy_score\n",
    "\n",
    "print('Model accuracy score with 10 decision-trees : {0:0.4f}'. format(accuracy_score(Y_validation, y_pred)))"
   ]
  },
  {
   "cell_type": "code",
   "execution_count": null,
   "id": "2e781690-de8b-434d-a256-8a2dce159581",
   "metadata": {},
   "outputs": [],
   "source": []
  }
 ],
 "metadata": {
  "kernelspec": {
   "display_name": "Python 3 (ipykernel)",
   "language": "python",
   "name": "python3"
  },
  "language_info": {
   "codemirror_mode": {
    "name": "ipython",
    "version": 3
   },
   "file_extension": ".py",
   "mimetype": "text/x-python",
   "name": "python",
   "nbconvert_exporter": "python",
   "pygments_lexer": "ipython3",
   "version": "3.10.13"
  }
 },
 "nbformat": 4,
 "nbformat_minor": 5
}
